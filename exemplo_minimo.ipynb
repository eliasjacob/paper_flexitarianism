{
 "cells": [
  {
   "cell_type": "code",
   "execution_count": 1,
   "metadata": {},
   "outputs": [],
   "source": [
    "import re\n",
    "import os\n",
    "\n",
    "import joblib\n",
    "import numpy as np\n",
    "import openai\n",
    "import pandas as pd\n",
    "from bertopic import BERTopic\n",
    "from bertopic.backend import OpenAIBackend\n",
    "from bertopic.representation import (KeyBERTInspired, OpenAI,\n",
    "                                     ZeroShotClassification)\n",
    "from dotenv import load_dotenv\n",
    "from langchain_openai import OpenAIEmbeddings"
   ]
  },
  {
   "cell_type": "code",
   "execution_count": 2,
   "metadata": {},
   "outputs": [
    {
     "data": {
      "text/html": [
       "<div>\n",
       "<style scoped>\n",
       "    .dataframe tbody tr th:only-of-type {\n",
       "        vertical-align: middle;\n",
       "    }\n",
       "\n",
       "    .dataframe tbody tr th {\n",
       "        vertical-align: top;\n",
       "    }\n",
       "\n",
       "    .dataframe thead th {\n",
       "        text-align: right;\n",
       "    }\n",
       "</style>\n",
       "<table border=\"1\" class=\"dataframe\">\n",
       "  <thead>\n",
       "    <tr style=\"text-align: right;\">\n",
       "      <th></th>\n",
       "      <th>id</th>\n",
       "      <th>motivo_de_se_considerar_flex</th>\n",
       "      <th>fonteinfo_flex</th>\n",
       "      <th>motivacao</th>\n",
       "      <th>dificuldade</th>\n",
       "      <th>genero</th>\n",
       "      <th>cor_raca</th>\n",
       "      <th>escolaridade</th>\n",
       "    </tr>\n",
       "  </thead>\n",
       "  <tbody>\n",
       "    <tr>\n",
       "      <th>0</th>\n",
       "      <td>1</td>\n",
       "      <td>nao me considero</td>\n",
       "      <td>amigos</td>\n",
       "      <td>aversao</td>\n",
       "      <td>condenacao moral</td>\n",
       "      <td>mulher_cis</td>\n",
       "      <td>branca</td>\n",
       "      <td>superior</td>\n",
       "    </tr>\n",
       "    <tr>\n",
       "      <th>1</th>\n",
       "      <td>2</td>\n",
       "      <td>reducao do impacto_ambiental</td>\n",
       "      <td>escola_universidade</td>\n",
       "      <td>impacto_ambiental</td>\n",
       "      <td>habito cultural adquirido</td>\n",
       "      <td>homem_cis</td>\n",
       "      <td>branca</td>\n",
       "      <td>doutorado</td>\n",
       "    </tr>\n",
       "    <tr>\n",
       "      <th>2</th>\n",
       "      <td>3</td>\n",
       "      <td>porque a carne bovina de certa forma me faz ma...</td>\n",
       "      <td>amigos</td>\n",
       "      <td>saude</td>\n",
       "      <td>preco e variedade de outras proteinas vegetais...</td>\n",
       "      <td>homem_cis</td>\n",
       "      <td>branca</td>\n",
       "      <td>mestrado</td>\n",
       "    </tr>\n",
       "    <tr>\n",
       "      <th>3</th>\n",
       "      <td>4</td>\n",
       "      <td>financeiro</td>\n",
       "      <td>amigos</td>\n",
       "      <td>religiao</td>\n",
       "      <td>consumo desde crianca</td>\n",
       "      <td>pnr</td>\n",
       "      <td>parda</td>\n",
       "      <td>superior</td>\n",
       "    </tr>\n",
       "    <tr>\n",
       "      <th>4</th>\n",
       "      <td>5</td>\n",
       "      <td>pois limitei o consumo para nao desenvolver ac...</td>\n",
       "      <td>midias</td>\n",
       "      <td>saude</td>\n",
       "      <td>nenhuma</td>\n",
       "      <td>mulher_cis</td>\n",
       "      <td>branca</td>\n",
       "      <td>superior</td>\n",
       "    </tr>\n",
       "    <tr>\n",
       "      <th>...</th>\n",
       "      <td>...</td>\n",
       "      <td>...</td>\n",
       "      <td>...</td>\n",
       "      <td>...</td>\n",
       "      <td>...</td>\n",
       "      <td>...</td>\n",
       "      <td>...</td>\n",
       "      <td>...</td>\n",
       "    </tr>\n",
       "    <tr>\n",
       "      <th>1024</th>\n",
       "      <td>1025</td>\n",
       "      <td>necessidade financeira</td>\n",
       "      <td>midias</td>\n",
       "      <td>saude</td>\n",
       "      <td>nenhuma</td>\n",
       "      <td>mulher_cis</td>\n",
       "      <td>preta</td>\n",
       "      <td>medio</td>\n",
       "    </tr>\n",
       "    <tr>\n",
       "      <th>1025</th>\n",
       "      <td>1026</td>\n",
       "      <td>o amor pelos animais</td>\n",
       "      <td>escola_universidade</td>\n",
       "      <td>etica_animal</td>\n",
       "      <td>habito alimentae</td>\n",
       "      <td>mulher_cis</td>\n",
       "      <td>branca</td>\n",
       "      <td>superior</td>\n",
       "    </tr>\n",
       "    <tr>\n",
       "      <th>1026</th>\n",
       "      <td>1027</td>\n",
       "      <td>porque eu deliberadamente tenho reduzido meu c...</td>\n",
       "      <td>midias</td>\n",
       "      <td>saude</td>\n",
       "      <td>as pessoas fora da minha casa nao estarem envo...</td>\n",
       "      <td>homem_cis</td>\n",
       "      <td>branca</td>\n",
       "      <td>medio</td>\n",
       "    </tr>\n",
       "    <tr>\n",
       "      <th>1027</th>\n",
       "      <td>1028</td>\n",
       "      <td>porque cuido de mim, do meu corpo e do meu pla...</td>\n",
       "      <td>escola_universidade</td>\n",
       "      <td>impacto_ambiental</td>\n",
       "      <td>nenhuma</td>\n",
       "      <td>mulher_cis</td>\n",
       "      <td>branca</td>\n",
       "      <td>superior</td>\n",
       "    </tr>\n",
       "    <tr>\n",
       "      <th>1028</th>\n",
       "      <td>1029</td>\n",
       "      <td>sofrimento a que sao submetidos os animais, al...</td>\n",
       "      <td>escola_universidade</td>\n",
       "      <td>etica_animal</td>\n",
       "      <td>habito alimentar e gostar do sabor</td>\n",
       "      <td>mulher_cis</td>\n",
       "      <td>branca</td>\n",
       "      <td>mestrado</td>\n",
       "    </tr>\n",
       "  </tbody>\n",
       "</table>\n",
       "<p>1029 rows × 8 columns</p>\n",
       "</div>"
      ],
      "text/plain": [
       "        id                       motivo_de_se_considerar_flex  \\\n",
       "0        1                                   nao me considero   \n",
       "1        2                       reducao do impacto_ambiental   \n",
       "2        3  porque a carne bovina de certa forma me faz ma...   \n",
       "3        4                                         financeiro   \n",
       "4        5  pois limitei o consumo para nao desenvolver ac...   \n",
       "...    ...                                                ...   \n",
       "1024  1025                             necessidade financeira   \n",
       "1025  1026                               o amor pelos animais   \n",
       "1026  1027  porque eu deliberadamente tenho reduzido meu c...   \n",
       "1027  1028  porque cuido de mim, do meu corpo e do meu pla...   \n",
       "1028  1029  sofrimento a que sao submetidos os animais, al...   \n",
       "\n",
       "           fonteinfo_flex          motivacao  \\\n",
       "0                  amigos            aversao   \n",
       "1     escola_universidade  impacto_ambiental   \n",
       "2                  amigos              saude   \n",
       "3                  amigos           religiao   \n",
       "4                  midias              saude   \n",
       "...                   ...                ...   \n",
       "1024               midias              saude   \n",
       "1025  escola_universidade       etica_animal   \n",
       "1026               midias              saude   \n",
       "1027  escola_universidade  impacto_ambiental   \n",
       "1028  escola_universidade       etica_animal   \n",
       "\n",
       "                                            dificuldade      genero cor_raca  \\\n",
       "0                                      condenacao moral  mulher_cis   branca   \n",
       "1                             habito cultural adquirido   homem_cis   branca   \n",
       "2     preco e variedade de outras proteinas vegetais...   homem_cis   branca   \n",
       "3                                 consumo desde crianca         pnr    parda   \n",
       "4                                               nenhuma  mulher_cis   branca   \n",
       "...                                                 ...         ...      ...   \n",
       "1024                                            nenhuma  mulher_cis    preta   \n",
       "1025                                   habito alimentae  mulher_cis   branca   \n",
       "1026  as pessoas fora da minha casa nao estarem envo...   homem_cis   branca   \n",
       "1027                                            nenhuma  mulher_cis   branca   \n",
       "1028                 habito alimentar e gostar do sabor  mulher_cis   branca   \n",
       "\n",
       "     escolaridade  \n",
       "0        superior  \n",
       "1       doutorado  \n",
       "2        mestrado  \n",
       "3        superior  \n",
       "4        superior  \n",
       "...           ...  \n",
       "1024        medio  \n",
       "1025     superior  \n",
       "1026        medio  \n",
       "1027     superior  \n",
       "1028     mestrado  \n",
       "\n",
       "[1029 rows x 8 columns]"
      ]
     },
     "execution_count": 2,
     "metadata": {},
     "output_type": "execute_result"
    }
   ],
   "source": [
    "df = pd.read_csv('input/flexitarianism.csv')\n",
    "df"
   ]
  },
  {
   "cell_type": "code",
   "execution_count": 3,
   "metadata": {},
   "outputs": [],
   "source": [
    "df_reason = df.copy()\n"
   ]
  },
  {
   "cell_type": "markdown",
   "metadata": {},
   "source": []
  },
  {
   "cell_type": "code",
   "execution_count": 4,
   "metadata": {},
   "outputs": [],
   "source": [
    "# Rename the column 'motivo_de_se_considerar_flex' to 'input_text' in the df_reason DataFrame\n",
    "# This standardizes the column name for easier processing\n",
    "df_reason.rename(columns={'motivo_de_se_considerar_flex': 'input_text'}, inplace=True)\n",
    "\n",
    "# Calculate the length of the text in the 'input_text' column for each row in df_reason\n",
    "# Store the lengths in a new column called 'len_text'\n",
    "df_reason['len_text'] = df_reason.input_text.str.len()\n",
    "\n",
    "# Calculate the 25th percentile (first quartile) of the text lengths in df_reason\n",
    "# This value will be used to filter out shorter texts\n",
    "reason_quartile = df_reason.len_text.quantile(0.25)\n",
    "\n",
    "# Filter df_reason to include only rows where the text length is greater than or equal to the first quartile\n",
    "# This removes the shortest 25% of texts\n",
    "df_reason = df_reason.query('len_text >= @reason_quartile')\n",
    "\n",
    "# Drop rows with missing values in the 'input_text' column from df_reason\n",
    "# This ensures that all remaining rows have valid text data\n",
    "df_reason.dropna(inplace=True, subset=['input_text'])\n"
   ]
  },
  {
   "cell_type": "code",
   "execution_count": 5,
   "metadata": {},
   "outputs": [
    {
     "name": "stdout",
     "output_type": "stream",
     "text": [
      "Collecting pt-core-news-sm==3.7.0\n",
      "  Downloading https://github.com/explosion/spacy-models/releases/download/pt_core_news_sm-3.7.0/pt_core_news_sm-3.7.0-py3-none-any.whl (13.0 MB)\n",
      "\u001b[2K     \u001b[90m━━━━━━━━━━━━━━━━━━━━━━━━━━━━━━━━━━━━━━━━\u001b[0m \u001b[32m13.0/13.0 MB\u001b[0m \u001b[31m41.1 MB/s\u001b[0m eta \u001b[36m0:00:00\u001b[0ma \u001b[36m0:00:01\u001b[0m\n",
      "\u001b[?25hRequirement already satisfied: spacy<3.8.0,>=3.7.0 in /home/jacob/.cache/pypoetry/virtualenvs/imd1107-nlp-V6lLOcpZ-py3.12/lib/python3.12/site-packages (from pt-core-news-sm==3.7.0) (3.7.5)\n",
      "Requirement already satisfied: spacy-legacy<3.1.0,>=3.0.11 in /home/jacob/.cache/pypoetry/virtualenvs/imd1107-nlp-V6lLOcpZ-py3.12/lib/python3.12/site-packages (from spacy<3.8.0,>=3.7.0->pt-core-news-sm==3.7.0) (3.0.12)\n",
      "Requirement already satisfied: spacy-loggers<2.0.0,>=1.0.0 in /home/jacob/.cache/pypoetry/virtualenvs/imd1107-nlp-V6lLOcpZ-py3.12/lib/python3.12/site-packages (from spacy<3.8.0,>=3.7.0->pt-core-news-sm==3.7.0) (1.0.5)\n",
      "Requirement already satisfied: murmurhash<1.1.0,>=0.28.0 in /home/jacob/.cache/pypoetry/virtualenvs/imd1107-nlp-V6lLOcpZ-py3.12/lib/python3.12/site-packages (from spacy<3.8.0,>=3.7.0->pt-core-news-sm==3.7.0) (1.0.10)\n",
      "Requirement already satisfied: cymem<2.1.0,>=2.0.2 in /home/jacob/.cache/pypoetry/virtualenvs/imd1107-nlp-V6lLOcpZ-py3.12/lib/python3.12/site-packages (from spacy<3.8.0,>=3.7.0->pt-core-news-sm==3.7.0) (2.0.8)\n",
      "Requirement already satisfied: preshed<3.1.0,>=3.0.2 in /home/jacob/.cache/pypoetry/virtualenvs/imd1107-nlp-V6lLOcpZ-py3.12/lib/python3.12/site-packages (from spacy<3.8.0,>=3.7.0->pt-core-news-sm==3.7.0) (3.0.9)\n",
      "Requirement already satisfied: thinc<8.3.0,>=8.2.2 in /home/jacob/.cache/pypoetry/virtualenvs/imd1107-nlp-V6lLOcpZ-py3.12/lib/python3.12/site-packages (from spacy<3.8.0,>=3.7.0->pt-core-news-sm==3.7.0) (8.2.5)\n",
      "Requirement already satisfied: wasabi<1.2.0,>=0.9.1 in /home/jacob/.cache/pypoetry/virtualenvs/imd1107-nlp-V6lLOcpZ-py3.12/lib/python3.12/site-packages (from spacy<3.8.0,>=3.7.0->pt-core-news-sm==3.7.0) (1.1.3)\n",
      "Requirement already satisfied: srsly<3.0.0,>=2.4.3 in /home/jacob/.cache/pypoetry/virtualenvs/imd1107-nlp-V6lLOcpZ-py3.12/lib/python3.12/site-packages (from spacy<3.8.0,>=3.7.0->pt-core-news-sm==3.7.0) (2.4.8)\n",
      "Requirement already satisfied: catalogue<2.1.0,>=2.0.6 in /home/jacob/.cache/pypoetry/virtualenvs/imd1107-nlp-V6lLOcpZ-py3.12/lib/python3.12/site-packages (from spacy<3.8.0,>=3.7.0->pt-core-news-sm==3.7.0) (2.0.10)\n",
      "Requirement already satisfied: weasel<0.5.0,>=0.1.0 in /home/jacob/.cache/pypoetry/virtualenvs/imd1107-nlp-V6lLOcpZ-py3.12/lib/python3.12/site-packages (from spacy<3.8.0,>=3.7.0->pt-core-news-sm==3.7.0) (0.4.1)\n",
      "Requirement already satisfied: typer<1.0.0,>=0.3.0 in /home/jacob/.cache/pypoetry/virtualenvs/imd1107-nlp-V6lLOcpZ-py3.12/lib/python3.12/site-packages (from spacy<3.8.0,>=3.7.0->pt-core-news-sm==3.7.0) (0.12.5)\n",
      "Requirement already satisfied: tqdm<5.0.0,>=4.38.0 in /home/jacob/.cache/pypoetry/virtualenvs/imd1107-nlp-V6lLOcpZ-py3.12/lib/python3.12/site-packages (from spacy<3.8.0,>=3.7.0->pt-core-news-sm==3.7.0) (4.66.5)\n",
      "Requirement already satisfied: requests<3.0.0,>=2.13.0 in /home/jacob/.cache/pypoetry/virtualenvs/imd1107-nlp-V6lLOcpZ-py3.12/lib/python3.12/site-packages (from spacy<3.8.0,>=3.7.0->pt-core-news-sm==3.7.0) (2.32.3)\n",
      "Requirement already satisfied: pydantic!=1.8,!=1.8.1,<3.0.0,>=1.7.4 in /home/jacob/.cache/pypoetry/virtualenvs/imd1107-nlp-V6lLOcpZ-py3.12/lib/python3.12/site-packages (from spacy<3.8.0,>=3.7.0->pt-core-news-sm==3.7.0) (2.9.2)\n",
      "Requirement already satisfied: jinja2 in /home/jacob/.cache/pypoetry/virtualenvs/imd1107-nlp-V6lLOcpZ-py3.12/lib/python3.12/site-packages (from spacy<3.8.0,>=3.7.0->pt-core-news-sm==3.7.0) (3.1.4)\n",
      "Requirement already satisfied: setuptools in /home/jacob/.cache/pypoetry/virtualenvs/imd1107-nlp-V6lLOcpZ-py3.12/lib/python3.12/site-packages (from spacy<3.8.0,>=3.7.0->pt-core-news-sm==3.7.0) (75.1.0)\n",
      "Requirement already satisfied: packaging>=20.0 in /home/jacob/.cache/pypoetry/virtualenvs/imd1107-nlp-V6lLOcpZ-py3.12/lib/python3.12/site-packages (from spacy<3.8.0,>=3.7.0->pt-core-news-sm==3.7.0) (24.1)\n",
      "Requirement already satisfied: langcodes<4.0.0,>=3.2.0 in /home/jacob/.cache/pypoetry/virtualenvs/imd1107-nlp-V6lLOcpZ-py3.12/lib/python3.12/site-packages (from spacy<3.8.0,>=3.7.0->pt-core-news-sm==3.7.0) (3.4.1)\n",
      "Requirement already satisfied: numpy>=1.19.0 in /home/jacob/.cache/pypoetry/virtualenvs/imd1107-nlp-V6lLOcpZ-py3.12/lib/python3.12/site-packages (from spacy<3.8.0,>=3.7.0->pt-core-news-sm==3.7.0) (1.26.4)\n",
      "Requirement already satisfied: language-data>=1.2 in /home/jacob/.cache/pypoetry/virtualenvs/imd1107-nlp-V6lLOcpZ-py3.12/lib/python3.12/site-packages (from langcodes<4.0.0,>=3.2.0->spacy<3.8.0,>=3.7.0->pt-core-news-sm==3.7.0) (1.2.0)\n",
      "Requirement already satisfied: annotated-types>=0.6.0 in /home/jacob/.cache/pypoetry/virtualenvs/imd1107-nlp-V6lLOcpZ-py3.12/lib/python3.12/site-packages (from pydantic!=1.8,!=1.8.1,<3.0.0,>=1.7.4->spacy<3.8.0,>=3.7.0->pt-core-news-sm==3.7.0) (0.7.0)\n",
      "Requirement already satisfied: pydantic-core==2.23.4 in /home/jacob/.cache/pypoetry/virtualenvs/imd1107-nlp-V6lLOcpZ-py3.12/lib/python3.12/site-packages (from pydantic!=1.8,!=1.8.1,<3.0.0,>=1.7.4->spacy<3.8.0,>=3.7.0->pt-core-news-sm==3.7.0) (2.23.4)\n",
      "Requirement already satisfied: typing-extensions>=4.6.1 in /home/jacob/.cache/pypoetry/virtualenvs/imd1107-nlp-V6lLOcpZ-py3.12/lib/python3.12/site-packages (from pydantic!=1.8,!=1.8.1,<3.0.0,>=1.7.4->spacy<3.8.0,>=3.7.0->pt-core-news-sm==3.7.0) (4.12.2)\n",
      "Requirement already satisfied: charset-normalizer<4,>=2 in /home/jacob/.cache/pypoetry/virtualenvs/imd1107-nlp-V6lLOcpZ-py3.12/lib/python3.12/site-packages (from requests<3.0.0,>=2.13.0->spacy<3.8.0,>=3.7.0->pt-core-news-sm==3.7.0) (3.3.2)\n",
      "Requirement already satisfied: idna<4,>=2.5 in /home/jacob/.cache/pypoetry/virtualenvs/imd1107-nlp-V6lLOcpZ-py3.12/lib/python3.12/site-packages (from requests<3.0.0,>=2.13.0->spacy<3.8.0,>=3.7.0->pt-core-news-sm==3.7.0) (3.10)\n",
      "Requirement already satisfied: urllib3<3,>=1.21.1 in /home/jacob/.cache/pypoetry/virtualenvs/imd1107-nlp-V6lLOcpZ-py3.12/lib/python3.12/site-packages (from requests<3.0.0,>=2.13.0->spacy<3.8.0,>=3.7.0->pt-core-news-sm==3.7.0) (2.2.3)\n",
      "Requirement already satisfied: certifi>=2017.4.17 in /home/jacob/.cache/pypoetry/virtualenvs/imd1107-nlp-V6lLOcpZ-py3.12/lib/python3.12/site-packages (from requests<3.0.0,>=2.13.0->spacy<3.8.0,>=3.7.0->pt-core-news-sm==3.7.0) (2024.8.30)\n",
      "Requirement already satisfied: blis<0.8.0,>=0.7.8 in /home/jacob/.cache/pypoetry/virtualenvs/imd1107-nlp-V6lLOcpZ-py3.12/lib/python3.12/site-packages (from thinc<8.3.0,>=8.2.2->spacy<3.8.0,>=3.7.0->pt-core-news-sm==3.7.0) (0.7.11)\n",
      "Requirement already satisfied: confection<1.0.0,>=0.0.1 in /home/jacob/.cache/pypoetry/virtualenvs/imd1107-nlp-V6lLOcpZ-py3.12/lib/python3.12/site-packages (from thinc<8.3.0,>=8.2.2->spacy<3.8.0,>=3.7.0->pt-core-news-sm==3.7.0) (0.1.5)\n",
      "Requirement already satisfied: click>=8.0.0 in /home/jacob/.cache/pypoetry/virtualenvs/imd1107-nlp-V6lLOcpZ-py3.12/lib/python3.12/site-packages (from typer<1.0.0,>=0.3.0->spacy<3.8.0,>=3.7.0->pt-core-news-sm==3.7.0) (8.1.7)\n",
      "Requirement already satisfied: shellingham>=1.3.0 in /home/jacob/.cache/pypoetry/virtualenvs/imd1107-nlp-V6lLOcpZ-py3.12/lib/python3.12/site-packages (from typer<1.0.0,>=0.3.0->spacy<3.8.0,>=3.7.0->pt-core-news-sm==3.7.0) (1.5.4)\n",
      "Requirement already satisfied: rich>=10.11.0 in /home/jacob/.cache/pypoetry/virtualenvs/imd1107-nlp-V6lLOcpZ-py3.12/lib/python3.12/site-packages (from typer<1.0.0,>=0.3.0->spacy<3.8.0,>=3.7.0->pt-core-news-sm==3.7.0) (13.9.2)\n",
      "Requirement already satisfied: cloudpathlib<1.0.0,>=0.7.0 in /home/jacob/.cache/pypoetry/virtualenvs/imd1107-nlp-V6lLOcpZ-py3.12/lib/python3.12/site-packages (from weasel<0.5.0,>=0.1.0->spacy<3.8.0,>=3.7.0->pt-core-news-sm==3.7.0) (0.19.0)\n",
      "Requirement already satisfied: smart-open<8.0.0,>=5.2.1 in /home/jacob/.cache/pypoetry/virtualenvs/imd1107-nlp-V6lLOcpZ-py3.12/lib/python3.12/site-packages (from weasel<0.5.0,>=0.1.0->spacy<3.8.0,>=3.7.0->pt-core-news-sm==3.7.0) (7.0.5)\n",
      "Requirement already satisfied: MarkupSafe>=2.0 in /home/jacob/.cache/pypoetry/virtualenvs/imd1107-nlp-V6lLOcpZ-py3.12/lib/python3.12/site-packages (from jinja2->spacy<3.8.0,>=3.7.0->pt-core-news-sm==3.7.0) (3.0.0)\n",
      "Requirement already satisfied: marisa-trie>=0.7.7 in /home/jacob/.cache/pypoetry/virtualenvs/imd1107-nlp-V6lLOcpZ-py3.12/lib/python3.12/site-packages (from language-data>=1.2->langcodes<4.0.0,>=3.2.0->spacy<3.8.0,>=3.7.0->pt-core-news-sm==3.7.0) (1.2.0)\n",
      "Requirement already satisfied: markdown-it-py>=2.2.0 in /home/jacob/.cache/pypoetry/virtualenvs/imd1107-nlp-V6lLOcpZ-py3.12/lib/python3.12/site-packages (from rich>=10.11.0->typer<1.0.0,>=0.3.0->spacy<3.8.0,>=3.7.0->pt-core-news-sm==3.7.0) (3.0.0)\n",
      "Requirement already satisfied: pygments<3.0.0,>=2.13.0 in /home/jacob/.cache/pypoetry/virtualenvs/imd1107-nlp-V6lLOcpZ-py3.12/lib/python3.12/site-packages (from rich>=10.11.0->typer<1.0.0,>=0.3.0->spacy<3.8.0,>=3.7.0->pt-core-news-sm==3.7.0) (2.18.0)\n",
      "Requirement already satisfied: wrapt in /home/jacob/.cache/pypoetry/virtualenvs/imd1107-nlp-V6lLOcpZ-py3.12/lib/python3.12/site-packages (from smart-open<8.0.0,>=5.2.1->weasel<0.5.0,>=0.1.0->spacy<3.8.0,>=3.7.0->pt-core-news-sm==3.7.0) (1.16.0)\n",
      "Requirement already satisfied: mdurl~=0.1 in /home/jacob/.cache/pypoetry/virtualenvs/imd1107-nlp-V6lLOcpZ-py3.12/lib/python3.12/site-packages (from markdown-it-py>=2.2.0->rich>=10.11.0->typer<1.0.0,>=0.3.0->spacy<3.8.0,>=3.7.0->pt-core-news-sm==3.7.0) (0.1.2)\n",
      "Installing collected packages: pt-core-news-sm\n",
      "Successfully installed pt-core-news-sm-3.7.0\n",
      "\n",
      "\u001b[1m[\u001b[0m\u001b[34;49mnotice\u001b[0m\u001b[1;39;49m]\u001b[0m\u001b[39;49m A new release of pip is available: \u001b[0m\u001b[31;49m24.2\u001b[0m\u001b[39;49m -> \u001b[0m\u001b[32;49m24.3.1\u001b[0m\n",
      "\u001b[1m[\u001b[0m\u001b[34;49mnotice\u001b[0m\u001b[1;39;49m]\u001b[0m\u001b[39;49m To update, run: \u001b[0m\u001b[32;49mpip install --upgrade pip\u001b[0m\n",
      "\u001b[38;5;2m✔ Download and installation successful\u001b[0m\n",
      "You can now load the package via spacy.load('pt_core_news_sm')\n"
     ]
    }
   ],
   "source": [
    "!python -m spacy download pt_core_news_sm\n"
   ]
  },
  {
   "cell_type": "markdown",
   "metadata": {},
   "source": [
    "## Cleaning our data and saving the transformed data"
   ]
  },
  {
   "cell_type": "code",
   "execution_count": 6,
   "metadata": {},
   "outputs": [],
   "source": [
    "import re\n",
    "from sklearn.pipeline import Pipeline # Pipeline applies a list of transforms. You can also add an estimator at the end, so it will be completely encapsulated.\n",
    "from sklearn.preprocessing import FunctionTransformer # FunctionTransformer allows to apply an arbitrary function to the data, so we can use it in the pipeline\n",
    "import unicodedata\n",
    "import spacy\n",
    "from typing import List\n",
    "\n",
    "def remove_excessive_spaces(text: str) -> str:\n",
    "    \"\"\"\n",
    "    This function removes excessive spaces from the text.\n",
    "\n",
    "    Args:\n",
    "        text (str): The input text.\n",
    "\n",
    "    Returns:\n",
    "        str: The text with excessive spaces removed.\n",
    "    \"\"\"\n",
    "    return re.sub(r'\\s+', ' ', text).strip() \n",
    "\n",
    "def remove_repeated_non_word_characters(text: str) -> str:\n",
    "    \"\"\"\n",
    "    This function removes repeated non-word characters from the text.\n",
    "\n",
    "    Args:\n",
    "        text (str): The input text.\n",
    "\n",
    "    Returns:\n",
    "        str: The text with repeated non-word characters removed.\n",
    "    \"\"\"\n",
    "    return re.sub(r'(\\W)\\1+', r'\\1', text).strip()\n",
    "\n",
    "def remove_first_line_from_text(text: str) -> str:\n",
    "    \"\"\"\n",
    "    This function removes the first line from the text.\n",
    "\n",
    "    Args:\n",
    "        text (str): The input text.\n",
    "\n",
    "    Returns:\n",
    "        str: The text with the first line removed.\n",
    "    \"\"\"\n",
    "    return re.sub(r'^.*\\n', '', text).strip()\n",
    "\n",
    "def remove_last_line_from_text(text: str) -> str:\n",
    "    \"\"\"\n",
    "    This function removes the last line from the text.\n",
    "\n",
    "    Args:\n",
    "        text (str): The input text.\n",
    "\n",
    "    Returns:\n",
    "        str: The text with the last line removed.\n",
    "    \"\"\"\n",
    "    return re.sub(r'\\n.*$', '', text).strip()\n",
    "\n",
    "def fix_isolated_commas_in_text(text: str) -> str:\n",
    "    \"\"\"\n",
    "    This function fixes isolated commas in the text.\n",
    "\n",
    "    Args:\n",
    "        text (str): The input text.\n",
    "\n",
    "    Returns:\n",
    "        str: The text with isolated commas fixed.\n",
    "    \"\"\"\n",
    "    text = re.sub(r' ([.,:;!?])', r'\\1', text)\n",
    "    return text.strip()\n",
    "\n",
    "def keep_words_longer_than(text: str, min_length: int = 2) -> str:\n",
    "    \"\"\"\n",
    "    This function keeps only the words in the text that are longer than a given length.\n",
    "\n",
    "    Args:\n",
    "        text (str): The input text.\n",
    "        min_length (int, optional): The minimum length of the words to keep. Defaults to 2.\n",
    "\n",
    "    Returns:\n",
    "        str: The text with only the words longer than the given length.\n",
    "    \"\"\"\n",
    "    return ' '.join([word for word in text.split() if len(word) > min_length])\n",
    "\n",
    "def keep_only_alphabet_characters(text: str) -> str:\n",
    "    \"\"\"\n",
    "    This function keeps only the alphabet characters in the text.\n",
    "\n",
    "    Args:\n",
    "        text (str): The input text.\n",
    "\n",
    "    Returns:\n",
    "        str: The text with only the alphabet characters.\n",
    "    \"\"\"\n",
    "    return re.sub(r'[^a-zA-Z]', ' ', text).strip()\n",
    "\n",
    "def remove_accents_from_text(text: str) -> str:\n",
    "    \"\"\"\n",
    "    This function removes accents from the text.\n",
    "\n",
    "    Args:\n",
    "        text (str): The input text.\n",
    "\n",
    "    Returns:\n",
    "        str: The text with accents removed.\n",
    "    \"\"\"\n",
    "    return unicodedata.normalize('NFKD', text).encode('ASCII', 'ignore').decode('ASCII')\n",
    "\n",
    "def lemmatize_text_with_spacy(text: str) -> str:\n",
    "    \"\"\"\n",
    "    This function lemmatizes the text using the Spacy library.\n",
    "\n",
    "    Args:\n",
    "        text (str): The input text.\n",
    "\n",
    "    Returns:\n",
    "        str: The lemmatized text.\n",
    "    \"\"\"\n",
    "    doc = nlp_spacy(text)\n",
    "    return ' '.join([token.lemma_ for token in doc])\n",
    "\n",
    "\n",
    "pipeline_clean_text = Pipeline([\n",
    "    ('remove_first_line_from_text', FunctionTransformer(remove_first_line_from_text)),\n",
    "    ('remove_last_line_from_text', FunctionTransformer(remove_last_line_from_text)),\n",
    "    ('remove_excessive_spaces', FunctionTransformer(remove_excessive_spaces)),\n",
    "    ('remove_repeated_non_word_characters', FunctionTransformer(remove_repeated_non_word_characters)),\n",
    "    ('fix_isolated_commas_in_text', FunctionTransformer(fix_isolated_commas_in_text)),\n",
    "])\n",
    "\n",
    "\n",
    "nlp_spacy = spacy.load('pt_core_news_sm')\n",
    "\n"
   ]
  },
  {
   "cell_type": "code",
   "execution_count": 7,
   "metadata": {},
   "outputs": [],
   "source": [
    "# We can apply the pipeline to the data\n",
    "df_reason['input_text_clean'] = df_reason['input_text'].apply(pipeline_clean_text.transform)\n",
    "\n",
    "df_reason['input_text_clean_simplified'] = df_reason['input_text_clean'].apply(lemmatize_text_with_spacy)\n",
    "df_reason['input_text_clean_simplified'] = df_reason['input_text_clean_simplified'].apply(remove_accents_from_text)\n",
    "df_reason['input_text_clean_simplified'] = df_reason['input_text_clean_simplified'].apply(keep_words_longer_than)\n",
    "df_reason['input_text_clean_simplified'] = df_reason['input_text_clean_simplified'].str.lower()\n",
    "df_reason['input_text_clean_simplified'] = df_reason['input_text_clean_simplified'].apply(keep_only_alphabet_characters)\n",
    "df_reason['input_text_clean_simplified'] = df_reason['input_text_clean_simplified'].apply(remove_excessive_spaces)\n"
   ]
  },
  {
   "cell_type": "code",
   "execution_count": 8,
   "metadata": {},
   "outputs": [
    {
     "name": "stdout",
     "output_type": "stream",
     "text": [
      "(778, 11)\n",
      "(778, 11)\n"
     ]
    }
   ],
   "source": [
    "# Print the shape of the df_reason DataFrame before dropping rows with missing values\n",
    "# This shows the number of rows and columns before the cleaning process\n",
    "print(df_reason.shape)\n",
    "\n",
    "# Drop rows from df_reason where the 'input_text_clean' column has missing values\n",
    "# This ensures that all remaining rows have valid cleaned text data\n",
    "df_reason.dropna(inplace=True, subset=['input_text_clean'])\n",
    "\n",
    "# Print the shape of the df_reason DataFrame after dropping rows with missing values\n",
    "# This shows the number of rows and columns after the cleaning process, allowing comparison with the previous shape\n",
    "print(df_reason.shape)"
   ]
  },
  {
   "cell_type": "code",
   "execution_count": 9,
   "metadata": {},
   "outputs": [
    {
     "data": {
      "text/plain": [
       "500"
      ]
     },
     "execution_count": 9,
     "metadata": {},
     "output_type": "execute_result"
    }
   ],
   "source": [
    "# Import the spaCy library for advanced natural language processing tasks\n",
    "import spacy\n",
    "\n",
    "# Import the stopwords module from the nltk.corpus package\n",
    "# This module provides a list of common stop words for various languages\n",
    "from nltk.corpus import stopwords\n",
    "\n",
    "# Get the list of Portuguese stop words from the NLTK library\n",
    "# These are common words that are usually filtered out in text processing\n",
    "stopwords_nltk = stopwords.words('portuguese')\n",
    "\n",
    "# Load the small Portuguese language model from spaCy\n",
    "# This model includes pre-trained word vectors, part-of-speech tags, named entity recognition, and more\n",
    "nlp = spacy.load('pt_core_news_sm')\n",
    "\n",
    "# Access the set of default stop words for the Portuguese language from the loaded spaCy model\n",
    "stopwords_spacy = nlp.Defaults.stop_words\n",
    "\n",
    "# Combine the stop words from both NLTK and spaCy into a single set\n",
    "# Using a set ensures that each stop word appears only once, even if it is present in both lists\n",
    "both_stopwords = set(stopwords_nltk) | set(stopwords_spacy)\n",
    "\n",
    "# Calculate and display the total number of unique stop words in the combined set\n",
    "len(both_stopwords)"
   ]
  },
  {
   "cell_type": "code",
   "execution_count": 10,
   "metadata": {},
   "outputs": [],
   "source": [
    "from bertopic import BERTopic\n",
    "from bertopic.vectorizers import ClassTfidfTransformer\n",
    "from bertopic.representation import MaximalMarginalRelevance\n",
    "from sklearn.feature_extraction.text import CountVectorizer\n",
    "\n",
    "from sklearn.pipeline import make_pipeline\n",
    "from sklearn.decomposition import TruncatedSVD\n",
    "from sklearn.feature_extraction.text import TfidfVectorizer\n",
    "import re"
   ]
  },
  {
   "cell_type": "code",
   "execution_count": 11,
   "metadata": {},
   "outputs": [],
   "source": [
    "from langchain_openai import ChatOpenAI, OpenAIEmbeddings\n",
    "from dotenv import load_dotenv\n",
    "\n",
    "# Load environment variables from a .env file. This is necessary to access the OPENAI_API_KEY environment variable.\n",
    "load_dotenv()\n",
    "\n",
    "openai_client = ChatOpenAI(model='gpt-4o-mini')\n",
    "max_tokens = 8191  # the maximum for text-embedding-3-large is 8191\n"
   ]
  },
  {
   "cell_type": "code",
   "execution_count": 12,
   "metadata": {},
   "outputs": [
    {
     "name": "stdout",
     "output_type": "stream",
     "text": [
      "Number of texts longer than 8191 tokens: 0 (reasons)\n"
     ]
    }
   ],
   "source": [
    "# Check if any text in the 'input_text_clean' column of df_reason is longer than max_tokens\n",
    "# This is done to ensure that the texts do not exceed the token limit, which might be required for certain NLP models or APIs\n",
    "# openai_client.get_num_tokens(text) returns the number of tokens in the given text\n",
    "long_texts_reason = [\n",
    "    text for text in df_reason['input_text_clean'] \n",
    "    if openai_client.get_num_tokens(text) > max_tokens\n",
    "]\n",
    "\n",
    "\n",
    "# Print the number of texts longer than max_tokens for both reasons and challenges\n",
    "# This provides a quick summary of how many texts exceed the token limit in each dataset\n",
    "print(f'Number of texts longer than {max_tokens} tokens: {len(long_texts_reason)} (reasons)')"
   ]
  },
  {
   "cell_type": "code",
   "execution_count": 13,
   "metadata": {},
   "outputs": [
    {
     "name": "stdout",
     "output_type": "stream",
     "text": [
      "Cost of embedding API for 778 texts: $0.0027 USD\n"
     ]
    }
   ],
   "source": [
    "# According to OpenAI pricing website, the cost of the embedding API is $0.13 per million tokens\n",
    "# https://openai.com/pricing/\n",
    "\n",
    "from typing import List\n",
    "\n",
    "def calculate_total_cost(text_list: List[str], cost_per_million_tokens: float) -> float:\n",
    "    \"\"\"\n",
    "    This function calculates the total cost of processing a list of texts, \n",
    "    based on a cost per million tokens.\n",
    "\n",
    "    Args:\n",
    "        text_list (List[str]): A list of texts to be processed.\n",
    "        cost_per_million_tokens (float): The cost of processing a million tokens.\n",
    "\n",
    "    Returns:\n",
    "        float: The total cost of processing the texts.\n",
    "    \"\"\"\n",
    "    # Initialize the total number of tokens\n",
    "    total_token_count = 0\n",
    "\n",
    "    # Iterate over each text in the list\n",
    "    for text in text_list:\n",
    "        # Use the OpenAI client to get the number of tokens in the text\n",
    "        # and add it to the total token count\n",
    "        total_token_count += openai_client.get_num_tokens(text)\n",
    "\n",
    "    # Calculate the total cost by multiplying the total token count by the cost per million tokens\n",
    "    # and dividing by 1,000,000 (since the cost is per million tokens)\n",
    "    total_cost = total_token_count * cost_per_million_tokens / 1_000_000\n",
    "\n",
    "    return total_cost\n",
    "\n",
    "# Concatenate the 'input_text_clean' columns from df_reason and df_challenge into a single list\n",
    "# This combines the cleaned text data from both DataFrames for cost calculation\n",
    "all_texts_concat = df_reason['input_text_clean'].values.tolist()\n",
    "\n",
    "# Calculate and print the total cost of using the embedding API for the concatenated texts\n",
    "# The cost is calculated using the calculate_total_cost function with a rate of $0.13 per million tokens\n",
    "print(f'Cost of embedding API for {len(all_texts_concat)} texts: ${calculate_total_cost(all_texts_concat, 0.13):.4f} USD')"
   ]
  },
  {
   "cell_type": "code",
   "execution_count": 14,
   "metadata": {},
   "outputs": [
    {
     "data": {
      "text/html": [
       "<div>\n",
       "<style scoped>\n",
       "    .dataframe tbody tr th:only-of-type {\n",
       "        vertical-align: middle;\n",
       "    }\n",
       "\n",
       "    .dataframe tbody tr th {\n",
       "        vertical-align: top;\n",
       "    }\n",
       "\n",
       "    .dataframe thead th {\n",
       "        text-align: right;\n",
       "    }\n",
       "</style>\n",
       "<table border=\"1\" class=\"dataframe\">\n",
       "  <thead>\n",
       "    <tr style=\"text-align: right;\">\n",
       "      <th></th>\n",
       "      <th>id</th>\n",
       "      <th>input_text</th>\n",
       "      <th>fonteinfo_flex</th>\n",
       "      <th>motivacao</th>\n",
       "      <th>dificuldade</th>\n",
       "      <th>genero</th>\n",
       "      <th>cor_raca</th>\n",
       "      <th>escolaridade</th>\n",
       "      <th>len_text</th>\n",
       "      <th>input_text_clean</th>\n",
       "      <th>input_text_clean_simplified</th>\n",
       "    </tr>\n",
       "  </thead>\n",
       "  <tbody>\n",
       "    <tr>\n",
       "      <th>2</th>\n",
       "      <td>3</td>\n",
       "      <td>porque a carne bovina de certa forma me faz ma...</td>\n",
       "      <td>amigos</td>\n",
       "      <td>saude</td>\n",
       "      <td>preco e variedade de outras proteinas vegetais...</td>\n",
       "      <td>homem_cis</td>\n",
       "      <td>branca</td>\n",
       "      <td>mestrado</td>\n",
       "      <td>123</td>\n",
       "      <td>porque a carne bovina de certa forma me faz ma...</td>\n",
       "      <td>porque carne bovino certo forma fazer mal deix...</td>\n",
       "    </tr>\n",
       "    <tr>\n",
       "      <th>4</th>\n",
       "      <td>5</td>\n",
       "      <td>pois limitei o consumo para nao desenvolver ac...</td>\n",
       "      <td>midias</td>\n",
       "      <td>saude</td>\n",
       "      <td>nenhuma</td>\n",
       "      <td>mulher_cis</td>\n",
       "      <td>branca</td>\n",
       "      <td>superior</td>\n",
       "      <td>138</td>\n",
       "      <td>pois limitei o consumo para nao desenvolver ac...</td>\n",
       "      <td>pois limitar consumo para nao desenvolver acid...</td>\n",
       "    </tr>\n",
       "    <tr>\n",
       "      <th>6</th>\n",
       "      <td>7</td>\n",
       "      <td>so como carne quando nao ha alternativa nao ti...</td>\n",
       "      <td>amigos</td>\n",
       "      <td>impacto_ambiental</td>\n",
       "      <td>gostar do sabor</td>\n",
       "      <td>mulher_cis</td>\n",
       "      <td>branca</td>\n",
       "      <td>mestrado</td>\n",
       "      <td>297</td>\n",
       "      <td>so como carne quando nao ha alternativa nao ti...</td>\n",
       "      <td>como carne quando nao alternativo nao ter pens...</td>\n",
       "    </tr>\n",
       "    <tr>\n",
       "      <th>7</th>\n",
       "      <td>8</td>\n",
       "      <td>ja uns anos desde a adolescencia (nos anos 200...</td>\n",
       "      <td>midias</td>\n",
       "      <td>aversao</td>\n",
       "      <td>na adolescencia e de novo na vida adulta, eu o...</td>\n",
       "      <td>mulher_cis</td>\n",
       "      <td>branca</td>\n",
       "      <td>mestrado</td>\n",
       "      <td>426</td>\n",
       "      <td>ja uns anos desde a adolescencia (nos anos 200...</td>\n",
       "      <td>ano desde adolescencia ano optar por reduzir c...</td>\n",
       "    </tr>\n",
       "    <tr>\n",
       "      <th>8</th>\n",
       "      <td>9</td>\n",
       "      <td>porque ao longo do tempo entendi que a reducao...</td>\n",
       "      <td>amigos</td>\n",
       "      <td>impacto_ambiental</td>\n",
       "      <td>nenhuma</td>\n",
       "      <td>mulher_cis</td>\n",
       "      <td>preta</td>\n",
       "      <td>superior</td>\n",
       "      <td>153</td>\n",
       "      <td>porque ao longo do tempo entendi que a reducao...</td>\n",
       "      <td>porque longo tempo entendi que reducao carne n...</td>\n",
       "    </tr>\n",
       "    <tr>\n",
       "      <th>...</th>\n",
       "      <td>...</td>\n",
       "      <td>...</td>\n",
       "      <td>...</td>\n",
       "      <td>...</td>\n",
       "      <td>...</td>\n",
       "      <td>...</td>\n",
       "      <td>...</td>\n",
       "      <td>...</td>\n",
       "      <td>...</td>\n",
       "      <td>...</td>\n",
       "      <td>...</td>\n",
       "    </tr>\n",
       "    <tr>\n",
       "      <th>1022</th>\n",
       "      <td>1023</td>\n",
       "      <td>consumo carne apenas na refeicao do almoco</td>\n",
       "      <td>escola_universidade</td>\n",
       "      <td>impacto_ambiental</td>\n",
       "      <td>substitulo que se iguale ao sabor</td>\n",
       "      <td>mulher_cis</td>\n",
       "      <td>branca</td>\n",
       "      <td>medio</td>\n",
       "      <td>42</td>\n",
       "      <td>consumo carne apenas na refeicao do almoco</td>\n",
       "      <td>consumo carne apenas refeicao almoco</td>\n",
       "    </tr>\n",
       "    <tr>\n",
       "      <th>1023</th>\n",
       "      <td>1024</td>\n",
       "      <td>porque nao consumo carne em todas as refeicões</td>\n",
       "      <td>outros</td>\n",
       "      <td>saude</td>\n",
       "      <td>gostar do sabor e nao poder retirar a carne po...</td>\n",
       "      <td>mulher_cis</td>\n",
       "      <td>branca</td>\n",
       "      <td>doutorado</td>\n",
       "      <td>46</td>\n",
       "      <td>porque nao consumo carne em todas as refeicões</td>\n",
       "      <td>porque nao consumo carne todo refeicao</td>\n",
       "    </tr>\n",
       "    <tr>\n",
       "      <th>1026</th>\n",
       "      <td>1027</td>\n",
       "      <td>porque eu deliberadamente tenho reduzido meu c...</td>\n",
       "      <td>midias</td>\n",
       "      <td>saude</td>\n",
       "      <td>as pessoas fora da minha casa nao estarem envo...</td>\n",
       "      <td>homem_cis</td>\n",
       "      <td>branca</td>\n",
       "      <td>medio</td>\n",
       "      <td>61</td>\n",
       "      <td>porque eu deliberadamente tenho reduzido meu c...</td>\n",
       "      <td>porque deliberadamente ter reduzir meu consumo...</td>\n",
       "    </tr>\n",
       "    <tr>\n",
       "      <th>1027</th>\n",
       "      <td>1028</td>\n",
       "      <td>porque cuido de mim, do meu corpo e do meu pla...</td>\n",
       "      <td>escola_universidade</td>\n",
       "      <td>impacto_ambiental</td>\n",
       "      <td>nenhuma</td>\n",
       "      <td>mulher_cis</td>\n",
       "      <td>branca</td>\n",
       "      <td>superior</td>\n",
       "      <td>50</td>\n",
       "      <td>porque cuido de mim, do meu corpo e do meu pla...</td>\n",
       "      <td>porque cuer meu corpo meu planeta</td>\n",
       "    </tr>\n",
       "    <tr>\n",
       "      <th>1028</th>\n",
       "      <td>1029</td>\n",
       "      <td>sofrimento a que sao submetidos os animais, al...</td>\n",
       "      <td>escola_universidade</td>\n",
       "      <td>etica_animal</td>\n",
       "      <td>habito alimentar e gostar do sabor</td>\n",
       "      <td>mulher_cis</td>\n",
       "      <td>branca</td>\n",
       "      <td>mestrado</td>\n",
       "      <td>279</td>\n",
       "      <td>apos o abate adicionam-se aditivos, conservant...</td>\n",
       "      <td>apo abate adicionamr aditivo conservante outro...</td>\n",
       "    </tr>\n",
       "  </tbody>\n",
       "</table>\n",
       "<p>778 rows × 11 columns</p>\n",
       "</div>"
      ],
      "text/plain": [
       "        id                                         input_text  \\\n",
       "2        3  porque a carne bovina de certa forma me faz ma...   \n",
       "4        5  pois limitei o consumo para nao desenvolver ac...   \n",
       "6        7  so como carne quando nao ha alternativa nao ti...   \n",
       "7        8  ja uns anos desde a adolescencia (nos anos 200...   \n",
       "8        9  porque ao longo do tempo entendi que a reducao...   \n",
       "...    ...                                                ...   \n",
       "1022  1023         consumo carne apenas na refeicao do almoco   \n",
       "1023  1024     porque nao consumo carne em todas as refeicões   \n",
       "1026  1027  porque eu deliberadamente tenho reduzido meu c...   \n",
       "1027  1028  porque cuido de mim, do meu corpo e do meu pla...   \n",
       "1028  1029  sofrimento a que sao submetidos os animais, al...   \n",
       "\n",
       "           fonteinfo_flex          motivacao  \\\n",
       "2                  amigos              saude   \n",
       "4                  midias              saude   \n",
       "6                  amigos  impacto_ambiental   \n",
       "7                  midias            aversao   \n",
       "8                  amigos  impacto_ambiental   \n",
       "...                   ...                ...   \n",
       "1022  escola_universidade  impacto_ambiental   \n",
       "1023               outros              saude   \n",
       "1026               midias              saude   \n",
       "1027  escola_universidade  impacto_ambiental   \n",
       "1028  escola_universidade       etica_animal   \n",
       "\n",
       "                                            dificuldade      genero cor_raca  \\\n",
       "2     preco e variedade de outras proteinas vegetais...   homem_cis   branca   \n",
       "4                                               nenhuma  mulher_cis   branca   \n",
       "6                                       gostar do sabor  mulher_cis   branca   \n",
       "7     na adolescencia e de novo na vida adulta, eu o...  mulher_cis   branca   \n",
       "8                                               nenhuma  mulher_cis    preta   \n",
       "...                                                 ...         ...      ...   \n",
       "1022                  substitulo que se iguale ao sabor  mulher_cis   branca   \n",
       "1023  gostar do sabor e nao poder retirar a carne po...  mulher_cis   branca   \n",
       "1026  as pessoas fora da minha casa nao estarem envo...   homem_cis   branca   \n",
       "1027                                            nenhuma  mulher_cis   branca   \n",
       "1028                 habito alimentar e gostar do sabor  mulher_cis   branca   \n",
       "\n",
       "     escolaridade  len_text  \\\n",
       "2        mestrado       123   \n",
       "4        superior       138   \n",
       "6        mestrado       297   \n",
       "7        mestrado       426   \n",
       "8        superior       153   \n",
       "...           ...       ...   \n",
       "1022        medio        42   \n",
       "1023    doutorado        46   \n",
       "1026        medio        61   \n",
       "1027     superior        50   \n",
       "1028     mestrado       279   \n",
       "\n",
       "                                       input_text_clean  \\\n",
       "2     porque a carne bovina de certa forma me faz ma...   \n",
       "4     pois limitei o consumo para nao desenvolver ac...   \n",
       "6     so como carne quando nao ha alternativa nao ti...   \n",
       "7     ja uns anos desde a adolescencia (nos anos 200...   \n",
       "8     porque ao longo do tempo entendi que a reducao...   \n",
       "...                                                 ...   \n",
       "1022         consumo carne apenas na refeicao do almoco   \n",
       "1023     porque nao consumo carne em todas as refeicões   \n",
       "1026  porque eu deliberadamente tenho reduzido meu c...   \n",
       "1027  porque cuido de mim, do meu corpo e do meu pla...   \n",
       "1028  apos o abate adicionam-se aditivos, conservant...   \n",
       "\n",
       "                            input_text_clean_simplified  \n",
       "2     porque carne bovino certo forma fazer mal deix...  \n",
       "4     pois limitar consumo para nao desenvolver acid...  \n",
       "6     como carne quando nao alternativo nao ter pens...  \n",
       "7     ano desde adolescencia ano optar por reduzir c...  \n",
       "8     porque longo tempo entendi que reducao carne n...  \n",
       "...                                                 ...  \n",
       "1022               consumo carne apenas refeicao almoco  \n",
       "1023             porque nao consumo carne todo refeicao  \n",
       "1026  porque deliberadamente ter reduzir meu consumo...  \n",
       "1027                  porque cuer meu corpo meu planeta  \n",
       "1028  apo abate adicionamr aditivo conservante outro...  \n",
       "\n",
       "[778 rows x 11 columns]"
      ]
     },
     "execution_count": 14,
     "metadata": {},
     "output_type": "execute_result"
    }
   ],
   "source": [
    "df_reason"
   ]
  },
  {
   "cell_type": "code",
   "execution_count": 15,
   "metadata": {},
   "outputs": [],
   "source": [
    "# Initialize the OpenAI embeddings model with the specified parameters\n",
    "# - model: The name of the model to use for generating embeddings ('text-embedding-3-large')\n",
    "# - dimensions: The dimensionality of the embeddings (3072)\n",
    "# This model will convert text into high-dimensional vectors that capture semantic meaning\n",
    "openai_embeddings = OpenAIEmbeddings(model='text-embedding-3-large', dimensions=3072)\n",
    "\n",
    "# Generate embeddings for the 'input_text_clean' column of df_reason\n",
    "# embed_documents takes a list of texts and returns their embeddings\n",
    "# These embeddings can be used for various downstream tasks such as clustering, classification, or similarity search\n",
    "embeddings_reason = openai_embeddings.embed_documents(df_reason['input_text_clean'].values.tolist())\n"
   ]
  },
  {
   "cell_type": "code",
   "execution_count": 16,
   "metadata": {},
   "outputs": [
    {
     "data": {
      "text/html": [
       "<div>\n",
       "<style scoped>\n",
       "    .dataframe tbody tr th:only-of-type {\n",
       "        vertical-align: middle;\n",
       "    }\n",
       "\n",
       "    .dataframe tbody tr th {\n",
       "        vertical-align: top;\n",
       "    }\n",
       "\n",
       "    .dataframe thead th {\n",
       "        text-align: right;\n",
       "    }\n",
       "</style>\n",
       "<table border=\"1\" class=\"dataframe\">\n",
       "  <thead>\n",
       "    <tr style=\"text-align: right;\">\n",
       "      <th></th>\n",
       "      <th>openai_embedding</th>\n",
       "    </tr>\n",
       "  </thead>\n",
       "  <tbody>\n",
       "    <tr>\n",
       "      <th>0</th>\n",
       "      <td>[0.006274246610701084, 0.014357184059917927, -...</td>\n",
       "    </tr>\n",
       "    <tr>\n",
       "      <th>1</th>\n",
       "      <td>[0.009271223098039627, 0.028493599966168404, -...</td>\n",
       "    </tr>\n",
       "    <tr>\n",
       "      <th>2</th>\n",
       "      <td>[0.006935932207852602, 0.025884093716740608, -...</td>\n",
       "    </tr>\n",
       "    <tr>\n",
       "      <th>3</th>\n",
       "      <td>[0.01741289719939232, 0.008717957884073257, -0...</td>\n",
       "    </tr>\n",
       "    <tr>\n",
       "      <th>4</th>\n",
       "      <td>[0.02900986559689045, 0.009972958825528622, -0...</td>\n",
       "    </tr>\n",
       "    <tr>\n",
       "      <th>...</th>\n",
       "      <td>...</td>\n",
       "    </tr>\n",
       "    <tr>\n",
       "      <th>773</th>\n",
       "      <td>[-0.008207517676055431, 0.027654049918055534, ...</td>\n",
       "    </tr>\n",
       "    <tr>\n",
       "      <th>774</th>\n",
       "      <td>[0.02431667409837246, 0.027790484949946404, -0...</td>\n",
       "    </tr>\n",
       "    <tr>\n",
       "      <th>775</th>\n",
       "      <td>[0.028141194954514503, -0.004925278015434742, ...</td>\n",
       "    </tr>\n",
       "    <tr>\n",
       "      <th>776</th>\n",
       "      <td>[0.01270632166415453, 0.014720458537340164, -0...</td>\n",
       "    </tr>\n",
       "    <tr>\n",
       "      <th>777</th>\n",
       "      <td>[0.015750225633382797, 0.020705631002783775, 0...</td>\n",
       "    </tr>\n",
       "  </tbody>\n",
       "</table>\n",
       "<p>778 rows × 1 columns</p>\n",
       "</div>"
      ],
      "text/plain": [
       "                                      openai_embedding\n",
       "0    [0.006274246610701084, 0.014357184059917927, -...\n",
       "1    [0.009271223098039627, 0.028493599966168404, -...\n",
       "2    [0.006935932207852602, 0.025884093716740608, -...\n",
       "3    [0.01741289719939232, 0.008717957884073257, -0...\n",
       "4    [0.02900986559689045, 0.009972958825528622, -0...\n",
       "..                                                 ...\n",
       "773  [-0.008207517676055431, 0.027654049918055534, ...\n",
       "774  [0.02431667409837246, 0.027790484949946404, -0...\n",
       "775  [0.028141194954514503, -0.004925278015434742, ...\n",
       "776  [0.01270632166415453, 0.014720458537340164, -0...\n",
       "777  [0.015750225633382797, 0.020705631002783775, 0...\n",
       "\n",
       "[778 rows x 1 columns]"
      ]
     },
     "execution_count": 16,
     "metadata": {},
     "output_type": "execute_result"
    }
   ],
   "source": [
    "# Convert the list of embeddings for df_reason into a pandas Series and then to a DataFrame\n",
    "# This creates a DataFrame where each row corresponds to an embedding\n",
    "embeddings_df_reason = pd.Series(embeddings_reason).to_frame()\n",
    "\n",
    "# Rename the column of the embeddings DataFrame for df_reason to 'openai_embedding'\n",
    "# This makes it clear that the column contains embeddings generated by the OpenAI model\n",
    "embeddings_df_reason.columns = ['openai_embedding']\n",
    "\n",
    "# Display the embeddings DataFrame for df_reason\n",
    "# This allows you to inspect the DataFrame and verify that the embeddings have been correctly converted and stored\n",
    "embeddings_df_reason"
   ]
  },
  {
   "cell_type": "code",
   "execution_count": 17,
   "metadata": {},
   "outputs": [
    {
     "data": {
      "text/plain": [
       "3072"
      ]
     },
     "execution_count": 17,
     "metadata": {},
     "output_type": "execute_result"
    }
   ],
   "source": [
    "# Calculate the length of the embedding vector for the first row in the embeddings_df_reason DataFrame\n",
    "# - iloc[0] selects the first row of the DataFrame\n",
    "# - ['openai_embedding'] accesses the 'openai_embedding' column, which contains the embedding vector\n",
    "# - len() calculates the length of the embedding vector\n",
    "# This is useful to verify the dimensionality of the embeddings generated by the OpenAI model\n",
    "embedding_length = len(embeddings_df_reason.iloc[0]['openai_embedding'])\n",
    "\n",
    "# Display the length of the embedding vector\n",
    "# This confirms that the embeddings have the expected dimensionality (e.g., 3072 dimensions)\n",
    "embedding_length"
   ]
  },
  {
   "cell_type": "code",
   "execution_count": 18,
   "metadata": {},
   "outputs": [],
   "source": [
    "df_reason.dropna(subset=['input_text'], inplace=True)"
   ]
  },
  {
   "cell_type": "code",
   "execution_count": 19,
   "metadata": {},
   "outputs": [
    {
     "data": {
      "text/plain": [
       "['porque a carne bovina de certa forma me faz mal deixa o intestino \"pesado\" e prefiro nao consumir caso tenham outras opcões',\n",
       " 'pois limitei o consumo para nao desenvolver acido úrico e por ver muitas reportagens sobre os maleficios do alto consumo de carne vermelha',\n",
       " 'so como carne quando nao ha alternativa nao tinha pensado ou conhecia essa terminologia sempre me denominei carnivora gosto de carne mas minha filha virou vegetariana entao eu acabei me adaptando e so como carne quando da vontade tipo em marco ate agora comi umas 5 vezes e hj ja e dia 24 de marco',\n",
       " 'ja uns anos desde a adolescencia (nos anos 2000) eu optei por reduzir o consumo de carne vermelha por nao gostar do sabor e de como eu fico depois que consumo o que nao ocorre tanto quando eu como frango porco (um pouco por causa da gordura) e peixe exceto da forma como as comidas sao temperadas ou cozidas so que tambem nao e algo que me faca falta e mesmo assim de vez em quando fico umas semanas sem consumir carne nenhuma',\n",
       " 'porque ao longo do tempo entendi que a reducao da carne e nao a extincao dela seriam a melhor solucao tambem vi que e super possivel saudavel e econômico']"
      ]
     },
     "execution_count": 19,
     "metadata": {},
     "output_type": "execute_result"
    }
   ],
   "source": [
    "texts = df_reason.input_text.values.tolist()\n",
    "texts[:5]"
   ]
  },
  {
   "cell_type": "code",
   "execution_count": 24,
   "metadata": {},
   "outputs": [],
   "source": [
    "# Initialize embeddings model\n",
    "embedding_model_langchain = OpenAIEmbeddings(model=\"text-embedding-3-large\")\n"
   ]
  },
  {
   "cell_type": "code",
   "execution_count": 25,
   "metadata": {},
   "outputs": [],
   "source": [
    "embeddings = np.array(embeddings_reason)"
   ]
  },
  {
   "cell_type": "code",
   "execution_count": 30,
   "metadata": {},
   "outputs": [],
   "source": [
    "\n",
    "prompt = \"\"\"\n",
    "Eu tenho um tópico que contém os seguintes documentos:\n",
    "[DOCUMENTS]\n",
    "O tópico é descrito pelas seguintes palavras-chave: [KEYWORDS]\n",
    "\n",
    "Com base nas informações acima, extraia um rótulo de tópico curto no seguinte formato:\n",
    "topic: <topic label>\n",
    "\n",
    "O rótulo do tópico deve ser uma descrição concisa do conteúdo dos documentos e palavras-chave fornecidos, não fazendo referência a informações específicas de anos, datas, números ou nomes de pessoas. O rótulo do tópico deve ter até 6 palavras.\n",
    "\"\"\"\n",
    "\n",
    "# Initialize OpenAI client\n",
    "openai_client = openai.Client()\n",
    "\n",
    "\n",
    "# Initialize embedding model for BERTopic\n",
    "embedding_model_bertopic = OpenAIBackend(client=openai_client, embedding_model=\"text-embedding-3-large\") # Same as embedding_model_langchain, that was used to pre-compute the embeddings of our history\n",
    "\n",
    "# Initialize BERTopic model with specified parameters\n",
    "representation_model = OpenAI(openai_client, model=\"gpt-4o\", chat=True, prompt=prompt) # This class comes from the bertopic.representation module"
   ]
  },
  {
   "cell_type": "code",
   "execution_count": 31,
   "metadata": {},
   "outputs": [],
   "source": [
    "topic_model = BERTopic(\n",
    "    embedding_model=embedding_model_bertopic,\n",
    "    min_topic_size=15,\n",
    "    zeroshot_topic_list=[\"exclui alguns animais\", \"não come carne vermelha\", \"diminui a frequência de consumo\", \"não considera carne essencial\"],\n",
    "    zeroshot_min_similarity=0.8,\n",
    "    nr_topics=8,\n",
    "    representation_model=representation_model # this will make len(topics) requests to the OpenAI API\n",
    ") # KeyBERTInspired\n",
    "\n",
    "topics, _ = topic_model.fit_transform(texts, embeddings=embeddings)"
   ]
  },
  {
   "cell_type": "code",
   "execution_count": 32,
   "metadata": {},
   "outputs": [
    {
     "data": {
      "text/html": [
       "<div>\n",
       "<style scoped>\n",
       "    .dataframe tbody tr th:only-of-type {\n",
       "        vertical-align: middle;\n",
       "    }\n",
       "\n",
       "    .dataframe tbody tr th {\n",
       "        vertical-align: top;\n",
       "    }\n",
       "\n",
       "    .dataframe thead th {\n",
       "        text-align: right;\n",
       "    }\n",
       "</style>\n",
       "<table border=\"1\" class=\"dataframe\">\n",
       "  <thead>\n",
       "    <tr style=\"text-align: right;\">\n",
       "      <th></th>\n",
       "      <th>Topic</th>\n",
       "      <th>Count</th>\n",
       "      <th>Name</th>\n",
       "      <th>Representation</th>\n",
       "      <th>Representative_Docs</th>\n",
       "    </tr>\n",
       "  </thead>\n",
       "  <tbody>\n",
       "    <tr>\n",
       "      <th>0</th>\n",
       "      <td>-1</td>\n",
       "      <td>242</td>\n",
       "      <td>-1_Redução do Consumo de Carne</td>\n",
       "      <td>[Redução do Consumo de Carne]</td>\n",
       "      <td>[eu sou consciente dos maleficios do consumo d...</td>\n",
       "    </tr>\n",
       "    <tr>\n",
       "      <th>1</th>\n",
       "      <td>0</td>\n",
       "      <td>39</td>\n",
       "      <td>0_Redução do Consumo de Carne</td>\n",
       "      <td>[Redução do Consumo de Carne]</td>\n",
       "      <td>[eu nao me dou esse nome porque essa represent...</td>\n",
       "    </tr>\n",
       "    <tr>\n",
       "      <th>2</th>\n",
       "      <td>1</td>\n",
       "      <td>56</td>\n",
       "      <td>1_Dieta Pescetariana e Redução de Carnes</td>\n",
       "      <td>[Dieta Pescetariana e Redução de Carnes]</td>\n",
       "      <td>[pois deduzo o consumo de carne ja nao como va...</td>\n",
       "    </tr>\n",
       "    <tr>\n",
       "      <th>3</th>\n",
       "      <td>2</td>\n",
       "      <td>49</td>\n",
       "      <td>2_Transição e Desafios do Vegetarianismo/Vegan...</td>\n",
       "      <td>[Transição e Desafios do Vegetarianismo/Vegani...</td>\n",
       "      <td>[porque tento me alimentar de forma intuitiva ...</td>\n",
       "    </tr>\n",
       "    <tr>\n",
       "      <th>4</th>\n",
       "      <td>3</td>\n",
       "      <td>300</td>\n",
       "      <td>3_Redução do Consumo de Carne</td>\n",
       "      <td>[Redução do Consumo de Carne]</td>\n",
       "      <td>[porque tenho consciencia de como a criacao de...</td>\n",
       "    </tr>\n",
       "    <tr>\n",
       "      <th>5</th>\n",
       "      <td>4</td>\n",
       "      <td>22</td>\n",
       "      <td>4_Experiências negativas com carne vermelha</td>\n",
       "      <td>[Experiências negativas com carne vermelha]</td>\n",
       "      <td>[o gosto de sangue me da enjoo na carne vermel...</td>\n",
       "    </tr>\n",
       "    <tr>\n",
       "      <th>6</th>\n",
       "      <td>5</td>\n",
       "      <td>53</td>\n",
       "      <td>5_Redução do Consumo de Carne Semanalmente</td>\n",
       "      <td>[Redução do Consumo de Carne Semanalmente]</td>\n",
       "      <td>[porque tento diminuir o consumo de carne e na...</td>\n",
       "    </tr>\n",
       "    <tr>\n",
       "      <th>7</th>\n",
       "      <td>6</td>\n",
       "      <td>17</td>\n",
       "      <td>6_Preferências Alimentares e Consumo de Carne</td>\n",
       "      <td>[Preferências Alimentares e Consumo de Carne]</td>\n",
       "      <td>[porque como pouca quantidade de proteina anim...</td>\n",
       "    </tr>\n",
       "  </tbody>\n",
       "</table>\n",
       "</div>"
      ],
      "text/plain": [
       "   Topic  Count                                               Name  \\\n",
       "0     -1    242                     -1_Redução do Consumo de Carne   \n",
       "1      0     39                      0_Redução do Consumo de Carne   \n",
       "2      1     56           1_Dieta Pescetariana e Redução de Carnes   \n",
       "3      2     49  2_Transição e Desafios do Vegetarianismo/Vegan...   \n",
       "4      3    300                      3_Redução do Consumo de Carne   \n",
       "5      4     22        4_Experiências negativas com carne vermelha   \n",
       "6      5     53         5_Redução do Consumo de Carne Semanalmente   \n",
       "7      6     17      6_Preferências Alimentares e Consumo de Carne   \n",
       "\n",
       "                                      Representation  \\\n",
       "0                      [Redução do Consumo de Carne]   \n",
       "1                      [Redução do Consumo de Carne]   \n",
       "2           [Dieta Pescetariana e Redução de Carnes]   \n",
       "3  [Transição e Desafios do Vegetarianismo/Vegani...   \n",
       "4                      [Redução do Consumo de Carne]   \n",
       "5        [Experiências negativas com carne vermelha]   \n",
       "6         [Redução do Consumo de Carne Semanalmente]   \n",
       "7      [Preferências Alimentares e Consumo de Carne]   \n",
       "\n",
       "                                 Representative_Docs  \n",
       "0  [eu sou consciente dos maleficios do consumo d...  \n",
       "1  [eu nao me dou esse nome porque essa represent...  \n",
       "2  [pois deduzo o consumo de carne ja nao como va...  \n",
       "3  [porque tento me alimentar de forma intuitiva ...  \n",
       "4  [porque tenho consciencia de como a criacao de...  \n",
       "5  [o gosto de sangue me da enjoo na carne vermel...  \n",
       "6  [porque tento diminuir o consumo de carne e na...  \n",
       "7  [porque como pouca quantidade de proteina anim...  "
      ]
     },
     "execution_count": 32,
     "metadata": {},
     "output_type": "execute_result"
    }
   ],
   "source": [
    "topic_model.get_topic_info()"
   ]
  },
  {
   "cell_type": "code",
   "execution_count": 33,
   "metadata": {},
   "outputs": [
    {
     "data": {
      "application/vnd.plotly.v1+json": {
       "config": {
        "plotlyServerURL": "https://plot.ly"
       },
       "data": [
        {
         "hoverinfo": "text",
         "hovertext": [
          "porque nao faco questao de ter carne nas principais refeicões do dia e com frequencia as dispenso",
          "pois nao me obrigo a comer nem carne nem 100% vegetal acabo variando bastante focando no meu bem-estar e vontade do momento",
          "porque cortei quase todas as carnes da dieta, comendo alimentos de origem vegetal durante a maior parte da semana desde 2016, sendo os alimentos de origem animal que ingiro apenas ovos e frutos do mar ocasionalmente",
          "porque tento reduzir ao maximo o consumo de carne, apesar de nao conseguir ter feito totalmente",
          "por fazer uso de pouca carne animal e gostar de mais de vegetais",
          "porque diminui o consumo de carne vermelha como resultado do climaterio",
          "nao sinto necessidade de comer carne em todas as refeicões",
          "evito comer carne ao maximo, alem disso, estou buscando diminuir o consumo de laticinios e processados de origem animal so como frango em situacões excepcionais como, festas, eventos e lanches de rua, coisa que nao acontece com frequencia",
          "porque escolho nao consumir alimentos de origem animal sempre que posso",
          "eu sou na realidade um vegetariano que quando realmente nao tem nenhuma opcao proteica digna, come carne nao compro carne",
          "pois apesar de nao tirar carne da minha dieta, tento consumir menos a cada dia",
          "por conseguir reduzir o consumo da carne ao longo da semana, ha cerca de quatro meses, e gostar dessa mudanca, com isso pretendendo continuar com essa adaptacao alimentar",
          "mudei o padrao de consumo de carne animal de 2 vezes ao dia para uma vez ao dia acredito que os processo de criacao e comercio dos animais nao sao estao no padrao da sustentabilidade ambiental a minha meta e consumir carnes apenas tres vezes por semana ate o final deste ano!",
          "nao me alimento de carnes normalmente, mas como peixe uma vez por mes para regular as bacterias do estômago e intestinos, alem de comer sardinha por conta de seu controle populacional por varios motivos adotei varias dietas, e hoje sou flexitariano para ter uma boa nutricao pessoal (a carne da menos energia que os vegetais) e, mormente, por razões ecologicas e sustentaveis (acredito que o veganismo e o vegetarianismo nao sao realmente sustentaveis, e que sua filosofia e boa e conveniente, mas falha, tendo-a adotado em partes, apos ter sido ja vegetariano e entao vegano)",
          "em muitas refeicões nao consumo carne, substituo a carne pela batata, facilmente",
          "porque tento comer o minimo de carne possivel",
          "nao me considero, adoro uma carne bem feita",
          "pelo fato de consumir corretamente (em sua grande parte) o almoco no servico, prefiro a noite nao jantar comida e sim pao, bolacha, copo de leite, qualquer outra coisa principalmente pelo fato de ter que \"cozinhar\", no servico o alimento que consumimos e produzido em marmitarias",
          "busco cada vez mais reduzir o que posso de carne animal na alimentacao ou consumi-las de maneira sustentavel",
          "nao me preocupo com o rotulo, so estou reduzindo o consumo de carne",
          "sei que o sistema que alimentacao carnivora nao e saudavel (tanto para os animais  ja que sao mortos quanto para nos) mas ainda nao consegui largar a carne entao tento evitar sempre que posso",
          "porque consumir esse tipo de alimento aumenta muito meus gastos com alimentacao e esse movimento me fez repensar sobre a exploracao animal e do meio ambiente que existem na producao de carnes",
          "porque cortei integralmente o consumo de carne vermelha e derivados e quando possivel opto por nao consumir nenhum tipo de carne alem de estar aberta ao consumo de preparacões e refeicões sem ingredientes de origem animal",
          "pois priorizo nao comer carnes no dia a dia, porem nao me considero vegetariana por ainda consumir com uma certa frequencia",
          "eventualmente eu como frango ou peixe, sempre fora de casa, onde nao encontro outras opcões",
          "porque foi uma acao intencional nao comer carne as segundas feiras e tambem reduzir o consumo de carne vermelha ja faz algum tempo que esse habito foi incorporado a minha rotina",
          "porque a carne nome faz falta na alimentacao",
          "porque evito carne ha muitos anos pelo sabor que nao me agrada",
          "porque eu consumo pouca carne bovina, utilizando mais outras opcões de proteinas, por digestibilidade e financeiro",
          "assisti a um documentario que me fez refletir sobre a producao e o consumo de carne vermelha assim passei a consumir apenas frango peixe ovos",
          "contribuir com o meio ambiente diminuir o consumo de hormônios add as carnes e manter alimentacao saudavel e adequada",
          "porque minha alimentacao e quase toda sem carne, ha mais dois venho reduzindo gradativamente mas as vezes se tiver muita vontade de consumir algo que tem carne me permito sem culpa, mas e cada vez menos frequente",
          "ha 3 anos venho reduzindo o consumo de carne",
          "porque nao me sinto bem comendo animais, especialmente de grande porte",
          "porque depois da cirurgia bariatrica sinto a carne vermelha muito pesada, e reduzi consumo!",
          "fiquei totalmente vegetariana por 7 anos e senti necessidade de voltar a comer peixe mas os demais nao quero e consigo consumir",
          "por ter problemas de estômago, articulares e gostar muito de uma alimentacao mais natural",
          "digestao dificil de carne vermelha, consciencia do tratamento oferecido a esses animais em matadouros",
          "porque nao quero precisar repôr a vitamina b12 de forma artifical e possuo galinhas no quintal que fornecem ovos (os quais contem b12)",
          "pois ainda consumo carnes entretanto procuro diminuir esse consumo",
          "sim, por mais que tenho marcado uma media de 3 vezes na semana , mas ja na metade do mes o consumo e muito reduzido entao fica mais no arroz , feijao e principalmente miojo ou sopa",
          "decidi, desde o inicio do curso de nutricao, comecar a reduzir o consumo de carne iniciei com a reducao de carne vermelha, e atualmente pratico a “segunda sem carne”, as vezes aplicando mais de uma vez por semana",
          "ja uns anos desde a adolescencia (nos anos 2000) eu optei por reduzir o consumo de carne vermelha por nao gostar do sabor e de como eu fico depois que consumo o que nao ocorre tanto quando eu como frango porco (um pouco por causa da gordura) e peixe exceto da forma como as comidas sao temperadas ou cozidas so que tambem nao e algo que me faca falta e mesmo assim de vez em quando fico umas semanas sem consumir carne nenhuma",
          "reduzi o consumo de carne vermelha, porque identifiquei que nao faco a digestao adequadamente",
          "por ser adepta as causas animais e por fazer dieta para doenca renal crônica (necessidade de baixo consumo de proteina, principalmente carne vermelha)",
          "porque acho desnecessario o volume de proteina animal ingerido convencionalmente pelas pessoas",
          "por uma questao de equilibrio entre dieta e consumo sustentavel",
          "de alguma forma o sabor da carne nao agrada o meu paladar como antes",
          "porque me preocupo com minha saude, o alto consumo de carne nao faz bem, porem nao consigo ser vegana no momento",
          "tento reduzir ao maximo o consume de carnes ja tirei totalmente do cafe da manha e a janta, so como em alguns almocos ou ocasiões especiais",
          "porque nao gosto de carne, tenho do dos animais",
          "sim, alem de estar reduzindo o consumo de carne, estou tentando consumir tudo de forma mais consciente e preferindo sempre alimentos orgânicos, inclusive carne se possivel, ovos",
          "tenho consciencia que o consumo exacerbado de carnes prejudica nossa saude e o meio ambiente",
          "porque como carne suina e frango caipira em media 5 vezes por ano",
          "nem sempre quero comer carne, ja e um costume desde a infância",
          "nao me interesso muito por carne vermelha, nao compro, so como se alguem me convidar pra comer nao sinto necessidade de comer carne todos os dias, muito menos em todas as refeicões",
          "porque substituo a carne por outras opcões vegetais",
          "nunca gostei muito de consumir carne vermelha, entao acabei reduzindo a presenca na minha dieta",
          "porque prefiro evitar no maximo o consumo de carne, e quando o faco diminuio a quantidade de carne e incremento de vegetais",
          "porque cono muito mrnos carne do que ha cinco anos, e a carne nao mr parece tao saborosa quanto antes",
          "porque nao consigo deixar de consumir completamente mas gostaria !",
          "na minha alimentacao cotidiana nao incluo carne de origem animal consumo esse tipo de alimento mais pela memoria afetiva disso (quando minha mae vem ate minha casa e cozinha, o que acontece 1x a cada 2 meses) ou porque estou num local em que nao ha nenhuma opcao vegetariana mas preferencialmente nao consumo",
          "porque tenho sensibilidade a carne vermelha, a carne vermelha transmite o stress e ansiedade de confinamento da criacao aos humanos, e as pegadas hidricas e ecologicas sao muito elevadas",
          "porque cuido de mim, do meu corpo e do meu planeta",
          "decidi diminuir o consumo excessivo de carne ao descobrir que existiam outros alimentos que possuem tantas proteinas quanto a carne vermelha",
          "por nao consumir carne com certa frequencia e preferir outros tipos de proteina",
          "porque sempre que eu posso, eu evito de comer carne! se eu tiver como escolher…",
          "porque eu reduzi o consumo de carne vermelha, e sempre que ha opcões vegetarianas eu prefiro mas se sentir vontade de comer frango/peixe, eu consumo",
          "porque tento reduzir o consumo de carne, principalmente a vermelha, e substituir por outros tipos de proteina, vegetal ou animal de criacao livre",
          "eu sou consciente dos maleficios do consumo de carne para a saude, para o ambiente e sociedade, mas ainda consumo por gostar do gosto da carne e as vezes por nao ter outras opcões no dia a dia",
          "porque tenho reduzido o consumo de proteina animal e dado preferencia a proteina de origem vegetal (folhas e graos)",
          "porque esta cara e embora eu responda sim para as perguntas 19 e 20, sobre consciencia do que os animais de alimentam e como sao criados, nao tive ainda a forca para mudar de habito",
          "nunca fui muito fa de carnes, sempre preferi ovo na minha casa reduzimos o consumo porque nao gostamos de preparar e tbm para economizar na feira",
          "porque a carne bovina de certa forma me faz mal deixa o intestino \"pesado\" e prefiro nao consumir caso tenham outras opcões",
          "nao tenho auto-controle suficiente para ser vegetariano/vegano, mas acredito que diminuir o consumo ja tem um impacto relevante",
          "porque nao me abstenho em comer carnes animais, devido a presenca de aminoacidos essenciais exclusivos a esta natureza nutricional",
          "porque prefiro me preocupo sempre que possivel nao consumir carnes",
          "porque evito comer certos tipos de carne",
          "nao sinto vontade de comer carne substituo facilmente por ovo peixe soja camarao as vezes como feijao arroz salada e so nao coloco nenhuma proteina",
          "eu so comia carne na casa dos outros ou restaurantes acompanhando outras pessoas como fiquei com baixa de b12 e proteina, agora como carne (frango e porco as vezes e principalmente peixe, de preferencia especies que nao estejam com sobrepesca) em semanas alternadas (uma semana com carne, outra sem) porque cozinho so uma vez na semana pra comer ao longo dos dias",
          "sempre tive problemas em relacao a carnes, nao gosto muito do gosto/textura de alguns cortes e tipos de carne entao sempre compraram coisas pra substituir alem disso convivo com muita gente vegetariana ou vegana entao quando como com eles acabo evitando carnes",
          "sempre que e possivel, opto por outra opcao de proteina",
          "porque nao priorizo o consumo de carne nas refeicões, mas acredito que a proteina animal e necessaria a nosso organismo visto que somos seres onivoros",
          "pois limitei o consumo para nao desenvolver acido úrico e por ver muitas reportagens sobre os maleficios do alto consumo de carne vermelha",
          "na verdade, nunca morri de amores por carne, principalmente, vermelha",
          "nao me considero pois amo muito carne mas alem do preco da carne e importante diversificar a alimentacao para que possamos consumir todo tipo de nutriente",
          "porque venho perdendo a vontade/gosto por esse tipo de comida",
          "idealmente gostaria de nao consumir alimentos de origem animal apesar de gostar de carne, ovos e leite, sei que para consegui-los numa escala grande precisamos maltratar animais, sujeitar pessoas a condicões pessimas de trabalho, derrubar florestas etc como nao consegui me adaptar a uma alimentacao livre dessas condicões ruins, entendi que reduzir o consumo ja era melhor do que nada - tambem acredito que se grande parte da populacao mundial fizesse isso, os problemas por tras desse tipo de alimentacao seriam reduzidos, pois e mais facil reduzir o consumo do que deixar de comer alguma coisa para sempre outra opcao e tentar comprar esses alimentos de locais que causem menos danos - o que geralmente costuma custar mais, o que tambem resulta na reducao do consumo",
          "para ter um estilo de vida mais sustentavel para o planeta",
          "nao faco questao de comer carne ha alguns anos, na tentativa de virar vegetariana, tive indicio de anemia e pra mim, nao faz sentido deixar de comer a carne e alimentar ainda mais a indústria farmaceutica, que e tao danoso quanto a agropecuaria entao resolvi diminuir o consumo na medida do possivel",
          "por minha saude e por entender que precisamos reduzir o co2 da atmosfera e vivermos com mais sustentabilidade",
          "como pouca carne e e comum fazer refeicões sem carne",
          "porque reduzi o maximo que pude do consumo de alimentos de origem animal do dia-a-dia e utilizo algumas pancs como alternativa, como forma de garantir uma seguranca alimentar devido aos altos financeiros da alimentacao carnivora",
          "porque tenho tentado reduzir o consumo de carne e substituir por outros alimentos",
          "porque nao consumo muito carne e prefiro os vegetais e legumes",
          "pois apesar de me preocupar com os animais, ainda possuo apreco pelo gosto das comidas que tem frango e peixe, ainda que em pequenas quantidades pretendo um dia parar de consumir carne, mas por hora, acho que a diminuicao do consumo ja ajudara de alguma forma",
          "pois procuro reduzir o consumo de carne mas nao parei comoletamente",
          "nao gosto da carne vermelha, bate mal no estômago e tenho dificuldade de achar uma carne que eu goste, geralmente nervos e nos me incomodam, por isso opto pelo frango que e sempre igual em qualquer lugar tambem evito o consumo diario de carne pensando no bem estar animal, apesar de nao investigar a origem da proteina que como, evito a ingestao por carinho aos animais nao como churrasco, nao como diversas carnes por carinho aos animais passei um periodo como vegetariana, mais de oito meses, mas ficava constantemente doente, voltei a comer proteina animal",
          "por do dos animais e por nao sentir falta de fazer substiruicões a carne",
          "porque nao consumo diariamente e mesmo quando eu consumo carne, nao chega a ser uma porcao de 120g, consumo cerca de 50g ou menos reduzi a quantidade de vezes na semana e o tamanho da porcao",
          "pois nao sou muito adepta ao consumo de carne animal porem ainda nao consegui cortar definitivamente da minha dieta",
          "reduzi o consumo de carne e a substitui por alimentos com nutrientes prese tes em outros alimentos",
          "alterno carnes com opcões vegetarianas, nao consumo carne todos os dias e ja tive esse habito alimentar",
          "eu tenho a meta de nao consumir carne de nenhuma forma, e estou comecando aos poucos",
          "pois estou adorando habitos pra diminuir o consumo de carnes e derivados de animais da minha alimentacao acredito que a emancipacao humana passa pela emancipacao da natureza",
          "porque ja nem gosto muito de comer carne",
          "porque adquiri a consciencia de que outros alimentos podem substituir a proteina animal",
          "porque tenho reduzido cada vez mais o consumo de carnes vermelhas",
          "nao gosto muito de carne meu consumo se da apenas pela familia que costuma comer bastante alem de evitar por ter endometriose devido o potencial inflamatorio da carne na gestacao da minha mae ela nao consumia a carne imagino eu que isso tambem tenha influenciado",
          "nao gosto muito de carne de boi, e como \"pouco\" das demais",
          "porque ainda nao consegui estabelecer uma rotina para parar 100% o consumo de carnes",
          "nunca fui de consumir muita carne primeiro, porque minha religiao, judaismo, restringe o consumo de carnes de determinados animais, como o porco, e as carnes apropriadas para o consumo precisam passar por controles rigidos que vao desde a criacao do animal ate o preparo segundo, sempre achei mais pratico usar proteinas como o ovo e etc na alimentacao",
          "eu gosto do gosto da carne mas acredito que a reducao da producao e consumo de carne e imprescindivel para mitigar as mudancas climaticas alem disso nao sinto necessidade de comer todo dia e acho o preparo nojento entao quando eu como e feito por outra pessoa",
          "porque no contexto em que eu vivo e muito dificil abolir a carne",
          "eu nao compro carne vermelha so compro, quase nunca, frango de granja e as vezes peixe, pois trabalho com pescadores artesanais mas se eu vou a alguma comunidade em que trabalho ou na casa de alguem que so tenha carne eu como",
          "por nao excluir totalmente o consumo de carne da minha vida alimenticia",
          "estou muito preocupada com o consumo de carne todos os dias",
          "reduzi drasticamente o consumo de carne mas ainda consumo esporadicamente frango e peixe minha dieta e 95% vegetais",
          "porque evito a carne, sei dos processos de producao que sao terriveis mas escolho consumir algumas vezes frango ou peixe",
          "tenho consumido menos carne porque sinto dificuldade em digerir",
          "enjoei de carne e tenho pena dos animais morrerem",
          "porque tento diminuir o consumo de carne pois acredito que o consumo exagerado prejudica a saude e o meio ambiente, mas vejo a importância da carne na dieta",
          "porque sempre que posso nao como carne e tento me politizar sobre a causa",
          "nao vejo minha dieta estando tao atrelada ao consumo de carnes algo que vem da minha propria criacao acho que os brasileiros sao muito dependentes de ter \"mistura\" e isso nao e algo que me afete para mim parece natural nao consumir tanto alem disso vejo que faz bem para o nosso organismo",
          "carne e caro, da muito trabalho para fazer, legumes sao mais saudaveis e suficientes para uma boa alimentacao",
          "porque eu como carne frequentemente, apesar de estar comendo mais vegetais no últimos anos,",
          "porque evito o consumo exacerbado de carne",
          "como pouca carne pois nao gosto muito da carne em si, mas gosto muito de congelados ( nuggets, fast food, peixe) porem tento comer pouco pela saude e por pensar no sofrimento dos animais, tratamento cada vez que olho a carne no meu prato",
          "a carne nao costuma ser o elemento central da refeicao",
          "porque quando posso, prefiro uma alimentacao maior em proteinas vegetais",
          "porque reduzi o consumo de carnes a 1x/semana em media",
          "reduzi consumo mas nao exclui, em eventos sociais aceito",
          "o fator preco e atenuante, mas sempre gostei de verduras e legumes no geral e tentei inicialmente na pandemia testar se conseguiria virar vegetariano e resposta foi positiva e me mantendo ate os dias de hj flexitariano",
          "nao costumo gostar tanto do sabor e textura de carnes no geral (com excecao de frango), acho meio enjoativo e tambem me preocupo com os animais (porem, nao consigo cessar seu consumo por completo), isso acaba reduzindo bastante meu consumo de carnes",
          "porque reduzi bastante o consumo de proteina animal principalmente a bovina quando consumo a quantidade e em torno de 60g",
          "pela preocupacao em depender cada vez menos de proteina de origem bovina principalmente",
          "pois me preocupo em consumir o minimo possivel de carne de origem animal… e aumentar o consumo das porcões de verduras, folhosos e frutas",
          "por gosto (pouca afinidade com carne vermelha) e por consciencia ambiental (direito dos animais)",
          "porque ao ver carnes lembro dos animais com do",
          "tenho reduzido a ingesta de proteina animal",
          "porque era vegetariana e voltei a comer peixe",
          "porque eu acredito no veganismo filosofica e politicamente, porem nao tenho dinheiro e saude o suficiente para parar com a carne completamente e tambem porque eu sou pobre entao as vezes nao como carne porque nao tenho dinheiro",
          "porque nao consumo com frequencia e nao me faz tanta falta tendo um substituto",
          "porque carne e uma coisa que nunca me deu falta no prato, porem como eu moro em uma casa com varias pessoas e um almoco so, a alem da minha rotina ser bem corrida, mas o maximo que eu posso diminuir, eu diminuo",
          "porque eu evito comprar carne para consumo no meu dia a dia, mas em determinadas situacões sociais ainda faco o consumo de carne",
          "porque evito comer carne em respeito aos irmaos animais",
          "porque busco nao ter proteina animais no maximo de refeicões que consigo",
          "nunca tive afinidade por carnes vermelhas, impacto_ambiental, intolerância, etica animal, saude",
          "sinto uma digestao mais leve, ou simplesmente nao tenho vontade de consumir carne no dia",
          "ja fui vegetariana e hoje procuro consumir maior quantidade de vegetais reduzo as porcões de carne nas refeicões, e pontualmente faco refeicões sem carne",
          "tento ao maximo reduzir meu consumo de carne com a intencao de me tornar vegetariana em algum momento",
          "nao consumo proteina de origem animal td o dia as vezes nao como na semana td",
          "porque costumo refletir sobre os maus tratos aos animais, porem ainda nao consigo eliminar das refeicões",
          "porque procuro sempre reduzir ao maximo o consumo de qualquer tipo de carne, busco sempre outras alternativas",
          "por opcao de dieta e influencia de mae nutricionista maior variedade de nutrientes",
          "porque como carne apenas quando alguem da minha familia cozinha, quando estou de visita",
          "evito o consumo o maximo de carnes sempre que possivel",
          "porque ainda sinto uma certa dificuldade em fazer a transicao total para o vegetarianismo mas sei que a diminuicao do consumo de carne, mesmo que parcial, e importante pra preservacao do planeta e reducao da crueldade animal",
          "porque excluo carnes do jantar e as vezes almoco",
          "apenas nao gosto muito de carne questao de sabor",
          "Venho de uma familia que tem um frigorifico, ja vi cenas horriveis com animais e nao gosto desde pequena do gosto de carne exceto peixes",
          "porque nao vejo o consumo de carne como algo totalmente necessario e que pode ser balanceado",
          "por nao gostar muito de carne e por causa do planeta tb",
          "procuro nao consumir carne na maior parte das refeicões",
          "na semana meu almoco, na maior parte do mes, sao de marmitas veganas, entao nas outras refeicões do dia e no final de semana como frango ou peixe se na semana como muito frango ou peixe, tento no final de semana comer refeicões vegetarianas/veganas carne vermelha so se comer fora ou minha mae preparar, nao compro carne vermelha para eu cozinhar a 7 anos, prefiro cozinhar comidas vegetarianas/veganas, frango, peixe e frustos do mar ja tive varios periodos comendo so comida vegetariana/vegana, que duravam alguns meses, depois voltava a comer frango e peixe atualmente estou intercalando durante as refeicões da semana",
          "eu nunca co sumi muita carne com o passar do tempo tenho diminuido, porquestoes eticas, sociais, ambientais e por prazer mesmo (gosto de comidas a base de vegetais)",
          "porque tento reduzir cada vez mais o consumo de carne durante o passar dos anos e, geralmente, quando ha opcões entre pratos com carne e vegetarianos, opto pelas opcões sem carne",
          "acredito que o consumo de carne na quantidade certa e ideal para manutencao da saude",
          "pois tento comer o minimo possivel de proteina animal",
          "porque ainda nao consegui deixar de consumir animais completamente",
          "tento evitar o consumo de carne e modificar minha alimentacao, ja que nao consigo de vez parar de comer carne",
          "e algo natural, nao sinto necessidade de carne no meu dia a dia",
          "porque so como carne em momentos de lazer",
          "sempre que possivel evito a carne animal, mais pela vida deles, embutidos e enlatados nao gosto",
          "o principal motivo foi minha esposa ter se tornado vegetariana, antes dela optar por essa escolha consumiamos carne diariamente, apos sua decisao, consumo carne apenas quando comemos fora ou pedimos algum delivery",
          "por conseguir substituir o consumo por outra proteina",
          "preocupacao com doencas relacionadas ao excesso de carne",
          "porque reduzi o consumo de carne nos últimos 2 anos e nao como carne vermelha",
          "eu gosto de carne acho necessario para minha dieta mas nao consigo ser vegetariana entao diminui o consumo",
          "porque o consumo de carne esta comecando a me afetar de maneira negativa",
          "ate 2017 minha alimentacao era bastante pautada pelo consumo de carnes em geral, incluindo as embutidas, mas apos ter acesso a informacões tanto sobre o impacto_ambiental desse tipo de producao, quanto no nosso organismo, comecei a reduzir meu consumo gradativamente em 2019 retirei definitivamente todas as carnes embutidas do cardapio, depois carne vermelha e posteriormente frutos do mar atualmente consumo apenas frango como carne de origem animal",
          "nao me considero eu dou preferencia para comer vegetais, mas nao e recuso a comer carne",
          "porque e uma forma de conhecer outras opcões de alimentos, diversificar o cardapio, fortalecer o pequeno agricultor e o comercio de produtos veganos, livre de agrotoxicos e de mais tratos aos animais",
          "nao gosto de carne, na verdade eu seria vegetariana, mas como eu viajo bastante em funcao da profissao, nem sempre tenho opcões vegetarianas, entao acabo flexibilizando e comendo carnes porque em algumas situacões e so isso que tem",
          "porque eu evito comer carne de boi e de porco, dando prioridade a carne de frango e aos ovos ao estudar um pouco sobre os sistemas de producao, o impacto_ambiental que geram e a crueldade animal, resolvi diminuir o meu consumo de carne minha meta e comer o minimo possivel, apenas para garantir as vitaminas que precisamos e que estao presentes nesses tipos de carne",
          "tenho pena dos animais embora aprecie sua carne",
          "estou reduzindo meu consumo de carne, ha alguns meses, chegando a 3 ou mais refeicões semanais sem carne",
          "devido a consciencia de que integramos um organismo vivo, o planeta o qual habitamos",
          "fui vegetariana por quase 3 anos, mas esse ano voltei a comer peixes eventualmente na comida japonesa",
          "tem alguns anos que reduzi o consumo de carne, gostaria de reduzir a zero e me tornar vegetariana, mas tem sido dificil resistir a algumas tentacões",
          "porque acho que o consumo excessivo de carne nao e sadio",
          "tentei ser vegetariana, mas como nao consegui, retirei a carne vermelha, e tento reduzir o consumo de frango ou peixe",
          "porque consumo muito pouco de carne, mas nao exclui inteiramente da minha dieta",
          "porque em raros momentos do meu ano abro excecao para alguns alimentos com carne",
          "tenho tentado reduzir o consumo de carne, principalmente a carne vermelha, por motivos de saude a longo prazo",
          "nao compactuo inteiramente com o consumo desenfreado de carne pela sociedade,mas tambem reconheco a importancia do consumo de proteina que muitas vezes e dificil de alcancar apenas com a proteina vegetal",
          "ha alguns anos passei a reduzir o consumo de carne no geral, quando como e em pouca quantidade",
          "porque nao considero correto tirarmos a vida de um animal, causar dor ou sofrimento nele para nossa alimentacao sinto remorso sempre!",
          "porque nao sinto falta se passar o dia vegetariana e porque sei que consumo menos carne do que a media, mesmo nao sendo mais vegetariana",
          "busco reduzir o consumo de carne, so como frango e peixe que meu pai cria alem disso entendo que o sofrimento animal e mais uma face do capital atuando, portanto busco reduzir bastante o consumo e procurar outras formas de me alimentar",
          "porque nao faco questao de comer carne vermelha e tenho substituido por proteina vegetal no meu dia a dia quando possivel",
          "porque estou evitando o consumo de proteina animal, pensando nas florestas e bem estar animal",
          "porque tenho reduzido o consumo de carne, principalmente vermelha e embutidos",
          "segundas sem carne alem de apreciar muito as comidas vegetarianas e veganas",
          "evito consumir carne em alguns momentos, levando em consideracao que sou amiga do meio ambiente e prezo por ele ainda nao realizei a transicao para o vegetarianismo, mas pretendo tentar",
          "ha 2 anos eliminei o consumo de carne vermelha",
          "eu tentei reduzir mais e ate estava com um consumo de carne menor mas estou num pos operatorio para ganho de massa e o nutricionista voltou a proteina animal pelo menos por enquanto",
          "porque tenho consciencia dos impactos causadas pelo consumo, mais ainda nao consegui parar por completo",
          "porque evito o consumo de proteina de origem animal uma vez na semana por conta da saude e estetica",
          "estou reduzindo consideravelmente o consumo de carne e derivados",
          "porque tenho buscado reduzir o consumo de carne, principalmente bovina e suina, e buscado alternativas de substituicao",
          "nao gosto de consumir carne, e prefiro qualquer outra opcao alem da carne, porem nao me torno vegetariana/vegana pois moro sozinha e normalmente como o que e possivel",
          "antigamente comia carne vermelha diariamente",
          "porque nao considero a proteina animal essencial na minha alimentacao",
          "porque evito o consumo de carne, mas ainda nao consegui eliminar esse tipo de alimento da minha dieta",
          "porque eu propositalmente diminuo meu consumo de carne mas nao elimino completamente",
          "porque como carne vermelha por semana quando como  o frango tambem tenho reduzido",
          "porque ainda nao consegui sair das carnes gracas a pressao cultural",
          "pois faco consumo reduzido de carnes e produtos carneos, incluindo em minha alimentacao mais alimentos de origem vegetal",
          "por ainda gostar de carne mas nao tanto quanto e nao consigo consumir muito n me sinto bem",
          "porque as vezes como carne mas nao gosto e algo cultural que me pega",
          "tenho tentado reduzir o consumo de carnes vermelhas",
          "queria parar com a carne vermelha para diminuir minha \"pegada\" no mundo ainda nao parei totalmente porque consumo bacon de vez em quando mas um dia chego la",
          "porque tenho ampliado meu paladar para um consumo mais saudavel e que nao dependa exclusivamente de inserir proteina animal",
          "porque consumo carne de animais em poucas refeicões",
          "porque tento reduzir o consumo de carne, e nao como em algumas refeicões",
          "me esforco pra fazer refeicões sem carne e reduzi bastante o consumo de carne vermelha",
          "reduzi drasticamente o consumo de carne no meu dia a dia, mas aindo como em momentos de confraternizacao social com pessoas nao vegetarianas/veganas",
          "nunca compro carne para comer em casa, seleciono um momento ou dia especial como almocar na casa dos meus pais, preparar o peixe que eu e meus amigos pescamos, conhecer um menu ou um restaurante novo etc",
          "faz muitos anos que nao compramos carne vermelha em virtude da alta dos precos quando comemos e na casa dos nossos pais as opcões vegetarianas ha uns 4 ou 5 anos passaram a fazer parte mais recorrente da nossa alimentacao normalmente no jantar por nossas 3 filhas serem vegetarianas as vezes acrescentamos proteina animal na nossa parte da receita",
          "porque ainda nao larguei totalmente o habito de comer carne por motivo de habito",
          "nao acho carne realmente atrativo consumo carne principalmente por ter hematocrito baixo",
          "porque carnes vermelhas nao sao as preferencais",
          "em virtude de viver com o aparelho digestivo todo inflamado sofrer com constipacao crônica, etc",
          "porque evito comer devido a crueldade associada",
          "ja tentei ser vegetariana mas tive anemia, entao passei a reduzir proteina animal apenas, mas prefiro sempre o peixe",
          "tenho vontade de parar de vez o consumo de carne mas ainda acho muito dificil e encontrei assim uma forma de pelo menos diminuir ate o dia em que \"virar a chave\" e eu decida tentar mais a serio ",
          "sim pois nao estou me adaptando mais a comer carne vermelha",
          "tentando nao consumir mais carne vermelha e assim, seguir com a reducao dos outros tipos de carne",
          "ha alguns varios anos venho reduzindo a quantidade de carne que consumo, pois sempre considerei as porcões muito exageradas (ex um bife pequeno e suficiente) e ha menos tempo venho tentando adotar dias sem nenhum tipo carne, apenas com vegetais ou ovo",
          "porque minha filha e ovolactovegetariana",
          "como pouca carne pois nao faco questao e nao gosto muito do sabor",
          null
         ],
         "marker": {
          "color": "#CFD8DC",
          "opacity": 0.5,
          "size": 5
         },
         "mode": "markers+text",
         "name": "other",
         "showlegend": false,
         "type": "scattergl",
         "x": [
          16.733269,
          15.152294,
          16.973364,
          16.438835,
          16.741827,
          18.40881,
          16.907711,
          16.602308,
          17.068449,
          14.666197,
          16.433514,
          18.116125,
          16.579195,
          15.209667,
          16.711628,
          16.988054,
          14.859109,
          17.567276,
          16.434885,
          17.79632,
          15.848315,
          16.386724,
          16.95361,
          14.772267,
          15.286257,
          18.103973,
          15.4674425,
          15.33685,
          16.319786,
          16.511534,
          18.883133,
          15.826178,
          18.394901,
          15.053932,
          18.440493,
          14.292979,
          16.794182,
          14.610745,
          15.73934,
          16.30357,
          15.706136,
          17.89718,
          15.4795,
          15.0773945,
          16.726831,
          16.593592,
          18.819727,
          15.097439,
          16.07096,
          16.617954,
          15.083152,
          16.48818,
          16.304087,
          17.95125,
          15.000157,
          15.406356,
          17.018572,
          15.576509,
          16.407585,
          17.633762,
          15.914759,
          14.669197,
          15.229466,
          17.087433,
          17.876343,
          17.199728,
          16.934969,
          15.490949,
          17.004982,
          15.993447,
          16.781948,
          15.75939,
          15.586822,
          15.227196,
          16.147625,
          16.28587,
          17.014095,
          16.588284,
          16.62519,
          15.252873,
          14.924059,
          16.747849,
          16.315908,
          18.370989,
          15.39679,
          14.973831,
          15.203427,
          16.03938,
          17.198345,
          14.627587,
          17.190275,
          16.027977,
          16.589125,
          17.262459,
          16.200668,
          15.98593,
          16.299927,
          15.244784,
          16.942905,
          17.725286,
          15.490011,
          18.812437,
          14.935985,
          16.577967,
          16.87707,
          15.231949,
          17.057392,
          18.457123,
          15.147531,
          15.101873,
          15.770194,
          15.535397,
          16.17175,
          15.955805,
          15.239518,
          15.916097,
          17.216917,
          14.924243,
          15.591241,
          15.009891,
          15.039018,
          16.400629,
          17.014553,
          15.603723,
          16.108698,
          15.852161,
          17.019142,
          15.2061205,
          16.167135,
          16.684973,
          18.264282,
          14.897826,
          12.81055,
          15.099015,
          16.97109,
          17.282112,
          16.316097,
          16.70989,
          15.057936,
          16.869326,
          14.327671,
          16.030527,
          17.126024,
          15.8059,
          15.974744,
          16.906399,
          16.789238,
          15.546239,
          17.043522,
          14.343839,
          16.556553,
          17.096004,
          15.7936945,
          16.853373,
          17.03043,
          15.455917,
          16.576035,
          16.153147,
          17.672064,
          15.087499,
          14.955898,
          15.727424,
          16.665802,
          17.614388,
          15.190879,
          15.675548,
          16.090097,
          16.733276,
          16.942879,
          15.794593,
          16.304342,
          16.940403,
          15.446796,
          16.371405,
          18.07514,
          17.117273,
          17.060204,
          16.410196,
          16.200563,
          17.336882,
          18.260153,
          14.829752,
          17.31526,
          14.6338825,
          16.317732,
          15.0218,
          17.801645,
          15.78288,
          14.2741165,
          16.495546,
          16.9612,
          14.6007185,
          15.739335,
          15.740811,
          17.717548,
          15.991769,
          18.43806,
          15.107443,
          15.927682,
          16.319294,
          16.661787,
          16.931269,
          18.300913,
          15.176543,
          16.410461,
          18.39461,
          16.543758,
          15.861671,
          17.31654,
          17.782448,
          17.118862,
          14.656703,
          17.419434,
          16.546278,
          15.877747,
          15.94767,
          18.328978,
          15.790539,
          16.319054,
          15.044978,
          15.074564,
          17.773417,
          16.266403,
          17.416576,
          17.692848,
          17.740616,
          17.732914,
          14.805904,
          15.218118,
          15.531982,
          15.743115,
          15.122241,
          18.541777,
          16.807331,
          16.593925,
          14.503535,
          16.19147,
          16.41535,
          17.718706,
          15.818361,
          13.511532,
          15.168512,
          16.29307
         ],
         "y": [
          10.5353985,
          10.12294,
          9.891816,
          9.231702,
          7.2923303,
          7.870262,
          10.749178,
          9.405234,
          9.222377,
          10.303709,
          9.151087,
          10.397307,
          8.1652,
          11.091865,
          10.525202,
          9.070619,
          9.905737,
          11.127025,
          8.239666,
          9.574843,
          9.354138,
          6.778677,
          9.845303,
          10.233643,
          11.217582,
          10.341942,
          9.506544,
          8.784083,
          6.652464,
          8.157159,
          7.8290977,
          10.086403,
          9.312973,
          7.542371,
          7.586919,
          11.393861,
          7.1508045,
          7.9722366,
          10.818477,
          8.798683,
          10.882107,
          9.941829,
          11.086725,
          8.110414,
          7.3027015,
          10.188264,
          7.7384367,
          8.870696,
          7.4006143,
          9.335025,
          7.5124316,
          8.23272,
          7.621263,
          11.179896,
          10.171388,
          10.46232,
          10.039073,
          10.672944,
          9.615826,
          8.371878,
          8.936111,
          10.2895975,
          6.9165554,
          6.466913,
          7.627588,
          10.586925,
          9.293836,
          11.208523,
          9.773132,
          8.286311,
          9.878793,
          8.940527,
          10.777317,
          8.03183,
          8.832892,
          10.120145,
          9.011099,
          8.948884,
          10.617406,
          11.099455,
          10.309394,
          10.025874,
          10.144802,
          7.4708476,
          10.461059,
          9.880863,
          8.772861,
          7.9253473,
          6.2188487,
          11.01668,
          6.2345037,
          10.303183,
          9.307412,
          9.641714,
          9.823134,
          8.197871,
          9.126997,
          10.132865,
          7.9312587,
          10.337766,
          9.407089,
          8.476998,
          10.259165,
          9.385016,
          8.243232,
          8.739641,
          10.106911,
          7.7174487,
          9.537283,
          9.31008,
          9.046974,
          10.738703,
          8.408063,
          8.880985,
          11.095579,
          9.367402,
          8.455172,
          10.7632475,
          11.657211,
          8.203179,
          7.417455,
          7.9272294,
          9.124866,
          9.274862,
          9.84885,
          10.063077,
          8.864009,
          9.49355,
          10.334894,
          9.965405,
          10.171279,
          10.692336,
          9.763164,
          9.4596615,
          9.911772,
          10.07772,
          9.773373,
          7.2744308,
          7.536411,
          9.707297,
          11.475393,
          7.4114947,
          10.473092,
          10.011983,
          9.451197,
          9.008965,
          9.998889,
          10.308987,
          10.831599,
          11.3175745,
          9.323381,
          10.625758,
          8.911524,
          9.452546,
          7.379309,
          9.909534,
          9.429828,
          8.876252,
          11.30638,
          9.128315,
          10.302185,
          9.488692,
          7.2893014,
          10.513415,
          11.069463,
          10.197897,
          10.197464,
          7.972141,
          9.672894,
          8.97771,
          9.32456,
          10.755514,
          9.885711,
          9.4153595,
          8.223375,
          10.10689,
          8.371431,
          11.322217,
          8.63865,
          8.394991,
          7.561936,
          9.924542,
          7.502336,
          10.278859,
          8.174642,
          7.437926,
          9.730053,
          5.245042,
          11.395041,
          9.527927,
          8.357836,
          11.405916,
          9.632962,
          9.967032,
          9.381725,
          8.443682,
          9.264796,
          7.486811,
          9.806882,
          8.180731,
          10.252977,
          9.695713,
          7.620811,
          10.280482,
          9.424629,
          9.387477,
          9.2363,
          8.856126,
          10.434627,
          9.504325,
          9.564322,
          10.281153,
          11.417469,
          10.253941,
          9.362031,
          9.3575945,
          10.065495,
          9.03058,
          9.844887,
          8.972453,
          9.733572,
          9.411303,
          9.087521,
          7.384899,
          11.001523,
          10.480265,
          9.646576,
          10.664925,
          11.107948,
          11.067686,
          9.0719385,
          9.54791,
          7.344757,
          7.1329126,
          8.951435,
          11.425255,
          9.020968,
          11.178006,
          9.498576,
          10.549902,
          9.956574,
          9.43443,
          9.373398
         ]
        },
        {
         "hoverinfo": "text",
         "hovertext": [
          "agora que descobri este termo carne me faz muito mal nao faco questao de comer, mas minha familia e bem carnivora entao acabo comendo as vezes",
          "eu nao me dou esse nome porque essa representacao nao me importa, mas mesmo sendo pernambucana litorânea de nascenca e agrestina por pertenca, nao tenho tanto desejo por carne em geral topo comer mais em eventos especiais como refeicões com amizades, mas se eu comandar a refeicao em acordo com quem vou oferecer, nao priorizo carne e respeito a preferencia dos que vou oferecer enquanto nao tiver intimidade com agricultores tradicionais/orgânicos, me encontro nessa pratica",
          "esse termo ate o contato com essa pesquisa era desconhecido para mim mas a vivencia de ter a quantidade de carne de origem animal em quantidade reduzida em minha alimentacao cada vez mais ao longo do último ano e quando consumo e em baixa quantidade ao meu ver fazem se justificar a minha identificacao",
          "nao conhecia o termomas acho que me encaixo porque gosto de carnes, mas nao gosto de comer carne todo dia",
          "nao conhecia o termo ate essa pesquisa, mas decidi reduzir o consumo por bem estar fisico (digestao lenta da carne)",
          "nao me considerava, porque desconhecia o termo mas tenho reduzido o consumo de carne por compaixao ao animais",
          "nao me considero, apenas porquestao financeira",
          "pôde-se dizer que sim, apesar de nao utilizar nunca esse termo do dia a dia",
          "nao me considero, nem havia pensado sobre o significado do termo",
          "confesso que conheci o termo nessa pesquisa",
          "o termo era desconhecido e uma opcao minha nesse momento",
          "sim, mas talvez reducetariano defina melhor",
          "nao sabia que eu era flexitariana descobri pela divulgacao da pesquisa decidi parar de comer alguns tipos de carne e embutidos por motivos politicos e de saude hoje em dia so como peixe e alguns frutos do mar algumas vezes no ano",
          "na verdade, nunca havia me considerado flexitariano apenas decidi reduzir o consumo de carne",
          "so como carne quando nao ha alternativa nao tinha pensado ou conhecia essa terminologia sempre me denominei carnivora gosto de carne mas minha filha virou vegetariana entao eu acabei me adaptando e so como carne quando da vontade tipo em marco ate agora comi umas 5 vezes e hj ja e dia 24 de marco",
          "eu nem sabia que tinha esse nome, mas agora que sei, me considero flexitariana porque entendo como problematico o consumo excessivo de carne alem disso, depois de morar com amigo vegetarianos, aprendi novas receitas e passei a deixar de sentir necessidade da carne",
          "o termo e novo pra mim sigo nessa acredito que no futuro sera necessario",
          "nao conhecia o termo ate ver a pesquisa diante das diversas opcões existentes para optes refeicões variadas, retirar a carne eventualmente das refeicões nao me faz falta alguma",
          "nao conhecia nem o termo, mas vi que me enquadro, pois tenho a consciencia de comer muita carne e tambem a consciencia de diminuir",
          "nao me consideram me disseram que me enquadro nesse perfil",
          "nao me considero flexitariano se for pra definir um rotulo diria naturalista, que tenta fazer as refeicões da forma mais natural nao compro e nem preparo mais carne como as vezes a convite de amigos, geralmente em pouca quantidade",
          "nunca usei essa palavra para me descrever nunca fui muito adepta ao consumo de carne por ser budista evito o consumo frequente nao acho que seja algo benefico de se consumir raramente preparo carne em casa como quando vou a restaurantes ou me oferecem",
          "conheci o termo com a pesquisa diminui o consumo de carne porquestoes filosoficas",
          "porque deixei de comer carne vermelha por problemas digestivos e tambem por conta da forma como o animal se tornou um produto e um caminho que qro seguir e nao comer mais qlqr tipo de animal\n",
          "nao tenho uma resposta muito clara para isso nunca antes escutei o termo nem pensei no assunto na verdade nem gosto da palavra ou do conceito por enquanto me parece uma classificacao arbitraria, mas vejamos",
          "eu como peixe ou vegetais ou os dois ao mesmo tempo\n",
          "eu nao me considero flexitariana, nao ligo que esse seja o jeito que voces chamam a forma como eu como eu me considero onivora apenas",
          "nao me considerava ate conhecer um pouco mais sobre o termo dessa forma fui entendendo principalmente com a ajuda da pesquisadora da presente dissertacao nas aulas que tivemos",
          "na verdade sempre fui bem restrito ao consumo de carnes como modo de vida mesmo, este termo era desconhecido pra mim ate entao, creio que seja bom para pessoas que gostam de se identificar em grupos, mas pra mim nao faz muita diferenca, nao gostava do termo vegetarianismo ou veganismo pois implica em muitas restricões",
          "na verdade nunca tinha ouvido falar, mas me identifiquei por reduzir o consumo da carne durante a semana, procuro opcões mais em conta, que sejam gostosas e como gaúcha nao nego um churrasco, e por ter preferencia pela carne assada, nao uso tanto durante a semana nos pratos que faco, e dou preferencia pro frango, que minha cunhada cria solto, e confina somente pro abate ovos tambem compro dela e tambem me preocupo com tanto de bicho criado nos nossos pastos e o desmatamento causado pra aumentar ainda mais essa criacao, sendo que nosso povo na grande maioria nao tem dinheiro pra comprar essa carne",
          "eu nao sabia que era uma flexitariana ate participar desta pesquisa",
          "nao conhecia esse termo antes da pesquisa, descobri que sou flexitariano agora",
          "eu nunca tinha parado para pensar ser \"flexitariano\" comecei fazendo segunda sem carne alem do bem estar animal, preocupacao ambiental esta sendo bom para minha saude",
          "nao, \"flexitarianos\" nada mais sao que onivoros com baixo consumo de carnes e, talvez, de produtos de origem animal o termo e muito vago e, por isso, seu uso mais atrapalha que ajuda",
          "embora nunca tive alto o consumo de carne, esse nome pode facilitar para auto-referencia aos outros",
          "conheci o termo nesse momento gostei tenho reduzido meu consumo de proteina animal",
          "nao sabia que existia um termo para minha opcao de alimentacao, neste processo de excluir completamente as carnes da minha dieta",
          "nao me considero e a primeira vez que ouvi esse termo so estou no processo de reducao do consumo de proteina animal",
          "desconhecia essa terminologia ate o momento do questionario sempre me achei onivoro inclusive acho desnecessaria essa terminologia flexitariano parece modismo",
          null
         ],
         "marker": {
          "opacity": 0.5,
          "size": 5
         },
         "mode": "markers+text",
         "name": "0_Redução do Consumo de Carne",
         "text": [
          "",
          "",
          "",
          "",
          "",
          "",
          "",
          "",
          "",
          "",
          "",
          "",
          "",
          "",
          "",
          "",
          "",
          "",
          "",
          "",
          "",
          "",
          "",
          "",
          "",
          "",
          "",
          "",
          "",
          "",
          "",
          "",
          "",
          "",
          "",
          "",
          "",
          "",
          "",
          "0_Redução do Consumo de Carne"
         ],
         "textfont": {
          "size": 12
         },
         "type": "scattergl",
         "x": [
          12.112265,
          14.726909,
          11.980932,
          12.005384,
          11.997182,
          11.911873,
          11.785995,
          11.655166,
          11.664907,
          11.649989,
          11.628969,
          11.959001,
          12.549852,
          12.581072,
          12.286575,
          12.441492,
          11.640162,
          12.148987,
          11.9321165,
          11.732559,
          12.95193,
          12.25108,
          11.933516,
          11.601466,
          11.660252,
          11.579867,
          12.895771,
          11.686399,
          12.068019,
          15.847351,
          12.356326,
          12.324296,
          12.535619,
          12.800605,
          11.947124,
          11.98257,
          12.064736,
          11.909963,
          12.345351,
          12.234195
         ],
         "y": [
          9.81269,
          9.931109,
          9.758016,
          9.694466,
          9.77909,
          9.740657,
          9.293048,
          9.441273,
          9.395585,
          9.475535,
          9.454809,
          9.666053,
          9.805297,
          9.81502,
          9.904228,
          9.831717,
          9.456266,
          9.816945,
          9.761486,
          9.364608,
          10.163759,
          9.883055,
          9.737954,
          9.450554,
          9.446589,
          9.464221,
          10.13273,
          9.419151,
          9.783015,
          7.7849474,
          9.802178,
          9.7729845,
          9.812021,
          10.07805,
          9.714497,
          9.814827,
          9.787443,
          9.761493,
          9.831805,
          9.662543
         ]
        },
        {
         "hoverinfo": "text",
         "hovertext": [
          "ja fui vegetariana mudei para uma cidade onde era muito dificil manter esse estilo de dieta apesar disso, tento consumir o minimo de carne vermelha",
          "pois exclui a carne vermelha de minha alimentacao, porquestoes ambientais, mas ainda como frango",
          "porque aboli completamente o consumo de carne de boi, frango e porco, so consumindo carne de peixe poucas vezes na semana",
          "porque sigo comendo peixe e frango mesmo tentando reduzir ainda nao sou vegetariana",
          "pois deduzo o consumo de carne ja nao como variedade alguma de cortes de boi e como pouco carne de porco ainda como carne de frango e peixe, mas e pouco nao me sinto bem comendo muita carne",
          "porque consumo somente peixes e embutidos esporadicamente e em hipotese alguma inclui outras carnes",
          "porque o único animal que eu como e camarao e culinaria japonesa",
          "porque eu nao como carne vermelha nem frango e nem porco mas como peixe",
          "porque nao como carne vermelha, mas como outras carnes e alimentos de origem animal",
          "porque praticamente nao como mais carne bovina ha muitos anos, nao compro e nao preparo em casa",
          "pois nao consumo mais carne bovina opto frequentemente por frango e ovos ao inves de enlatados, linguica, etc",
          "porque nao consumo mais carne vermelha e esporadicamente como carne branca",
          "nao me adequo ao paladar de consumo de carnes vermelhas, frango e dervidados\ncontudo, consumo peixe, camarao",
          "eventualmente/raramente como carne vermelha",
          "porque ainda nao consegui tirar o peixe da minha alimentacao",
          "tenho reduzido o consumo de carne drasticamente nao me considero vegetariana porque abro excecões em algumas ocasiões especiais ou especificas tambem nao deixei de comer peixe e frutos do mar",
          "porque exclui totalmente a carne vermelha, embutidos e mantive o frango esporadicamente",
          null,
          "porque so consumo peixes como carne animal",
          "porque minha dieta e reduzida em carnes (nao como todo dia e quando como sao porcões menores que uma mao fechada), porem como ovos todos os dias alem disso, nao consumo leite e derivados nao tenho intencao de ser vegetariana e/ou vegana, mas acredito que a reducao do consumo de carne fornece vantagens para a saude e para reduzir os impactos da agropecuaria",
          "porque eu passei 4 anos sem ingerir nenhum tipo de carne vermelha (incluindo porco tambem) e, hoje em dia, evito ao maximo se possivel",
          "pois limitei o consumo de carnes apenas aos peixes e frutos do mar posso ser considerada pesco-vegetariana tambem",
          "pois ainda como peixes e frutos do mar em geral",
          "porque exclui a maioria dos tipos de carne e leite mas ainda como peixe e derivados de leite e ovos",
          "porque consumo carne vermelha exporadicamente e reduzo o maximo possivel o consumo de outras carnes de origem animal",
          "pois decidi nao comer mais carne vermelha e embutidos, mas decidi manter o consumo de frango e peixe, e, atualmente, nao tenho a intencao de progredir para uma dieta vegetariana",
          "por ainda me alimentar mesmo que raramente de peixe e camarao",
          "porque como carne de frango, peixe, derivados do leite, mel, propolis",
          "porque so como carne de peixe e mariscos",
          "porque gosto de outros alimentos de origem animal",
          "porque optei por nao excluir peixes e camarao da dieta",
          "por varias de dieta as vezes vegetariana e outras vezes excluo consumo so frutos do mar",
          "pois eliminei a compra da maior parte de bichos,so tenho utilizado o que recebo ou ja estava no meu congelador so compro frutos dos mar, pois e dificil pra mim ainda largar",
          "porque deixei de comer carne vermelha (ou qualquer bicho de 4 patas) ha 35 anos, e so como frango de vez em quando e peixe sempre que posso",
          "porque nao como carne vermelha nem de porco ha aproximadamente 4 anos",
          "nao consumo carne com frequencia, prefiro peixe, ovo, soja",
          "porque nao consumos as carnes acima citadas a mais de 5 anos",
          "eu parei de comer carne no geral ja tem quase 3 anos, porem ainda me pego comendo frutos do mar, entao apesar de ter reduzido o consumo de alguns animais, ainda nao conseguir tira-los completamente da meu ha alimentacao, fora que ainda consumo ovos e laticinios no geral",
          "nao consumo carne de boi nem de frango, apenas peixe quando posso, tambem opto por pratos sem carne, incluindo peixe, especialmente em restaurantes",
          "porque ha quase 30 anos deixei de comer carne vermelha, procuro comer frango caipira comboa alimentacao e peixe",
          "porque ja nao como nenhuma carne vermelha nem de porco ha 8 anos",
          "porque nao consumo carne vermelha ou branca, apenas ocasionalmente peixe",
          "porque nao costumo ter apetite por alimentos a base de carne e sinto prazer em comer carne branca",
          "porque nao como nunca carnes vermelhas e embutidos e apenas eventualmente carnes brancas",
          "porque nao consumo nenhum tipo de carne(suina, bovina, frango e outros), mas ainda consumo peixe exporadicamente",
          "porque eliminei completamente carnes de boi, frango, porco, mas ainda consumo peixe em frequencia bem baixa, mas ainda consumo",
          "porque so consumo carne de peixe e frutos do mar 1 vez por dia e ate menos",
          "nao como carne vermelha nem de porco por opcao ha 3 anos",
          "eu nao como mamiferos e derivados ha 30 anos minha dieta e ovo lacto peixe ( de alto mar) e frango ( de preferencia criado livremente com alimentado natural), nao como crustaceos tb",
          "nao me considero mas reduzi o consumo de carne pelo preco muito alto e tbm pela saude porque tem muita gordura ne como mais ovo que e bom e tem muita forma de preparar carne mesmo no maximo uma vez na semanaai frango tbm mas menos e peixe mesmo cozinhado so mais na semana santa e cru sushi 1 vez no mes quando sai o salario",
          "porque a muito tempo nao como carne de boi, frango, embutidos e nao pretendo comer, somente peixe, ovo e outros substitutos",
          "nao consumo carne vermelha, muito excepcionalmente algum sanduiche mas gosto de peixe e camarao devo consumir uma vez por semana, ou ate menos",
          "porque tirei da minha dieta mamiferos e aves, exceto ovos e laticinios, e ainda consumo peixes e camarões, nao sendo assim vegetariana",
          "nao gosto do sabor da maioria das carnes e devido aos impactos que sua producao tem resolvi comer apenas peixe qdo tenho disponivel",
          "nao como carne bovina/caprina/ovina ha 14 anos",
          "porque ainda como carne de frango e peixe"
         ],
         "marker": {
          "opacity": 0.5,
          "size": 5
         },
         "mode": "markers+text",
         "name": "1_Dieta Pescetariana e Redução de Carnes",
         "text": [
          "",
          "",
          "",
          "",
          "",
          "",
          "",
          "",
          "",
          "",
          "",
          "",
          "",
          "",
          "",
          "",
          "",
          "1_Dieta Pescetariana e Redução de Carnes",
          "",
          "",
          "",
          "",
          "",
          "",
          "",
          "",
          "",
          "",
          "",
          "",
          "",
          "",
          "",
          "",
          "",
          "",
          "",
          "",
          "",
          "",
          "",
          "",
          "",
          "",
          "",
          "",
          "",
          "",
          "",
          "",
          "",
          "",
          "",
          "",
          "",
          ""
         ],
         "textfont": {
          "size": 12
         },
         "type": "scattergl",
         "x": [
          14.362457,
          16.039116,
          15.773047,
          15.296742,
          15.878508,
          15.761934,
          15.441752,
          15.614397,
          16.37866,
          16.230835,
          15.726693,
          16.395824,
          15.516567,
          16.45007,
          15.420572,
          15.241321,
          16.228315,
          15.794662,
          15.568995,
          15.853313,
          16.210968,
          15.454764,
          15.515722,
          15.6840925,
          16.451656,
          15.430748,
          15.476628,
          15.564006,
          15.554696,
          16.384935,
          15.421874,
          15.4842,
          15.655005,
          15.950909,
          16.214197,
          15.65449,
          16.47228,
          15.587558,
          15.59679,
          15.927233,
          16.199615,
          15.816512,
          16.42571,
          16.365028,
          15.665149,
          15.696581,
          15.738328,
          16.24351,
          15.810259,
          15.647696,
          15.789732,
          15.783662,
          15.369794,
          15.592359,
          16.257868,
          15.553598
         ],
         "y": [
          11.3192835,
          11.715383,
          12.011856,
          12.154131,
          10.320072,
          12.022005,
          12.357858,
          12.16833,
          11.947376,
          11.576259,
          11.504168,
          11.789165,
          12.340789,
          11.802901,
          12.329811,
          11.258147,
          11.892186,
          11.781357,
          12.256639,
          10.603086,
          11.549211,
          11.827843,
          12.355551,
          12.065332,
          11.838004,
          11.353101,
          12.336785,
          12.280791,
          12.298913,
          12.002523,
          12.32993,
          11.805539,
          10.86356,
          11.652832,
          11.592231,
          11.533006,
          11.616553,
          11.354448,
          11.554914,
          11.605981,
          11.559748,
          11.962768,
          11.704306,
          11.825565,
          11.980173,
          12.023452,
          12.063527,
          11.554224,
          11.598083,
          10.8866825,
          11.883222,
          11.861845,
          12.08542,
          11.615129,
          11.551373,
          12.26007
         ]
        },
        {
         "hoverinfo": "text",
         "hovertext": [
          "Varios motivos: tenho do dos animais, meu marido e vegetariano e acabo cozinhando sem carne, fico sem comer carnes tranquilamente gosto mas nao me faz falta ficar tempos sem comer",
          "eu desejo muito me tornar vegana, mas minha dieta e toda baseada em carne e produtos derivados do leite atualmente, consegui reduzir drasticamente meu consumo de carne, mas o leite e queijo sao um problema pra mim, meu maior desafio",
          "convivo com vegetarianes e veganes concordo com muitos argumentos a favor dessas dietas porem acho muito dificil deixar de comer queijos  ovos quando como em restaurantes ou om familiares nem sempre encontro opcões de pratos sem carne acredito que estou numa caminhada para o egetarianismo mas ainda nao cheguei la",
          "nunca me rotulei dessa forma, mas eu convivo com um vegano e cada dia mais venho substituindo coisas na minha alimentacao por alimentos veganos",
          "so nao sou vegetariana (fui por 2 ania) porque tenho diabetes e nao consegui adaptar minha dieta acabava comendo mais carboidratos mas evito comer bichos o maximo possivel",
          "porque tento me alimentar de forma intuitiva sem excluir alimentos mas sim buscando variedades e consumir maiores quantidades de alimentos de origem vegetal no entanto ao sentir necessidade/vontade faco o consumo carnes animais ja tentei ser vegetariana e vegana e nao consegui era algo que me frustrava muito e tomava conta da minha vida agora me sinto mais em paz em relacao a minha relacao com a comida e ao meu ambiente",
          "ja fui vegetariana durante a minha gestacao e pos parto , mas voltei a consumir carne , mas com uma frequencia bem baixa , devido a toda informacao que eu tenho , pra mim o paladar e a coisa mais dificil de tirar ??",
          "ainda nao consegui organizar-me e le determinar a ter uma dieta completamente vegetariana",
          "meu filho de 13 anos e meu marido sao vegetarianos e eu os apoio tentando cozinhar coisas sem carne sempre eu, particularmente, so como carne na rua, em festas ou restaurantes, mas nao me nomeio como \"flexitariana' porque acho desnecessario",
          "penso em, num futuro proximo, parar de comer carne, e eventualmente retirar alimentos de origem animal da dieta, no entanto ainda nao acho que seja o momento mas estou num processo de reeducacao e adaptacao da alimentacao, introduzindo novas fontes de proteinas de origem vegetal acho que ser capaz de se adaptar a diversas dietas, variando as fontes de nutrientes, e importante",
          "porque nao sou especificamente vegetariano ou vegano",
          "gostaria de ser vegana estrita mas porquestoes sociais, de convivencia, acabo por, eventualmente, comer carne por sinal, fui criada comendo carnes, gosto de carnes, mas quando analiso a questao etica e ambiental, a consciencia fala mais alto que o desejo e o gosto pela carne",
          "ja fui vegana mas parei quando engravidar quero voltar mas e muito dificil com uma crianca pequena",
          "me considero a caminho do veganismo nao me diria flextariana mas nao me considero vegana ainda por comer bichos e derivados em algumas ocasiões",
          "apesar de querer ser vegetariano existe fatores que me fazem nao ser ainda e o principal e a cultura familiar carnivora",
          "pretendo me tornar vegana, nao sendo possivel realizar essa mudanca do dia para a noite",
          "na verdade venho tentando ser vegana ha anos consegui em 2015/2016 o zero consumo de carne depois por ter uma anemia que nao melhora - obs: minha b12 e perfeita - o medico pediu para eu introduzir um pouco de carne eu consumia apenas o frango e sempre do preferencia a ele nunca ingeri peixe outros animais com excecao do boi e frango (apenas partes magras) meu almoco ideal eh arroz e feijao com leguminosass as vezes junto da soja mas eventualmente na semana coloco carne coloquei a quantidade maxima mas tem semanas q eu nem como um dia se quer minha escolha eh porque tenho aversao a carne saber de onde veio/da producao e o que acontece com a vida animal pesquiso direito dos animais e sou mestranda na ufrn cada dia mais esse tema eh presente em minha vida no meu caso nao eh uma transicao para o veganismo eh mais o “o que eu consigo fazer eu faco” ja que me intitular vegana traz uma serie de outras obrigacões",
          "ja fui vegana mas acabei voltando a comer carne, por isso me considero flex mas com pouca carne na alimentacao",
          "sou intolerante a lactose entao tive que reinventar muita coisa na cozinha pra lidar com a ausencia de queijo e leite e assim aprendi a fazer \"ricota\" vegana de amendoas leite de aveia etc o que abriu o meu leque e instigou minha curiosidade para alimentos sem derivados de animais optei por retirar totalmente o consumo de carne 3 vezes na semana (segunda quarta e sexta) pois meu indice de colesterol e muito alterado alem da questao de saude tambem me incomodo muito com a forma de criacao e abatimento dos animais para consumo humano e me sinto mal ao contribuir pra que esse processo se perpetue ainda nao me sinto pronta para adotar uma dieta completamente vegana ou vegetariana mas penso nessa possibilidade no futuro",
          "porque tentei aderir ao vegetarianismo mas sinto dificuldade de suplementar a vitamina b12 e isso me levou a voltar a consumir ovos e depois carnes (carne de boi e frango/galinha)",
          "eu era vegetariano ha 2 anos, mas comecei a ter problemas financeiros, entao tive que comecar a dividir minha rotina alimenticia em casa e no ru assim, as vezes que vou para a ufac eu consumo a carne animal e em casa eu consumo as proteinas vegetais",
          "porque estou em processo para o vegetarianismo tem uns 2 anos mas ainda n consegui ter responsabilidade alimentar o suficiente para o fazer completamente",
          "gosto de comer peixes e frutos do mar em ocasiões especiais, e um ritual afetivo que me conecta com os ancestrais pescadore \ncomo por exemplo leguminosas que foram cozidas com carne, quando vou a casa de familiares, amigos e restaurantes ñ vegetarianos, mesmo retirando a carne amo pirao e sempre quando vou a um lugar que tem ñ resisto, e porque acho que a flexibilidade e uma caracteristica da vida e a rigidez da morte, ja fui fundamentalista, rigido, e perdia muitos momentos legais de sociabilidade, entao aprendi a perdoar as excecões, ser flex me possibilita uma vida mais biodiversa e interessante",
          "fui vegetariana por muitos anos ha menos de um ano voltei a comer carnes brancas entao, como meu costume e ser vegetariana, evito carnes em casa como mais fora",
          "estou em processos de adaptacao ao vegetarianismo fugindo da tradicao cultural alimentar brasileira (famoso churrasco)",
          "eu gostaria de ser vegetariana, mas no momento nao consigo cozinhar muito, acabo comendo marmita com carne",
          "e muito dificil seguir uma alimentacao 100% vegetariana no dia a dia, devido a questao de tempo (estudo integralmente), alem de que nao sou eu que preparo minhas marmitas, logo e dificil exigir pratos mais \"elaborados\" para fazer",
          "ainda nao me adaptei ao vegetarianismo mas pretendo",
          "porque eu entendo que minha forma de me alimentar e viver nao se encaixa completamente ao que se entende por vegetariano e vegano e para mim o flexitariano e o que melhor traduz minha forma de viver e consumir o alimento",
          "gostaria de ser vegetariano/vegano mas a praticidade da oferta de alimentos de origem animal acabam retardando minha decisao",
          "costumo experimentar e cozinhar alimentos vegetarianos ou veganos, nao sinto falta da carne quando passo muitos dias sem comer carne animal, na verdade, so como carne animal ainda porque geralmente e mais rapido de preparar e cozinhar",
          "decidi reduzir o consumo de carne porque desde crianca acho uma forma de maustratos aos animais, mas nao tive opcao de tirar de vez, pois sou de familia pobre, ao conhecer minha namorada que tive mais acesso a reduzir o consumo a quase zero, as vezes ainda como porque nao tenho outra opcao em casa, tenho um metabolismo muito rapido e a dieta que a nutricionista passou tem muito frango, mesmo assim tento reduzir meu corpo e muito magro e fraco, fica mais dificil de adentrar ao vegetarianismo sem condicões financeiras, pois dependo de um familiar pra me alimentar",
          "busco ser ovolactovegetariano em algum momento, mas ainda nao cheguei la",
          "nos últimos anos reduzi a quantidade de carne que eu como no almoco e quase eliminei na janta com os finais de semana sendo um tanto imprevisiveis no entanto nao tenho pretensões de me tornar vegetariano ou vegano devido ao grande planejamento gasto e sacrificio de prazeres pessoais e sociais que essa mudanca acarreta mas admiro a dedicacao de quem decide se tornar",
          "minha esposa se tornou vegana ha um tempo desde que ela fez a transicao, a acompanho em boa parte das refeicões (quase todas quando comemos em casa)",
          "porque nao atingi a disciplina e cuidado necessario para me considerar vegana",
          "teve mais de um ano que deixei de consumir carne mas a voltei novamente  entao eu como as vezes",
          "mudei minha concepcao sobre a necessidade de consumo de ptn animal antes entendia que refeicao so era refeicao se tivesse hoje, consumo uma refeicao vegana, inclusive sem soja, tranquilamente",
          "ja fui vegetariano por 4 anos mas por diversos motivos optei por voltar a comer carnes mas nao na quantidade tradicional o vegetarianismo estava afetando minha relacao com a comida e eu estava perdendo um pouco minha autoafirmacao de que alimentacao e cultura ancestralidade raizes e relacões interpessoais continuo evitando carnes mas nao consigo por ora deixar totalmente",
          "porque diminui a frequencia e quantidade de carne ja fiquei vegetariana por 5 anos porquestoeseticas e ambientais, mas fiquei anemica e voltei a comer em pouca quantidade depois me casei com um marido muito carnivoro e voltei a comer bastante mas meu corpo reagiu (juntas dos dedos inchados) e eu voltei a reduzir e estou bem",
          "eu tive a experienica de ser vegana por sete meses, foi incrivel a visualizacao desse estilo de vida, porem eu so faco o basico para mudar um pouco o meu habito alimentar, como comer carne de soja, lentilha refogada, berinjela, abobrinha, grao de bico e etc apenas preciso aprender a fazer diversos pratos para que eu possa consumi-los no meu dia a dia, como hambúrguer de grao de bico, ervilha e etc",
          "uma de minhas filhas e vegetariana e eu acompanho a dieta dela na maioria da semana",
          "minha namorada e ovolactovegetariana quando comecamos a morar juntos eu me adaptei em grande parte ao estilo de vida que ela ja levava mas ainda mantenho o consumo esporadico de peixe e frango principalmente",
          "ja fui vegetariana e voltei a consumir carne, mas ainda faco refeicões sem comer animais",
          "estou em processo pretendo ser vegano em breve, e penso que esse e o futuro de todos nos e ate viver apenas de luz!",
          "porque tenho intencao de ser vegana mas ainda nao consegui pode ser que o flexitarianismo me ajude com adaptacao de novos sabores simultâneo a reducao de produtos de origem animal",
          "me considero socialmente carnivora nao tenho carne vermelha ou frango em casa ha 7 anos as vezes compro presunto/linguica/salsicha quando saio, como o que tenho vontade ja fui vegetariana, mas parei a maioria dos meus amigos e vegetariano ou vegano, se saio com eles acabo comendo as opcões veganas tbn",
          "minha alimentacao no dia-a-dia e praticamente vegana, mas vez ou outra ainda como queijos, pizza de calabresa e alguma preparacao com carnes principalmente qndo vou a casa de familiares onivoros",
          "Vontade de ser vegano sem abandonar a praticidade que consumir carne traz em certas situacões",
          null
         ],
         "marker": {
          "opacity": 0.5,
          "size": 5
         },
         "mode": "markers+text",
         "name": "2_Transição e Desafios do Vegetarianismo/Veganismo",
         "text": [
          "",
          "",
          "",
          "",
          "",
          "",
          "",
          "",
          "",
          "",
          "",
          "",
          "",
          "",
          "",
          "",
          "",
          "",
          "",
          "",
          "",
          "",
          "",
          "",
          "",
          "",
          "",
          "",
          "",
          "",
          "",
          "",
          "",
          "",
          "",
          "",
          "",
          "",
          "",
          "",
          "",
          "",
          "",
          "",
          "",
          "",
          "",
          "",
          "",
          "2_Transição e Desafios do Vegetarianismo/Veganismo"
         ],
         "textfont": {
          "size": 12
         },
         "type": "scattergl",
         "x": [
          14.386574,
          13.847484,
          13.7535305,
          13.829359,
          14.16019,
          13.889629,
          14.10881,
          13.564228,
          13.32037,
          13.927285,
          13.4136715,
          13.9768095,
          13.812963,
          13.215442,
          13.875191,
          13.749282,
          13.951537,
          13.205595,
          14.061412,
          14.635942,
          14.09653,
          13.563372,
          13.501873,
          14.136299,
          13.672929,
          13.829436,
          13.86062,
          13.554218,
          13.334387,
          13.842421,
          14.34255,
          14.186169,
          13.601564,
          14.205389,
          13.79632,
          13.539531,
          14.12958,
          16.527185,
          14.07172,
          14.238351,
          14.05674,
          13.490023,
          13.799938,
          14.164297,
          13.891266,
          13.538882,
          14.753415,
          14.241864,
          13.8947,
          13.929529
         ],
         "y": [
          10.666287,
          10.385414,
          10.501927,
          10.203768,
          11.081514,
          10.465981,
          10.955336,
          10.67604,
          10.00259,
          10.453821,
          10.289507,
          10.499806,
          10.614239,
          10.340415,
          10.728754,
          10.475672,
          10.412743,
          10.396027,
          10.406705,
          11.250691,
          11.0271,
          10.667739,
          10.338013,
          11.12516,
          10.737188,
          10.675326,
          10.684107,
          10.6756315,
          10.305189,
          10.628432,
          10.430104,
          10.78494,
          10.647452,
          10.5291395,
          10.154871,
          10.366337,
          11.18966,
          10.417745,
          11.012353,
          10.875965,
          10.412464,
          9.983287,
          10.178844,
          11.217486,
          10.432178,
          10.500418,
          10.7125225,
          10.413032,
          10.6076975,
          10.582401
         ]
        },
        {
         "hoverinfo": "text",
         "hovertext": [
          "eu nao me considero fui convivendo com pessoas que nao comem e fui observando que alimentacao com menos ingestao de carne me faz eu me sentir mais saudavel",
          "porque diminui muito o meu consumo de carne e ja nao sinto falta",
          "porque tenho evitado o consumo de carne, sobretudo de gado, de forma consciente, porquestoes ambientais, por criticas ao sistema de criacao e tambem passei a desgostar",
          "estou tentando diminuir o consumo de carne",
          "porque desde 2020 passei a reduzir consideravelmente o consumo de carnes na dieta da minha familia",
          "por conta do consumo de carne nao ser tao necessario na minha alimentacao diaria e o impacto que isso causa",
          "pois devido a questoes econômicas, carnes mais caras e salarios mais baixos, nao posso consumir a quantidade de carne, porem, tambem estou diminuindo o consumo e buscando outras fontes de maior proteina",
          "por motivos relacionados a questao ambiental, de saude e sustentabilidade",
          "porque consegui  reduzir o consumo  de carne animal",
          "diminuo o consumo de carne pois acredito que a criacao de animais para consumo e cruel e contribui para o devastacao de biomas naturais, dessa forma compro frango, peixe e ovos orgânicos que sei da suavprocedencia, alem de diminuir a minha frequencia de vezes e a porcao comida em cada refeicao",
          "acredito que reduzir o consumo de carne impacta positivamente na monha saude e na natureza",
          "porque estou paulatinamente diminuindo meu consumo de carne, sobretudo de vaca",
          "tentar causar algum impacto na industria da carne",
          "porque passo a mim alimentar com comidas saudaveis",
          "Varios motivos ligados a saude humana e animal",
          "me preocupo com as acões do agronegocio e seus impactos no meio ambiente e nas comunidades, bem como com o uso intensivo de agua e outros insumos me tornei flexitariana um pouco como consequencia da assinatura de uma cesta de orgânicos para que nao estragassem legumes/verduras, passamos a comer mais refeicões sem carne, ou com menos carne por exemplo, ao inves de fazer um prato de carne, muitas vezes faco uma receita com vegetais e uso um pedaco pequeno de carne ou embutido para dar gosto tenho a oportunidade de usar varios substitutos de qualidade, dada minha condicao econômica tal privilegio me permite ter acesso a alguns canais de distribuicao e de informacao outro ponto: eu tenho vergonha de comprar carne hoje, especialmente quando vemos que o quilo de osso ( que nem carne e) custa quase 20 reais! as pessoas estao passando fome, os trabalhadores estao sendo adoecidos e as empresas continuam fazendo lucros altos e uma vergonha!",
          "porque fui criada comendo todos dias e hoje diminui muito e sei que ainda preciso diminuir Vai ser impossivel comer carne pela sustentabilidade ambiental",
          "parei de comer carne de boi, porque nem os supermercados, nem os frigorificos puderam me garantir que a carne que comercializavam atendia a resolucao do mpf de nao vir de frente de desmatamento amazônico",
          "por ter reduzido meu consumo de carne drasticamente nos últimos 6 meses",
          "porque aos poucos tenho buscado reduzir o consumo de carne mas de maneira radical",
          "acho importante pra minha saude na verdade",
          "tenho tido vontade nos últimos tempos de reduzir o consumo de carne por motivos de saude e de sustentabilidade ambiental/ protecao dos animais",
          "por entender toda a gama de problemas ecologicos causados pela \"producao\" de carne (especialmente a bovina) no pais, bem como o tratamento que muitos animais recebem ate chegar ao meu prato",
          "me tornei flexitariano pelo fato de achar triste o tratamento dos animais no abate e ter empatia pelos animais depois disso, criei uma certa resistencia com o sabor da carne vermelha desde entao, busco reduzir meu consumo",
          "a familia sempre foi a favor da reducao, nao havia necessidade de comer diariamente, principalmente por causa da digestao que diziam ser demorada hoje em dia ha a consciencia de excesso na alimentacao mundial e, consequentemente, das questoes ambientais",
          "por uma questao ambiental e qualidade de vida dos animais tambem",
          "comecei a consumir menos carne por causa do financeiro mas depois me acostumei a nao comer carne e passei a pensar mais no sofrimento animal entao atualmente eu substituo pela carne de soja",
          "porque procuro uma alimentacao mais leve e na minha opiniao comer carne nao e sinônimo de longevidade",
          "por motivos da consciencia do sofrimento do animal",
          "pelos impactos do consumo de carne ao meio ambiente, por ter uma questao moral relacionada a consumir animais nao humanos",
          "pra manter minha saude equilibrada consumindo alimentos 90 por cento natural",
          "porque mesmo nao me preocupando (em relacao a obter alimento de melhor qualidade mas me preocupo um pouco com o bem-estar animal) com as condicões de criacao dos animais na hora da compra me preocupo com as consequencias ambientais que a pecuaria possui um grande peso por isso a reducao do consumo de carne se tornou importante pra mim",
          "porque a carne esta muito cara e nao cabe no meu orcamento",
          "quero reduzir consumo de carne tanto por motivos de saude quanto de reducao mesmo",
          "por estar reduzindo o consumo de carne porquestoes financeiras e orientacao medica",
          "porque estou tentando diminuir o consumo de carne na minha casa",
          "quis adotar uma dieta que reduzisse o consumo de carne",
          "consumo de carne vermelha e insustentavel ambientalmente e por conta dos processos de crueldade que envolvem a criacao",
          "decidi ter um estilo de vida um pouco mais saudavel",
          "porque procuro reduzir meu consumo de carne",
          "pois reduzo intencionalmente o consumo de carne",
          "diminui meu consumo de carnes, principalmente bovina alem de nao consumir mais peixes como atum e salmao principalmente por consciencia ambiental passei a consumir mais graos e tuberculos",
          "porque venho reduzindo o consumo de carne vermelha ha algum tempo pos diversas questoes",
          "eu decidi diminuir , aos poucos a carne me traz um sentimento de culpa",
          "porque reduzi meu consumo de carne devido a saude",
          "nao e sustentavel para o planeta mais carnivoros que herbivoros e desumana a forma que os animais sao tratados",
          "porque busco reduzir o consumo de carne para melhorar a saude",
          "porque acho carne cara e minha esposa e vegetariana",
          "faco o exercicio consciente de reduzir o consumo de carne",
          "porque diminui drasticamente o consigo de carne nos últimos 2 anos",
          "pois nao sinto prazer em comer carne com muita frequencia, chega a enjoar, e esta caro",
          "sempre soube que carne nao fazia muito bem pra saude, depois que os precos aumentaram absurdamente, foi quando eu decidi parar",
          "pretendo eliminar a carne da minha dieta alimentar",
          "me importo com os animais suficientemente para acreditar que eles tem sentimentos e merecem o meu respeito acredito que foram criados para glorificar a deus e nao para serem alimento, principalmente quando pensamos na forma como sao tratados dentro e fora de locais de abate, fica parecendo que alguns humanos agem sem alma alem disso, a natureza sofre cada dia mais com as atitudes dos seres humanos que insistem em se utilizar dela sem o menor respeito",
          "reduzi meu consumo de carne, depois de ter um infeccao alimentar e pegar uma bacteria da carne de porco",
          "eu decidi reduzir o consumo de carne para melhorar a minha alimentacao e pensando tambem na questao animal e o impacto do meio ambiente",
          "por causa do impacto_ambiental do agronegocio",
          "porque acho importante nao incentivar a indústria que a criancao de animais se tornou",
          "porque reduzi o consumo de carne nos últimos meses",
          "por uma associacao entre saude e respeito aos animais",
          "por acreditar que faz bem a saude consumir menos carne",
          "porque tenho buscado reduzir o consumo de carnes",
          "porque reduzi bastante o consumo de carne",
          "porque busco reduzir na minha dieta e na da minha familia o consumo de alimentos de origem animal mesmo que nao em todas as refeicões",
          "penso que devemos melhorar a qualidade de nossa alimentacao, respeitar mais o meio ambiente e a os animais",
          "acredito que a reducao do consumo de carne pode trazer novas experiencias alimenticias reducao de financeiro financeiro e uma dieta melhor para o meu organismo",
          "primeiro porque penso que o consumo de carne animal e muito cruel na producao atual, e tambem porque e um item caro se comparado com outros alimentos da mesa brasileira",
          "porque na pandemia passei a ter maior frequencia de preparo de carne (2x ao dia) e o contato constante e frequente com a carne me fez criar resistencia e optar por reduzir carne na alimentacao",
          "pelo impacto_ambiental da pecuaria e principalmente pelo sofrimento que animais nao humanos sao submetidos em nosso sistema social ambiental cultural e econômico",
          "porque reduzi o consumo de carne ha mais de 30 anos",
          "alem dos indicados nas perguntas 19 e 20, mudancas climaticas, impactos na saude do consumo de carne vermelha",
          "porque decidi nao somente porquestoes financeiras, mas tbe em razao do meio ambiente, modos de producao, criacao dos animais e pelos animais, reduzir consumo de carnes",
          "porque me preocupo com questoes ambientais e climaticas e tenho consciencia do impacto da indústria da carne nesse cenario, ainda como carne pela praticidade pois moro num ambiente em que os demais consomem e nao preparo minha propria alimentacao",
          "porque eu tento evitar carne em minhas refeicões po razões ambientais e de saude",
          "porque acredito que meu consumo medio de carne seja menor que a media nacional",
          "porque a casa dia consumo menos alimentos de origem animal ate o ponto de nao sentir falta",
          "eu me preocupo com essas questoes vivenciais dos animais e afins reduzi justamente por isso, por tambem perceber que existem substitutos otimos e que nao faz tanta falta assim \nnao chego a por em pratica de ver quais empresas fazem de fato isso, porque no final das contas eu vivo no brasil e a questao financeira pesa",
          "porque ao longo do tempo entendi que a reducao da carne e nao a extincao dela seriam a melhor solucao tambem vi que e super possivel saudavel e econômico",
          "gosto de ter um consumo mais saudavel de carnes e sempre trago para os que estao proximos o quao importante e ter uma dieta balanceada como foco em diminuir o consumo de carne trazendo para o prato mais verduras e legumes, para tentar reduzir o impacto_ambiental",
          "tento diminuir o consumo, por nao concordar com a forma que criacao e abate",
          "pela vontade de parar de comer proteina animal por motivos de saude e ambientais, por saude (tenho gordura do figado) e pelo sofrimento animal em si tambem",
          "porque sou contra tratar os animais como mercadoria me importo com o sofrimento aos quais sao submetidos",
          "nao pretendo me tornar vegetariana ou vedacao contudo conheco os problemas decorrentes do grande consumo de carne e os impactos ambientais relacionados acredito que se todos reduzissem o consumo diminuiria significativamente os impactos negativos",
          "so reduzi o consumo mesmo por acreditar que possa ser positivo para a saude",
          "reduzi o consumo de carnes por causa de problemas digestivos e tambem pelo dinheiro",
          "reduzir o  do consumo de carne proporciona menos culpa na dieta",
          "porque estou reduzindo o consumo de carne",
          "gosto da ideia de reduzir o consumo de carne",
          "uma alimentacao reduzida em alimentos de origem animal essa estrategia alimentar esta relacionada a preocupacões com a saude",
          "pensando no meio ambiente e no sofrimento animal",
          "porque consumo de tudo com consciencia alimentar e tenho reduzido o consumo de carne, principalmente a carne bovina",
          "com o passar dos anos, venho gradativamente diminuindo o consumo de carnes",
          "porque acho importante consumir pouca carne",
          "preocupada com o modelo tradicional, onde o animal nao tem direito a ter uma vida digna ate a sua morteconfinamento e triste",
          "pois comecei removendo mamiferos e a cada ano que passa vejo que tenho menos vontade de consumir outros seres nao mamiferos tambem",
          "porque reduzo o consumo da carne bovina por ser uma carne vermelha e se consumida em excesso afeta negativamente a saude",
          "pela forma como os animais sao tratados nos processos de producao",
          "porque diminui o consumo de carne da monha dieta e pretendo deixar de comer carne totalmente",
          "entendo os problemas da producao de alimento de origem animal e aprecio sabores, cultura, saberes que a alimentacao traz consigo",
          "porque coloquei no meu habito alimentar a consumir menos carne, principalmente carnes que demandam de grandes pastos ou muita alimentacao industrializada",
          "porque venho tentando fazer uma alimentacao mais equilibrada  antes o consumo era diario",
          "por querer diminuir a carne em beneficio a saude",
          "porque tenho pena da morte e nao concordo com o modo que os animais sao criados",
          "porque decidi poupar os animais e comer mais vegetais e leguminosas, respeitanto os animais, o planeta e o consumo de agua",
          "porque decidir reduzir o consumo de carne",
          "porque eu tenho tentado evoluir espiritualmente e respeitar a vida dos animais ja faz uns 10 anos que comecei a cortar o consumo de carne todos os dias percebo que ate a agressividade diminui",
          "me considero porque tiro a carne da minha alimentacao, alguns dias da semana para melhorar minha saude",
          "porque precisei reduzir o consumo de carne por problemas de saude e hoje so como carne bovina em ocasioes sociais",
          "por reduzir o consumo de carne e querer ser vegetariana",
          "por sensibilidade a vida animal e ao modo como sao tratados, questoes econômicas e ambientais secundariamente e com isso estou no processo gradativo de desabituar o consumo de carne animal",
          "porque acredito na necessidade de reducao da carne em funcao das consequencias ambientais e tambem pelos maus tratos animais",
          "porque so consumo carne e derivados produzidos pela agricultura familiar local",
          "por tres razões: ecologica violencia com animais e por saude",
          "pela diminuicao do consumo de carne e os principios aos animais",
          "por causa de todo o contexto politico e critico sobre as diversas situacões que se encontra o pais o a reducao do consumo de carnes nos dias atuais e mais como um ato de resistencia devido a isso, procuro um consumo consciente da carne que chega a minha mesa",
          "reduzi significamente a quantidade do consumo de carnes",
          "eu resolvi diminuir o consumo de carne, mas nao abrir mao, porque gosto o primeiro motivo foi por saude, aprendendo sobre os beneficios, o segundo motivos tambem pelo meio ambiente, que aprendi que mesmo retirando a carne de apenas algumas refeicões, ja causa um impacto positivo",
          "pelo meio ambiente (desmatamento) em geral para criacao, excesso de hormônios nas criacões",
          "pelo financeiro, pela forma como sao produzidos",
          "porque eu tento reducir o consumo de carne",
          "similaridade com carne humana, mals tratos animais e meio ambiente",
          "por causa da industria de alimentos do aquecimento global mais saude e por causa da expansao da linha dos pastos de agricultura na amazonia",
          "primeiro ponto: pela minha saude depois por um questao econômica, para combater esse forte lobby que existe no brasil do agronegocio, por isso consumo pancs no meio disto ha sim a preocupacao com o bem estar dos animais",
          "porque resolvi reduzir o consumo de carnes depois que meus filhos se tornaram vegetarianos",
          "educacao alimentar apos ganho de peso e uma sindrome autoimune",
          "porque reduzir o consumo de carne ha muitos anos mas 1 ou 2 vez por mes consumo",
          "para reduzir o impacto_ambiental que muitas das producões causam e evitar ingestao de transgenicos (muito utilizado nas racões desses animais) e antibioticos",
          "nao tem motivo para comer tanta carne os maus tratos com os animais muita geracao de gases do efeito estufa desmatamento muito consumo de agua consumo exagerado de graos que poderiam alimentar muitas pessoas com muita monocultura predatoria utilizando trabalho escravo e por motivos de saude",
          "devido a impacto_ambiental e modo de abate dos animais em confinamento",
          "nao acho que o brasileiro deva renunciar totalmente ao consumo de carne temos um vasto territorio e ao longo da historia sempre fomos um povo faminto com pouco acesso a carne que deixe de comer carne o povo europeu, que ja comeu demais ao longo dos tempos para alem disso, entendo que faz parte da natureza o homem matar e comer um outro animal, porem devemos procurar comer carnes oriundas de animais criados sem sofrimento e sem derrubamento de matas nativas, a exemplo de aves que podem ser criadas em pequenos espacos e cujos dejetos sao otimos fertilizantes",
          "reducao de producao de gases aumento de preco sensibilidade aos animais religiao (jejum) etc",
          "devido ao grande impacto_ambiental que a criacao de animais para consumo humano possui na natureza e porquestao de saude individual tambem",
          "por reduzir a frequencia do consumo de carnes",
          "primeiro pelos precos, esta cada vez mais dificil comprar carne, segundo pelo historico familiar de doencas que tiveram a carne vermelha como uma das causas",
          "como o consumo de carne e inflamatoria tenho tentado reduzir do consumo alimentar da minha casa",
          "por estar desenvolvendo consciencia sobre o assunto",
          "por ser saudavel reduzir o consumo de carnes vermelhas",
          "porque reduzi o consumo de carnes por opcao",
          "por tentar melhorar a alimentacao e comer menos carne vermelha",
          "porque reduzi o consumo de carne e dou preferencia por cardapios vegetariano ou vegano",
          "porque eu nao necessito comer tanta carne para me alimentar bem, principalmente carne de animais que sao torturados e tem uma qualidade de vida horrivel desde novinhos alem das criacões de gado trazer grandes impactos ambientais",
          "porque apos reduzir o consumo consciente, hoje eu nem reparo nem escolho mais os dias em que nao comerei carne se tornou algo natural, quando me da vontade eu como, e sao poucas vezes que essa vontade surge em minha fome",
          "reduzi a carne devido a problemas de saude",
          "e mais saudavel no sentido que diminui as doencas cardiacas (por causa da gordura animal)",
          "porque eu procuro ter habitos de consumo moderados e saudaveis",
          "primeiro motivo devido ao sofrimento do gado ao longo da escala de criacao ate o abate, segundo devido as questoes ambientais de efeito estufa e desmatamento, terceiro que comer carne em excesso faz mal a saude, e quarto motivo e que nao consigo deixar de comer carne (na forma de churrasco e bacon), mas penso que reduzir esse consumo ajudara muito nos aspectos citados entao , me considero flexitariano pois dificilmente serei vegana ou vegetariana",
          "porque nao faco questao da carne nas refeicões e tambem porque os precos subiram muito o frango e a que mais gosto praticamente dobrou de preco comparado com o ano passado",
          "porque nao concordo com a relacao escravista que temos com os animais e porque a producao de carne impacta negativamente o meio ambiente",
          "por conta alem do preco, da preferencia por outras coisas alem de carne e preocupacao com o meio ambiente e com os animais",
          "financeiro, e reeducacao alimentar comer de tudo",
          "porque decidi reduzir o consumo de carne laticinios nao estava digerindo muito bem impacto_ambiental e sofrimento animal",
          "reduzi a carne por consciencia, para ajudar o meio ambiente",
          "porque consumo de forma consciente ja fui vegetariana por 17anos e agora nao quero restricões, mas sim cuidado com a alimentacao e a procedencia",
          "penso em saude humana e diminuir a crueldade com os animais",
          "porque ao longo dos anos vim diminuindo o consumo de carne porquestoes de saude",
          "por ser educadora_ambiental e biologa entendendo os impactos causados no ambiente e na sociedade para criacao de gado, sendo assim busco maneiras de diminuir meu impacto no ambiente por meio da diminuicao do consumo de carne ao menos uma vez na semana ou substituindo por outros alimentos",
          null,
          "porque decidi reduzir consideravelmente meu consumo de carne",
          "capacidade planetaria em limitacao crescente para alimentar humanos com carnes",
          "consciencia ambiental, bem-estar fisico e orgânico",
          "porque eu reduzi bastante o consumo de carne tanto devido ao preco como devido as implicacões ambientais na criacao de gado, pena do animal, dentre outros fui vegetariana por 3 anos e apenas voltei a comer carne porque precisava cozinhar para minha familia e ja nao dava conta de fazer outras opcões e nao me achava no direito de privar meus filhos de uma fonte importante de proteina e ferro na verdade, ficava insegura de prejudicar o desenvolvimento deles tambem por uma opcao minha hoje em dia voltei a comer carne de boi e porco, mas e algo que ainda me provoca culpa por conhecer o que tem por tras dessa indústria em relacao as duas perguntas anteriores, nao sei se \"preocupacao\" foi o melhor termo, pois sim, eu me preocupo, mas nao consigo escolher o produto levando em consideracao a dieta dieta animais pois ha tempos nos desvinculamos da origem do nosso alimento acabo comprando carne sem saber qual a dieta do animal, porque nao ha essa informacao mas sim, me preocupo",
          "porque alem da quantidade imensa de hormônios e antibioticos que possuem nas carnes o jeito como os animais sao confinados e o abate nao me agradam",
          "nao considero certa a criacao e o abuso sofrido pelos animais",
          "para diminuir o consumo excessivo de carne, pela saude e pala disponibilidade do alimento no mundo",
          "por ter reduzido o consumo de carne em prol do meio ambiente",
          "porque estou reduzindo aos poucos o consumo",
          "porquestoes economicas e nojo de manejar cozinhar carne crua",
          "melhor pra saude, doencas animais, orientacao inspirada",
          "acho que se tivermos outros alimentos podemos diminuir o consumo de carnes por impactarem o meio ambiente e pela forma que esses animais sao criados em confinamento",
          "porque decidi reduzir o consumo de carne bovina, devido as mudancas climaticas",
          "preocupacao ambiental, social e a etica com animais",
          "porque as carnes em geral pra mim sao de dificil digestao, porque a criacao de gado/animal causam impacto_ambiental e na alimentacao de animal contem muito agrotoxico, hormônio, etc",
          "porque me preocupa a situacao alimentar e ambiental e a utilizacao irracional da agua e da terra para cultivo de graos para os animais, que nem serao alimentos para as pessoas daqui do brasil",
          "porque tenho uma tendencia a cada vez mais comer menos carne",
          "a reducao do consume de carne melhorou consideravelmente minha saude e estilo de vida",
          "porque diminui o consumo de carne e com o tempo perdi totalmente o habito",
          "porque tenho tentado melhorar minha alimentacao, os cuidados com o planeta, com animais, e com trabalhadoras e trabalhadores",
          "porque busco diminuir o consumo da carne e derivados",
          "por conta da pressao da pecuaria bovina sobre areas naturais preservadas e emissao de metano alem do preco atual substituiria tranquilamente o frango e carne suinas por peixes e cogumelos, no entanto o financeiro desses produtos nao me permite",
          "porque reduzir voluntariamente a quantidade de carne consumida",
          "nao gosto de rotulos,mas acredito que o mumdo nao tem mais condicões de suportar o agronegocio, a contaminacao das aguas, dos solos e de todo meio ambiente com pesticidas e afins",
          "porque consumir muita carne bovina nao fez pro meu intestino e a reducao colabora com o meio ambiente",
          "consciencia ambiental e melhoria da saude",
          "porque ultimamente vi o impacto_ambiental que o consumo de carne vermelha vem causando , e pelo preco da carne tbm",
          "porque sinto menos cansaco quando nao como muita carne nas refeicões e sei que e importante reduzir o consumo porquestoes ambientais e de saude por conta dos agrotoxicos e insumos no processo de producao",
          "pelo conhecimento que venho adquirindo cerca das provaveis doencas que vem de peixes e outros animais que nao sao criados com higiene",
          "reduzindo o consumo de carne porem de uma forma radical",
          "porque tenho tido a oportunidade de observar com mais cuidado minhas fontes alimentares e acredito que precisamos contribuir com o meio ambiente em todos os aspctos da cadeia alimentar",
          "porque nao gosto do sabor da carne e tbm nao concordo com a indústria",
          "porque e uma escolha que afeta o estilo de vida pra alguns pode ser transicao mas para mim e a forma que eu encontrei pra nao so diminuir meu consumo de carne mas priorizar minha saude",
          "porque aos poucos venho reduzindo o consumo de carne",
          "porque decidi diminuir o consumo de carne para melhorar minha alimentacao",
          "devido aos impactos ambientais a nivel mundial, como ato politico, como modo de cuidar do organismo",
          "estou comecando a retirar a carne da minha dieta por sentir pena de como sao mal tratados os animais ( tanto na criacao quanto para serem sacrificados)",
          "porque tenho diminuido o consumo de carne",
          "sei dos impactos ambientais da criacao de animais alem dos beneficios nutricionais de ingerir outros grupos alimentares",
          "porquestoes financeiras, de bem-estar animal, e de impacto_ambiental, visto que temos opcões equivalentes para substituir a proteina animal",
          "dois anos que diminuir o consumo de carne",
          "porque reduzi conscientemente meu consumo de carne, com o objetivo de cuidar da minha saude",
          "sei do impacto que a indústria pecuaria gera ao meio ambiente mesmo as que nao criam o animal em confinamento, decidem a data de morte do animal e eu nao acho certo acho qie os animais tem sentimentos e direito a vida como qualquer um de nos so nao consegui virar vegetariana ainda porque nao consegui ter disciplina e organizacao para manter um estoque de legumes e verduras que atendesse a minha familia grande outro ponto e que, em parte, sinto que dificulta um pouco a socializacao ao visitar amigos, ir em festinhas e tem pratos como o estrogonofe e a lasanha bolonhesa da minha avo que me trazem memorias afetivas e nao consegui abrir mao ainda",
          "porque tenho consciencia de que o consumo de carne diariamente e insustentavel para o planeta",
          "por ter reduzido o consumo de carnes em geral de forma significativa",
          "porque reduzi a carne, principalmente a vermelha",
          "porminha saude e pelas condicões de criacao dos animais",
          "porque venho reduzindo o consumo de carne",
          "porquestoes de saude, de condicionamento fisico e politicas",
          "sofrimento animal no processo de criacao e a exploracao de maneira desordenada",
          "por opcao pessoal, espiritual e de consciencia coletiva",
          "porque eu fui obrigada a reduzir o consumo de carne devido ao aumento do preco dos alimentos, e tambem porque vi que reduzir o consumo de carne (comer menos vezes por semana) ja ajuda o meio ambiente entao adotei o dia sem carne na alimentacao",
          "primeiro por conta do preco, segundo pra reducao de gordura saturada",
          "porquestao de saude e de posicionamento politico e consciencia ambiental",
          "nao gosto muito de carne e o financeiro e muito alto",
          "pois tenho uma certa consciencia sobre a indústria de animais e seus impactos,e procuro dimini meu consumo o maximo possivel, porem sem eliminar totalmente,por motivos pessoais",
          "porque tenho reduzido o consumo de carne na alimentacao para melhora de minha saude",
          "porque desejo diminuir o consumo de carne",
          "para uma melhor qualidade de vida e porque meu medico solicitou a diminuicao do consumo",
          "por escolher nao comer carne e ir reduzindo",
          "porque eu tento diminuir o consumo de carne no meu dia a dia, pra me acostumar e quem sabe virar vegetariana",
          "sim pois tento diminuir o consumo de carnes causador de impactos ambientais nocivos ao planeta",
          "por estar reconsiderando o meu consumo de carne",
          "porque tenho diminuido o consumo de carne tanto em porcao como em frequencia",
          "porquestoes ecologicas, econômicas e de saude tambem",
          "por causa das condicões financeiras atuais",
          "me sinto mais saudavel adotando essa medida",
          "carnes brancas sao consideradas menos caloricas e foi sugerido a mudanca pela nutricionista",
          "porque reduzi proativamente a quantidade de vezes que como carne na minha rotina",
          "porque nao gosto mais do cheiro da carne de boi e tenho reduzido muito o consumo, optando por peixe ou ovos os precos da carne tbm estao abusivos",
          "nao sei se entendi a pergunta decidi quase zerar o consumo de carne porquestoes de consciencia ambiental, e tambem por saude",
          "reduzo a carne por entender que seu consumo aumenta o destruicao das florestas, pelo sofrimento dos animais  e para nao fortalecer o agronegocio que destroi rios e solos e comunidades indigenas",
          "reduzi o consumo de carne por vontade propria sem me preocupar com esse termo cansei de comer tanta carne pesa na verdade e so isso",
          "considero que meu consumo de carne diminuiu consideravelmente",
          "porque reducao a quantidade de consumo de produtos de origem animal",
          "relacao politica, com o meio ambiente e econômica",
          "principalmente pelo preco do acougue atualmente no brasil, e tambem porquestoes que ainda nao conseguiria ter uma vida zero carne e embutidos no momento, porquestoes financeiras para suplementos e consultas frequentes a nutricionistas",
          "porque penso no sofrimento animal, e no impacto_ambiental",
          "porque ao reduzir o consumo de carnes, a minha qualidade de vida e muito melhor",
          "pois reduzi o consumo de carne por preocupava com o meio ambiente, clima, fatores politicos e econômicos do meu pais, alem de melhorar minha digestibilidade alimentar",
          "por amor aos animais e problemas de saude",
          "por estar no processo de reduzir cada vez mais esse consumo de carne",
          "por saber dos impactos ambientais gerados pelo consumo excessivo em relacao as carnes embutidas (presunto, salame, salsicha) tento reduzir consumo tambem por conta dos maleficios a saude",
          "porque nao me agrada a indústria de carnes, porque flexibiliza a dieta acredito ser saudavel reduzir o consumo de carnes para mim e para o planeta",
          "por motivos conscientes que e o principal e questoes econômicas em segundo",
          "estou tentando diminuir o consumo da carne",
          "porque reduzi o consumo de carne em comparacao ao meu padrao de consumo",
          "estou diminuindo aos poucos o consumo pelas questoes ambientais",
          "porque eu me preocupo em reduzir o consumo de carne com motivacões relacionadas ao ambiente e com o bem-estar animal",
          "porquestoes ambientais e tambem de saude",
          "porque tenho consciencia de como a criacao de animais para consumo humano e cruel com os animais e prejudicial ao meio ambiente e por isso reduzi o consumo intencionalmente",
          "pelo carater do bem estar animal e pelo desgradacao da natureza realizada pelos criadores de bois e aviarios",
          "porque reduzi o consumo de carnes porque acredito ser possivel ter manter uma boa saude e curar enfermidades com menos carnes , assim como reduzir os impactos que o consumo de carnes em excesso provocam no meio ambiente e para os animais",
          "sim, pois diminui o meu consumo de carne em 2019 e me sinto melhor assim",
          "porque diminui o consumo mais ainda no consegui para de comer carne",
          "por me preocupar com o avanco do agronegocio",
          "porque tento reduzir o consumo de carne de origem animal",
          "sim Venho reduzindo o consumo, por nao gostar mais do sabor de algumas carnes",
          "sofrimento a que sao submetidos os animais, alimentacao oferecida a eles, alem de medicamentos ministrados com objetivo comercial \napos o abate adicionam-se aditivos, conservantes e outras substancias artificiais que prejudicam a saude do ser humano \nimpacto para o meio ambiente",
          "principalmente porque sempre considerei que e um alimento pesado para o organismo devido a sua lenta digestibilidade, entao porque os ruminantes contribuem para a emissao de metano, que e um gas de efeito estufa, os precos da carne bovina sao muito altos,",
          "porque tenho tentado reduzir o consumo de carne progressivamente",
          "da carne vermelha principalmente pelo modo de producao em superescala e suas consequencias em ultima instancia pelo aumento de preco e inflacao",
          "Vejo o quanto o consumo de carne vermelha impacta no ambiente e na vida dos animais estes na sua maioria sao criados como meros objetos sem importância",
          "comecei a reduzir o consumo ao ter contato com pessoas vegetarianas/veganas que se preocupam com todo o contexto do animal e tambem por ter comecado a preparar refeicões",
          "porque eu nao tenho dinheiro para comprar carnes, como eu fazia antes",
          "porque tomei consciencia de entender o caminho que existe ate virar meu alimento e a partir disso tento fazer escolhas melhores para minha saude dos animais e do planeta",
          "o bem estar animal e a devastacao de terras pelo agronegocio devem ser uma questao sempre quando se trata de investimento de dinheiro, alem disso, quanto ao dinheiro, a carne encarece muito a feira do mes",
          "porque escolhi reduzir o consumo de carne",
          "devido a crise climatica o objetivo e nao comer carne sem saber a procedencia, oi deixar deixar de comer em definitivo",
          "por saber que comer carne principalmente vermelha nao faz bem para a saude",
          "porque estou querendo reduzir a quantidade de carne que como, para um dia, talvez, parar de vez",
          "nao acredito que seja necessario consumir uma grande quantidade de carne para manter uma alimentacao saudavel acredito que pancs tem imenso potencial pois sao locais, mais nutritivas, de facil cultivo no geral, etc tambem apoio as questoes veganas e de meio ambiente tirando as carnes bio e marcas como korin, os animais sao tratados com transgenicos e antibioticos, alem de sofrerem maus tratos tambem sabemos que os alimentos processados e ultraprocessados e preparados alimenticeos nao tem energia vital, nao sao vivos, portanto, nao nutrem e introduzem toxinas no organismo",
          "esforco de reduzir o consumo de carne por motivos ambientais e eticos",
          "porque eu diminui muito o consumo de carne por estar caro e por pesar na digestao",
          "reduzi o consumo porque minha filha e vegetai, e por consequencia diminui o consumo",
          "porque reduzi consicentemente o consumo de carne",
          "porque optei por reduzir o consumo de carne",
          "porque aos poucos tento restringir o consumo de carne",
          "aconteceu naturalmente o interesse pelo consumo de carne comecou a diminuir sou devoto de uma deusa que as vezes pede para que algum devoto pare de comer carne mas essa escolha e totalmente da pessoa e apesar de ser devoto dessa deidade nao acredito que essa questao esteja ligada a diminuicao do meu consumo de carne",
          "porque venho reduzindo o consumo de carnes animais por vontade propria",
          "porque tenho buscado meios de reduzir meu consumo de carne, inclusive com ajuda profissional de nutricionista",
          "saude, motivos religiosos, preocupacao socioambiental",
          "compromisso com o ambiente e por conta disso estou reduzindo cada vez mais as carnes ate parar de vez",
          "porque eu reduzir consideravelmente o meu consumo de carne nos últimos anos",
          "porque estou retirando a carne gradativamente da minha dieta",
          "sei a problematica que envolve producao e consumo de carnes tanto pra minha saude quanto pro planeta",
          "pois quero reduzir cada vez mais o meu consumo de carnes",
          "porque tenho diminuido o consumo de carne na minha dieta carne",
          "porque tento reduzir o consumo de produtos com origem animal",
          "a pegada hidrica da carne e forma cruel da cadeia de producao da mesma",
          "pelo fato de estar mais inteirado sobre o assunto, entendo a importância de diminuir cada vez mais o consumo de carne",
          "porque desejo diminuir cada vez mais o consumo tendo em vista tantos motivos para fazer isso",
          "porquestoes politicas e pela defesa dos animais reduzi o consumo de carne",
          "porque eu deliberadamente tenho reduzido meu consumo de carne",
          "nao penso em deixar de comer carne porque gosto e ainda acho importante fonte de energia entretanto sou adepta do “menos e mais” acho um absurdo a “producao exagerada” de carnes que visa apenas o lucro cada vez maior",
          "melhorar a saude, depois que tive câncer",
          "nao me rotulo assim apenas tento equilibrar a alimentacao",
          "porque reduzo a carne porquestoes de saude",
          "pois diminui o consumo de proteina animal voluntariamente",
          "nao faco questao de comer carne bovina, e tambem tem a questao climatica, entao foi facil reduzir o consumo",
          "sei que hoje o consumo de carne e um dos principais fatores que influenciam no desmatamento e assim corroboram com o desenvolvimento do aquecimento global, alem de muitos criadouros nao fornecerem as condicões minimas aos animais",
          "questao de saude, melhora no intestino e no refluxo e preocupacao com os animais",
          "a cada ano que se passa meu consumo de carne vem diminuindo mais"
         ],
         "marker": {
          "opacity": 0.5,
          "size": 5
         },
         "mode": "markers+text",
         "name": "3_Redução do Consumo de Carne",
         "text": [
          "",
          "",
          "",
          "",
          "",
          "",
          "",
          "",
          "",
          "",
          "",
          "",
          "",
          "",
          "",
          "",
          "",
          "",
          "",
          "",
          "",
          "",
          "",
          "",
          "",
          "",
          "",
          "",
          "",
          "",
          "",
          "",
          "",
          "",
          "",
          "",
          "",
          "",
          "",
          "",
          "",
          "",
          "",
          "",
          "",
          "",
          "",
          "",
          "",
          "",
          "",
          "",
          "",
          "",
          "",
          "",
          "",
          "",
          "",
          "",
          "",
          "",
          "",
          "",
          "",
          "",
          "",
          "",
          "",
          "",
          "",
          "",
          "",
          "",
          "",
          "",
          "",
          "",
          "",
          "",
          "",
          "",
          "",
          "",
          "",
          "",
          "",
          "",
          "",
          "",
          "",
          "",
          "",
          "",
          "",
          "",
          "",
          "",
          "",
          "",
          "",
          "",
          "",
          "",
          "",
          "",
          "",
          "",
          "",
          "",
          "",
          "",
          "",
          "",
          "",
          "",
          "",
          "",
          "",
          "",
          "",
          "",
          "",
          "",
          "",
          "",
          "",
          "",
          "",
          "",
          "",
          "",
          "",
          "",
          "",
          "",
          "",
          "",
          "",
          "",
          "",
          "",
          "",
          "",
          "",
          "",
          "",
          "",
          "",
          "",
          "",
          "",
          "",
          "",
          "",
          "",
          "3_Redução do Consumo de Carne",
          "",
          "",
          "",
          "",
          "",
          "",
          "",
          "",
          "",
          "",
          "",
          "",
          "",
          "",
          "",
          "",
          "",
          "",
          "",
          "",
          "",
          "",
          "",
          "",
          "",
          "",
          "",
          "",
          "",
          "",
          "",
          "",
          "",
          "",
          "",
          "",
          "",
          "",
          "",
          "",
          "",
          "",
          "",
          "",
          "",
          "",
          "",
          "",
          "",
          "",
          "",
          "",
          "",
          "",
          "",
          "",
          "",
          "",
          "",
          "",
          "",
          "",
          "",
          "",
          "",
          "",
          "",
          "",
          "",
          "",
          "",
          "",
          "",
          "",
          "",
          "",
          "",
          "",
          "",
          "",
          "",
          "",
          "",
          "",
          "",
          "",
          "",
          "",
          "",
          "",
          "",
          "",
          "",
          "",
          "",
          "",
          "",
          "",
          "",
          "",
          "",
          "",
          "",
          "",
          "",
          "",
          "",
          "",
          "",
          "",
          "",
          "",
          "",
          "",
          "",
          "",
          "",
          "",
          "",
          "",
          "",
          "",
          "",
          "",
          "",
          "",
          "",
          "",
          "",
          "",
          "",
          "",
          "",
          "",
          "",
          "",
          "",
          "",
          "",
          "",
          "",
          "",
          ""
         ],
         "textfont": {
          "size": 12
         },
         "type": "scattergl",
         "x": [
          17.587349,
          17.520325,
          16.475422,
          17.7924,
          18.321915,
          15.5611315,
          16.385374,
          15.633082,
          18.616621,
          16.345985,
          16.794628,
          18.032585,
          18.751678,
          17.748861,
          15.414138,
          15.83732,
          17.539738,
          16.907866,
          18.688263,
          18.064508,
          17.865856,
          17.191088,
          15.75274,
          12.878686,
          17.596457,
          15.467073,
          16.91253,
          17.847914,
          15.466042,
          15.430716,
          17.785973,
          15.973763,
          16.494637,
          17.832481,
          17.560112,
          17.835142,
          18.489174,
          15.35554,
          17.82482,
          17.685545,
          18.527317,
          17.42548,
          18.139696,
          18.308231,
          18.03072,
          15.317302,
          17.97794,
          16.53096,
          17.884796,
          18.57313,
          16.431776,
          16.484362,
          17.770899,
          15.430096,
          18.003119,
          17.258953,
          15.455975,
          15.238882,
          18.58845,
          15.369443,
          18.244902,
          17.60567,
          18.557888,
          17.510351,
          15.580793,
          17.145515,
          16.211077,
          18.319729,
          15.369046,
          18.589672,
          18.403553,
          16.490625,
          15.998088,
          17.797049,
          18.217636,
          17.483952,
          15.83145,
          17.856817,
          16.164358,
          16.424559,
          17.081934,
          15.215972,
          16.427853,
          17.797413,
          17.312027,
          18.810793,
          18.048138,
          17.70114,
          18.029455,
          15.512967,
          17.638222,
          18.377157,
          17.625553,
          15.263775,
          17.28023,
          18.376348,
          15.254466,
          17.985518,
          15.923484,
          17.536724,
          17.630724,
          18.311272,
          15.119133,
          17.044724,
          18.482944,
          17.744162,
          17.73787,
          18.129663,
          17.520834,
          16.054817,
          16.015036,
          17.586113,
          15.471222,
          18.713573,
          18.117125,
          18.814299,
          17.323738,
          15.24452,
          15.232871,
          17.73997,
          15.264115,
          15.549208,
          16.035324,
          18.198902,
          17.525606,
          18.361929,
          15.391487,
          15.408231,
          15.347689,
          15.986735,
          18.837831,
          15.415269,
          18.787384,
          16.307098,
          17.847948,
          15.681296,
          18.457333,
          17.915272,
          18.272116,
          17.918375,
          15.321621,
          17.539425,
          18.14213,
          18.25071,
          17.684914,
          15.921479,
          16.478952,
          15.304752,
          16.331741,
          17.533335,
          17.036654,
          18.8438,
          17.629322,
          15.509458,
          17.907621,
          16.243744,
          17.088486,
          18.276003,
          16.163977,
          15.614231,
          15.881514,
          15.129728,
          15.193146,
          18.802423,
          18.858868,
          17.927816,
          16.531435,
          15.360244,
          16.379597,
          18.264532,
          15.517653,
          15.171065,
          15.785346,
          17.861229,
          17.878777,
          17.721245,
          17.127447,
          17.592419,
          16.280191,
          18.686337,
          15.350931,
          18.391062,
          15.581915,
          16.254702,
          17.944132,
          15.184178,
          18.731852,
          17.121855,
          15.198687,
          17.564632,
          18.085266,
          17.638632,
          15.671393,
          15.4154825,
          17.949345,
          15.649743,
          15.755678,
          18.468758,
          17.745352,
          15.80177,
          16.493996,
          18.787523,
          18.472368,
          15.219381,
          18.128027,
          15.565905,
          15.249911,
          15.809122,
          17.30551,
          18.214083,
          15.632073,
          16.46474,
          16.12545,
          17.877243,
          17.726353,
          17.963837,
          18.127073,
          17.849419,
          17.40098,
          18.193554,
          17.768028,
          15.580502,
          16.448196,
          17.886215,
          18.376762,
          18.334532,
          16.420351,
          17.324732,
          17.074171,
          17.649939,
          18.484928,
          18.706766,
          15.611056,
          16.502012,
          15.439224,
          17.907621,
          17.415583,
          15.423301,
          18.28075,
          18.25202,
          16.770739,
          15.837827,
          17.789917,
          18.604898,
          17.993774,
          16.044035,
          15.572884,
          16.54001,
          15.290514,
          17.133442,
          17.924988,
          17.781921,
          15.530079,
          17.49866,
          18.205082,
          15.027332,
          16.085619,
          17.969154,
          15.489338,
          15.606019,
          17.6761,
          16.477245,
          17.06671,
          15.703398,
          18.295069,
          18.262129,
          18.519373,
          17.967445,
          15.935618,
          18.845486,
          16.490074,
          18.056206,
          18.647131,
          18.208511,
          17.999767,
          17.695396,
          17.76267,
          17.65245,
          15.580445,
          17.566555,
          18.490294,
          17.932795,
          16.196297,
          17.473377,
          17.97326,
          17.479198,
          15.368108,
          18.260876,
          17.821287,
          18.560913,
          18.24923,
          16.128288,
          17.8003,
          17.520527,
          18.166058,
          18.79251,
          17.925993,
          15.478251,
          15.405734,
          18.3962
         ],
         "y": [
          7.1870036,
          8.337112,
          7.4235225,
          9.341462,
          8.486246,
          6.9508424,
          6.625883,
          5.241229,
          8.3343935,
          8.11918,
          7.5418887,
          8.713396,
          8.225621,
          6.8000665,
          5.5211973,
          7.602521,
          7.823073,
          7.5485616,
          8.710149,
          8.869548,
          6.76483,
          7.392372,
          6.8610406,
          9.72289,
          7.834627,
          5.5772195,
          6.8914146,
          7.1519494,
          5.7156324,
          6.710438,
          6.861026,
          7.33259,
          6.300907,
          7.28722,
          6.7442513,
          9.142838,
          8.256628,
          6.681262,
          6.758706,
          8.84309,
          8.518249,
          7.4897823,
          7.682665,
          8.766013,
          7.116671,
          6.7135687,
          7.0907264,
          6.364625,
          9.305396,
          8.809902,
          6.378383,
          6.4624815,
          9.273872,
          7.36546,
          7.43445,
          7.31206,
          6.369769,
          7.1285944,
          8.759346,
          5.557167,
          7.2160306,
          8.914544,
          8.486042,
          8.934881,
          5.876496,
          7.2418566,
          6.793508,
          8.47235,
          6.3104243,
          8.794325,
          7.81152,
          6.886629,
          7.288628,
          7.2444296,
          8.77111,
          8.457959,
          7.373114,
          7.7940645,
          7.8481255,
          7.7708464,
          7.1924295,
          7.114657,
          7.657988,
          7.218536,
          6.9460244,
          8.375172,
          8.754825,
          9.033216,
          7.2588377,
          5.758654,
          7.3965936,
          9.053358,
          8.754217,
          6.328137,
          8.350032,
          7.370822,
          6.148612,
          8.513177,
          7.0231857,
          7.560446,
          6.8398724,
          7.119739,
          7.2830825,
          6.799376,
          8.260304,
          8.361343,
          7.16728,
          7.1983433,
          9.044241,
          7.118669,
          7.1760607,
          8.821369,
          5.655713,
          8.198227,
          7.900614,
          8.382988,
          7.2831497,
          6.193702,
          6.1371636,
          9.060707,
          6.559084,
          6.491691,
          6.9092007,
          8.239606,
          6.6715384,
          9.835205,
          6.4188485,
          6.7214637,
          6.2981973,
          8.165892,
          8.019027,
          6.308207,
          8.308281,
          6.7039866,
          9.270809,
          5.3303823,
          7.3474536,
          8.103196,
          7.113454,
          8.389662,
          7.007509,
          8.114403,
          7.0993204,
          7.1384997,
          6.980968,
          7.3565626,
          6.362867,
          7.022299,
          7.035531,
          6.7254896,
          7.0504017,
          7.87592,
          7.3051667,
          5.7816725,
          7.4892287,
          7.56408,
          7.458968,
          8.363342,
          7.2324896,
          5.214507,
          7.454621,
          6.9015245,
          7.19589,
          7.717218,
          7.915531,
          8.9048605,
          6.536151,
          5.4980373,
          7.3406696,
          7.9664636,
          5.664798,
          6.9585834,
          7.0048966,
          8.534936,
          6.929289,
          8.3548975,
          6.6155667,
          8.883364,
          6.5062723,
          8.300106,
          6.799888,
          7.5272784,
          5.2294264,
          6.736438,
          7.1885743,
          6.0688457,
          8.440024,
          6.6157746,
          7.246971,
          7.175714,
          8.833444,
          7.060666,
          5.2150254,
          7.3899117,
          8.448752,
          6.570891,
          6.497021,
          9.18881,
          7.237425,
          7.5015965,
          7.538743,
          8.404266,
          7.409786,
          6.0512896,
          8.588281,
          5.2180924,
          6.2851243,
          5.468687,
          7.3771195,
          6.9601564,
          5.243095,
          6.3550677,
          7.6237493,
          7.1103344,
          8.917683,
          7.1231127,
          8.3963995,
          9.194751,
          8.9309635,
          8.465307,
          8.3433485,
          5.222356,
          6.212078,
          6.773582,
          7.177482,
          8.505819,
          6.4357524,
          7.18254,
          7.621588,
          8.102809,
          8.937249,
          8.216807,
          5.2415133,
          6.529297,
          6.0077863,
          6.997731,
          7.373948,
          5.6070857,
          8.559803,
          7.503664,
          7.4628677,
          5.4926753,
          9.330942,
          8.688178,
          8.84347,
          7.2714286,
          5.2480936,
          7.417986,
          6.1616554,
          7.4834924,
          6.898938,
          8.393135,
          6.4958353,
          8.990322,
          8.794853,
          6.8163853,
          6.6632786,
          8.95899,
          6.6979966,
          6.9304657,
          7.818615,
          6.3438897,
          6.681944,
          6.467945,
          8.328741,
          7.987397,
          7.3206773,
          8.98161,
          7.7631354,
          7.8314056,
          6.4987054,
          8.2570505,
          8.464303,
          8.326743,
          8.897543,
          8.130101,
          8.158713,
          8.921259,
          5.28482,
          8.690839,
          8.754509,
          9.085922,
          7.2763863,
          9.009367,
          8.521133,
          8.973625,
          6.6404185,
          8.528473,
          8.942201,
          8.229793,
          8.530187,
          8.233433,
          6.6950707,
          6.7346025,
          7.143759,
          8.238922,
          7.818374,
          6.744741,
          5.5599275,
          9.025331
         ]
        },
        {
         "hoverinfo": "text",
         "hovertext": [
          "a digestao e dificil meu filho nao e carnivoro e desanimei de comer",
          "a carne nao faz muita faltanao faz uma boa digestao",
          "por nao me sentir bem ao comer muita carne",
          "porque a carne demora pra se desfazer no nosso estomago",
          "tenho apresentado as vezes certa aversao a carne e sinto minha digestao muito lenta quando consumo",
          "nao me sinto bem quando como carne vermelha principalmente tenho pior digestao quando como esses alimentos",
          "eu deixo de comer carte com frequencia por opcao acho que a digestao e melhor as vezes eu passo mal dependendo da carne que como",
          "nao gosto de comer carne vermelha, eu passo mal",
          "nunca gostei muito de carne, e a sensacao que me da depois de comer nao e legal e um cheio ruim",
          "o gosto de sangue me da enjoo na carne vermelha sinto mais repulsao sinto meu estômago pesado nao me sinto bem espiritualmente",
          "porque sinto que quando me alimento de carne fico com mal estar",
          "nao gosto do sabor da carne e de sua textura",
          "carnes faz mal pra saude, principalmente as vermelhas, nao gosto muito de carnes desses animais, muito hormônio",
          "porque nao me sinto bem ao comer carne vermelha com frequencia (causa ma digestao, gases, refluxo, colicas) e porque quero comer mais saudavel",
          "saude quando como carne vermelha me sinto mal do estômago",
          "nao gosto da digestao, considero uma carne dificil de digerir",
          "nem sabia que existia esse termo, deixei de\ncomer por nao processar muito bem a carne vermelha",
          "as vezes me sinto intolerante ao consumo de carnes",
          "pela processo digestorio da carne no organismo",
          "religiao e textura da carne na mastigacao",
          "nao como muita carne e fico enjoado quando como um pouco a mais do o que como normalmente",
          "porque a ingestao de carne me deixa indisposta",
          null
         ],
         "marker": {
          "opacity": 0.5,
          "size": 5
         },
         "mode": "markers+text",
         "name": "4_Experiências negativas com carne vermelha",
         "text": [
          "",
          "",
          "",
          "",
          "",
          "",
          "",
          "",
          "",
          "",
          "",
          "",
          "",
          "",
          "",
          "",
          "",
          "",
          "",
          "",
          "",
          "",
          "4_Experiências negativas com carne vermelha"
         ],
         "textfont": {
          "size": 12
         },
         "type": "scattergl",
         "x": [
          14.631614,
          14.654472,
          14.9108095,
          14.766405,
          14.882403,
          14.737723,
          14.920416,
          14.759654,
          14.841752,
          14.707865,
          14.837026,
          14.963282,
          14.866625,
          14.9214,
          14.733055,
          14.670128,
          14.899741,
          14.908955,
          14.742894,
          14.593669,
          14.793989,
          14.846797,
          14.799575
         ],
         "y": [
          8.222588,
          8.385172,
          8.3842325,
          8.28967,
          8.261038,
          8.432896,
          8.2321415,
          8.622993,
          8.827173,
          8.523775,
          8.422356,
          8.9646845,
          7.4582996,
          8.189358,
          8.400036,
          8.322539,
          8.132147,
          8.277599,
          8.287951,
          8.160435,
          8.767948,
          8.309029,
          8.357911
         ]
        },
        {
         "hoverinfo": "text",
         "hovertext": [
          "nao sinto necessidade em consumir carna todos os dias",
          "porque nem todos os dias consumo animais ja retirei o consumo de carne de boi da minha dieta",
          "por nao consumir carnes ou alimentos de origem animal todos os dias",
          "porque sinto fraqueza se nao como carne preciso comer pelo menos 1 vez por semana",
          "pela nao necessidade de consumo diario de carne",
          "porque ha dias na semana em que nao como carne, principalmente carne vermelha",
          "porque nao consumo carne todos os dias !",
          "consumo carne apenas na refeicao do almoco",
          "porque consigo flexibilizar a dieta entre comer e nao comer carne",
          "porque nao consumo proteina de origem animal todos os dias e nem em todas as refeicões no mesmo dia",
          "porque nao sinto a necessidade de comer carne todos os dias, pesa muito",
          "tento evitar consumo de carne nas segundas e sextas feiras",
          "por nao consumir carnes todos os dias, mas nao deixar de comer",
          "toda a semana eu evito comer carne nem que seja em um dia inteiro ou uma refeicao no dia",
          "porque nao consigo deixar de comer carne mas tambem nao consigo comer todos os dias",
          "porque tento reduzir o consumo de carnes em todas as refeicões, comendo apenas no almoco, e procuro nao consumir nenhuma carne em pelo menos um dia da semana",
          "porque aqui em casa comecamos a adotar esse habito, de um ou dois dias da semana, nao fazer o consumo de carne",
          "pois nao como carne todos os dias ou qnd como sao em pequenas porcões pois nao",
          "porque excluo conscientemente carne principalmente vermelha em pelo menos 1 refeicao ao dia",
          "porque aboli carne mais de uma vez na semana",
          "por ter tirado as carnes de segunda-feira e dos jantares durante a semana",
          "porque exclui carne pelo menos 1x por semana",
          "porque procuro, pelo menos, uma vez na semana nao comer carne",
          "porque tento diminuir o consumo de carne e nao faco consumo todos os dias da semana",
          "porque no decorrer da semana, tenho adotado o habito, sempre que possivel, de nao usar a carne como um elemento das preparacões que elaboro em casa o que permite que ao menos 3 ou 4 dias da semana nao haja consumo de carne na minha dieta",
          "pois nao como carne durante tres dias na semana, sendo um deles sem nenhum alimento de origem animal a escolha decorre principalmente devido aos tipos de criacões de animais que considero ruins e tambem devido a questao ambiental",
          "porque como carne (qualquer animal) apenas 2 vezes na semana",
          "porque evito comer carne todos os dias da semana",
          "tento comer menos carne durante a semana",
          "sim, porque evito consumo de carne (qualquer tipo) em uma das grandes refeicões diarias",
          "porque retirei a carne pelo menos umas 2x/semana",
          "porque procuro algumas vezes na semana substituir alimentos de origem animal na minha refeicao",
          "por nao consumir carne todos os dias da semana",
          "porque decidi deixar de consumir carnes duas vezes na semana",
          "porque nao consumo mais mamiferos e faco a segunda sem carne!",
          "porque eu comia carne 2x por dia, hoje como somente 01 vez ao dia",
          "porque procuro reduzir o consumo de carne ao longo da semana",
          "porque nao como mais 2 vezes ao dia mas substituo varias vezes na semana por ovos e ate queijo e requeijao",
          "nao me considero apenas por motivo religioso nao como carne as sextas",
          "por excluo a carne vermelha durante um dia na semana",
          "porque nao consumo carne ao menos 2x na semana",
          "nao como carne vermelha, nem frango, normalmente durante a semana no minimo dois dias nao como carne alguma",
          "porque nao consumo carne mais de uma vez ao dia",
          "pela preocupacao em nao consumir proteina animal em pelo menos duas refeicões na semana",
          "porque em alguns dias semana, nao como derivados de animal",
          "por nao ter a carne no cardapio diariamente, ou como uma necessidade",
          "motivo religioso abstinencia de carne nas sextas-feiras",
          "porque toda semana procuro nao comer carne ao menos um dia",
          "por exercer em semanas alternadas o consumo de carne",
          "porque nao como nada de carne 1 vez na semana e tento diminuir o consumo nos outros dias",
          "porque nao consumo carne em todas as refeicões",
          "sei de provaveis maleficios da carne ao organismo entao 1 ou 2x na semana evito a ingestao",
          "por fazer pelo menos uma grande refeicao por semana sem carne",
          null
         ],
         "marker": {
          "opacity": 0.5,
          "size": 5
         },
         "mode": "markers+text",
         "name": "5_Redução do Consumo de Carne Semanalmente",
         "text": [
          "",
          "",
          "",
          "",
          "",
          "",
          "",
          "",
          "",
          "",
          "",
          "",
          "",
          "",
          "",
          "",
          "",
          "",
          "",
          "",
          "",
          "",
          "",
          "",
          "",
          "",
          "",
          "",
          "",
          "",
          "",
          "",
          "",
          "",
          "",
          "",
          "",
          "",
          "",
          "",
          "",
          "",
          "",
          "",
          "",
          "",
          "",
          "",
          "",
          "",
          "",
          "",
          "",
          "5_Redução do Consumo de Carne Semanalmente"
         ],
         "textfont": {
          "size": 12
         },
         "type": "scattergl",
         "x": [
          17.1555,
          17.425411,
          17.282764,
          17.50024,
          17.343807,
          17.719643,
          17.440987,
          17.551632,
          17.371748,
          17.075306,
          17.164968,
          18.051567,
          17.432638,
          17.876911,
          17.347164,
          17.886354,
          18.110498,
          17.526667,
          17.778326,
          17.967274,
          17.981955,
          17.869719,
          17.845232,
          17.960094,
          18.011652,
          17.956245,
          18.04206,
          17.570818,
          18.090582,
          17.593355,
          17.965313,
          17.333937,
          17.455858,
          18.122692,
          17.878485,
          17.56788,
          18.12609,
          17.374807,
          14.802346,
          17.867685,
          17.956112,
          17.61458,
          17.60959,
          17.39231,
          17.342829,
          17.388119,
          18.0204,
          17.892729,
          18.176397,
          17.965494,
          17.376646,
          17.927536,
          17.887518,
          17.641066
         ],
         "y": [
          10.845208,
          10.749108,
          10.675971,
          11.009292,
          10.670064,
          10.945461,
          10.798994,
          10.964785,
          10.963101,
          10.601025,
          10.911284,
          10.715252,
          10.755795,
          10.849952,
          10.824682,
          10.599275,
          10.529357,
          10.651811,
          11.336959,
          11.189432,
          11.135649,
          11.236085,
          11.015057,
          10.618753,
          10.572136,
          10.57209,
          11.129955,
          10.808304,
          10.659164,
          10.814634,
          11.135976,
          11.012498,
          10.757543,
          10.791442,
          10.72614,
          11.246729,
          10.583716,
          11.224388,
          9.8431635,
          11.222169,
          10.794246,
          10.883899,
          11.034323,
          10.423827,
          10.931556,
          10.668895,
          11.043614,
          10.845744,
          10.948506,
          10.730328,
          10.878677,
          10.864467,
          10.953459,
          10.84328
         ]
        },
        {
         "hoverinfo": "text",
         "hovertext": [
          "por comer pouca carne e nao sentir falta na rotina mas ao mesmo tempo como por certas facilidades - ex quando vou comer na casa de outras pessoas",
          "nao necessito da carne como fonte principal de minha dieta outros alimentos contem proteina necessaria",
          "procuro comer um pouco de tudo e sei que nao preciso escolher carne todo o tempo",
          "porque eu como um pouco de tudo desde leguminosass e verdura a carne",
          "pois como alem de carne como as vegetarianas",
          "eu nao preparo carnes, mas a rua e socializando acabo comendo um pouco",
          "porque fico bem sem carne, mas qdo passo muito tempo sem, acabo sentindo falta",
          "nao faco questao da carne animal na minha alimentacao porem, se me e ofertado nao recuso nao gosto do sabor da carne( principalmente a vermelha), como por conta da necessidade da proteina no funcionamento do corpo",
          "porque como pouca quantidade de proteina animal principalmente carne vermelha nao me apetece muito prefiro legumes e verduras gostaria ate de virar vegetariana",
          "porque eu apesar de nao conseguir ficar sem carne, eu gosto muito de fazer refeicões sem nenhuma carne e tb porque mesmo qdo como carne, a quantidade e bem pequena",
          "porque eu ate como carne, mas muito poucose como carne, seleciono muito a procedencia nao me faz falta",
          "porque nao sinto necessidade em ingerir proteina animal em todas as refeicões e me sinto bem ao conseguir incluir refeicões sem carne ou ate menos sem ingredientes de origem animal no geral",
          "como carne mas se nao tiver nao me faz falta",
          "como pouca carne, mas nao deixei de comer",
          "nao considero a carne como \"personagem principal do meu prato\" e estou sempre aberta a novas fontes de proteinas",
          "porque carne sempre foi um complemento e nao o prato principal na minha casa, damos preferencia a legumes e verduras",
          "porque como tudo mas a carne para mim nao e indispensavel",
          null
         ],
         "marker": {
          "opacity": 0.5,
          "size": 5
         },
         "mode": "markers+text",
         "name": "6_Preferências Alimentares e Consumo de Carne",
         "text": [
          "",
          "",
          "",
          "",
          "",
          "",
          "",
          "",
          "",
          "",
          "",
          "",
          "",
          "",
          "",
          "",
          "",
          "6_Preferências Alimentares e Consumo de Carne"
         ],
         "textfont": {
          "size": 12
         },
         "type": "scattergl",
         "x": [
          15.635943,
          16.423967,
          15.357175,
          15.496741,
          15.391818,
          15.146024,
          15.639893,
          15.388585,
          16.433361,
          15.554554,
          15.404336,
          16.571793,
          15.245886,
          15.210605,
          16.391401,
          16.12735,
          15.493974,
          15.700789
         ],
         "y": [
          9.891456,
          10.362167,
          9.896103,
          9.840672,
          10.215401,
          9.896776,
          9.862425,
          10.116123,
          10.094844,
          9.806022,
          9.82135,
          10.391426,
          9.547312,
          9.605741,
          10.328865,
          9.892706,
          9.662204,
          9.954799
         ]
        }
       ],
       "layout": {
        "annotations": [
         {
          "showarrow": false,
          "text": "D1",
          "x": 9.842887258529663,
          "y": 9.321933698654174,
          "yshift": 10
         },
         {
          "showarrow": false,
          "text": "D2",
          "x": 15.779245066642762,
          "xshift": 10,
          "y": 14.211536359786987
         }
        ],
        "height": 750,
        "shapes": [
         {
          "line": {
           "color": "#CFD8DC",
           "width": 2
          },
          "type": "line",
          "x0": 15.779245066642762,
          "x1": 15.779245066642762,
          "y0": 4.4323310375213625,
          "y1": 14.211536359786987
         },
         {
          "line": {
           "color": "#9E9E9E",
           "width": 2
          },
          "type": "line",
          "x0": 9.842887258529663,
          "x1": 21.71560287475586,
          "y0": 9.321933698654174,
          "y1": 9.321933698654174
         }
        ],
        "template": {
         "data": {
          "bar": [
           {
            "error_x": {
             "color": "rgb(36,36,36)"
            },
            "error_y": {
             "color": "rgb(36,36,36)"
            },
            "marker": {
             "line": {
              "color": "white",
              "width": 0.5
             },
             "pattern": {
              "fillmode": "overlay",
              "size": 10,
              "solidity": 0.2
             }
            },
            "type": "bar"
           }
          ],
          "barpolar": [
           {
            "marker": {
             "line": {
              "color": "white",
              "width": 0.5
             },
             "pattern": {
              "fillmode": "overlay",
              "size": 10,
              "solidity": 0.2
             }
            },
            "type": "barpolar"
           }
          ],
          "carpet": [
           {
            "aaxis": {
             "endlinecolor": "rgb(36,36,36)",
             "gridcolor": "white",
             "linecolor": "white",
             "minorgridcolor": "white",
             "startlinecolor": "rgb(36,36,36)"
            },
            "baxis": {
             "endlinecolor": "rgb(36,36,36)",
             "gridcolor": "white",
             "linecolor": "white",
             "minorgridcolor": "white",
             "startlinecolor": "rgb(36,36,36)"
            },
            "type": "carpet"
           }
          ],
          "choropleth": [
           {
            "colorbar": {
             "outlinewidth": 1,
             "tickcolor": "rgb(36,36,36)",
             "ticks": "outside"
            },
            "type": "choropleth"
           }
          ],
          "contour": [
           {
            "colorbar": {
             "outlinewidth": 1,
             "tickcolor": "rgb(36,36,36)",
             "ticks": "outside"
            },
            "colorscale": [
             [
              0,
              "#440154"
             ],
             [
              0.1111111111111111,
              "#482878"
             ],
             [
              0.2222222222222222,
              "#3e4989"
             ],
             [
              0.3333333333333333,
              "#31688e"
             ],
             [
              0.4444444444444444,
              "#26828e"
             ],
             [
              0.5555555555555556,
              "#1f9e89"
             ],
             [
              0.6666666666666666,
              "#35b779"
             ],
             [
              0.7777777777777778,
              "#6ece58"
             ],
             [
              0.8888888888888888,
              "#b5de2b"
             ],
             [
              1,
              "#fde725"
             ]
            ],
            "type": "contour"
           }
          ],
          "contourcarpet": [
           {
            "colorbar": {
             "outlinewidth": 1,
             "tickcolor": "rgb(36,36,36)",
             "ticks": "outside"
            },
            "type": "contourcarpet"
           }
          ],
          "heatmap": [
           {
            "colorbar": {
             "outlinewidth": 1,
             "tickcolor": "rgb(36,36,36)",
             "ticks": "outside"
            },
            "colorscale": [
             [
              0,
              "#440154"
             ],
             [
              0.1111111111111111,
              "#482878"
             ],
             [
              0.2222222222222222,
              "#3e4989"
             ],
             [
              0.3333333333333333,
              "#31688e"
             ],
             [
              0.4444444444444444,
              "#26828e"
             ],
             [
              0.5555555555555556,
              "#1f9e89"
             ],
             [
              0.6666666666666666,
              "#35b779"
             ],
             [
              0.7777777777777778,
              "#6ece58"
             ],
             [
              0.8888888888888888,
              "#b5de2b"
             ],
             [
              1,
              "#fde725"
             ]
            ],
            "type": "heatmap"
           }
          ],
          "heatmapgl": [
           {
            "colorbar": {
             "outlinewidth": 1,
             "tickcolor": "rgb(36,36,36)",
             "ticks": "outside"
            },
            "colorscale": [
             [
              0,
              "#440154"
             ],
             [
              0.1111111111111111,
              "#482878"
             ],
             [
              0.2222222222222222,
              "#3e4989"
             ],
             [
              0.3333333333333333,
              "#31688e"
             ],
             [
              0.4444444444444444,
              "#26828e"
             ],
             [
              0.5555555555555556,
              "#1f9e89"
             ],
             [
              0.6666666666666666,
              "#35b779"
             ],
             [
              0.7777777777777778,
              "#6ece58"
             ],
             [
              0.8888888888888888,
              "#b5de2b"
             ],
             [
              1,
              "#fde725"
             ]
            ],
            "type": "heatmapgl"
           }
          ],
          "histogram": [
           {
            "marker": {
             "line": {
              "color": "white",
              "width": 0.6
             }
            },
            "type": "histogram"
           }
          ],
          "histogram2d": [
           {
            "colorbar": {
             "outlinewidth": 1,
             "tickcolor": "rgb(36,36,36)",
             "ticks": "outside"
            },
            "colorscale": [
             [
              0,
              "#440154"
             ],
             [
              0.1111111111111111,
              "#482878"
             ],
             [
              0.2222222222222222,
              "#3e4989"
             ],
             [
              0.3333333333333333,
              "#31688e"
             ],
             [
              0.4444444444444444,
              "#26828e"
             ],
             [
              0.5555555555555556,
              "#1f9e89"
             ],
             [
              0.6666666666666666,
              "#35b779"
             ],
             [
              0.7777777777777778,
              "#6ece58"
             ],
             [
              0.8888888888888888,
              "#b5de2b"
             ],
             [
              1,
              "#fde725"
             ]
            ],
            "type": "histogram2d"
           }
          ],
          "histogram2dcontour": [
           {
            "colorbar": {
             "outlinewidth": 1,
             "tickcolor": "rgb(36,36,36)",
             "ticks": "outside"
            },
            "colorscale": [
             [
              0,
              "#440154"
             ],
             [
              0.1111111111111111,
              "#482878"
             ],
             [
              0.2222222222222222,
              "#3e4989"
             ],
             [
              0.3333333333333333,
              "#31688e"
             ],
             [
              0.4444444444444444,
              "#26828e"
             ],
             [
              0.5555555555555556,
              "#1f9e89"
             ],
             [
              0.6666666666666666,
              "#35b779"
             ],
             [
              0.7777777777777778,
              "#6ece58"
             ],
             [
              0.8888888888888888,
              "#b5de2b"
             ],
             [
              1,
              "#fde725"
             ]
            ],
            "type": "histogram2dcontour"
           }
          ],
          "mesh3d": [
           {
            "colorbar": {
             "outlinewidth": 1,
             "tickcolor": "rgb(36,36,36)",
             "ticks": "outside"
            },
            "type": "mesh3d"
           }
          ],
          "parcoords": [
           {
            "line": {
             "colorbar": {
              "outlinewidth": 1,
              "tickcolor": "rgb(36,36,36)",
              "ticks": "outside"
             }
            },
            "type": "parcoords"
           }
          ],
          "pie": [
           {
            "automargin": true,
            "type": "pie"
           }
          ],
          "scatter": [
           {
            "fillpattern": {
             "fillmode": "overlay",
             "size": 10,
             "solidity": 0.2
            },
            "type": "scatter"
           }
          ],
          "scatter3d": [
           {
            "line": {
             "colorbar": {
              "outlinewidth": 1,
              "tickcolor": "rgb(36,36,36)",
              "ticks": "outside"
             }
            },
            "marker": {
             "colorbar": {
              "outlinewidth": 1,
              "tickcolor": "rgb(36,36,36)",
              "ticks": "outside"
             }
            },
            "type": "scatter3d"
           }
          ],
          "scattercarpet": [
           {
            "marker": {
             "colorbar": {
              "outlinewidth": 1,
              "tickcolor": "rgb(36,36,36)",
              "ticks": "outside"
             }
            },
            "type": "scattercarpet"
           }
          ],
          "scattergeo": [
           {
            "marker": {
             "colorbar": {
              "outlinewidth": 1,
              "tickcolor": "rgb(36,36,36)",
              "ticks": "outside"
             }
            },
            "type": "scattergeo"
           }
          ],
          "scattergl": [
           {
            "marker": {
             "colorbar": {
              "outlinewidth": 1,
              "tickcolor": "rgb(36,36,36)",
              "ticks": "outside"
             }
            },
            "type": "scattergl"
           }
          ],
          "scattermapbox": [
           {
            "marker": {
             "colorbar": {
              "outlinewidth": 1,
              "tickcolor": "rgb(36,36,36)",
              "ticks": "outside"
             }
            },
            "type": "scattermapbox"
           }
          ],
          "scatterpolar": [
           {
            "marker": {
             "colorbar": {
              "outlinewidth": 1,
              "tickcolor": "rgb(36,36,36)",
              "ticks": "outside"
             }
            },
            "type": "scatterpolar"
           }
          ],
          "scatterpolargl": [
           {
            "marker": {
             "colorbar": {
              "outlinewidth": 1,
              "tickcolor": "rgb(36,36,36)",
              "ticks": "outside"
             }
            },
            "type": "scatterpolargl"
           }
          ],
          "scatterternary": [
           {
            "marker": {
             "colorbar": {
              "outlinewidth": 1,
              "tickcolor": "rgb(36,36,36)",
              "ticks": "outside"
             }
            },
            "type": "scatterternary"
           }
          ],
          "surface": [
           {
            "colorbar": {
             "outlinewidth": 1,
             "tickcolor": "rgb(36,36,36)",
             "ticks": "outside"
            },
            "colorscale": [
             [
              0,
              "#440154"
             ],
             [
              0.1111111111111111,
              "#482878"
             ],
             [
              0.2222222222222222,
              "#3e4989"
             ],
             [
              0.3333333333333333,
              "#31688e"
             ],
             [
              0.4444444444444444,
              "#26828e"
             ],
             [
              0.5555555555555556,
              "#1f9e89"
             ],
             [
              0.6666666666666666,
              "#35b779"
             ],
             [
              0.7777777777777778,
              "#6ece58"
             ],
             [
              0.8888888888888888,
              "#b5de2b"
             ],
             [
              1,
              "#fde725"
             ]
            ],
            "type": "surface"
           }
          ],
          "table": [
           {
            "cells": {
             "fill": {
              "color": "rgb(237,237,237)"
             },
             "line": {
              "color": "white"
             }
            },
            "header": {
             "fill": {
              "color": "rgb(217,217,217)"
             },
             "line": {
              "color": "white"
             }
            },
            "type": "table"
           }
          ]
         },
         "layout": {
          "annotationdefaults": {
           "arrowhead": 0,
           "arrowwidth": 1
          },
          "autotypenumbers": "strict",
          "coloraxis": {
           "colorbar": {
            "outlinewidth": 1,
            "tickcolor": "rgb(36,36,36)",
            "ticks": "outside"
           }
          },
          "colorscale": {
           "diverging": [
            [
             0,
             "rgb(103,0,31)"
            ],
            [
             0.1,
             "rgb(178,24,43)"
            ],
            [
             0.2,
             "rgb(214,96,77)"
            ],
            [
             0.3,
             "rgb(244,165,130)"
            ],
            [
             0.4,
             "rgb(253,219,199)"
            ],
            [
             0.5,
             "rgb(247,247,247)"
            ],
            [
             0.6,
             "rgb(209,229,240)"
            ],
            [
             0.7,
             "rgb(146,197,222)"
            ],
            [
             0.8,
             "rgb(67,147,195)"
            ],
            [
             0.9,
             "rgb(33,102,172)"
            ],
            [
             1,
             "rgb(5,48,97)"
            ]
           ],
           "sequential": [
            [
             0,
             "#440154"
            ],
            [
             0.1111111111111111,
             "#482878"
            ],
            [
             0.2222222222222222,
             "#3e4989"
            ],
            [
             0.3333333333333333,
             "#31688e"
            ],
            [
             0.4444444444444444,
             "#26828e"
            ],
            [
             0.5555555555555556,
             "#1f9e89"
            ],
            [
             0.6666666666666666,
             "#35b779"
            ],
            [
             0.7777777777777778,
             "#6ece58"
            ],
            [
             0.8888888888888888,
             "#b5de2b"
            ],
            [
             1,
             "#fde725"
            ]
           ],
           "sequentialminus": [
            [
             0,
             "#440154"
            ],
            [
             0.1111111111111111,
             "#482878"
            ],
            [
             0.2222222222222222,
             "#3e4989"
            ],
            [
             0.3333333333333333,
             "#31688e"
            ],
            [
             0.4444444444444444,
             "#26828e"
            ],
            [
             0.5555555555555556,
             "#1f9e89"
            ],
            [
             0.6666666666666666,
             "#35b779"
            ],
            [
             0.7777777777777778,
             "#6ece58"
            ],
            [
             0.8888888888888888,
             "#b5de2b"
            ],
            [
             1,
             "#fde725"
            ]
           ]
          },
          "colorway": [
           "#1F77B4",
           "#FF7F0E",
           "#2CA02C",
           "#D62728",
           "#9467BD",
           "#8C564B",
           "#E377C2",
           "#7F7F7F",
           "#BCBD22",
           "#17BECF"
          ],
          "font": {
           "color": "rgb(36,36,36)"
          },
          "geo": {
           "bgcolor": "white",
           "lakecolor": "white",
           "landcolor": "white",
           "showlakes": true,
           "showland": true,
           "subunitcolor": "white"
          },
          "hoverlabel": {
           "align": "left"
          },
          "hovermode": "closest",
          "mapbox": {
           "style": "light"
          },
          "paper_bgcolor": "white",
          "plot_bgcolor": "white",
          "polar": {
           "angularaxis": {
            "gridcolor": "rgb(232,232,232)",
            "linecolor": "rgb(36,36,36)",
            "showgrid": false,
            "showline": true,
            "ticks": "outside"
           },
           "bgcolor": "white",
           "radialaxis": {
            "gridcolor": "rgb(232,232,232)",
            "linecolor": "rgb(36,36,36)",
            "showgrid": false,
            "showline": true,
            "ticks": "outside"
           }
          },
          "scene": {
           "xaxis": {
            "backgroundcolor": "white",
            "gridcolor": "rgb(232,232,232)",
            "gridwidth": 2,
            "linecolor": "rgb(36,36,36)",
            "showbackground": true,
            "showgrid": false,
            "showline": true,
            "ticks": "outside",
            "zeroline": false,
            "zerolinecolor": "rgb(36,36,36)"
           },
           "yaxis": {
            "backgroundcolor": "white",
            "gridcolor": "rgb(232,232,232)",
            "gridwidth": 2,
            "linecolor": "rgb(36,36,36)",
            "showbackground": true,
            "showgrid": false,
            "showline": true,
            "ticks": "outside",
            "zeroline": false,
            "zerolinecolor": "rgb(36,36,36)"
           },
           "zaxis": {
            "backgroundcolor": "white",
            "gridcolor": "rgb(232,232,232)",
            "gridwidth": 2,
            "linecolor": "rgb(36,36,36)",
            "showbackground": true,
            "showgrid": false,
            "showline": true,
            "ticks": "outside",
            "zeroline": false,
            "zerolinecolor": "rgb(36,36,36)"
           }
          },
          "shapedefaults": {
           "fillcolor": "black",
           "line": {
            "width": 0
           },
           "opacity": 0.3
          },
          "ternary": {
           "aaxis": {
            "gridcolor": "rgb(232,232,232)",
            "linecolor": "rgb(36,36,36)",
            "showgrid": false,
            "showline": true,
            "ticks": "outside"
           },
           "baxis": {
            "gridcolor": "rgb(232,232,232)",
            "linecolor": "rgb(36,36,36)",
            "showgrid": false,
            "showline": true,
            "ticks": "outside"
           },
           "bgcolor": "white",
           "caxis": {
            "gridcolor": "rgb(232,232,232)",
            "linecolor": "rgb(36,36,36)",
            "showgrid": false,
            "showline": true,
            "ticks": "outside"
           }
          },
          "title": {
           "x": 0.05
          },
          "xaxis": {
           "automargin": true,
           "gridcolor": "rgb(232,232,232)",
           "linecolor": "rgb(36,36,36)",
           "showgrid": false,
           "showline": true,
           "ticks": "outside",
           "title": {
            "standoff": 15
           },
           "zeroline": false,
           "zerolinecolor": "rgb(36,36,36)"
          },
          "yaxis": {
           "automargin": true,
           "gridcolor": "rgb(232,232,232)",
           "linecolor": "rgb(36,36,36)",
           "showgrid": false,
           "showline": true,
           "ticks": "outside",
           "title": {
            "standoff": 15
           },
           "zeroline": false,
           "zerolinecolor": "rgb(36,36,36)"
          }
         }
        },
        "title": {
         "font": {
          "color": "Black",
          "size": 22
         },
         "text": "<b>Documents and Topics</b>",
         "x": 0.5,
         "xanchor": "center",
         "yanchor": "top"
        },
        "width": 1200,
        "xaxis": {
         "visible": false
        },
        "yaxis": {
         "visible": false
        }
       }
      },
      "text/html": [
       "<div>                            <div id=\"eae9068b-5ad4-49d4-9db1-76d36920bc56\" class=\"plotly-graph-div\" style=\"height:750px; width:1200px;\"></div>            <script type=\"text/javascript\">                require([\"plotly\"], function(Plotly) {                    window.PLOTLYENV=window.PLOTLYENV || {};                                    if (document.getElementById(\"eae9068b-5ad4-49d4-9db1-76d36920bc56\")) {                    Plotly.newPlot(                        \"eae9068b-5ad4-49d4-9db1-76d36920bc56\",                        [{\"hoverinfo\":\"text\",\"hovertext\":[\"porque nao faco questao de ter carne nas principais refeicões do dia e com frequencia as dispenso\",\"pois nao me obrigo a comer nem carne nem 100% vegetal acabo variando bastante focando no meu bem-estar e vontade do momento\",\"porque cortei quase todas as carnes da dieta, comendo alimentos de origem vegetal durante a maior parte da semana desde 2016, sendo os alimentos de origem animal que ingiro apenas ovos e frutos do mar ocasionalmente\",\"porque tento reduzir ao maximo o consumo de carne, apesar de nao conseguir ter feito totalmente\",\"por fazer uso de pouca carne animal e gostar de mais de vegetais\",\"porque diminui o consumo de carne vermelha como resultado do climaterio\",\"nao sinto necessidade de comer carne em todas as refeicões\",\"evito comer carne ao maximo, alem disso, estou buscando diminuir o consumo de laticinios e processados de origem animal so como frango em situacões excepcionais como, festas, eventos e lanches de rua, coisa que nao acontece com frequencia\",\"porque escolho nao consumir alimentos de origem animal sempre que posso\",\"eu sou na realidade um vegetariano que quando realmente nao tem nenhuma opcao proteica digna, come carne nao compro carne\",\"pois apesar de nao tirar carne da minha dieta, tento consumir menos a cada dia\",\"por conseguir reduzir o consumo da carne ao longo da semana, ha cerca de quatro meses, e gostar dessa mudanca, com isso pretendendo continuar com essa adaptacao alimentar\",\"mudei o padrao de consumo de carne animal de 2 vezes ao dia para uma vez ao dia acredito que os processo de criacao e comercio dos animais nao sao estao no padrao da sustentabilidade ambiental a minha meta e consumir carnes apenas tres vezes por semana ate o final deste ano!\",\"nao me alimento de carnes normalmente, mas como peixe uma vez por mes para regular as bacterias do estômago e intestinos, alem de comer sardinha por conta de seu controle populacional por varios motivos adotei varias dietas, e hoje sou flexitariano para ter uma boa nutricao pessoal (a carne da menos energia que os vegetais) e, mormente, por razões ecologicas e sustentaveis (acredito que o veganismo e o vegetarianismo nao sao realmente sustentaveis, e que sua filosofia e boa e conveniente, mas falha, tendo-a adotado em partes, apos ter sido ja vegetariano e entao vegano)\",\"em muitas refeicões nao consumo carne, substituo a carne pela batata, facilmente\",\"porque tento comer o minimo de carne possivel\",\"nao me considero, adoro uma carne bem feita\",\"pelo fato de consumir corretamente (em sua grande parte) o almoco no servico, prefiro a noite nao jantar comida e sim pao, bolacha, copo de leite, qualquer outra coisa principalmente pelo fato de ter que \\\"cozinhar\\\", no servico o alimento que consumimos e produzido em marmitarias\",\"busco cada vez mais reduzir o que posso de carne animal na alimentacao ou consumi-las de maneira sustentavel\",\"nao me preocupo com o rotulo, so estou reduzindo o consumo de carne\",\"sei que o sistema que alimentacao carnivora nao e saudavel (tanto para os animais  ja que sao mortos quanto para nos) mas ainda nao consegui largar a carne entao tento evitar sempre que posso\",\"porque consumir esse tipo de alimento aumenta muito meus gastos com alimentacao e esse movimento me fez repensar sobre a exploracao animal e do meio ambiente que existem na producao de carnes\",\"porque cortei integralmente o consumo de carne vermelha e derivados e quando possivel opto por nao consumir nenhum tipo de carne alem de estar aberta ao consumo de preparacões e refeicões sem ingredientes de origem animal\",\"pois priorizo nao comer carnes no dia a dia, porem nao me considero vegetariana por ainda consumir com uma certa frequencia\",\"eventualmente eu como frango ou peixe, sempre fora de casa, onde nao encontro outras opcões\",\"porque foi uma acao intencional nao comer carne as segundas feiras e tambem reduzir o consumo de carne vermelha ja faz algum tempo que esse habito foi incorporado a minha rotina\",\"porque a carne nome faz falta na alimentacao\",\"porque evito carne ha muitos anos pelo sabor que nao me agrada\",\"porque eu consumo pouca carne bovina, utilizando mais outras opcões de proteinas, por digestibilidade e financeiro\",\"assisti a um documentario que me fez refletir sobre a producao e o consumo de carne vermelha assim passei a consumir apenas frango peixe ovos\",\"contribuir com o meio ambiente diminuir o consumo de hormônios add as carnes e manter alimentacao saudavel e adequada\",\"porque minha alimentacao e quase toda sem carne, ha mais dois venho reduzindo gradativamente mas as vezes se tiver muita vontade de consumir algo que tem carne me permito sem culpa, mas e cada vez menos frequente\",\"ha 3 anos venho reduzindo o consumo de carne\",\"porque nao me sinto bem comendo animais, especialmente de grande porte\",\"porque depois da cirurgia bariatrica sinto a carne vermelha muito pesada, e reduzi consumo!\",\"fiquei totalmente vegetariana por 7 anos e senti necessidade de voltar a comer peixe mas os demais nao quero e consigo consumir\",\"por ter problemas de estômago, articulares e gostar muito de uma alimentacao mais natural\",\"digestao dificil de carne vermelha, consciencia do tratamento oferecido a esses animais em matadouros\",\"porque nao quero precisar repôr a vitamina b12 de forma artifical e possuo galinhas no quintal que fornecem ovos (os quais contem b12)\",\"pois ainda consumo carnes entretanto procuro diminuir esse consumo\",\"sim, por mais que tenho marcado uma media de 3 vezes na semana , mas ja na metade do mes o consumo e muito reduzido entao fica mais no arroz , feijao e principalmente miojo ou sopa\",\"decidi, desde o inicio do curso de nutricao, comecar a reduzir o consumo de carne iniciei com a reducao de carne vermelha, e atualmente pratico a “segunda sem carne”, as vezes aplicando mais de uma vez por semana\",\"ja uns anos desde a adolescencia (nos anos 2000) eu optei por reduzir o consumo de carne vermelha por nao gostar do sabor e de como eu fico depois que consumo o que nao ocorre tanto quando eu como frango porco (um pouco por causa da gordura) e peixe exceto da forma como as comidas sao temperadas ou cozidas so que tambem nao e algo que me faca falta e mesmo assim de vez em quando fico umas semanas sem consumir carne nenhuma\",\"reduzi o consumo de carne vermelha, porque identifiquei que nao faco a digestao adequadamente\",\"por ser adepta as causas animais e por fazer dieta para doenca renal crônica (necessidade de baixo consumo de proteina, principalmente carne vermelha)\",\"porque acho desnecessario o volume de proteina animal ingerido convencionalmente pelas pessoas\",\"por uma questao de equilibrio entre dieta e consumo sustentavel\",\"de alguma forma o sabor da carne nao agrada o meu paladar como antes\",\"porque me preocupo com minha saude, o alto consumo de carne nao faz bem, porem nao consigo ser vegana no momento\",\"tento reduzir ao maximo o consume de carnes ja tirei totalmente do cafe da manha e a janta, so como em alguns almocos ou ocasiões especiais\",\"porque nao gosto de carne, tenho do dos animais\",\"sim, alem de estar reduzindo o consumo de carne, estou tentando consumir tudo de forma mais consciente e preferindo sempre alimentos orgânicos, inclusive carne se possivel, ovos\",\"tenho consciencia que o consumo exacerbado de carnes prejudica nossa saude e o meio ambiente\",\"porque como carne suina e frango caipira em media 5 vezes por ano\",\"nem sempre quero comer carne, ja e um costume desde a infância\",\"nao me interesso muito por carne vermelha, nao compro, so como se alguem me convidar pra comer nao sinto necessidade de comer carne todos os dias, muito menos em todas as refeicões\",\"porque substituo a carne por outras opcões vegetais\",\"nunca gostei muito de consumir carne vermelha, entao acabei reduzindo a presenca na minha dieta\",\"porque prefiro evitar no maximo o consumo de carne, e quando o faco diminuio a quantidade de carne e incremento de vegetais\",\"porque cono muito mrnos carne do que ha cinco anos, e a carne nao mr parece tao saborosa quanto antes\",\"porque nao consigo deixar de consumir completamente mas gostaria !\",\"na minha alimentacao cotidiana nao incluo carne de origem animal consumo esse tipo de alimento mais pela memoria afetiva disso (quando minha mae vem ate minha casa e cozinha, o que acontece 1x a cada 2 meses) ou porque estou num local em que nao ha nenhuma opcao vegetariana mas preferencialmente nao consumo\",\"porque tenho sensibilidade a carne vermelha, a carne vermelha transmite o stress e ansiedade de confinamento da criacao aos humanos, e as pegadas hidricas e ecologicas sao muito elevadas\",\"porque cuido de mim, do meu corpo e do meu planeta\",\"decidi diminuir o consumo excessivo de carne ao descobrir que existiam outros alimentos que possuem tantas proteinas quanto a carne vermelha\",\"por nao consumir carne com certa frequencia e preferir outros tipos de proteina\",\"porque sempre que eu posso, eu evito de comer carne! se eu tiver como escolher…\",\"porque eu reduzi o consumo de carne vermelha, e sempre que ha opcões vegetarianas eu prefiro mas se sentir vontade de comer frango\\u002fpeixe, eu consumo\",\"porque tento reduzir o consumo de carne, principalmente a vermelha, e substituir por outros tipos de proteina, vegetal ou animal de criacao livre\",\"eu sou consciente dos maleficios do consumo de carne para a saude, para o ambiente e sociedade, mas ainda consumo por gostar do gosto da carne e as vezes por nao ter outras opcões no dia a dia\",\"porque tenho reduzido o consumo de proteina animal e dado preferencia a proteina de origem vegetal (folhas e graos)\",\"porque esta cara e embora eu responda sim para as perguntas 19 e 20, sobre consciencia do que os animais de alimentam e como sao criados, nao tive ainda a forca para mudar de habito\",\"nunca fui muito fa de carnes, sempre preferi ovo na minha casa reduzimos o consumo porque nao gostamos de preparar e tbm para economizar na feira\",\"porque a carne bovina de certa forma me faz mal deixa o intestino \\\"pesado\\\" e prefiro nao consumir caso tenham outras opcões\",\"nao tenho auto-controle suficiente para ser vegetariano\\u002fvegano, mas acredito que diminuir o consumo ja tem um impacto relevante\",\"porque nao me abstenho em comer carnes animais, devido a presenca de aminoacidos essenciais exclusivos a esta natureza nutricional\",\"porque prefiro me preocupo sempre que possivel nao consumir carnes\",\"porque evito comer certos tipos de carne\",\"nao sinto vontade de comer carne substituo facilmente por ovo peixe soja camarao as vezes como feijao arroz salada e so nao coloco nenhuma proteina\",\"eu so comia carne na casa dos outros ou restaurantes acompanhando outras pessoas como fiquei com baixa de b12 e proteina, agora como carne (frango e porco as vezes e principalmente peixe, de preferencia especies que nao estejam com sobrepesca) em semanas alternadas (uma semana com carne, outra sem) porque cozinho so uma vez na semana pra comer ao longo dos dias\",\"sempre tive problemas em relacao a carnes, nao gosto muito do gosto\\u002ftextura de alguns cortes e tipos de carne entao sempre compraram coisas pra substituir alem disso convivo com muita gente vegetariana ou vegana entao quando como com eles acabo evitando carnes\",\"sempre que e possivel, opto por outra opcao de proteina\",\"porque nao priorizo o consumo de carne nas refeicões, mas acredito que a proteina animal e necessaria a nosso organismo visto que somos seres onivoros\",\"pois limitei o consumo para nao desenvolver acido úrico e por ver muitas reportagens sobre os maleficios do alto consumo de carne vermelha\",\"na verdade, nunca morri de amores por carne, principalmente, vermelha\",\"nao me considero pois amo muito carne mas alem do preco da carne e importante diversificar a alimentacao para que possamos consumir todo tipo de nutriente\",\"porque venho perdendo a vontade\\u002fgosto por esse tipo de comida\",\"idealmente gostaria de nao consumir alimentos de origem animal apesar de gostar de carne, ovos e leite, sei que para consegui-los numa escala grande precisamos maltratar animais, sujeitar pessoas a condicões pessimas de trabalho, derrubar florestas etc como nao consegui me adaptar a uma alimentacao livre dessas condicões ruins, entendi que reduzir o consumo ja era melhor do que nada - tambem acredito que se grande parte da populacao mundial fizesse isso, os problemas por tras desse tipo de alimentacao seriam reduzidos, pois e mais facil reduzir o consumo do que deixar de comer alguma coisa para sempre outra opcao e tentar comprar esses alimentos de locais que causem menos danos - o que geralmente costuma custar mais, o que tambem resulta na reducao do consumo\",\"para ter um estilo de vida mais sustentavel para o planeta\",\"nao faco questao de comer carne ha alguns anos, na tentativa de virar vegetariana, tive indicio de anemia e pra mim, nao faz sentido deixar de comer a carne e alimentar ainda mais a indústria farmaceutica, que e tao danoso quanto a agropecuaria entao resolvi diminuir o consumo na medida do possivel\",\"por minha saude e por entender que precisamos reduzir o co2 da atmosfera e vivermos com mais sustentabilidade\",\"como pouca carne e e comum fazer refeicões sem carne\",\"porque reduzi o maximo que pude do consumo de alimentos de origem animal do dia-a-dia e utilizo algumas pancs como alternativa, como forma de garantir uma seguranca alimentar devido aos altos financeiros da alimentacao carnivora\",\"porque tenho tentado reduzir o consumo de carne e substituir por outros alimentos\",\"porque nao consumo muito carne e prefiro os vegetais e legumes\",\"pois apesar de me preocupar com os animais, ainda possuo apreco pelo gosto das comidas que tem frango e peixe, ainda que em pequenas quantidades pretendo um dia parar de consumir carne, mas por hora, acho que a diminuicao do consumo ja ajudara de alguma forma\",\"pois procuro reduzir o consumo de carne mas nao parei comoletamente\",\"nao gosto da carne vermelha, bate mal no estômago e tenho dificuldade de achar uma carne que eu goste, geralmente nervos e nos me incomodam, por isso opto pelo frango que e sempre igual em qualquer lugar tambem evito o consumo diario de carne pensando no bem estar animal, apesar de nao investigar a origem da proteina que como, evito a ingestao por carinho aos animais nao como churrasco, nao como diversas carnes por carinho aos animais passei um periodo como vegetariana, mais de oito meses, mas ficava constantemente doente, voltei a comer proteina animal\",\"por do dos animais e por nao sentir falta de fazer substiruicões a carne\",\"porque nao consumo diariamente e mesmo quando eu consumo carne, nao chega a ser uma porcao de 120g, consumo cerca de 50g ou menos reduzi a quantidade de vezes na semana e o tamanho da porcao\",\"pois nao sou muito adepta ao consumo de carne animal porem ainda nao consegui cortar definitivamente da minha dieta\",\"reduzi o consumo de carne e a substitui por alimentos com nutrientes prese tes em outros alimentos\",\"alterno carnes com opcões vegetarianas, nao consumo carne todos os dias e ja tive esse habito alimentar\",\"eu tenho a meta de nao consumir carne de nenhuma forma, e estou comecando aos poucos\",\"pois estou adorando habitos pra diminuir o consumo de carnes e derivados de animais da minha alimentacao acredito que a emancipacao humana passa pela emancipacao da natureza\",\"porque ja nem gosto muito de comer carne\",\"porque adquiri a consciencia de que outros alimentos podem substituir a proteina animal\",\"porque tenho reduzido cada vez mais o consumo de carnes vermelhas\",\"nao gosto muito de carne meu consumo se da apenas pela familia que costuma comer bastante alem de evitar por ter endometriose devido o potencial inflamatorio da carne na gestacao da minha mae ela nao consumia a carne imagino eu que isso tambem tenha influenciado\",\"nao gosto muito de carne de boi, e como \\\"pouco\\\" das demais\",\"porque ainda nao consegui estabelecer uma rotina para parar 100% o consumo de carnes\",\"nunca fui de consumir muita carne primeiro, porque minha religiao, judaismo, restringe o consumo de carnes de determinados animais, como o porco, e as carnes apropriadas para o consumo precisam passar por controles rigidos que vao desde a criacao do animal ate o preparo segundo, sempre achei mais pratico usar proteinas como o ovo e etc na alimentacao\",\"eu gosto do gosto da carne mas acredito que a reducao da producao e consumo de carne e imprescindivel para mitigar as mudancas climaticas alem disso nao sinto necessidade de comer todo dia e acho o preparo nojento entao quando eu como e feito por outra pessoa\",\"porque no contexto em que eu vivo e muito dificil abolir a carne\",\"eu nao compro carne vermelha so compro, quase nunca, frango de granja e as vezes peixe, pois trabalho com pescadores artesanais mas se eu vou a alguma comunidade em que trabalho ou na casa de alguem que so tenha carne eu como\",\"por nao excluir totalmente o consumo de carne da minha vida alimenticia\",\"estou muito preocupada com o consumo de carne todos os dias\",\"reduzi drasticamente o consumo de carne mas ainda consumo esporadicamente frango e peixe minha dieta e 95% vegetais\",\"porque evito a carne, sei dos processos de producao que sao terriveis mas escolho consumir algumas vezes frango ou peixe\",\"tenho consumido menos carne porque sinto dificuldade em digerir\",\"enjoei de carne e tenho pena dos animais morrerem\",\"porque tento diminuir o consumo de carne pois acredito que o consumo exagerado prejudica a saude e o meio ambiente, mas vejo a importância da carne na dieta\",\"porque sempre que posso nao como carne e tento me politizar sobre a causa\",\"nao vejo minha dieta estando tao atrelada ao consumo de carnes algo que vem da minha propria criacao acho que os brasileiros sao muito dependentes de ter \\\"mistura\\\" e isso nao e algo que me afete para mim parece natural nao consumir tanto alem disso vejo que faz bem para o nosso organismo\",\"carne e caro, da muito trabalho para fazer, legumes sao mais saudaveis e suficientes para uma boa alimentacao\",\"porque eu como carne frequentemente, apesar de estar comendo mais vegetais no últimos anos,\",\"porque evito o consumo exacerbado de carne\",\"como pouca carne pois nao gosto muito da carne em si, mas gosto muito de congelados ( nuggets, fast food, peixe) porem tento comer pouco pela saude e por pensar no sofrimento dos animais, tratamento cada vez que olho a carne no meu prato\",\"a carne nao costuma ser o elemento central da refeicao\",\"porque quando posso, prefiro uma alimentacao maior em proteinas vegetais\",\"porque reduzi o consumo de carnes a 1x\\u002fsemana em media\",\"reduzi consumo mas nao exclui, em eventos sociais aceito\",\"o fator preco e atenuante, mas sempre gostei de verduras e legumes no geral e tentei inicialmente na pandemia testar se conseguiria virar vegetariano e resposta foi positiva e me mantendo ate os dias de hj flexitariano\",\"nao costumo gostar tanto do sabor e textura de carnes no geral (com excecao de frango), acho meio enjoativo e tambem me preocupo com os animais (porem, nao consigo cessar seu consumo por completo), isso acaba reduzindo bastante meu consumo de carnes\",\"porque reduzi bastante o consumo de proteina animal principalmente a bovina quando consumo a quantidade e em torno de 60g\",\"pela preocupacao em depender cada vez menos de proteina de origem bovina principalmente\",\"pois me preocupo em consumir o minimo possivel de carne de origem animal… e aumentar o consumo das porcões de verduras, folhosos e frutas\",\"por gosto (pouca afinidade com carne vermelha) e por consciencia ambiental (direito dos animais)\",\"porque ao ver carnes lembro dos animais com do\",\"tenho reduzido a ingesta de proteina animal\",\"porque era vegetariana e voltei a comer peixe\",\"porque eu acredito no veganismo filosofica e politicamente, porem nao tenho dinheiro e saude o suficiente para parar com a carne completamente e tambem porque eu sou pobre entao as vezes nao como carne porque nao tenho dinheiro\",\"porque nao consumo com frequencia e nao me faz tanta falta tendo um substituto\",\"porque carne e uma coisa que nunca me deu falta no prato, porem como eu moro em uma casa com varias pessoas e um almoco so, a alem da minha rotina ser bem corrida, mas o maximo que eu posso diminuir, eu diminuo\",\"porque eu evito comprar carne para consumo no meu dia a dia, mas em determinadas situacões sociais ainda faco o consumo de carne\",\"porque evito comer carne em respeito aos irmaos animais\",\"porque busco nao ter proteina animais no maximo de refeicões que consigo\",\"nunca tive afinidade por carnes vermelhas, impacto_ambiental, intolerância, etica animal, saude\",\"sinto uma digestao mais leve, ou simplesmente nao tenho vontade de consumir carne no dia\",\"ja fui vegetariana e hoje procuro consumir maior quantidade de vegetais reduzo as porcões de carne nas refeicões, e pontualmente faco refeicões sem carne\",\"tento ao maximo reduzir meu consumo de carne com a intencao de me tornar vegetariana em algum momento\",\"nao consumo proteina de origem animal td o dia as vezes nao como na semana td\",\"porque costumo refletir sobre os maus tratos aos animais, porem ainda nao consigo eliminar das refeicões\",\"porque procuro sempre reduzir ao maximo o consumo de qualquer tipo de carne, busco sempre outras alternativas\",\"por opcao de dieta e influencia de mae nutricionista maior variedade de nutrientes\",\"porque como carne apenas quando alguem da minha familia cozinha, quando estou de visita\",\"evito o consumo o maximo de carnes sempre que possivel\",\"porque ainda sinto uma certa dificuldade em fazer a transicao total para o vegetarianismo mas sei que a diminuicao do consumo de carne, mesmo que parcial, e importante pra preservacao do planeta e reducao da crueldade animal\",\"porque excluo carnes do jantar e as vezes almoco\",\"apenas nao gosto muito de carne questao de sabor\",\"Venho de uma familia que tem um frigorifico, ja vi cenas horriveis com animais e nao gosto desde pequena do gosto de carne exceto peixes\",\"porque nao vejo o consumo de carne como algo totalmente necessario e que pode ser balanceado\",\"por nao gostar muito de carne e por causa do planeta tb\",\"procuro nao consumir carne na maior parte das refeicões\",\"na semana meu almoco, na maior parte do mes, sao de marmitas veganas, entao nas outras refeicões do dia e no final de semana como frango ou peixe se na semana como muito frango ou peixe, tento no final de semana comer refeicões vegetarianas\\u002fveganas carne vermelha so se comer fora ou minha mae preparar, nao compro carne vermelha para eu cozinhar a 7 anos, prefiro cozinhar comidas vegetarianas\\u002fveganas, frango, peixe e frustos do mar ja tive varios periodos comendo so comida vegetariana\\u002fvegana, que duravam alguns meses, depois voltava a comer frango e peixe atualmente estou intercalando durante as refeicões da semana\",\"eu nunca co sumi muita carne com o passar do tempo tenho diminuido, porquestoes eticas, sociais, ambientais e por prazer mesmo (gosto de comidas a base de vegetais)\",\"porque tento reduzir cada vez mais o consumo de carne durante o passar dos anos e, geralmente, quando ha opcões entre pratos com carne e vegetarianos, opto pelas opcões sem carne\",\"acredito que o consumo de carne na quantidade certa e ideal para manutencao da saude\",\"pois tento comer o minimo possivel de proteina animal\",\"porque ainda nao consegui deixar de consumir animais completamente\",\"tento evitar o consumo de carne e modificar minha alimentacao, ja que nao consigo de vez parar de comer carne\",\"e algo natural, nao sinto necessidade de carne no meu dia a dia\",\"porque so como carne em momentos de lazer\",\"sempre que possivel evito a carne animal, mais pela vida deles, embutidos e enlatados nao gosto\",\"o principal motivo foi minha esposa ter se tornado vegetariana, antes dela optar por essa escolha consumiamos carne diariamente, apos sua decisao, consumo carne apenas quando comemos fora ou pedimos algum delivery\",\"por conseguir substituir o consumo por outra proteina\",\"preocupacao com doencas relacionadas ao excesso de carne\",\"porque reduzi o consumo de carne nos últimos 2 anos e nao como carne vermelha\",\"eu gosto de carne acho necessario para minha dieta mas nao consigo ser vegetariana entao diminui o consumo\",\"porque o consumo de carne esta comecando a me afetar de maneira negativa\",\"ate 2017 minha alimentacao era bastante pautada pelo consumo de carnes em geral, incluindo as embutidas, mas apos ter acesso a informacões tanto sobre o impacto_ambiental desse tipo de producao, quanto no nosso organismo, comecei a reduzir meu consumo gradativamente em 2019 retirei definitivamente todas as carnes embutidas do cardapio, depois carne vermelha e posteriormente frutos do mar atualmente consumo apenas frango como carne de origem animal\",\"nao me considero eu dou preferencia para comer vegetais, mas nao e recuso a comer carne\",\"porque e uma forma de conhecer outras opcões de alimentos, diversificar o cardapio, fortalecer o pequeno agricultor e o comercio de produtos veganos, livre de agrotoxicos e de mais tratos aos animais\",\"nao gosto de carne, na verdade eu seria vegetariana, mas como eu viajo bastante em funcao da profissao, nem sempre tenho opcões vegetarianas, entao acabo flexibilizando e comendo carnes porque em algumas situacões e so isso que tem\",\"porque eu evito comer carne de boi e de porco, dando prioridade a carne de frango e aos ovos ao estudar um pouco sobre os sistemas de producao, o impacto_ambiental que geram e a crueldade animal, resolvi diminuir o meu consumo de carne minha meta e comer o minimo possivel, apenas para garantir as vitaminas que precisamos e que estao presentes nesses tipos de carne\",\"tenho pena dos animais embora aprecie sua carne\",\"estou reduzindo meu consumo de carne, ha alguns meses, chegando a 3 ou mais refeicões semanais sem carne\",\"devido a consciencia de que integramos um organismo vivo, o planeta o qual habitamos\",\"fui vegetariana por quase 3 anos, mas esse ano voltei a comer peixes eventualmente na comida japonesa\",\"tem alguns anos que reduzi o consumo de carne, gostaria de reduzir a zero e me tornar vegetariana, mas tem sido dificil resistir a algumas tentacões\",\"porque acho que o consumo excessivo de carne nao e sadio\",\"tentei ser vegetariana, mas como nao consegui, retirei a carne vermelha, e tento reduzir o consumo de frango ou peixe\",\"porque consumo muito pouco de carne, mas nao exclui inteiramente da minha dieta\",\"porque em raros momentos do meu ano abro excecao para alguns alimentos com carne\",\"tenho tentado reduzir o consumo de carne, principalmente a carne vermelha, por motivos de saude a longo prazo\",\"nao compactuo inteiramente com o consumo desenfreado de carne pela sociedade,mas tambem reconheco a importancia do consumo de proteina que muitas vezes e dificil de alcancar apenas com a proteina vegetal\",\"ha alguns anos passei a reduzir o consumo de carne no geral, quando como e em pouca quantidade\",\"porque nao considero correto tirarmos a vida de um animal, causar dor ou sofrimento nele para nossa alimentacao sinto remorso sempre!\",\"porque nao sinto falta se passar o dia vegetariana e porque sei que consumo menos carne do que a media, mesmo nao sendo mais vegetariana\",\"busco reduzir o consumo de carne, so como frango e peixe que meu pai cria alem disso entendo que o sofrimento animal e mais uma face do capital atuando, portanto busco reduzir bastante o consumo e procurar outras formas de me alimentar\",\"porque nao faco questao de comer carne vermelha e tenho substituido por proteina vegetal no meu dia a dia quando possivel\",\"porque estou evitando o consumo de proteina animal, pensando nas florestas e bem estar animal\",\"porque tenho reduzido o consumo de carne, principalmente vermelha e embutidos\",\"segundas sem carne alem de apreciar muito as comidas vegetarianas e veganas\",\"evito consumir carne em alguns momentos, levando em consideracao que sou amiga do meio ambiente e prezo por ele ainda nao realizei a transicao para o vegetarianismo, mas pretendo tentar\",\"ha 2 anos eliminei o consumo de carne vermelha\",\"eu tentei reduzir mais e ate estava com um consumo de carne menor mas estou num pos operatorio para ganho de massa e o nutricionista voltou a proteina animal pelo menos por enquanto\",\"porque tenho consciencia dos impactos causadas pelo consumo, mais ainda nao consegui parar por completo\",\"porque evito o consumo de proteina de origem animal uma vez na semana por conta da saude e estetica\",\"estou reduzindo consideravelmente o consumo de carne e derivados\",\"porque tenho buscado reduzir o consumo de carne, principalmente bovina e suina, e buscado alternativas de substituicao\",\"nao gosto de consumir carne, e prefiro qualquer outra opcao alem da carne, porem nao me torno vegetariana\\u002fvegana pois moro sozinha e normalmente como o que e possivel\",\"antigamente comia carne vermelha diariamente\",\"porque nao considero a proteina animal essencial na minha alimentacao\",\"porque evito o consumo de carne, mas ainda nao consegui eliminar esse tipo de alimento da minha dieta\",\"porque eu propositalmente diminuo meu consumo de carne mas nao elimino completamente\",\"porque como carne vermelha por semana quando como  o frango tambem tenho reduzido\",\"porque ainda nao consegui sair das carnes gracas a pressao cultural\",\"pois faco consumo reduzido de carnes e produtos carneos, incluindo em minha alimentacao mais alimentos de origem vegetal\",\"por ainda gostar de carne mas nao tanto quanto e nao consigo consumir muito n me sinto bem\",\"porque as vezes como carne mas nao gosto e algo cultural que me pega\",\"tenho tentado reduzir o consumo de carnes vermelhas\",\"queria parar com a carne vermelha para diminuir minha \\\"pegada\\\" no mundo ainda nao parei totalmente porque consumo bacon de vez em quando mas um dia chego la\",\"porque tenho ampliado meu paladar para um consumo mais saudavel e que nao dependa exclusivamente de inserir proteina animal\",\"porque consumo carne de animais em poucas refeicões\",\"porque tento reduzir o consumo de carne, e nao como em algumas refeicões\",\"me esforco pra fazer refeicões sem carne e reduzi bastante o consumo de carne vermelha\",\"reduzi drasticamente o consumo de carne no meu dia a dia, mas aindo como em momentos de confraternizacao social com pessoas nao vegetarianas\\u002fveganas\",\"nunca compro carne para comer em casa, seleciono um momento ou dia especial como almocar na casa dos meus pais, preparar o peixe que eu e meus amigos pescamos, conhecer um menu ou um restaurante novo etc\",\"faz muitos anos que nao compramos carne vermelha em virtude da alta dos precos quando comemos e na casa dos nossos pais as opcões vegetarianas ha uns 4 ou 5 anos passaram a fazer parte mais recorrente da nossa alimentacao normalmente no jantar por nossas 3 filhas serem vegetarianas as vezes acrescentamos proteina animal na nossa parte da receita\",\"porque ainda nao larguei totalmente o habito de comer carne por motivo de habito\",\"nao acho carne realmente atrativo consumo carne principalmente por ter hematocrito baixo\",\"porque carnes vermelhas nao sao as preferencais\",\"em virtude de viver com o aparelho digestivo todo inflamado sofrer com constipacao crônica, etc\",\"porque evito comer devido a crueldade associada\",\"ja tentei ser vegetariana mas tive anemia, entao passei a reduzir proteina animal apenas, mas prefiro sempre o peixe\",\"tenho vontade de parar de vez o consumo de carne mas ainda acho muito dificil e encontrei assim uma forma de pelo menos diminuir ate o dia em que \\\"virar a chave\\\" e eu decida tentar mais a serio \",\"sim pois nao estou me adaptando mais a comer carne vermelha\",\"tentando nao consumir mais carne vermelha e assim, seguir com a reducao dos outros tipos de carne\",\"ha alguns varios anos venho reduzindo a quantidade de carne que consumo, pois sempre considerei as porcões muito exageradas (ex um bife pequeno e suficiente) e ha menos tempo venho tentando adotar dias sem nenhum tipo carne, apenas com vegetais ou ovo\",\"porque minha filha e ovolactovegetariana\",\"como pouca carne pois nao faco questao e nao gosto muito do sabor\",null],\"marker\":{\"color\":\"#CFD8DC\",\"opacity\":0.5,\"size\":5},\"mode\":\"markers+text\",\"name\":\"other\",\"showlegend\":false,\"x\":[16.733269,15.152294,16.973364,16.438835,16.741827,18.40881,16.907711,16.602308,17.068449,14.666197,16.433514,18.116125,16.579195,15.209667,16.711628,16.988054,14.859109,17.567276,16.434885,17.79632,15.848315,16.386724,16.95361,14.772267,15.286257,18.103973,15.4674425,15.33685,16.319786,16.511534,18.883133,15.826178,18.394901,15.053932,18.440493,14.292979,16.794182,14.610745,15.73934,16.30357,15.706136,17.89718,15.4795,15.0773945,16.726831,16.593592,18.819727,15.097439,16.07096,16.617954,15.083152,16.48818,16.304087,17.95125,15.000157,15.406356,17.018572,15.576509,16.407585,17.633762,15.914759,14.669197,15.229466,17.087433,17.876343,17.199728,16.934969,15.490949,17.004982,15.993447,16.781948,15.75939,15.586822,15.227196,16.147625,16.28587,17.014095,16.588284,16.62519,15.252873,14.924059,16.747849,16.315908,18.370989,15.39679,14.973831,15.203427,16.03938,17.198345,14.627587,17.190275,16.027977,16.589125,17.262459,16.200668,15.98593,16.299927,15.244784,16.942905,17.725286,15.490011,18.812437,14.935985,16.577967,16.87707,15.231949,17.057392,18.457123,15.147531,15.101873,15.770194,15.535397,16.17175,15.955805,15.239518,15.916097,17.216917,14.924243,15.591241,15.009891,15.039018,16.400629,17.014553,15.603723,16.108698,15.852161,17.019142,15.2061205,16.167135,16.684973,18.264282,14.897826,12.81055,15.099015,16.97109,17.282112,16.316097,16.70989,15.057936,16.869326,14.327671,16.030527,17.126024,15.8059,15.974744,16.906399,16.789238,15.546239,17.043522,14.343839,16.556553,17.096004,15.7936945,16.853373,17.03043,15.455917,16.576035,16.153147,17.672064,15.087499,14.955898,15.727424,16.665802,17.614388,15.190879,15.675548,16.090097,16.733276,16.942879,15.794593,16.304342,16.940403,15.446796,16.371405,18.07514,17.117273,17.060204,16.410196,16.200563,17.336882,18.260153,14.829752,17.31526,14.6338825,16.317732,15.0218,17.801645,15.78288,14.2741165,16.495546,16.9612,14.6007185,15.739335,15.740811,17.717548,15.991769,18.43806,15.107443,15.927682,16.319294,16.661787,16.931269,18.300913,15.176543,16.410461,18.39461,16.543758,15.861671,17.31654,17.782448,17.118862,14.656703,17.419434,16.546278,15.877747,15.94767,18.328978,15.790539,16.319054,15.044978,15.074564,17.773417,16.266403,17.416576,17.692848,17.740616,17.732914,14.805904,15.218118,15.531982,15.743115,15.122241,18.541777,16.807331,16.593925,14.503535,16.19147,16.41535,17.718706,15.818361,13.511532,15.168512,16.29307],\"y\":[10.5353985,10.12294,9.891816,9.231702,7.2923303,7.870262,10.749178,9.405234,9.222377,10.303709,9.151087,10.397307,8.1652,11.091865,10.525202,9.070619,9.905737,11.127025,8.239666,9.574843,9.354138,6.778677,9.845303,10.233643,11.217582,10.341942,9.506544,8.784083,6.652464,8.157159,7.8290977,10.086403,9.312973,7.542371,7.586919,11.393861,7.1508045,7.9722366,10.818477,8.798683,10.882107,9.941829,11.086725,8.110414,7.3027015,10.188264,7.7384367,8.870696,7.4006143,9.335025,7.5124316,8.23272,7.621263,11.179896,10.171388,10.46232,10.039073,10.672944,9.615826,8.371878,8.936111,10.2895975,6.9165554,6.466913,7.627588,10.586925,9.293836,11.208523,9.773132,8.286311,9.878793,8.940527,10.777317,8.03183,8.832892,10.120145,9.011099,8.948884,10.617406,11.099455,10.309394,10.025874,10.144802,7.4708476,10.461059,9.880863,8.772861,7.9253473,6.2188487,11.01668,6.2345037,10.303183,9.307412,9.641714,9.823134,8.197871,9.126997,10.132865,7.9312587,10.337766,9.407089,8.476998,10.259165,9.385016,8.243232,8.739641,10.106911,7.7174487,9.537283,9.31008,9.046974,10.738703,8.408063,8.880985,11.095579,9.367402,8.455172,10.7632475,11.657211,8.203179,7.417455,7.9272294,9.124866,9.274862,9.84885,10.063077,8.864009,9.49355,10.334894,9.965405,10.171279,10.692336,9.763164,9.4596615,9.911772,10.07772,9.773373,7.2744308,7.536411,9.707297,11.475393,7.4114947,10.473092,10.011983,9.451197,9.008965,9.998889,10.308987,10.831599,11.3175745,9.323381,10.625758,8.911524,9.452546,7.379309,9.909534,9.429828,8.876252,11.30638,9.128315,10.302185,9.488692,7.2893014,10.513415,11.069463,10.197897,10.197464,7.972141,9.672894,8.97771,9.32456,10.755514,9.885711,9.4153595,8.223375,10.10689,8.371431,11.322217,8.63865,8.394991,7.561936,9.924542,7.502336,10.278859,8.174642,7.437926,9.730053,5.245042,11.395041,9.527927,8.357836,11.405916,9.632962,9.967032,9.381725,8.443682,9.264796,7.486811,9.806882,8.180731,10.252977,9.695713,7.620811,10.280482,9.424629,9.387477,9.2363,8.856126,10.434627,9.504325,9.564322,10.281153,11.417469,10.253941,9.362031,9.3575945,10.065495,9.03058,9.844887,8.972453,9.733572,9.411303,9.087521,7.384899,11.001523,10.480265,9.646576,10.664925,11.107948,11.067686,9.0719385,9.54791,7.344757,7.1329126,8.951435,11.425255,9.020968,11.178006,9.498576,10.549902,9.956574,9.43443,9.373398],\"type\":\"scattergl\"},{\"hoverinfo\":\"text\",\"hovertext\":[\"agora que descobri este termo carne me faz muito mal nao faco questao de comer, mas minha familia e bem carnivora entao acabo comendo as vezes\",\"eu nao me dou esse nome porque essa representacao nao me importa, mas mesmo sendo pernambucana litorânea de nascenca e agrestina por pertenca, nao tenho tanto desejo por carne em geral topo comer mais em eventos especiais como refeicões com amizades, mas se eu comandar a refeicao em acordo com quem vou oferecer, nao priorizo carne e respeito a preferencia dos que vou oferecer enquanto nao tiver intimidade com agricultores tradicionais\\u002forgânicos, me encontro nessa pratica\",\"esse termo ate o contato com essa pesquisa era desconhecido para mim mas a vivencia de ter a quantidade de carne de origem animal em quantidade reduzida em minha alimentacao cada vez mais ao longo do último ano e quando consumo e em baixa quantidade ao meu ver fazem se justificar a minha identificacao\",\"nao conhecia o termomas acho que me encaixo porque gosto de carnes, mas nao gosto de comer carne todo dia\",\"nao conhecia o termo ate essa pesquisa, mas decidi reduzir o consumo por bem estar fisico (digestao lenta da carne)\",\"nao me considerava, porque desconhecia o termo mas tenho reduzido o consumo de carne por compaixao ao animais\",\"nao me considero, apenas porquestao financeira\",\"pôde-se dizer que sim, apesar de nao utilizar nunca esse termo do dia a dia\",\"nao me considero, nem havia pensado sobre o significado do termo\",\"confesso que conheci o termo nessa pesquisa\",\"o termo era desconhecido e uma opcao minha nesse momento\",\"sim, mas talvez reducetariano defina melhor\",\"nao sabia que eu era flexitariana descobri pela divulgacao da pesquisa decidi parar de comer alguns tipos de carne e embutidos por motivos politicos e de saude hoje em dia so como peixe e alguns frutos do mar algumas vezes no ano\",\"na verdade, nunca havia me considerado flexitariano apenas decidi reduzir o consumo de carne\",\"so como carne quando nao ha alternativa nao tinha pensado ou conhecia essa terminologia sempre me denominei carnivora gosto de carne mas minha filha virou vegetariana entao eu acabei me adaptando e so como carne quando da vontade tipo em marco ate agora comi umas 5 vezes e hj ja e dia 24 de marco\",\"eu nem sabia que tinha esse nome, mas agora que sei, me considero flexitariana porque entendo como problematico o consumo excessivo de carne alem disso, depois de morar com amigo vegetarianos, aprendi novas receitas e passei a deixar de sentir necessidade da carne\",\"o termo e novo pra mim sigo nessa acredito que no futuro sera necessario\",\"nao conhecia o termo ate ver a pesquisa diante das diversas opcões existentes para optes refeicões variadas, retirar a carne eventualmente das refeicões nao me faz falta alguma\",\"nao conhecia nem o termo, mas vi que me enquadro, pois tenho a consciencia de comer muita carne e tambem a consciencia de diminuir\",\"nao me consideram me disseram que me enquadro nesse perfil\",\"nao me considero flexitariano se for pra definir um rotulo diria naturalista, que tenta fazer as refeicões da forma mais natural nao compro e nem preparo mais carne como as vezes a convite de amigos, geralmente em pouca quantidade\",\"nunca usei essa palavra para me descrever nunca fui muito adepta ao consumo de carne por ser budista evito o consumo frequente nao acho que seja algo benefico de se consumir raramente preparo carne em casa como quando vou a restaurantes ou me oferecem\",\"conheci o termo com a pesquisa diminui o consumo de carne porquestoes filosoficas\",\"porque deixei de comer carne vermelha por problemas digestivos e tambem por conta da forma como o animal se tornou um produto e um caminho que qro seguir e nao comer mais qlqr tipo de animal\\n\",\"nao tenho uma resposta muito clara para isso nunca antes escutei o termo nem pensei no assunto na verdade nem gosto da palavra ou do conceito por enquanto me parece uma classificacao arbitraria, mas vejamos\",\"eu como peixe ou vegetais ou os dois ao mesmo tempo\\n\",\"eu nao me considero flexitariana, nao ligo que esse seja o jeito que voces chamam a forma como eu como eu me considero onivora apenas\",\"nao me considerava ate conhecer um pouco mais sobre o termo dessa forma fui entendendo principalmente com a ajuda da pesquisadora da presente dissertacao nas aulas que tivemos\",\"na verdade sempre fui bem restrito ao consumo de carnes como modo de vida mesmo, este termo era desconhecido pra mim ate entao, creio que seja bom para pessoas que gostam de se identificar em grupos, mas pra mim nao faz muita diferenca, nao gostava do termo vegetarianismo ou veganismo pois implica em muitas restricões\",\"na verdade nunca tinha ouvido falar, mas me identifiquei por reduzir o consumo da carne durante a semana, procuro opcões mais em conta, que sejam gostosas e como gaúcha nao nego um churrasco, e por ter preferencia pela carne assada, nao uso tanto durante a semana nos pratos que faco, e dou preferencia pro frango, que minha cunhada cria solto, e confina somente pro abate ovos tambem compro dela e tambem me preocupo com tanto de bicho criado nos nossos pastos e o desmatamento causado pra aumentar ainda mais essa criacao, sendo que nosso povo na grande maioria nao tem dinheiro pra comprar essa carne\",\"eu nao sabia que era uma flexitariana ate participar desta pesquisa\",\"nao conhecia esse termo antes da pesquisa, descobri que sou flexitariano agora\",\"eu nunca tinha parado para pensar ser \\\"flexitariano\\\" comecei fazendo segunda sem carne alem do bem estar animal, preocupacao ambiental esta sendo bom para minha saude\",\"nao, \\\"flexitarianos\\\" nada mais sao que onivoros com baixo consumo de carnes e, talvez, de produtos de origem animal o termo e muito vago e, por isso, seu uso mais atrapalha que ajuda\",\"embora nunca tive alto o consumo de carne, esse nome pode facilitar para auto-referencia aos outros\",\"conheci o termo nesse momento gostei tenho reduzido meu consumo de proteina animal\",\"nao sabia que existia um termo para minha opcao de alimentacao, neste processo de excluir completamente as carnes da minha dieta\",\"nao me considero e a primeira vez que ouvi esse termo so estou no processo de reducao do consumo de proteina animal\",\"desconhecia essa terminologia ate o momento do questionario sempre me achei onivoro inclusive acho desnecessaria essa terminologia flexitariano parece modismo\",null],\"marker\":{\"opacity\":0.5,\"size\":5},\"mode\":\"markers+text\",\"name\":\"0_Redução do Consumo de Carne\",\"text\":[\"\",\"\",\"\",\"\",\"\",\"\",\"\",\"\",\"\",\"\",\"\",\"\",\"\",\"\",\"\",\"\",\"\",\"\",\"\",\"\",\"\",\"\",\"\",\"\",\"\",\"\",\"\",\"\",\"\",\"\",\"\",\"\",\"\",\"\",\"\",\"\",\"\",\"\",\"\",\"0_Redução do Consumo de Carne\"],\"textfont\":{\"size\":12},\"x\":[12.112265,14.726909,11.980932,12.005384,11.997182,11.911873,11.785995,11.655166,11.664907,11.649989,11.628969,11.959001,12.549852,12.581072,12.286575,12.441492,11.640162,12.148987,11.9321165,11.732559,12.95193,12.25108,11.933516,11.601466,11.660252,11.579867,12.895771,11.686399,12.068019,15.847351,12.356326,12.324296,12.535619,12.800605,11.947124,11.98257,12.064736,11.909963,12.345351,12.234195],\"y\":[9.81269,9.931109,9.758016,9.694466,9.77909,9.740657,9.293048,9.441273,9.395585,9.475535,9.454809,9.666053,9.805297,9.81502,9.904228,9.831717,9.456266,9.816945,9.761486,9.364608,10.163759,9.883055,9.737954,9.450554,9.446589,9.464221,10.13273,9.419151,9.783015,7.7849474,9.802178,9.7729845,9.812021,10.07805,9.714497,9.814827,9.787443,9.761493,9.831805,9.662543],\"type\":\"scattergl\"},{\"hoverinfo\":\"text\",\"hovertext\":[\"ja fui vegetariana mudei para uma cidade onde era muito dificil manter esse estilo de dieta apesar disso, tento consumir o minimo de carne vermelha\",\"pois exclui a carne vermelha de minha alimentacao, porquestoes ambientais, mas ainda como frango\",\"porque aboli completamente o consumo de carne de boi, frango e porco, so consumindo carne de peixe poucas vezes na semana\",\"porque sigo comendo peixe e frango mesmo tentando reduzir ainda nao sou vegetariana\",\"pois deduzo o consumo de carne ja nao como variedade alguma de cortes de boi e como pouco carne de porco ainda como carne de frango e peixe, mas e pouco nao me sinto bem comendo muita carne\",\"porque consumo somente peixes e embutidos esporadicamente e em hipotese alguma inclui outras carnes\",\"porque o único animal que eu como e camarao e culinaria japonesa\",\"porque eu nao como carne vermelha nem frango e nem porco mas como peixe\",\"porque nao como carne vermelha, mas como outras carnes e alimentos de origem animal\",\"porque praticamente nao como mais carne bovina ha muitos anos, nao compro e nao preparo em casa\",\"pois nao consumo mais carne bovina opto frequentemente por frango e ovos ao inves de enlatados, linguica, etc\",\"porque nao consumo mais carne vermelha e esporadicamente como carne branca\",\"nao me adequo ao paladar de consumo de carnes vermelhas, frango e dervidados\\ncontudo, consumo peixe, camarao\",\"eventualmente\\u002fraramente como carne vermelha\",\"porque ainda nao consegui tirar o peixe da minha alimentacao\",\"tenho reduzido o consumo de carne drasticamente nao me considero vegetariana porque abro excecões em algumas ocasiões especiais ou especificas tambem nao deixei de comer peixe e frutos do mar\",\"porque exclui totalmente a carne vermelha, embutidos e mantive o frango esporadicamente\",null,\"porque so consumo peixes como carne animal\",\"porque minha dieta e reduzida em carnes (nao como todo dia e quando como sao porcões menores que uma mao fechada), porem como ovos todos os dias alem disso, nao consumo leite e derivados nao tenho intencao de ser vegetariana e\\u002fou vegana, mas acredito que a reducao do consumo de carne fornece vantagens para a saude e para reduzir os impactos da agropecuaria\",\"porque eu passei 4 anos sem ingerir nenhum tipo de carne vermelha (incluindo porco tambem) e, hoje em dia, evito ao maximo se possivel\",\"pois limitei o consumo de carnes apenas aos peixes e frutos do mar posso ser considerada pesco-vegetariana tambem\",\"pois ainda como peixes e frutos do mar em geral\",\"porque exclui a maioria dos tipos de carne e leite mas ainda como peixe e derivados de leite e ovos\",\"porque consumo carne vermelha exporadicamente e reduzo o maximo possivel o consumo de outras carnes de origem animal\",\"pois decidi nao comer mais carne vermelha e embutidos, mas decidi manter o consumo de frango e peixe, e, atualmente, nao tenho a intencao de progredir para uma dieta vegetariana\",\"por ainda me alimentar mesmo que raramente de peixe e camarao\",\"porque como carne de frango, peixe, derivados do leite, mel, propolis\",\"porque so como carne de peixe e mariscos\",\"porque gosto de outros alimentos de origem animal\",\"porque optei por nao excluir peixes e camarao da dieta\",\"por varias de dieta as vezes vegetariana e outras vezes excluo consumo so frutos do mar\",\"pois eliminei a compra da maior parte de bichos,so tenho utilizado o que recebo ou ja estava no meu congelador so compro frutos dos mar, pois e dificil pra mim ainda largar\",\"porque deixei de comer carne vermelha (ou qualquer bicho de 4 patas) ha 35 anos, e so como frango de vez em quando e peixe sempre que posso\",\"porque nao como carne vermelha nem de porco ha aproximadamente 4 anos\",\"nao consumo carne com frequencia, prefiro peixe, ovo, soja\",\"porque nao consumos as carnes acima citadas a mais de 5 anos\",\"eu parei de comer carne no geral ja tem quase 3 anos, porem ainda me pego comendo frutos do mar, entao apesar de ter reduzido o consumo de alguns animais, ainda nao conseguir tira-los completamente da meu ha alimentacao, fora que ainda consumo ovos e laticinios no geral\",\"nao consumo carne de boi nem de frango, apenas peixe quando posso, tambem opto por pratos sem carne, incluindo peixe, especialmente em restaurantes\",\"porque ha quase 30 anos deixei de comer carne vermelha, procuro comer frango caipira comboa alimentacao e peixe\",\"porque ja nao como nenhuma carne vermelha nem de porco ha 8 anos\",\"porque nao consumo carne vermelha ou branca, apenas ocasionalmente peixe\",\"porque nao costumo ter apetite por alimentos a base de carne e sinto prazer em comer carne branca\",\"porque nao como nunca carnes vermelhas e embutidos e apenas eventualmente carnes brancas\",\"porque nao consumo nenhum tipo de carne(suina, bovina, frango e outros), mas ainda consumo peixe exporadicamente\",\"porque eliminei completamente carnes de boi, frango, porco, mas ainda consumo peixe em frequencia bem baixa, mas ainda consumo\",\"porque so consumo carne de peixe e frutos do mar 1 vez por dia e ate menos\",\"nao como carne vermelha nem de porco por opcao ha 3 anos\",\"eu nao como mamiferos e derivados ha 30 anos minha dieta e ovo lacto peixe ( de alto mar) e frango ( de preferencia criado livremente com alimentado natural), nao como crustaceos tb\",\"nao me considero mas reduzi o consumo de carne pelo preco muito alto e tbm pela saude porque tem muita gordura ne como mais ovo que e bom e tem muita forma de preparar carne mesmo no maximo uma vez na semanaai frango tbm mas menos e peixe mesmo cozinhado so mais na semana santa e cru sushi 1 vez no mes quando sai o salario\",\"porque a muito tempo nao como carne de boi, frango, embutidos e nao pretendo comer, somente peixe, ovo e outros substitutos\",\"nao consumo carne vermelha, muito excepcionalmente algum sanduiche mas gosto de peixe e camarao devo consumir uma vez por semana, ou ate menos\",\"porque tirei da minha dieta mamiferos e aves, exceto ovos e laticinios, e ainda consumo peixes e camarões, nao sendo assim vegetariana\",\"nao gosto do sabor da maioria das carnes e devido aos impactos que sua producao tem resolvi comer apenas peixe qdo tenho disponivel\",\"nao como carne bovina\\u002fcaprina\\u002fovina ha 14 anos\",\"porque ainda como carne de frango e peixe\"],\"marker\":{\"opacity\":0.5,\"size\":5},\"mode\":\"markers+text\",\"name\":\"1_Dieta Pescetariana e Redução de Carnes\",\"text\":[\"\",\"\",\"\",\"\",\"\",\"\",\"\",\"\",\"\",\"\",\"\",\"\",\"\",\"\",\"\",\"\",\"\",\"1_Dieta Pescetariana e Redução de Carnes\",\"\",\"\",\"\",\"\",\"\",\"\",\"\",\"\",\"\",\"\",\"\",\"\",\"\",\"\",\"\",\"\",\"\",\"\",\"\",\"\",\"\",\"\",\"\",\"\",\"\",\"\",\"\",\"\",\"\",\"\",\"\",\"\",\"\",\"\",\"\",\"\",\"\",\"\"],\"textfont\":{\"size\":12},\"x\":[14.362457,16.039116,15.773047,15.296742,15.878508,15.761934,15.441752,15.614397,16.37866,16.230835,15.726693,16.395824,15.516567,16.45007,15.420572,15.241321,16.228315,15.794662,15.568995,15.853313,16.210968,15.454764,15.515722,15.6840925,16.451656,15.430748,15.476628,15.564006,15.554696,16.384935,15.421874,15.4842,15.655005,15.950909,16.214197,15.65449,16.47228,15.587558,15.59679,15.927233,16.199615,15.816512,16.42571,16.365028,15.665149,15.696581,15.738328,16.24351,15.810259,15.647696,15.789732,15.783662,15.369794,15.592359,16.257868,15.553598],\"y\":[11.3192835,11.715383,12.011856,12.154131,10.320072,12.022005,12.357858,12.16833,11.947376,11.576259,11.504168,11.789165,12.340789,11.802901,12.329811,11.258147,11.892186,11.781357,12.256639,10.603086,11.549211,11.827843,12.355551,12.065332,11.838004,11.353101,12.336785,12.280791,12.298913,12.002523,12.32993,11.805539,10.86356,11.652832,11.592231,11.533006,11.616553,11.354448,11.554914,11.605981,11.559748,11.962768,11.704306,11.825565,11.980173,12.023452,12.063527,11.554224,11.598083,10.8866825,11.883222,11.861845,12.08542,11.615129,11.551373,12.26007],\"type\":\"scattergl\"},{\"hoverinfo\":\"text\",\"hovertext\":[\"Varios motivos: tenho do dos animais, meu marido e vegetariano e acabo cozinhando sem carne, fico sem comer carnes tranquilamente gosto mas nao me faz falta ficar tempos sem comer\",\"eu desejo muito me tornar vegana, mas minha dieta e toda baseada em carne e produtos derivados do leite atualmente, consegui reduzir drasticamente meu consumo de carne, mas o leite e queijo sao um problema pra mim, meu maior desafio\",\"convivo com vegetarianes e veganes concordo com muitos argumentos a favor dessas dietas porem acho muito dificil deixar de comer queijos  ovos quando como em restaurantes ou om familiares nem sempre encontro opcões de pratos sem carne acredito que estou numa caminhada para o egetarianismo mas ainda nao cheguei la\",\"nunca me rotulei dessa forma, mas eu convivo com um vegano e cada dia mais venho substituindo coisas na minha alimentacao por alimentos veganos\",\"so nao sou vegetariana (fui por 2 ania) porque tenho diabetes e nao consegui adaptar minha dieta acabava comendo mais carboidratos mas evito comer bichos o maximo possivel\",\"porque tento me alimentar de forma intuitiva sem excluir alimentos mas sim buscando variedades e consumir maiores quantidades de alimentos de origem vegetal no entanto ao sentir necessidade\\u002fvontade faco o consumo carnes animais ja tentei ser vegetariana e vegana e nao consegui era algo que me frustrava muito e tomava conta da minha vida agora me sinto mais em paz em relacao a minha relacao com a comida e ao meu ambiente\",\"ja fui vegetariana durante a minha gestacao e pos parto , mas voltei a consumir carne , mas com uma frequencia bem baixa , devido a toda informacao que eu tenho , pra mim o paladar e a coisa mais dificil de tirar ??\",\"ainda nao consegui organizar-me e le determinar a ter uma dieta completamente vegetariana\",\"meu filho de 13 anos e meu marido sao vegetarianos e eu os apoio tentando cozinhar coisas sem carne sempre eu, particularmente, so como carne na rua, em festas ou restaurantes, mas nao me nomeio como \\\"flexitariana' porque acho desnecessario\",\"penso em, num futuro proximo, parar de comer carne, e eventualmente retirar alimentos de origem animal da dieta, no entanto ainda nao acho que seja o momento mas estou num processo de reeducacao e adaptacao da alimentacao, introduzindo novas fontes de proteinas de origem vegetal acho que ser capaz de se adaptar a diversas dietas, variando as fontes de nutrientes, e importante\",\"porque nao sou especificamente vegetariano ou vegano\",\"gostaria de ser vegana estrita mas porquestoes sociais, de convivencia, acabo por, eventualmente, comer carne por sinal, fui criada comendo carnes, gosto de carnes, mas quando analiso a questao etica e ambiental, a consciencia fala mais alto que o desejo e o gosto pela carne\",\"ja fui vegana mas parei quando engravidar quero voltar mas e muito dificil com uma crianca pequena\",\"me considero a caminho do veganismo nao me diria flextariana mas nao me considero vegana ainda por comer bichos e derivados em algumas ocasiões\",\"apesar de querer ser vegetariano existe fatores que me fazem nao ser ainda e o principal e a cultura familiar carnivora\",\"pretendo me tornar vegana, nao sendo possivel realizar essa mudanca do dia para a noite\",\"na verdade venho tentando ser vegana ha anos consegui em 2015\\u002f2016 o zero consumo de carne depois por ter uma anemia que nao melhora - obs: minha b12 e perfeita - o medico pediu para eu introduzir um pouco de carne eu consumia apenas o frango e sempre do preferencia a ele nunca ingeri peixe outros animais com excecao do boi e frango (apenas partes magras) meu almoco ideal eh arroz e feijao com leguminosass as vezes junto da soja mas eventualmente na semana coloco carne coloquei a quantidade maxima mas tem semanas q eu nem como um dia se quer minha escolha eh porque tenho aversao a carne saber de onde veio\\u002fda producao e o que acontece com a vida animal pesquiso direito dos animais e sou mestranda na ufrn cada dia mais esse tema eh presente em minha vida no meu caso nao eh uma transicao para o veganismo eh mais o “o que eu consigo fazer eu faco” ja que me intitular vegana traz uma serie de outras obrigacões\",\"ja fui vegana mas acabei voltando a comer carne, por isso me considero flex mas com pouca carne na alimentacao\",\"sou intolerante a lactose entao tive que reinventar muita coisa na cozinha pra lidar com a ausencia de queijo e leite e assim aprendi a fazer \\\"ricota\\\" vegana de amendoas leite de aveia etc o que abriu o meu leque e instigou minha curiosidade para alimentos sem derivados de animais optei por retirar totalmente o consumo de carne 3 vezes na semana (segunda quarta e sexta) pois meu indice de colesterol e muito alterado alem da questao de saude tambem me incomodo muito com a forma de criacao e abatimento dos animais para consumo humano e me sinto mal ao contribuir pra que esse processo se perpetue ainda nao me sinto pronta para adotar uma dieta completamente vegana ou vegetariana mas penso nessa possibilidade no futuro\",\"porque tentei aderir ao vegetarianismo mas sinto dificuldade de suplementar a vitamina b12 e isso me levou a voltar a consumir ovos e depois carnes (carne de boi e frango\\u002fgalinha)\",\"eu era vegetariano ha 2 anos, mas comecei a ter problemas financeiros, entao tive que comecar a dividir minha rotina alimenticia em casa e no ru assim, as vezes que vou para a ufac eu consumo a carne animal e em casa eu consumo as proteinas vegetais\",\"porque estou em processo para o vegetarianismo tem uns 2 anos mas ainda n consegui ter responsabilidade alimentar o suficiente para o fazer completamente\",\"gosto de comer peixes e frutos do mar em ocasiões especiais, e um ritual afetivo que me conecta com os ancestrais pescadore \\ncomo por exemplo leguminosas que foram cozidas com carne, quando vou a casa de familiares, amigos e restaurantes ñ vegetarianos, mesmo retirando a carne amo pirao e sempre quando vou a um lugar que tem ñ resisto, e porque acho que a flexibilidade e uma caracteristica da vida e a rigidez da morte, ja fui fundamentalista, rigido, e perdia muitos momentos legais de sociabilidade, entao aprendi a perdoar as excecões, ser flex me possibilita uma vida mais biodiversa e interessante\",\"fui vegetariana por muitos anos ha menos de um ano voltei a comer carnes brancas entao, como meu costume e ser vegetariana, evito carnes em casa como mais fora\",\"estou em processos de adaptacao ao vegetarianismo fugindo da tradicao cultural alimentar brasileira (famoso churrasco)\",\"eu gostaria de ser vegetariana, mas no momento nao consigo cozinhar muito, acabo comendo marmita com carne\",\"e muito dificil seguir uma alimentacao 100% vegetariana no dia a dia, devido a questao de tempo (estudo integralmente), alem de que nao sou eu que preparo minhas marmitas, logo e dificil exigir pratos mais \\\"elaborados\\\" para fazer\",\"ainda nao me adaptei ao vegetarianismo mas pretendo\",\"porque eu entendo que minha forma de me alimentar e viver nao se encaixa completamente ao que se entende por vegetariano e vegano e para mim o flexitariano e o que melhor traduz minha forma de viver e consumir o alimento\",\"gostaria de ser vegetariano\\u002fvegano mas a praticidade da oferta de alimentos de origem animal acabam retardando minha decisao\",\"costumo experimentar e cozinhar alimentos vegetarianos ou veganos, nao sinto falta da carne quando passo muitos dias sem comer carne animal, na verdade, so como carne animal ainda porque geralmente e mais rapido de preparar e cozinhar\",\"decidi reduzir o consumo de carne porque desde crianca acho uma forma de maustratos aos animais, mas nao tive opcao de tirar de vez, pois sou de familia pobre, ao conhecer minha namorada que tive mais acesso a reduzir o consumo a quase zero, as vezes ainda como porque nao tenho outra opcao em casa, tenho um metabolismo muito rapido e a dieta que a nutricionista passou tem muito frango, mesmo assim tento reduzir meu corpo e muito magro e fraco, fica mais dificil de adentrar ao vegetarianismo sem condicões financeiras, pois dependo de um familiar pra me alimentar\",\"busco ser ovolactovegetariano em algum momento, mas ainda nao cheguei la\",\"nos últimos anos reduzi a quantidade de carne que eu como no almoco e quase eliminei na janta com os finais de semana sendo um tanto imprevisiveis no entanto nao tenho pretensões de me tornar vegetariano ou vegano devido ao grande planejamento gasto e sacrificio de prazeres pessoais e sociais que essa mudanca acarreta mas admiro a dedicacao de quem decide se tornar\",\"minha esposa se tornou vegana ha um tempo desde que ela fez a transicao, a acompanho em boa parte das refeicões (quase todas quando comemos em casa)\",\"porque nao atingi a disciplina e cuidado necessario para me considerar vegana\",\"teve mais de um ano que deixei de consumir carne mas a voltei novamente  entao eu como as vezes\",\"mudei minha concepcao sobre a necessidade de consumo de ptn animal antes entendia que refeicao so era refeicao se tivesse hoje, consumo uma refeicao vegana, inclusive sem soja, tranquilamente\",\"ja fui vegetariano por 4 anos mas por diversos motivos optei por voltar a comer carnes mas nao na quantidade tradicional o vegetarianismo estava afetando minha relacao com a comida e eu estava perdendo um pouco minha autoafirmacao de que alimentacao e cultura ancestralidade raizes e relacões interpessoais continuo evitando carnes mas nao consigo por ora deixar totalmente\",\"porque diminui a frequencia e quantidade de carne ja fiquei vegetariana por 5 anos porquestoeseticas e ambientais, mas fiquei anemica e voltei a comer em pouca quantidade depois me casei com um marido muito carnivoro e voltei a comer bastante mas meu corpo reagiu (juntas dos dedos inchados) e eu voltei a reduzir e estou bem\",\"eu tive a experienica de ser vegana por sete meses, foi incrivel a visualizacao desse estilo de vida, porem eu so faco o basico para mudar um pouco o meu habito alimentar, como comer carne de soja, lentilha refogada, berinjela, abobrinha, grao de bico e etc apenas preciso aprender a fazer diversos pratos para que eu possa consumi-los no meu dia a dia, como hambúrguer de grao de bico, ervilha e etc\",\"uma de minhas filhas e vegetariana e eu acompanho a dieta dela na maioria da semana\",\"minha namorada e ovolactovegetariana quando comecamos a morar juntos eu me adaptei em grande parte ao estilo de vida que ela ja levava mas ainda mantenho o consumo esporadico de peixe e frango principalmente\",\"ja fui vegetariana e voltei a consumir carne, mas ainda faco refeicões sem comer animais\",\"estou em processo pretendo ser vegano em breve, e penso que esse e o futuro de todos nos e ate viver apenas de luz!\",\"porque tenho intencao de ser vegana mas ainda nao consegui pode ser que o flexitarianismo me ajude com adaptacao de novos sabores simultâneo a reducao de produtos de origem animal\",\"me considero socialmente carnivora nao tenho carne vermelha ou frango em casa ha 7 anos as vezes compro presunto\\u002flinguica\\u002fsalsicha quando saio, como o que tenho vontade ja fui vegetariana, mas parei a maioria dos meus amigos e vegetariano ou vegano, se saio com eles acabo comendo as opcões veganas tbn\",\"minha alimentacao no dia-a-dia e praticamente vegana, mas vez ou outra ainda como queijos, pizza de calabresa e alguma preparacao com carnes principalmente qndo vou a casa de familiares onivoros\",\"Vontade de ser vegano sem abandonar a praticidade que consumir carne traz em certas situacões\",null],\"marker\":{\"opacity\":0.5,\"size\":5},\"mode\":\"markers+text\",\"name\":\"2_Transição e Desafios do Vegetarianismo\\u002fVeganismo\",\"text\":[\"\",\"\",\"\",\"\",\"\",\"\",\"\",\"\",\"\",\"\",\"\",\"\",\"\",\"\",\"\",\"\",\"\",\"\",\"\",\"\",\"\",\"\",\"\",\"\",\"\",\"\",\"\",\"\",\"\",\"\",\"\",\"\",\"\",\"\",\"\",\"\",\"\",\"\",\"\",\"\",\"\",\"\",\"\",\"\",\"\",\"\",\"\",\"\",\"\",\"2_Transição e Desafios do Vegetarianismo\\u002fVeganismo\"],\"textfont\":{\"size\":12},\"x\":[14.386574,13.847484,13.7535305,13.829359,14.16019,13.889629,14.10881,13.564228,13.32037,13.927285,13.4136715,13.9768095,13.812963,13.215442,13.875191,13.749282,13.951537,13.205595,14.061412,14.635942,14.09653,13.563372,13.501873,14.136299,13.672929,13.829436,13.86062,13.554218,13.334387,13.842421,14.34255,14.186169,13.601564,14.205389,13.79632,13.539531,14.12958,16.527185,14.07172,14.238351,14.05674,13.490023,13.799938,14.164297,13.891266,13.538882,14.753415,14.241864,13.8947,13.929529],\"y\":[10.666287,10.385414,10.501927,10.203768,11.081514,10.465981,10.955336,10.67604,10.00259,10.453821,10.289507,10.499806,10.614239,10.340415,10.728754,10.475672,10.412743,10.396027,10.406705,11.250691,11.0271,10.667739,10.338013,11.12516,10.737188,10.675326,10.684107,10.6756315,10.305189,10.628432,10.430104,10.78494,10.647452,10.5291395,10.154871,10.366337,11.18966,10.417745,11.012353,10.875965,10.412464,9.983287,10.178844,11.217486,10.432178,10.500418,10.7125225,10.413032,10.6076975,10.582401],\"type\":\"scattergl\"},{\"hoverinfo\":\"text\",\"hovertext\":[\"eu nao me considero fui convivendo com pessoas que nao comem e fui observando que alimentacao com menos ingestao de carne me faz eu me sentir mais saudavel\",\"porque diminui muito o meu consumo de carne e ja nao sinto falta\",\"porque tenho evitado o consumo de carne, sobretudo de gado, de forma consciente, porquestoes ambientais, por criticas ao sistema de criacao e tambem passei a desgostar\",\"estou tentando diminuir o consumo de carne\",\"porque desde 2020 passei a reduzir consideravelmente o consumo de carnes na dieta da minha familia\",\"por conta do consumo de carne nao ser tao necessario na minha alimentacao diaria e o impacto que isso causa\",\"pois devido a questoes econômicas, carnes mais caras e salarios mais baixos, nao posso consumir a quantidade de carne, porem, tambem estou diminuindo o consumo e buscando outras fontes de maior proteina\",\"por motivos relacionados a questao ambiental, de saude e sustentabilidade\",\"porque consegui  reduzir o consumo  de carne animal\",\"diminuo o consumo de carne pois acredito que a criacao de animais para consumo e cruel e contribui para o devastacao de biomas naturais, dessa forma compro frango, peixe e ovos orgânicos que sei da suavprocedencia, alem de diminuir a minha frequencia de vezes e a porcao comida em cada refeicao\",\"acredito que reduzir o consumo de carne impacta positivamente na monha saude e na natureza\",\"porque estou paulatinamente diminuindo meu consumo de carne, sobretudo de vaca\",\"tentar causar algum impacto na industria da carne\",\"porque passo a mim alimentar com comidas saudaveis\",\"Varios motivos ligados a saude humana e animal\",\"me preocupo com as acões do agronegocio e seus impactos no meio ambiente e nas comunidades, bem como com o uso intensivo de agua e outros insumos me tornei flexitariana um pouco como consequencia da assinatura de uma cesta de orgânicos para que nao estragassem legumes\\u002fverduras, passamos a comer mais refeicões sem carne, ou com menos carne por exemplo, ao inves de fazer um prato de carne, muitas vezes faco uma receita com vegetais e uso um pedaco pequeno de carne ou embutido para dar gosto tenho a oportunidade de usar varios substitutos de qualidade, dada minha condicao econômica tal privilegio me permite ter acesso a alguns canais de distribuicao e de informacao outro ponto: eu tenho vergonha de comprar carne hoje, especialmente quando vemos que o quilo de osso ( que nem carne e) custa quase 20 reais! as pessoas estao passando fome, os trabalhadores estao sendo adoecidos e as empresas continuam fazendo lucros altos e uma vergonha!\",\"porque fui criada comendo todos dias e hoje diminui muito e sei que ainda preciso diminuir Vai ser impossivel comer carne pela sustentabilidade ambiental\",\"parei de comer carne de boi, porque nem os supermercados, nem os frigorificos puderam me garantir que a carne que comercializavam atendia a resolucao do mpf de nao vir de frente de desmatamento amazônico\",\"por ter reduzido meu consumo de carne drasticamente nos últimos 6 meses\",\"porque aos poucos tenho buscado reduzir o consumo de carne mas de maneira radical\",\"acho importante pra minha saude na verdade\",\"tenho tido vontade nos últimos tempos de reduzir o consumo de carne por motivos de saude e de sustentabilidade ambiental\\u002f protecao dos animais\",\"por entender toda a gama de problemas ecologicos causados pela \\\"producao\\\" de carne (especialmente a bovina) no pais, bem como o tratamento que muitos animais recebem ate chegar ao meu prato\",\"me tornei flexitariano pelo fato de achar triste o tratamento dos animais no abate e ter empatia pelos animais depois disso, criei uma certa resistencia com o sabor da carne vermelha desde entao, busco reduzir meu consumo\",\"a familia sempre foi a favor da reducao, nao havia necessidade de comer diariamente, principalmente por causa da digestao que diziam ser demorada hoje em dia ha a consciencia de excesso na alimentacao mundial e, consequentemente, das questoes ambientais\",\"por uma questao ambiental e qualidade de vida dos animais tambem\",\"comecei a consumir menos carne por causa do financeiro mas depois me acostumei a nao comer carne e passei a pensar mais no sofrimento animal entao atualmente eu substituo pela carne de soja\",\"porque procuro uma alimentacao mais leve e na minha opiniao comer carne nao e sinônimo de longevidade\",\"por motivos da consciencia do sofrimento do animal\",\"pelos impactos do consumo de carne ao meio ambiente, por ter uma questao moral relacionada a consumir animais nao humanos\",\"pra manter minha saude equilibrada consumindo alimentos 90 por cento natural\",\"porque mesmo nao me preocupando (em relacao a obter alimento de melhor qualidade mas me preocupo um pouco com o bem-estar animal) com as condicões de criacao dos animais na hora da compra me preocupo com as consequencias ambientais que a pecuaria possui um grande peso por isso a reducao do consumo de carne se tornou importante pra mim\",\"porque a carne esta muito cara e nao cabe no meu orcamento\",\"quero reduzir consumo de carne tanto por motivos de saude quanto de reducao mesmo\",\"por estar reduzindo o consumo de carne porquestoes financeiras e orientacao medica\",\"porque estou tentando diminuir o consumo de carne na minha casa\",\"quis adotar uma dieta que reduzisse o consumo de carne\",\"consumo de carne vermelha e insustentavel ambientalmente e por conta dos processos de crueldade que envolvem a criacao\",\"decidi ter um estilo de vida um pouco mais saudavel\",\"porque procuro reduzir meu consumo de carne\",\"pois reduzo intencionalmente o consumo de carne\",\"diminui meu consumo de carnes, principalmente bovina alem de nao consumir mais peixes como atum e salmao principalmente por consciencia ambiental passei a consumir mais graos e tuberculos\",\"porque venho reduzindo o consumo de carne vermelha ha algum tempo pos diversas questoes\",\"eu decidi diminuir , aos poucos a carne me traz um sentimento de culpa\",\"porque reduzi meu consumo de carne devido a saude\",\"nao e sustentavel para o planeta mais carnivoros que herbivoros e desumana a forma que os animais sao tratados\",\"porque busco reduzir o consumo de carne para melhorar a saude\",\"porque acho carne cara e minha esposa e vegetariana\",\"faco o exercicio consciente de reduzir o consumo de carne\",\"porque diminui drasticamente o consigo de carne nos últimos 2 anos\",\"pois nao sinto prazer em comer carne com muita frequencia, chega a enjoar, e esta caro\",\"sempre soube que carne nao fazia muito bem pra saude, depois que os precos aumentaram absurdamente, foi quando eu decidi parar\",\"pretendo eliminar a carne da minha dieta alimentar\",\"me importo com os animais suficientemente para acreditar que eles tem sentimentos e merecem o meu respeito acredito que foram criados para glorificar a deus e nao para serem alimento, principalmente quando pensamos na forma como sao tratados dentro e fora de locais de abate, fica parecendo que alguns humanos agem sem alma alem disso, a natureza sofre cada dia mais com as atitudes dos seres humanos que insistem em se utilizar dela sem o menor respeito\",\"reduzi meu consumo de carne, depois de ter um infeccao alimentar e pegar uma bacteria da carne de porco\",\"eu decidi reduzir o consumo de carne para melhorar a minha alimentacao e pensando tambem na questao animal e o impacto do meio ambiente\",\"por causa do impacto_ambiental do agronegocio\",\"porque acho importante nao incentivar a indústria que a criancao de animais se tornou\",\"porque reduzi o consumo de carne nos últimos meses\",\"por uma associacao entre saude e respeito aos animais\",\"por acreditar que faz bem a saude consumir menos carne\",\"porque tenho buscado reduzir o consumo de carnes\",\"porque reduzi bastante o consumo de carne\",\"porque busco reduzir na minha dieta e na da minha familia o consumo de alimentos de origem animal mesmo que nao em todas as refeicões\",\"penso que devemos melhorar a qualidade de nossa alimentacao, respeitar mais o meio ambiente e a os animais\",\"acredito que a reducao do consumo de carne pode trazer novas experiencias alimenticias reducao de financeiro financeiro e uma dieta melhor para o meu organismo\",\"primeiro porque penso que o consumo de carne animal e muito cruel na producao atual, e tambem porque e um item caro se comparado com outros alimentos da mesa brasileira\",\"porque na pandemia passei a ter maior frequencia de preparo de carne (2x ao dia) e o contato constante e frequente com a carne me fez criar resistencia e optar por reduzir carne na alimentacao\",\"pelo impacto_ambiental da pecuaria e principalmente pelo sofrimento que animais nao humanos sao submetidos em nosso sistema social ambiental cultural e econômico\",\"porque reduzi o consumo de carne ha mais de 30 anos\",\"alem dos indicados nas perguntas 19 e 20, mudancas climaticas, impactos na saude do consumo de carne vermelha\",\"porque decidi nao somente porquestoes financeiras, mas tbe em razao do meio ambiente, modos de producao, criacao dos animais e pelos animais, reduzir consumo de carnes\",\"porque me preocupo com questoes ambientais e climaticas e tenho consciencia do impacto da indústria da carne nesse cenario, ainda como carne pela praticidade pois moro num ambiente em que os demais consomem e nao preparo minha propria alimentacao\",\"porque eu tento evitar carne em minhas refeicões po razões ambientais e de saude\",\"porque acredito que meu consumo medio de carne seja menor que a media nacional\",\"porque a casa dia consumo menos alimentos de origem animal ate o ponto de nao sentir falta\",\"eu me preocupo com essas questoes vivenciais dos animais e afins reduzi justamente por isso, por tambem perceber que existem substitutos otimos e que nao faz tanta falta assim \\nnao chego a por em pratica de ver quais empresas fazem de fato isso, porque no final das contas eu vivo no brasil e a questao financeira pesa\",\"porque ao longo do tempo entendi que a reducao da carne e nao a extincao dela seriam a melhor solucao tambem vi que e super possivel saudavel e econômico\",\"gosto de ter um consumo mais saudavel de carnes e sempre trago para os que estao proximos o quao importante e ter uma dieta balanceada como foco em diminuir o consumo de carne trazendo para o prato mais verduras e legumes, para tentar reduzir o impacto_ambiental\",\"tento diminuir o consumo, por nao concordar com a forma que criacao e abate\",\"pela vontade de parar de comer proteina animal por motivos de saude e ambientais, por saude (tenho gordura do figado) e pelo sofrimento animal em si tambem\",\"porque sou contra tratar os animais como mercadoria me importo com o sofrimento aos quais sao submetidos\",\"nao pretendo me tornar vegetariana ou vedacao contudo conheco os problemas decorrentes do grande consumo de carne e os impactos ambientais relacionados acredito que se todos reduzissem o consumo diminuiria significativamente os impactos negativos\",\"so reduzi o consumo mesmo por acreditar que possa ser positivo para a saude\",\"reduzi o consumo de carnes por causa de problemas digestivos e tambem pelo dinheiro\",\"reduzir o  do consumo de carne proporciona menos culpa na dieta\",\"porque estou reduzindo o consumo de carne\",\"gosto da ideia de reduzir o consumo de carne\",\"uma alimentacao reduzida em alimentos de origem animal essa estrategia alimentar esta relacionada a preocupacões com a saude\",\"pensando no meio ambiente e no sofrimento animal\",\"porque consumo de tudo com consciencia alimentar e tenho reduzido o consumo de carne, principalmente a carne bovina\",\"com o passar dos anos, venho gradativamente diminuindo o consumo de carnes\",\"porque acho importante consumir pouca carne\",\"preocupada com o modelo tradicional, onde o animal nao tem direito a ter uma vida digna ate a sua morteconfinamento e triste\",\"pois comecei removendo mamiferos e a cada ano que passa vejo que tenho menos vontade de consumir outros seres nao mamiferos tambem\",\"porque reduzo o consumo da carne bovina por ser uma carne vermelha e se consumida em excesso afeta negativamente a saude\",\"pela forma como os animais sao tratados nos processos de producao\",\"porque diminui o consumo de carne da monha dieta e pretendo deixar de comer carne totalmente\",\"entendo os problemas da producao de alimento de origem animal e aprecio sabores, cultura, saberes que a alimentacao traz consigo\",\"porque coloquei no meu habito alimentar a consumir menos carne, principalmente carnes que demandam de grandes pastos ou muita alimentacao industrializada\",\"porque venho tentando fazer uma alimentacao mais equilibrada  antes o consumo era diario\",\"por querer diminuir a carne em beneficio a saude\",\"porque tenho pena da morte e nao concordo com o modo que os animais sao criados\",\"porque decidi poupar os animais e comer mais vegetais e leguminosas, respeitanto os animais, o planeta e o consumo de agua\",\"porque decidir reduzir o consumo de carne\",\"porque eu tenho tentado evoluir espiritualmente e respeitar a vida dos animais ja faz uns 10 anos que comecei a cortar o consumo de carne todos os dias percebo que ate a agressividade diminui\",\"me considero porque tiro a carne da minha alimentacao, alguns dias da semana para melhorar minha saude\",\"porque precisei reduzir o consumo de carne por problemas de saude e hoje so como carne bovina em ocasioes sociais\",\"por reduzir o consumo de carne e querer ser vegetariana\",\"por sensibilidade a vida animal e ao modo como sao tratados, questoes econômicas e ambientais secundariamente e com isso estou no processo gradativo de desabituar o consumo de carne animal\",\"porque acredito na necessidade de reducao da carne em funcao das consequencias ambientais e tambem pelos maus tratos animais\",\"porque so consumo carne e derivados produzidos pela agricultura familiar local\",\"por tres razões: ecologica violencia com animais e por saude\",\"pela diminuicao do consumo de carne e os principios aos animais\",\"por causa de todo o contexto politico e critico sobre as diversas situacões que se encontra o pais o a reducao do consumo de carnes nos dias atuais e mais como um ato de resistencia devido a isso, procuro um consumo consciente da carne que chega a minha mesa\",\"reduzi significamente a quantidade do consumo de carnes\",\"eu resolvi diminuir o consumo de carne, mas nao abrir mao, porque gosto o primeiro motivo foi por saude, aprendendo sobre os beneficios, o segundo motivos tambem pelo meio ambiente, que aprendi que mesmo retirando a carne de apenas algumas refeicões, ja causa um impacto positivo\",\"pelo meio ambiente (desmatamento) em geral para criacao, excesso de hormônios nas criacões\",\"pelo financeiro, pela forma como sao produzidos\",\"porque eu tento reducir o consumo de carne\",\"similaridade com carne humana, mals tratos animais e meio ambiente\",\"por causa da industria de alimentos do aquecimento global mais saude e por causa da expansao da linha dos pastos de agricultura na amazonia\",\"primeiro ponto: pela minha saude depois por um questao econômica, para combater esse forte lobby que existe no brasil do agronegocio, por isso consumo pancs no meio disto ha sim a preocupacao com o bem estar dos animais\",\"porque resolvi reduzir o consumo de carnes depois que meus filhos se tornaram vegetarianos\",\"educacao alimentar apos ganho de peso e uma sindrome autoimune\",\"porque reduzir o consumo de carne ha muitos anos mas 1 ou 2 vez por mes consumo\",\"para reduzir o impacto_ambiental que muitas das producões causam e evitar ingestao de transgenicos (muito utilizado nas racões desses animais) e antibioticos\",\"nao tem motivo para comer tanta carne os maus tratos com os animais muita geracao de gases do efeito estufa desmatamento muito consumo de agua consumo exagerado de graos que poderiam alimentar muitas pessoas com muita monocultura predatoria utilizando trabalho escravo e por motivos de saude\",\"devido a impacto_ambiental e modo de abate dos animais em confinamento\",\"nao acho que o brasileiro deva renunciar totalmente ao consumo de carne temos um vasto territorio e ao longo da historia sempre fomos um povo faminto com pouco acesso a carne que deixe de comer carne o povo europeu, que ja comeu demais ao longo dos tempos para alem disso, entendo que faz parte da natureza o homem matar e comer um outro animal, porem devemos procurar comer carnes oriundas de animais criados sem sofrimento e sem derrubamento de matas nativas, a exemplo de aves que podem ser criadas em pequenos espacos e cujos dejetos sao otimos fertilizantes\",\"reducao de producao de gases aumento de preco sensibilidade aos animais religiao (jejum) etc\",\"devido ao grande impacto_ambiental que a criacao de animais para consumo humano possui na natureza e porquestao de saude individual tambem\",\"por reduzir a frequencia do consumo de carnes\",\"primeiro pelos precos, esta cada vez mais dificil comprar carne, segundo pelo historico familiar de doencas que tiveram a carne vermelha como uma das causas\",\"como o consumo de carne e inflamatoria tenho tentado reduzir do consumo alimentar da minha casa\",\"por estar desenvolvendo consciencia sobre o assunto\",\"por ser saudavel reduzir o consumo de carnes vermelhas\",\"porque reduzi o consumo de carnes por opcao\",\"por tentar melhorar a alimentacao e comer menos carne vermelha\",\"porque reduzi o consumo de carne e dou preferencia por cardapios vegetariano ou vegano\",\"porque eu nao necessito comer tanta carne para me alimentar bem, principalmente carne de animais que sao torturados e tem uma qualidade de vida horrivel desde novinhos alem das criacões de gado trazer grandes impactos ambientais\",\"porque apos reduzir o consumo consciente, hoje eu nem reparo nem escolho mais os dias em que nao comerei carne se tornou algo natural, quando me da vontade eu como, e sao poucas vezes que essa vontade surge em minha fome\",\"reduzi a carne devido a problemas de saude\",\"e mais saudavel no sentido que diminui as doencas cardiacas (por causa da gordura animal)\",\"porque eu procuro ter habitos de consumo moderados e saudaveis\",\"primeiro motivo devido ao sofrimento do gado ao longo da escala de criacao ate o abate, segundo devido as questoes ambientais de efeito estufa e desmatamento, terceiro que comer carne em excesso faz mal a saude, e quarto motivo e que nao consigo deixar de comer carne (na forma de churrasco e bacon), mas penso que reduzir esse consumo ajudara muito nos aspectos citados entao , me considero flexitariano pois dificilmente serei vegana ou vegetariana\",\"porque nao faco questao da carne nas refeicões e tambem porque os precos subiram muito o frango e a que mais gosto praticamente dobrou de preco comparado com o ano passado\",\"porque nao concordo com a relacao escravista que temos com os animais e porque a producao de carne impacta negativamente o meio ambiente\",\"por conta alem do preco, da preferencia por outras coisas alem de carne e preocupacao com o meio ambiente e com os animais\",\"financeiro, e reeducacao alimentar comer de tudo\",\"porque decidi reduzir o consumo de carne laticinios nao estava digerindo muito bem impacto_ambiental e sofrimento animal\",\"reduzi a carne por consciencia, para ajudar o meio ambiente\",\"porque consumo de forma consciente ja fui vegetariana por 17anos e agora nao quero restricões, mas sim cuidado com a alimentacao e a procedencia\",\"penso em saude humana e diminuir a crueldade com os animais\",\"porque ao longo dos anos vim diminuindo o consumo de carne porquestoes de saude\",\"por ser educadora_ambiental e biologa entendendo os impactos causados no ambiente e na sociedade para criacao de gado, sendo assim busco maneiras de diminuir meu impacto no ambiente por meio da diminuicao do consumo de carne ao menos uma vez na semana ou substituindo por outros alimentos\",null,\"porque decidi reduzir consideravelmente meu consumo de carne\",\"capacidade planetaria em limitacao crescente para alimentar humanos com carnes\",\"consciencia ambiental, bem-estar fisico e orgânico\",\"porque eu reduzi bastante o consumo de carne tanto devido ao preco como devido as implicacões ambientais na criacao de gado, pena do animal, dentre outros fui vegetariana por 3 anos e apenas voltei a comer carne porque precisava cozinhar para minha familia e ja nao dava conta de fazer outras opcões e nao me achava no direito de privar meus filhos de uma fonte importante de proteina e ferro na verdade, ficava insegura de prejudicar o desenvolvimento deles tambem por uma opcao minha hoje em dia voltei a comer carne de boi e porco, mas e algo que ainda me provoca culpa por conhecer o que tem por tras dessa indústria em relacao as duas perguntas anteriores, nao sei se \\\"preocupacao\\\" foi o melhor termo, pois sim, eu me preocupo, mas nao consigo escolher o produto levando em consideracao a dieta dieta animais pois ha tempos nos desvinculamos da origem do nosso alimento acabo comprando carne sem saber qual a dieta do animal, porque nao ha essa informacao mas sim, me preocupo\",\"porque alem da quantidade imensa de hormônios e antibioticos que possuem nas carnes o jeito como os animais sao confinados e o abate nao me agradam\",\"nao considero certa a criacao e o abuso sofrido pelos animais\",\"para diminuir o consumo excessivo de carne, pela saude e pala disponibilidade do alimento no mundo\",\"por ter reduzido o consumo de carne em prol do meio ambiente\",\"porque estou reduzindo aos poucos o consumo\",\"porquestoes economicas e nojo de manejar cozinhar carne crua\",\"melhor pra saude, doencas animais, orientacao inspirada\",\"acho que se tivermos outros alimentos podemos diminuir o consumo de carnes por impactarem o meio ambiente e pela forma que esses animais sao criados em confinamento\",\"porque decidi reduzir o consumo de carne bovina, devido as mudancas climaticas\",\"preocupacao ambiental, social e a etica com animais\",\"porque as carnes em geral pra mim sao de dificil digestao, porque a criacao de gado\\u002fanimal causam impacto_ambiental e na alimentacao de animal contem muito agrotoxico, hormônio, etc\",\"porque me preocupa a situacao alimentar e ambiental e a utilizacao irracional da agua e da terra para cultivo de graos para os animais, que nem serao alimentos para as pessoas daqui do brasil\",\"porque tenho uma tendencia a cada vez mais comer menos carne\",\"a reducao do consume de carne melhorou consideravelmente minha saude e estilo de vida\",\"porque diminui o consumo de carne e com o tempo perdi totalmente o habito\",\"porque tenho tentado melhorar minha alimentacao, os cuidados com o planeta, com animais, e com trabalhadoras e trabalhadores\",\"porque busco diminuir o consumo da carne e derivados\",\"por conta da pressao da pecuaria bovina sobre areas naturais preservadas e emissao de metano alem do preco atual substituiria tranquilamente o frango e carne suinas por peixes e cogumelos, no entanto o financeiro desses produtos nao me permite\",\"porque reduzir voluntariamente a quantidade de carne consumida\",\"nao gosto de rotulos,mas acredito que o mumdo nao tem mais condicões de suportar o agronegocio, a contaminacao das aguas, dos solos e de todo meio ambiente com pesticidas e afins\",\"porque consumir muita carne bovina nao fez pro meu intestino e a reducao colabora com o meio ambiente\",\"consciencia ambiental e melhoria da saude\",\"porque ultimamente vi o impacto_ambiental que o consumo de carne vermelha vem causando , e pelo preco da carne tbm\",\"porque sinto menos cansaco quando nao como muita carne nas refeicões e sei que e importante reduzir o consumo porquestoes ambientais e de saude por conta dos agrotoxicos e insumos no processo de producao\",\"pelo conhecimento que venho adquirindo cerca das provaveis doencas que vem de peixes e outros animais que nao sao criados com higiene\",\"reduzindo o consumo de carne porem de uma forma radical\",\"porque tenho tido a oportunidade de observar com mais cuidado minhas fontes alimentares e acredito que precisamos contribuir com o meio ambiente em todos os aspctos da cadeia alimentar\",\"porque nao gosto do sabor da carne e tbm nao concordo com a indústria\",\"porque e uma escolha que afeta o estilo de vida pra alguns pode ser transicao mas para mim e a forma que eu encontrei pra nao so diminuir meu consumo de carne mas priorizar minha saude\",\"porque aos poucos venho reduzindo o consumo de carne\",\"porque decidi diminuir o consumo de carne para melhorar minha alimentacao\",\"devido aos impactos ambientais a nivel mundial, como ato politico, como modo de cuidar do organismo\",\"estou comecando a retirar a carne da minha dieta por sentir pena de como sao mal tratados os animais ( tanto na criacao quanto para serem sacrificados)\",\"porque tenho diminuido o consumo de carne\",\"sei dos impactos ambientais da criacao de animais alem dos beneficios nutricionais de ingerir outros grupos alimentares\",\"porquestoes financeiras, de bem-estar animal, e de impacto_ambiental, visto que temos opcões equivalentes para substituir a proteina animal\",\"dois anos que diminuir o consumo de carne\",\"porque reduzi conscientemente meu consumo de carne, com o objetivo de cuidar da minha saude\",\"sei do impacto que a indústria pecuaria gera ao meio ambiente mesmo as que nao criam o animal em confinamento, decidem a data de morte do animal e eu nao acho certo acho qie os animais tem sentimentos e direito a vida como qualquer um de nos so nao consegui virar vegetariana ainda porque nao consegui ter disciplina e organizacao para manter um estoque de legumes e verduras que atendesse a minha familia grande outro ponto e que, em parte, sinto que dificulta um pouco a socializacao ao visitar amigos, ir em festinhas e tem pratos como o estrogonofe e a lasanha bolonhesa da minha avo que me trazem memorias afetivas e nao consegui abrir mao ainda\",\"porque tenho consciencia de que o consumo de carne diariamente e insustentavel para o planeta\",\"por ter reduzido o consumo de carnes em geral de forma significativa\",\"porque reduzi a carne, principalmente a vermelha\",\"porminha saude e pelas condicões de criacao dos animais\",\"porque venho reduzindo o consumo de carne\",\"porquestoes de saude, de condicionamento fisico e politicas\",\"sofrimento animal no processo de criacao e a exploracao de maneira desordenada\",\"por opcao pessoal, espiritual e de consciencia coletiva\",\"porque eu fui obrigada a reduzir o consumo de carne devido ao aumento do preco dos alimentos, e tambem porque vi que reduzir o consumo de carne (comer menos vezes por semana) ja ajuda o meio ambiente entao adotei o dia sem carne na alimentacao\",\"primeiro por conta do preco, segundo pra reducao de gordura saturada\",\"porquestao de saude e de posicionamento politico e consciencia ambiental\",\"nao gosto muito de carne e o financeiro e muito alto\",\"pois tenho uma certa consciencia sobre a indústria de animais e seus impactos,e procuro dimini meu consumo o maximo possivel, porem sem eliminar totalmente,por motivos pessoais\",\"porque tenho reduzido o consumo de carne na alimentacao para melhora de minha saude\",\"porque desejo diminuir o consumo de carne\",\"para uma melhor qualidade de vida e porque meu medico solicitou a diminuicao do consumo\",\"por escolher nao comer carne e ir reduzindo\",\"porque eu tento diminuir o consumo de carne no meu dia a dia, pra me acostumar e quem sabe virar vegetariana\",\"sim pois tento diminuir o consumo de carnes causador de impactos ambientais nocivos ao planeta\",\"por estar reconsiderando o meu consumo de carne\",\"porque tenho diminuido o consumo de carne tanto em porcao como em frequencia\",\"porquestoes ecologicas, econômicas e de saude tambem\",\"por causa das condicões financeiras atuais\",\"me sinto mais saudavel adotando essa medida\",\"carnes brancas sao consideradas menos caloricas e foi sugerido a mudanca pela nutricionista\",\"porque reduzi proativamente a quantidade de vezes que como carne na minha rotina\",\"porque nao gosto mais do cheiro da carne de boi e tenho reduzido muito o consumo, optando por peixe ou ovos os precos da carne tbm estao abusivos\",\"nao sei se entendi a pergunta decidi quase zerar o consumo de carne porquestoes de consciencia ambiental, e tambem por saude\",\"reduzo a carne por entender que seu consumo aumenta o destruicao das florestas, pelo sofrimento dos animais  e para nao fortalecer o agronegocio que destroi rios e solos e comunidades indigenas\",\"reduzi o consumo de carne por vontade propria sem me preocupar com esse termo cansei de comer tanta carne pesa na verdade e so isso\",\"considero que meu consumo de carne diminuiu consideravelmente\",\"porque reducao a quantidade de consumo de produtos de origem animal\",\"relacao politica, com o meio ambiente e econômica\",\"principalmente pelo preco do acougue atualmente no brasil, e tambem porquestoes que ainda nao conseguiria ter uma vida zero carne e embutidos no momento, porquestoes financeiras para suplementos e consultas frequentes a nutricionistas\",\"porque penso no sofrimento animal, e no impacto_ambiental\",\"porque ao reduzir o consumo de carnes, a minha qualidade de vida e muito melhor\",\"pois reduzi o consumo de carne por preocupava com o meio ambiente, clima, fatores politicos e econômicos do meu pais, alem de melhorar minha digestibilidade alimentar\",\"por amor aos animais e problemas de saude\",\"por estar no processo de reduzir cada vez mais esse consumo de carne\",\"por saber dos impactos ambientais gerados pelo consumo excessivo em relacao as carnes embutidas (presunto, salame, salsicha) tento reduzir consumo tambem por conta dos maleficios a saude\",\"porque nao me agrada a indústria de carnes, porque flexibiliza a dieta acredito ser saudavel reduzir o consumo de carnes para mim e para o planeta\",\"por motivos conscientes que e o principal e questoes econômicas em segundo\",\"estou tentando diminuir o consumo da carne\",\"porque reduzi o consumo de carne em comparacao ao meu padrao de consumo\",\"estou diminuindo aos poucos o consumo pelas questoes ambientais\",\"porque eu me preocupo em reduzir o consumo de carne com motivacões relacionadas ao ambiente e com o bem-estar animal\",\"porquestoes ambientais e tambem de saude\",\"porque tenho consciencia de como a criacao de animais para consumo humano e cruel com os animais e prejudicial ao meio ambiente e por isso reduzi o consumo intencionalmente\",\"pelo carater do bem estar animal e pelo desgradacao da natureza realizada pelos criadores de bois e aviarios\",\"porque reduzi o consumo de carnes porque acredito ser possivel ter manter uma boa saude e curar enfermidades com menos carnes , assim como reduzir os impactos que o consumo de carnes em excesso provocam no meio ambiente e para os animais\",\"sim, pois diminui o meu consumo de carne em 2019 e me sinto melhor assim\",\"porque diminui o consumo mais ainda no consegui para de comer carne\",\"por me preocupar com o avanco do agronegocio\",\"porque tento reduzir o consumo de carne de origem animal\",\"sim Venho reduzindo o consumo, por nao gostar mais do sabor de algumas carnes\",\"sofrimento a que sao submetidos os animais, alimentacao oferecida a eles, alem de medicamentos ministrados com objetivo comercial \\napos o abate adicionam-se aditivos, conservantes e outras substancias artificiais que prejudicam a saude do ser humano \\nimpacto para o meio ambiente\",\"principalmente porque sempre considerei que e um alimento pesado para o organismo devido a sua lenta digestibilidade, entao porque os ruminantes contribuem para a emissao de metano, que e um gas de efeito estufa, os precos da carne bovina sao muito altos,\",\"porque tenho tentado reduzir o consumo de carne progressivamente\",\"da carne vermelha principalmente pelo modo de producao em superescala e suas consequencias em ultima instancia pelo aumento de preco e inflacao\",\"Vejo o quanto o consumo de carne vermelha impacta no ambiente e na vida dos animais estes na sua maioria sao criados como meros objetos sem importância\",\"comecei a reduzir o consumo ao ter contato com pessoas vegetarianas\\u002fveganas que se preocupam com todo o contexto do animal e tambem por ter comecado a preparar refeicões\",\"porque eu nao tenho dinheiro para comprar carnes, como eu fazia antes\",\"porque tomei consciencia de entender o caminho que existe ate virar meu alimento e a partir disso tento fazer escolhas melhores para minha saude dos animais e do planeta\",\"o bem estar animal e a devastacao de terras pelo agronegocio devem ser uma questao sempre quando se trata de investimento de dinheiro, alem disso, quanto ao dinheiro, a carne encarece muito a feira do mes\",\"porque escolhi reduzir o consumo de carne\",\"devido a crise climatica o objetivo e nao comer carne sem saber a procedencia, oi deixar deixar de comer em definitivo\",\"por saber que comer carne principalmente vermelha nao faz bem para a saude\",\"porque estou querendo reduzir a quantidade de carne que como, para um dia, talvez, parar de vez\",\"nao acredito que seja necessario consumir uma grande quantidade de carne para manter uma alimentacao saudavel acredito que pancs tem imenso potencial pois sao locais, mais nutritivas, de facil cultivo no geral, etc tambem apoio as questoes veganas e de meio ambiente tirando as carnes bio e marcas como korin, os animais sao tratados com transgenicos e antibioticos, alem de sofrerem maus tratos tambem sabemos que os alimentos processados e ultraprocessados e preparados alimenticeos nao tem energia vital, nao sao vivos, portanto, nao nutrem e introduzem toxinas no organismo\",\"esforco de reduzir o consumo de carne por motivos ambientais e eticos\",\"porque eu diminui muito o consumo de carne por estar caro e por pesar na digestao\",\"reduzi o consumo porque minha filha e vegetai, e por consequencia diminui o consumo\",\"porque reduzi consicentemente o consumo de carne\",\"porque optei por reduzir o consumo de carne\",\"porque aos poucos tento restringir o consumo de carne\",\"aconteceu naturalmente o interesse pelo consumo de carne comecou a diminuir sou devoto de uma deusa que as vezes pede para que algum devoto pare de comer carne mas essa escolha e totalmente da pessoa e apesar de ser devoto dessa deidade nao acredito que essa questao esteja ligada a diminuicao do meu consumo de carne\",\"porque venho reduzindo o consumo de carnes animais por vontade propria\",\"porque tenho buscado meios de reduzir meu consumo de carne, inclusive com ajuda profissional de nutricionista\",\"saude, motivos religiosos, preocupacao socioambiental\",\"compromisso com o ambiente e por conta disso estou reduzindo cada vez mais as carnes ate parar de vez\",\"porque eu reduzir consideravelmente o meu consumo de carne nos últimos anos\",\"porque estou retirando a carne gradativamente da minha dieta\",\"sei a problematica que envolve producao e consumo de carnes tanto pra minha saude quanto pro planeta\",\"pois quero reduzir cada vez mais o meu consumo de carnes\",\"porque tenho diminuido o consumo de carne na minha dieta carne\",\"porque tento reduzir o consumo de produtos com origem animal\",\"a pegada hidrica da carne e forma cruel da cadeia de producao da mesma\",\"pelo fato de estar mais inteirado sobre o assunto, entendo a importância de diminuir cada vez mais o consumo de carne\",\"porque desejo diminuir cada vez mais o consumo tendo em vista tantos motivos para fazer isso\",\"porquestoes politicas e pela defesa dos animais reduzi o consumo de carne\",\"porque eu deliberadamente tenho reduzido meu consumo de carne\",\"nao penso em deixar de comer carne porque gosto e ainda acho importante fonte de energia entretanto sou adepta do “menos e mais” acho um absurdo a “producao exagerada” de carnes que visa apenas o lucro cada vez maior\",\"melhorar a saude, depois que tive câncer\",\"nao me rotulo assim apenas tento equilibrar a alimentacao\",\"porque reduzo a carne porquestoes de saude\",\"pois diminui o consumo de proteina animal voluntariamente\",\"nao faco questao de comer carne bovina, e tambem tem a questao climatica, entao foi facil reduzir o consumo\",\"sei que hoje o consumo de carne e um dos principais fatores que influenciam no desmatamento e assim corroboram com o desenvolvimento do aquecimento global, alem de muitos criadouros nao fornecerem as condicões minimas aos animais\",\"questao de saude, melhora no intestino e no refluxo e preocupacao com os animais\",\"a cada ano que se passa meu consumo de carne vem diminuindo mais\"],\"marker\":{\"opacity\":0.5,\"size\":5},\"mode\":\"markers+text\",\"name\":\"3_Redução do Consumo de Carne\",\"text\":[\"\",\"\",\"\",\"\",\"\",\"\",\"\",\"\",\"\",\"\",\"\",\"\",\"\",\"\",\"\",\"\",\"\",\"\",\"\",\"\",\"\",\"\",\"\",\"\",\"\",\"\",\"\",\"\",\"\",\"\",\"\",\"\",\"\",\"\",\"\",\"\",\"\",\"\",\"\",\"\",\"\",\"\",\"\",\"\",\"\",\"\",\"\",\"\",\"\",\"\",\"\",\"\",\"\",\"\",\"\",\"\",\"\",\"\",\"\",\"\",\"\",\"\",\"\",\"\",\"\",\"\",\"\",\"\",\"\",\"\",\"\",\"\",\"\",\"\",\"\",\"\",\"\",\"\",\"\",\"\",\"\",\"\",\"\",\"\",\"\",\"\",\"\",\"\",\"\",\"\",\"\",\"\",\"\",\"\",\"\",\"\",\"\",\"\",\"\",\"\",\"\",\"\",\"\",\"\",\"\",\"\",\"\",\"\",\"\",\"\",\"\",\"\",\"\",\"\",\"\",\"\",\"\",\"\",\"\",\"\",\"\",\"\",\"\",\"\",\"\",\"\",\"\",\"\",\"\",\"\",\"\",\"\",\"\",\"\",\"\",\"\",\"\",\"\",\"\",\"\",\"\",\"\",\"\",\"\",\"\",\"\",\"\",\"\",\"\",\"\",\"\",\"\",\"\",\"\",\"\",\"\",\"3_Redução do Consumo de Carne\",\"\",\"\",\"\",\"\",\"\",\"\",\"\",\"\",\"\",\"\",\"\",\"\",\"\",\"\",\"\",\"\",\"\",\"\",\"\",\"\",\"\",\"\",\"\",\"\",\"\",\"\",\"\",\"\",\"\",\"\",\"\",\"\",\"\",\"\",\"\",\"\",\"\",\"\",\"\",\"\",\"\",\"\",\"\",\"\",\"\",\"\",\"\",\"\",\"\",\"\",\"\",\"\",\"\",\"\",\"\",\"\",\"\",\"\",\"\",\"\",\"\",\"\",\"\",\"\",\"\",\"\",\"\",\"\",\"\",\"\",\"\",\"\",\"\",\"\",\"\",\"\",\"\",\"\",\"\",\"\",\"\",\"\",\"\",\"\",\"\",\"\",\"\",\"\",\"\",\"\",\"\",\"\",\"\",\"\",\"\",\"\",\"\",\"\",\"\",\"\",\"\",\"\",\"\",\"\",\"\",\"\",\"\",\"\",\"\",\"\",\"\",\"\",\"\",\"\",\"\",\"\",\"\",\"\",\"\",\"\",\"\",\"\",\"\",\"\",\"\",\"\",\"\",\"\",\"\",\"\",\"\",\"\",\"\",\"\",\"\",\"\",\"\",\"\",\"\",\"\",\"\",\"\",\"\"],\"textfont\":{\"size\":12},\"x\":[17.587349,17.520325,16.475422,17.7924,18.321915,15.5611315,16.385374,15.633082,18.616621,16.345985,16.794628,18.032585,18.751678,17.748861,15.414138,15.83732,17.539738,16.907866,18.688263,18.064508,17.865856,17.191088,15.75274,12.878686,17.596457,15.467073,16.91253,17.847914,15.466042,15.430716,17.785973,15.973763,16.494637,17.832481,17.560112,17.835142,18.489174,15.35554,17.82482,17.685545,18.527317,17.42548,18.139696,18.308231,18.03072,15.317302,17.97794,16.53096,17.884796,18.57313,16.431776,16.484362,17.770899,15.430096,18.003119,17.258953,15.455975,15.238882,18.58845,15.369443,18.244902,17.60567,18.557888,17.510351,15.580793,17.145515,16.211077,18.319729,15.369046,18.589672,18.403553,16.490625,15.998088,17.797049,18.217636,17.483952,15.83145,17.856817,16.164358,16.424559,17.081934,15.215972,16.427853,17.797413,17.312027,18.810793,18.048138,17.70114,18.029455,15.512967,17.638222,18.377157,17.625553,15.263775,17.28023,18.376348,15.254466,17.985518,15.923484,17.536724,17.630724,18.311272,15.119133,17.044724,18.482944,17.744162,17.73787,18.129663,17.520834,16.054817,16.015036,17.586113,15.471222,18.713573,18.117125,18.814299,17.323738,15.24452,15.232871,17.73997,15.264115,15.549208,16.035324,18.198902,17.525606,18.361929,15.391487,15.408231,15.347689,15.986735,18.837831,15.415269,18.787384,16.307098,17.847948,15.681296,18.457333,17.915272,18.272116,17.918375,15.321621,17.539425,18.14213,18.25071,17.684914,15.921479,16.478952,15.304752,16.331741,17.533335,17.036654,18.8438,17.629322,15.509458,17.907621,16.243744,17.088486,18.276003,16.163977,15.614231,15.881514,15.129728,15.193146,18.802423,18.858868,17.927816,16.531435,15.360244,16.379597,18.264532,15.517653,15.171065,15.785346,17.861229,17.878777,17.721245,17.127447,17.592419,16.280191,18.686337,15.350931,18.391062,15.581915,16.254702,17.944132,15.184178,18.731852,17.121855,15.198687,17.564632,18.085266,17.638632,15.671393,15.4154825,17.949345,15.649743,15.755678,18.468758,17.745352,15.80177,16.493996,18.787523,18.472368,15.219381,18.128027,15.565905,15.249911,15.809122,17.30551,18.214083,15.632073,16.46474,16.12545,17.877243,17.726353,17.963837,18.127073,17.849419,17.40098,18.193554,17.768028,15.580502,16.448196,17.886215,18.376762,18.334532,16.420351,17.324732,17.074171,17.649939,18.484928,18.706766,15.611056,16.502012,15.439224,17.907621,17.415583,15.423301,18.28075,18.25202,16.770739,15.837827,17.789917,18.604898,17.993774,16.044035,15.572884,16.54001,15.290514,17.133442,17.924988,17.781921,15.530079,17.49866,18.205082,15.027332,16.085619,17.969154,15.489338,15.606019,17.6761,16.477245,17.06671,15.703398,18.295069,18.262129,18.519373,17.967445,15.935618,18.845486,16.490074,18.056206,18.647131,18.208511,17.999767,17.695396,17.76267,17.65245,15.580445,17.566555,18.490294,17.932795,16.196297,17.473377,17.97326,17.479198,15.368108,18.260876,17.821287,18.560913,18.24923,16.128288,17.8003,17.520527,18.166058,18.79251,17.925993,15.478251,15.405734,18.3962],\"y\":[7.1870036,8.337112,7.4235225,9.341462,8.486246,6.9508424,6.625883,5.241229,8.3343935,8.11918,7.5418887,8.713396,8.225621,6.8000665,5.5211973,7.602521,7.823073,7.5485616,8.710149,8.869548,6.76483,7.392372,6.8610406,9.72289,7.834627,5.5772195,6.8914146,7.1519494,5.7156324,6.710438,6.861026,7.33259,6.300907,7.28722,6.7442513,9.142838,8.256628,6.681262,6.758706,8.84309,8.518249,7.4897823,7.682665,8.766013,7.116671,6.7135687,7.0907264,6.364625,9.305396,8.809902,6.378383,6.4624815,9.273872,7.36546,7.43445,7.31206,6.369769,7.1285944,8.759346,5.557167,7.2160306,8.914544,8.486042,8.934881,5.876496,7.2418566,6.793508,8.47235,6.3104243,8.794325,7.81152,6.886629,7.288628,7.2444296,8.77111,8.457959,7.373114,7.7940645,7.8481255,7.7708464,7.1924295,7.114657,7.657988,7.218536,6.9460244,8.375172,8.754825,9.033216,7.2588377,5.758654,7.3965936,9.053358,8.754217,6.328137,8.350032,7.370822,6.148612,8.513177,7.0231857,7.560446,6.8398724,7.119739,7.2830825,6.799376,8.260304,8.361343,7.16728,7.1983433,9.044241,7.118669,7.1760607,8.821369,5.655713,8.198227,7.900614,8.382988,7.2831497,6.193702,6.1371636,9.060707,6.559084,6.491691,6.9092007,8.239606,6.6715384,9.835205,6.4188485,6.7214637,6.2981973,8.165892,8.019027,6.308207,8.308281,6.7039866,9.270809,5.3303823,7.3474536,8.103196,7.113454,8.389662,7.007509,8.114403,7.0993204,7.1384997,6.980968,7.3565626,6.362867,7.022299,7.035531,6.7254896,7.0504017,7.87592,7.3051667,5.7816725,7.4892287,7.56408,7.458968,8.363342,7.2324896,5.214507,7.454621,6.9015245,7.19589,7.717218,7.915531,8.9048605,6.536151,5.4980373,7.3406696,7.9664636,5.664798,6.9585834,7.0048966,8.534936,6.929289,8.3548975,6.6155667,8.883364,6.5062723,8.300106,6.799888,7.5272784,5.2294264,6.736438,7.1885743,6.0688457,8.440024,6.6157746,7.246971,7.175714,8.833444,7.060666,5.2150254,7.3899117,8.448752,6.570891,6.497021,9.18881,7.237425,7.5015965,7.538743,8.404266,7.409786,6.0512896,8.588281,5.2180924,6.2851243,5.468687,7.3771195,6.9601564,5.243095,6.3550677,7.6237493,7.1103344,8.917683,7.1231127,8.3963995,9.194751,8.9309635,8.465307,8.3433485,5.222356,6.212078,6.773582,7.177482,8.505819,6.4357524,7.18254,7.621588,8.102809,8.937249,8.216807,5.2415133,6.529297,6.0077863,6.997731,7.373948,5.6070857,8.559803,7.503664,7.4628677,5.4926753,9.330942,8.688178,8.84347,7.2714286,5.2480936,7.417986,6.1616554,7.4834924,6.898938,8.393135,6.4958353,8.990322,8.794853,6.8163853,6.6632786,8.95899,6.6979966,6.9304657,7.818615,6.3438897,6.681944,6.467945,8.328741,7.987397,7.3206773,8.98161,7.7631354,7.8314056,6.4987054,8.2570505,8.464303,8.326743,8.897543,8.130101,8.158713,8.921259,5.28482,8.690839,8.754509,9.085922,7.2763863,9.009367,8.521133,8.973625,6.6404185,8.528473,8.942201,8.229793,8.530187,8.233433,6.6950707,6.7346025,7.143759,8.238922,7.818374,6.744741,5.5599275,9.025331],\"type\":\"scattergl\"},{\"hoverinfo\":\"text\",\"hovertext\":[\"a digestao e dificil meu filho nao e carnivoro e desanimei de comer\",\"a carne nao faz muita faltanao faz uma boa digestao\",\"por nao me sentir bem ao comer muita carne\",\"porque a carne demora pra se desfazer no nosso estomago\",\"tenho apresentado as vezes certa aversao a carne e sinto minha digestao muito lenta quando consumo\",\"nao me sinto bem quando como carne vermelha principalmente tenho pior digestao quando como esses alimentos\",\"eu deixo de comer carte com frequencia por opcao acho que a digestao e melhor as vezes eu passo mal dependendo da carne que como\",\"nao gosto de comer carne vermelha, eu passo mal\",\"nunca gostei muito de carne, e a sensacao que me da depois de comer nao e legal e um cheio ruim\",\"o gosto de sangue me da enjoo na carne vermelha sinto mais repulsao sinto meu estômago pesado nao me sinto bem espiritualmente\",\"porque sinto que quando me alimento de carne fico com mal estar\",\"nao gosto do sabor da carne e de sua textura\",\"carnes faz mal pra saude, principalmente as vermelhas, nao gosto muito de carnes desses animais, muito hormônio\",\"porque nao me sinto bem ao comer carne vermelha com frequencia (causa ma digestao, gases, refluxo, colicas) e porque quero comer mais saudavel\",\"saude quando como carne vermelha me sinto mal do estômago\",\"nao gosto da digestao, considero uma carne dificil de digerir\",\"nem sabia que existia esse termo, deixei de\\ncomer por nao processar muito bem a carne vermelha\",\"as vezes me sinto intolerante ao consumo de carnes\",\"pela processo digestorio da carne no organismo\",\"religiao e textura da carne na mastigacao\",\"nao como muita carne e fico enjoado quando como um pouco a mais do o que como normalmente\",\"porque a ingestao de carne me deixa indisposta\",null],\"marker\":{\"opacity\":0.5,\"size\":5},\"mode\":\"markers+text\",\"name\":\"4_Experiências negativas com carne vermelha\",\"text\":[\"\",\"\",\"\",\"\",\"\",\"\",\"\",\"\",\"\",\"\",\"\",\"\",\"\",\"\",\"\",\"\",\"\",\"\",\"\",\"\",\"\",\"\",\"4_Experiências negativas com carne vermelha\"],\"textfont\":{\"size\":12},\"x\":[14.631614,14.654472,14.9108095,14.766405,14.882403,14.737723,14.920416,14.759654,14.841752,14.707865,14.837026,14.963282,14.866625,14.9214,14.733055,14.670128,14.899741,14.908955,14.742894,14.593669,14.793989,14.846797,14.799575],\"y\":[8.222588,8.385172,8.3842325,8.28967,8.261038,8.432896,8.2321415,8.622993,8.827173,8.523775,8.422356,8.9646845,7.4582996,8.189358,8.400036,8.322539,8.132147,8.277599,8.287951,8.160435,8.767948,8.309029,8.357911],\"type\":\"scattergl\"},{\"hoverinfo\":\"text\",\"hovertext\":[\"nao sinto necessidade em consumir carna todos os dias\",\"porque nem todos os dias consumo animais ja retirei o consumo de carne de boi da minha dieta\",\"por nao consumir carnes ou alimentos de origem animal todos os dias\",\"porque sinto fraqueza se nao como carne preciso comer pelo menos 1 vez por semana\",\"pela nao necessidade de consumo diario de carne\",\"porque ha dias na semana em que nao como carne, principalmente carne vermelha\",\"porque nao consumo carne todos os dias !\",\"consumo carne apenas na refeicao do almoco\",\"porque consigo flexibilizar a dieta entre comer e nao comer carne\",\"porque nao consumo proteina de origem animal todos os dias e nem em todas as refeicões no mesmo dia\",\"porque nao sinto a necessidade de comer carne todos os dias, pesa muito\",\"tento evitar consumo de carne nas segundas e sextas feiras\",\"por nao consumir carnes todos os dias, mas nao deixar de comer\",\"toda a semana eu evito comer carne nem que seja em um dia inteiro ou uma refeicao no dia\",\"porque nao consigo deixar de comer carne mas tambem nao consigo comer todos os dias\",\"porque tento reduzir o consumo de carnes em todas as refeicões, comendo apenas no almoco, e procuro nao consumir nenhuma carne em pelo menos um dia da semana\",\"porque aqui em casa comecamos a adotar esse habito, de um ou dois dias da semana, nao fazer o consumo de carne\",\"pois nao como carne todos os dias ou qnd como sao em pequenas porcões pois nao\",\"porque excluo conscientemente carne principalmente vermelha em pelo menos 1 refeicao ao dia\",\"porque aboli carne mais de uma vez na semana\",\"por ter tirado as carnes de segunda-feira e dos jantares durante a semana\",\"porque exclui carne pelo menos 1x por semana\",\"porque procuro, pelo menos, uma vez na semana nao comer carne\",\"porque tento diminuir o consumo de carne e nao faco consumo todos os dias da semana\",\"porque no decorrer da semana, tenho adotado o habito, sempre que possivel, de nao usar a carne como um elemento das preparacões que elaboro em casa o que permite que ao menos 3 ou 4 dias da semana nao haja consumo de carne na minha dieta\",\"pois nao como carne durante tres dias na semana, sendo um deles sem nenhum alimento de origem animal a escolha decorre principalmente devido aos tipos de criacões de animais que considero ruins e tambem devido a questao ambiental\",\"porque como carne (qualquer animal) apenas 2 vezes na semana\",\"porque evito comer carne todos os dias da semana\",\"tento comer menos carne durante a semana\",\"sim, porque evito consumo de carne (qualquer tipo) em uma das grandes refeicões diarias\",\"porque retirei a carne pelo menos umas 2x\\u002fsemana\",\"porque procuro algumas vezes na semana substituir alimentos de origem animal na minha refeicao\",\"por nao consumir carne todos os dias da semana\",\"porque decidi deixar de consumir carnes duas vezes na semana\",\"porque nao consumo mais mamiferos e faco a segunda sem carne!\",\"porque eu comia carne 2x por dia, hoje como somente 01 vez ao dia\",\"porque procuro reduzir o consumo de carne ao longo da semana\",\"porque nao como mais 2 vezes ao dia mas substituo varias vezes na semana por ovos e ate queijo e requeijao\",\"nao me considero apenas por motivo religioso nao como carne as sextas\",\"por excluo a carne vermelha durante um dia na semana\",\"porque nao consumo carne ao menos 2x na semana\",\"nao como carne vermelha, nem frango, normalmente durante a semana no minimo dois dias nao como carne alguma\",\"porque nao consumo carne mais de uma vez ao dia\",\"pela preocupacao em nao consumir proteina animal em pelo menos duas refeicões na semana\",\"porque em alguns dias semana, nao como derivados de animal\",\"por nao ter a carne no cardapio diariamente, ou como uma necessidade\",\"motivo religioso abstinencia de carne nas sextas-feiras\",\"porque toda semana procuro nao comer carne ao menos um dia\",\"por exercer em semanas alternadas o consumo de carne\",\"porque nao como nada de carne 1 vez na semana e tento diminuir o consumo nos outros dias\",\"porque nao consumo carne em todas as refeicões\",\"sei de provaveis maleficios da carne ao organismo entao 1 ou 2x na semana evito a ingestao\",\"por fazer pelo menos uma grande refeicao por semana sem carne\",null],\"marker\":{\"opacity\":0.5,\"size\":5},\"mode\":\"markers+text\",\"name\":\"5_Redução do Consumo de Carne Semanalmente\",\"text\":[\"\",\"\",\"\",\"\",\"\",\"\",\"\",\"\",\"\",\"\",\"\",\"\",\"\",\"\",\"\",\"\",\"\",\"\",\"\",\"\",\"\",\"\",\"\",\"\",\"\",\"\",\"\",\"\",\"\",\"\",\"\",\"\",\"\",\"\",\"\",\"\",\"\",\"\",\"\",\"\",\"\",\"\",\"\",\"\",\"\",\"\",\"\",\"\",\"\",\"\",\"\",\"\",\"\",\"5_Redução do Consumo de Carne Semanalmente\"],\"textfont\":{\"size\":12},\"x\":[17.1555,17.425411,17.282764,17.50024,17.343807,17.719643,17.440987,17.551632,17.371748,17.075306,17.164968,18.051567,17.432638,17.876911,17.347164,17.886354,18.110498,17.526667,17.778326,17.967274,17.981955,17.869719,17.845232,17.960094,18.011652,17.956245,18.04206,17.570818,18.090582,17.593355,17.965313,17.333937,17.455858,18.122692,17.878485,17.56788,18.12609,17.374807,14.802346,17.867685,17.956112,17.61458,17.60959,17.39231,17.342829,17.388119,18.0204,17.892729,18.176397,17.965494,17.376646,17.927536,17.887518,17.641066],\"y\":[10.845208,10.749108,10.675971,11.009292,10.670064,10.945461,10.798994,10.964785,10.963101,10.601025,10.911284,10.715252,10.755795,10.849952,10.824682,10.599275,10.529357,10.651811,11.336959,11.189432,11.135649,11.236085,11.015057,10.618753,10.572136,10.57209,11.129955,10.808304,10.659164,10.814634,11.135976,11.012498,10.757543,10.791442,10.72614,11.246729,10.583716,11.224388,9.8431635,11.222169,10.794246,10.883899,11.034323,10.423827,10.931556,10.668895,11.043614,10.845744,10.948506,10.730328,10.878677,10.864467,10.953459,10.84328],\"type\":\"scattergl\"},{\"hoverinfo\":\"text\",\"hovertext\":[\"por comer pouca carne e nao sentir falta na rotina mas ao mesmo tempo como por certas facilidades - ex quando vou comer na casa de outras pessoas\",\"nao necessito da carne como fonte principal de minha dieta outros alimentos contem proteina necessaria\",\"procuro comer um pouco de tudo e sei que nao preciso escolher carne todo o tempo\",\"porque eu como um pouco de tudo desde leguminosass e verdura a carne\",\"pois como alem de carne como as vegetarianas\",\"eu nao preparo carnes, mas a rua e socializando acabo comendo um pouco\",\"porque fico bem sem carne, mas qdo passo muito tempo sem, acabo sentindo falta\",\"nao faco questao da carne animal na minha alimentacao porem, se me e ofertado nao recuso nao gosto do sabor da carne( principalmente a vermelha), como por conta da necessidade da proteina no funcionamento do corpo\",\"porque como pouca quantidade de proteina animal principalmente carne vermelha nao me apetece muito prefiro legumes e verduras gostaria ate de virar vegetariana\",\"porque eu apesar de nao conseguir ficar sem carne, eu gosto muito de fazer refeicões sem nenhuma carne e tb porque mesmo qdo como carne, a quantidade e bem pequena\",\"porque eu ate como carne, mas muito poucose como carne, seleciono muito a procedencia nao me faz falta\",\"porque nao sinto necessidade em ingerir proteina animal em todas as refeicões e me sinto bem ao conseguir incluir refeicões sem carne ou ate menos sem ingredientes de origem animal no geral\",\"como carne mas se nao tiver nao me faz falta\",\"como pouca carne, mas nao deixei de comer\",\"nao considero a carne como \\\"personagem principal do meu prato\\\" e estou sempre aberta a novas fontes de proteinas\",\"porque carne sempre foi um complemento e nao o prato principal na minha casa, damos preferencia a legumes e verduras\",\"porque como tudo mas a carne para mim nao e indispensavel\",null],\"marker\":{\"opacity\":0.5,\"size\":5},\"mode\":\"markers+text\",\"name\":\"6_Preferências Alimentares e Consumo de Carne\",\"text\":[\"\",\"\",\"\",\"\",\"\",\"\",\"\",\"\",\"\",\"\",\"\",\"\",\"\",\"\",\"\",\"\",\"\",\"6_Preferências Alimentares e Consumo de Carne\"],\"textfont\":{\"size\":12},\"x\":[15.635943,16.423967,15.357175,15.496741,15.391818,15.146024,15.639893,15.388585,16.433361,15.554554,15.404336,16.571793,15.245886,15.210605,16.391401,16.12735,15.493974,15.700789],\"y\":[9.891456,10.362167,9.896103,9.840672,10.215401,9.896776,9.862425,10.116123,10.094844,9.806022,9.82135,10.391426,9.547312,9.605741,10.328865,9.892706,9.662204,9.954799],\"type\":\"scattergl\"}],                        {\"template\":{\"data\":{\"barpolar\":[{\"marker\":{\"line\":{\"color\":\"white\",\"width\":0.5},\"pattern\":{\"fillmode\":\"overlay\",\"size\":10,\"solidity\":0.2}},\"type\":\"barpolar\"}],\"bar\":[{\"error_x\":{\"color\":\"rgb(36,36,36)\"},\"error_y\":{\"color\":\"rgb(36,36,36)\"},\"marker\":{\"line\":{\"color\":\"white\",\"width\":0.5},\"pattern\":{\"fillmode\":\"overlay\",\"size\":10,\"solidity\":0.2}},\"type\":\"bar\"}],\"carpet\":[{\"aaxis\":{\"endlinecolor\":\"rgb(36,36,36)\",\"gridcolor\":\"white\",\"linecolor\":\"white\",\"minorgridcolor\":\"white\",\"startlinecolor\":\"rgb(36,36,36)\"},\"baxis\":{\"endlinecolor\":\"rgb(36,36,36)\",\"gridcolor\":\"white\",\"linecolor\":\"white\",\"minorgridcolor\":\"white\",\"startlinecolor\":\"rgb(36,36,36)\"},\"type\":\"carpet\"}],\"choropleth\":[{\"colorbar\":{\"outlinewidth\":1,\"tickcolor\":\"rgb(36,36,36)\",\"ticks\":\"outside\"},\"type\":\"choropleth\"}],\"contourcarpet\":[{\"colorbar\":{\"outlinewidth\":1,\"tickcolor\":\"rgb(36,36,36)\",\"ticks\":\"outside\"},\"type\":\"contourcarpet\"}],\"contour\":[{\"colorbar\":{\"outlinewidth\":1,\"tickcolor\":\"rgb(36,36,36)\",\"ticks\":\"outside\"},\"colorscale\":[[0.0,\"#440154\"],[0.1111111111111111,\"#482878\"],[0.2222222222222222,\"#3e4989\"],[0.3333333333333333,\"#31688e\"],[0.4444444444444444,\"#26828e\"],[0.5555555555555556,\"#1f9e89\"],[0.6666666666666666,\"#35b779\"],[0.7777777777777778,\"#6ece58\"],[0.8888888888888888,\"#b5de2b\"],[1.0,\"#fde725\"]],\"type\":\"contour\"}],\"heatmapgl\":[{\"colorbar\":{\"outlinewidth\":1,\"tickcolor\":\"rgb(36,36,36)\",\"ticks\":\"outside\"},\"colorscale\":[[0.0,\"#440154\"],[0.1111111111111111,\"#482878\"],[0.2222222222222222,\"#3e4989\"],[0.3333333333333333,\"#31688e\"],[0.4444444444444444,\"#26828e\"],[0.5555555555555556,\"#1f9e89\"],[0.6666666666666666,\"#35b779\"],[0.7777777777777778,\"#6ece58\"],[0.8888888888888888,\"#b5de2b\"],[1.0,\"#fde725\"]],\"type\":\"heatmapgl\"}],\"heatmap\":[{\"colorbar\":{\"outlinewidth\":1,\"tickcolor\":\"rgb(36,36,36)\",\"ticks\":\"outside\"},\"colorscale\":[[0.0,\"#440154\"],[0.1111111111111111,\"#482878\"],[0.2222222222222222,\"#3e4989\"],[0.3333333333333333,\"#31688e\"],[0.4444444444444444,\"#26828e\"],[0.5555555555555556,\"#1f9e89\"],[0.6666666666666666,\"#35b779\"],[0.7777777777777778,\"#6ece58\"],[0.8888888888888888,\"#b5de2b\"],[1.0,\"#fde725\"]],\"type\":\"heatmap\"}],\"histogram2dcontour\":[{\"colorbar\":{\"outlinewidth\":1,\"tickcolor\":\"rgb(36,36,36)\",\"ticks\":\"outside\"},\"colorscale\":[[0.0,\"#440154\"],[0.1111111111111111,\"#482878\"],[0.2222222222222222,\"#3e4989\"],[0.3333333333333333,\"#31688e\"],[0.4444444444444444,\"#26828e\"],[0.5555555555555556,\"#1f9e89\"],[0.6666666666666666,\"#35b779\"],[0.7777777777777778,\"#6ece58\"],[0.8888888888888888,\"#b5de2b\"],[1.0,\"#fde725\"]],\"type\":\"histogram2dcontour\"}],\"histogram2d\":[{\"colorbar\":{\"outlinewidth\":1,\"tickcolor\":\"rgb(36,36,36)\",\"ticks\":\"outside\"},\"colorscale\":[[0.0,\"#440154\"],[0.1111111111111111,\"#482878\"],[0.2222222222222222,\"#3e4989\"],[0.3333333333333333,\"#31688e\"],[0.4444444444444444,\"#26828e\"],[0.5555555555555556,\"#1f9e89\"],[0.6666666666666666,\"#35b779\"],[0.7777777777777778,\"#6ece58\"],[0.8888888888888888,\"#b5de2b\"],[1.0,\"#fde725\"]],\"type\":\"histogram2d\"}],\"histogram\":[{\"marker\":{\"line\":{\"color\":\"white\",\"width\":0.6}},\"type\":\"histogram\"}],\"mesh3d\":[{\"colorbar\":{\"outlinewidth\":1,\"tickcolor\":\"rgb(36,36,36)\",\"ticks\":\"outside\"},\"type\":\"mesh3d\"}],\"parcoords\":[{\"line\":{\"colorbar\":{\"outlinewidth\":1,\"tickcolor\":\"rgb(36,36,36)\",\"ticks\":\"outside\"}},\"type\":\"parcoords\"}],\"pie\":[{\"automargin\":true,\"type\":\"pie\"}],\"scatter3d\":[{\"line\":{\"colorbar\":{\"outlinewidth\":1,\"tickcolor\":\"rgb(36,36,36)\",\"ticks\":\"outside\"}},\"marker\":{\"colorbar\":{\"outlinewidth\":1,\"tickcolor\":\"rgb(36,36,36)\",\"ticks\":\"outside\"}},\"type\":\"scatter3d\"}],\"scattercarpet\":[{\"marker\":{\"colorbar\":{\"outlinewidth\":1,\"tickcolor\":\"rgb(36,36,36)\",\"ticks\":\"outside\"}},\"type\":\"scattercarpet\"}],\"scattergeo\":[{\"marker\":{\"colorbar\":{\"outlinewidth\":1,\"tickcolor\":\"rgb(36,36,36)\",\"ticks\":\"outside\"}},\"type\":\"scattergeo\"}],\"scattergl\":[{\"marker\":{\"colorbar\":{\"outlinewidth\":1,\"tickcolor\":\"rgb(36,36,36)\",\"ticks\":\"outside\"}},\"type\":\"scattergl\"}],\"scattermapbox\":[{\"marker\":{\"colorbar\":{\"outlinewidth\":1,\"tickcolor\":\"rgb(36,36,36)\",\"ticks\":\"outside\"}},\"type\":\"scattermapbox\"}],\"scatterpolargl\":[{\"marker\":{\"colorbar\":{\"outlinewidth\":1,\"tickcolor\":\"rgb(36,36,36)\",\"ticks\":\"outside\"}},\"type\":\"scatterpolargl\"}],\"scatterpolar\":[{\"marker\":{\"colorbar\":{\"outlinewidth\":1,\"tickcolor\":\"rgb(36,36,36)\",\"ticks\":\"outside\"}},\"type\":\"scatterpolar\"}],\"scatter\":[{\"fillpattern\":{\"fillmode\":\"overlay\",\"size\":10,\"solidity\":0.2},\"type\":\"scatter\"}],\"scatterternary\":[{\"marker\":{\"colorbar\":{\"outlinewidth\":1,\"tickcolor\":\"rgb(36,36,36)\",\"ticks\":\"outside\"}},\"type\":\"scatterternary\"}],\"surface\":[{\"colorbar\":{\"outlinewidth\":1,\"tickcolor\":\"rgb(36,36,36)\",\"ticks\":\"outside\"},\"colorscale\":[[0.0,\"#440154\"],[0.1111111111111111,\"#482878\"],[0.2222222222222222,\"#3e4989\"],[0.3333333333333333,\"#31688e\"],[0.4444444444444444,\"#26828e\"],[0.5555555555555556,\"#1f9e89\"],[0.6666666666666666,\"#35b779\"],[0.7777777777777778,\"#6ece58\"],[0.8888888888888888,\"#b5de2b\"],[1.0,\"#fde725\"]],\"type\":\"surface\"}],\"table\":[{\"cells\":{\"fill\":{\"color\":\"rgb(237,237,237)\"},\"line\":{\"color\":\"white\"}},\"header\":{\"fill\":{\"color\":\"rgb(217,217,217)\"},\"line\":{\"color\":\"white\"}},\"type\":\"table\"}]},\"layout\":{\"annotationdefaults\":{\"arrowhead\":0,\"arrowwidth\":1},\"autotypenumbers\":\"strict\",\"coloraxis\":{\"colorbar\":{\"outlinewidth\":1,\"tickcolor\":\"rgb(36,36,36)\",\"ticks\":\"outside\"}},\"colorscale\":{\"diverging\":[[0.0,\"rgb(103,0,31)\"],[0.1,\"rgb(178,24,43)\"],[0.2,\"rgb(214,96,77)\"],[0.3,\"rgb(244,165,130)\"],[0.4,\"rgb(253,219,199)\"],[0.5,\"rgb(247,247,247)\"],[0.6,\"rgb(209,229,240)\"],[0.7,\"rgb(146,197,222)\"],[0.8,\"rgb(67,147,195)\"],[0.9,\"rgb(33,102,172)\"],[1.0,\"rgb(5,48,97)\"]],\"sequential\":[[0.0,\"#440154\"],[0.1111111111111111,\"#482878\"],[0.2222222222222222,\"#3e4989\"],[0.3333333333333333,\"#31688e\"],[0.4444444444444444,\"#26828e\"],[0.5555555555555556,\"#1f9e89\"],[0.6666666666666666,\"#35b779\"],[0.7777777777777778,\"#6ece58\"],[0.8888888888888888,\"#b5de2b\"],[1.0,\"#fde725\"]],\"sequentialminus\":[[0.0,\"#440154\"],[0.1111111111111111,\"#482878\"],[0.2222222222222222,\"#3e4989\"],[0.3333333333333333,\"#31688e\"],[0.4444444444444444,\"#26828e\"],[0.5555555555555556,\"#1f9e89\"],[0.6666666666666666,\"#35b779\"],[0.7777777777777778,\"#6ece58\"],[0.8888888888888888,\"#b5de2b\"],[1.0,\"#fde725\"]]},\"colorway\":[\"#1F77B4\",\"#FF7F0E\",\"#2CA02C\",\"#D62728\",\"#9467BD\",\"#8C564B\",\"#E377C2\",\"#7F7F7F\",\"#BCBD22\",\"#17BECF\"],\"font\":{\"color\":\"rgb(36,36,36)\"},\"geo\":{\"bgcolor\":\"white\",\"lakecolor\":\"white\",\"landcolor\":\"white\",\"showlakes\":true,\"showland\":true,\"subunitcolor\":\"white\"},\"hoverlabel\":{\"align\":\"left\"},\"hovermode\":\"closest\",\"mapbox\":{\"style\":\"light\"},\"paper_bgcolor\":\"white\",\"plot_bgcolor\":\"white\",\"polar\":{\"angularaxis\":{\"gridcolor\":\"rgb(232,232,232)\",\"linecolor\":\"rgb(36,36,36)\",\"showgrid\":false,\"showline\":true,\"ticks\":\"outside\"},\"bgcolor\":\"white\",\"radialaxis\":{\"gridcolor\":\"rgb(232,232,232)\",\"linecolor\":\"rgb(36,36,36)\",\"showgrid\":false,\"showline\":true,\"ticks\":\"outside\"}},\"scene\":{\"xaxis\":{\"backgroundcolor\":\"white\",\"gridcolor\":\"rgb(232,232,232)\",\"gridwidth\":2,\"linecolor\":\"rgb(36,36,36)\",\"showbackground\":true,\"showgrid\":false,\"showline\":true,\"ticks\":\"outside\",\"zeroline\":false,\"zerolinecolor\":\"rgb(36,36,36)\"},\"yaxis\":{\"backgroundcolor\":\"white\",\"gridcolor\":\"rgb(232,232,232)\",\"gridwidth\":2,\"linecolor\":\"rgb(36,36,36)\",\"showbackground\":true,\"showgrid\":false,\"showline\":true,\"ticks\":\"outside\",\"zeroline\":false,\"zerolinecolor\":\"rgb(36,36,36)\"},\"zaxis\":{\"backgroundcolor\":\"white\",\"gridcolor\":\"rgb(232,232,232)\",\"gridwidth\":2,\"linecolor\":\"rgb(36,36,36)\",\"showbackground\":true,\"showgrid\":false,\"showline\":true,\"ticks\":\"outside\",\"zeroline\":false,\"zerolinecolor\":\"rgb(36,36,36)\"}},\"shapedefaults\":{\"fillcolor\":\"black\",\"line\":{\"width\":0},\"opacity\":0.3},\"ternary\":{\"aaxis\":{\"gridcolor\":\"rgb(232,232,232)\",\"linecolor\":\"rgb(36,36,36)\",\"showgrid\":false,\"showline\":true,\"ticks\":\"outside\"},\"baxis\":{\"gridcolor\":\"rgb(232,232,232)\",\"linecolor\":\"rgb(36,36,36)\",\"showgrid\":false,\"showline\":true,\"ticks\":\"outside\"},\"bgcolor\":\"white\",\"caxis\":{\"gridcolor\":\"rgb(232,232,232)\",\"linecolor\":\"rgb(36,36,36)\",\"showgrid\":false,\"showline\":true,\"ticks\":\"outside\"}},\"title\":{\"x\":0.05},\"xaxis\":{\"automargin\":true,\"gridcolor\":\"rgb(232,232,232)\",\"linecolor\":\"rgb(36,36,36)\",\"showgrid\":false,\"showline\":true,\"ticks\":\"outside\",\"title\":{\"standoff\":15},\"zeroline\":false,\"zerolinecolor\":\"rgb(36,36,36)\"},\"yaxis\":{\"automargin\":true,\"gridcolor\":\"rgb(232,232,232)\",\"linecolor\":\"rgb(36,36,36)\",\"showgrid\":false,\"showline\":true,\"ticks\":\"outside\",\"title\":{\"standoff\":15},\"zeroline\":false,\"zerolinecolor\":\"rgb(36,36,36)\"}}},\"shapes\":[{\"line\":{\"color\":\"#CFD8DC\",\"width\":2},\"type\":\"line\",\"x0\":15.779245066642762,\"x1\":15.779245066642762,\"y0\":4.4323310375213625,\"y1\":14.211536359786987},{\"line\":{\"color\":\"#9E9E9E\",\"width\":2},\"type\":\"line\",\"x0\":9.842887258529663,\"x1\":21.71560287475586,\"y0\":9.321933698654174,\"y1\":9.321933698654174}],\"annotations\":[{\"showarrow\":false,\"text\":\"D1\",\"x\":9.842887258529663,\"y\":9.321933698654174,\"yshift\":10},{\"showarrow\":false,\"text\":\"D2\",\"x\":15.779245066642762,\"xshift\":10,\"y\":14.211536359786987}],\"title\":{\"font\":{\"size\":22,\"color\":\"Black\"},\"text\":\"\\u003cb\\u003eDocuments and Topics\\u003c\\u002fb\\u003e\",\"x\":0.5,\"xanchor\":\"center\",\"yanchor\":\"top\"},\"width\":1200,\"height\":750,\"xaxis\":{\"visible\":false},\"yaxis\":{\"visible\":false}},                        {\"responsive\": true}                    ).then(function(){\n",
       "                            \n",
       "var gd = document.getElementById('eae9068b-5ad4-49d4-9db1-76d36920bc56');\n",
       "var x = new MutationObserver(function (mutations, observer) {{\n",
       "        var display = window.getComputedStyle(gd).display;\n",
       "        if (!display || display === 'none') {{\n",
       "            console.log([gd, 'removed!']);\n",
       "            Plotly.purge(gd);\n",
       "            observer.disconnect();\n",
       "        }}\n",
       "}});\n",
       "\n",
       "// Listen for the removal of the full notebook cells\n",
       "var notebookContainer = gd.closest('#notebook-container');\n",
       "if (notebookContainer) {{\n",
       "    x.observe(notebookContainer, {childList: true});\n",
       "}}\n",
       "\n",
       "// Listen for the clearing of the current output cell\n",
       "var outputEl = gd.closest('.output');\n",
       "if (outputEl) {{\n",
       "    x.observe(outputEl, {childList: true});\n",
       "}}\n",
       "\n",
       "                        })                };                });            </script>        </div>"
      ]
     },
     "metadata": {},
     "output_type": "display_data"
    }
   ],
   "source": [
    "topic_model.visualize_documents(texts, embeddings=embeddings)"
   ]
  },
  {
   "cell_type": "code",
   "execution_count": 34,
   "metadata": {},
   "outputs": [
    {
     "data": {
      "text/html": [
       "<div>\n",
       "<style scoped>\n",
       "    .dataframe tbody tr th:only-of-type {\n",
       "        vertical-align: middle;\n",
       "    }\n",
       "\n",
       "    .dataframe tbody tr th {\n",
       "        vertical-align: top;\n",
       "    }\n",
       "\n",
       "    .dataframe thead th {\n",
       "        text-align: right;\n",
       "    }\n",
       "</style>\n",
       "<table border=\"1\" class=\"dataframe\">\n",
       "  <thead>\n",
       "    <tr style=\"text-align: right;\">\n",
       "      <th></th>\n",
       "      <th>id</th>\n",
       "      <th>input_text</th>\n",
       "      <th>fonteinfo_flex</th>\n",
       "      <th>motivacao</th>\n",
       "      <th>dificuldade</th>\n",
       "      <th>genero</th>\n",
       "      <th>cor_raca</th>\n",
       "      <th>escolaridade</th>\n",
       "      <th>len_text</th>\n",
       "      <th>input_text_clean</th>\n",
       "      <th>input_text_clean_simplified</th>\n",
       "    </tr>\n",
       "  </thead>\n",
       "  <tbody>\n",
       "    <tr>\n",
       "      <th>2</th>\n",
       "      <td>3</td>\n",
       "      <td>porque a carne bovina de certa forma me faz ma...</td>\n",
       "      <td>amigos</td>\n",
       "      <td>saude</td>\n",
       "      <td>preco e variedade de outras proteinas vegetais...</td>\n",
       "      <td>homem_cis</td>\n",
       "      <td>branca</td>\n",
       "      <td>mestrado</td>\n",
       "      <td>123</td>\n",
       "      <td>porque a carne bovina de certa forma me faz ma...</td>\n",
       "      <td>porque carne bovino certo forma fazer mal deix...</td>\n",
       "    </tr>\n",
       "    <tr>\n",
       "      <th>4</th>\n",
       "      <td>5</td>\n",
       "      <td>pois limitei o consumo para nao desenvolver ac...</td>\n",
       "      <td>midias</td>\n",
       "      <td>saude</td>\n",
       "      <td>nenhuma</td>\n",
       "      <td>mulher_cis</td>\n",
       "      <td>branca</td>\n",
       "      <td>superior</td>\n",
       "      <td>138</td>\n",
       "      <td>pois limitei o consumo para nao desenvolver ac...</td>\n",
       "      <td>pois limitar consumo para nao desenvolver acid...</td>\n",
       "    </tr>\n",
       "    <tr>\n",
       "      <th>6</th>\n",
       "      <td>7</td>\n",
       "      <td>so como carne quando nao ha alternativa nao ti...</td>\n",
       "      <td>amigos</td>\n",
       "      <td>impacto_ambiental</td>\n",
       "      <td>gostar do sabor</td>\n",
       "      <td>mulher_cis</td>\n",
       "      <td>branca</td>\n",
       "      <td>mestrado</td>\n",
       "      <td>297</td>\n",
       "      <td>so como carne quando nao ha alternativa nao ti...</td>\n",
       "      <td>como carne quando nao alternativo nao ter pens...</td>\n",
       "    </tr>\n",
       "    <tr>\n",
       "      <th>7</th>\n",
       "      <td>8</td>\n",
       "      <td>ja uns anos desde a adolescencia (nos anos 200...</td>\n",
       "      <td>midias</td>\n",
       "      <td>aversao</td>\n",
       "      <td>na adolescencia e de novo na vida adulta, eu o...</td>\n",
       "      <td>mulher_cis</td>\n",
       "      <td>branca</td>\n",
       "      <td>mestrado</td>\n",
       "      <td>426</td>\n",
       "      <td>ja uns anos desde a adolescencia (nos anos 200...</td>\n",
       "      <td>ano desde adolescencia ano optar por reduzir c...</td>\n",
       "    </tr>\n",
       "    <tr>\n",
       "      <th>8</th>\n",
       "      <td>9</td>\n",
       "      <td>porque ao longo do tempo entendi que a reducao...</td>\n",
       "      <td>amigos</td>\n",
       "      <td>impacto_ambiental</td>\n",
       "      <td>nenhuma</td>\n",
       "      <td>mulher_cis</td>\n",
       "      <td>preta</td>\n",
       "      <td>superior</td>\n",
       "      <td>153</td>\n",
       "      <td>porque ao longo do tempo entendi que a reducao...</td>\n",
       "      <td>porque longo tempo entendi que reducao carne n...</td>\n",
       "    </tr>\n",
       "    <tr>\n",
       "      <th>...</th>\n",
       "      <td>...</td>\n",
       "      <td>...</td>\n",
       "      <td>...</td>\n",
       "      <td>...</td>\n",
       "      <td>...</td>\n",
       "      <td>...</td>\n",
       "      <td>...</td>\n",
       "      <td>...</td>\n",
       "      <td>...</td>\n",
       "      <td>...</td>\n",
       "      <td>...</td>\n",
       "    </tr>\n",
       "    <tr>\n",
       "      <th>1022</th>\n",
       "      <td>1023</td>\n",
       "      <td>consumo carne apenas na refeicao do almoco</td>\n",
       "      <td>escola_universidade</td>\n",
       "      <td>impacto_ambiental</td>\n",
       "      <td>substitulo que se iguale ao sabor</td>\n",
       "      <td>mulher_cis</td>\n",
       "      <td>branca</td>\n",
       "      <td>medio</td>\n",
       "      <td>42</td>\n",
       "      <td>consumo carne apenas na refeicao do almoco</td>\n",
       "      <td>consumo carne apenas refeicao almoco</td>\n",
       "    </tr>\n",
       "    <tr>\n",
       "      <th>1023</th>\n",
       "      <td>1024</td>\n",
       "      <td>porque nao consumo carne em todas as refeicões</td>\n",
       "      <td>outros</td>\n",
       "      <td>saude</td>\n",
       "      <td>gostar do sabor e nao poder retirar a carne po...</td>\n",
       "      <td>mulher_cis</td>\n",
       "      <td>branca</td>\n",
       "      <td>doutorado</td>\n",
       "      <td>46</td>\n",
       "      <td>porque nao consumo carne em todas as refeicões</td>\n",
       "      <td>porque nao consumo carne todo refeicao</td>\n",
       "    </tr>\n",
       "    <tr>\n",
       "      <th>1026</th>\n",
       "      <td>1027</td>\n",
       "      <td>porque eu deliberadamente tenho reduzido meu c...</td>\n",
       "      <td>midias</td>\n",
       "      <td>saude</td>\n",
       "      <td>as pessoas fora da minha casa nao estarem envo...</td>\n",
       "      <td>homem_cis</td>\n",
       "      <td>branca</td>\n",
       "      <td>medio</td>\n",
       "      <td>61</td>\n",
       "      <td>porque eu deliberadamente tenho reduzido meu c...</td>\n",
       "      <td>porque deliberadamente ter reduzir meu consumo...</td>\n",
       "    </tr>\n",
       "    <tr>\n",
       "      <th>1027</th>\n",
       "      <td>1028</td>\n",
       "      <td>porque cuido de mim, do meu corpo e do meu pla...</td>\n",
       "      <td>escola_universidade</td>\n",
       "      <td>impacto_ambiental</td>\n",
       "      <td>nenhuma</td>\n",
       "      <td>mulher_cis</td>\n",
       "      <td>branca</td>\n",
       "      <td>superior</td>\n",
       "      <td>50</td>\n",
       "      <td>porque cuido de mim, do meu corpo e do meu pla...</td>\n",
       "      <td>porque cuer meu corpo meu planeta</td>\n",
       "    </tr>\n",
       "    <tr>\n",
       "      <th>1028</th>\n",
       "      <td>1029</td>\n",
       "      <td>sofrimento a que sao submetidos os animais, al...</td>\n",
       "      <td>escola_universidade</td>\n",
       "      <td>etica_animal</td>\n",
       "      <td>habito alimentar e gostar do sabor</td>\n",
       "      <td>mulher_cis</td>\n",
       "      <td>branca</td>\n",
       "      <td>mestrado</td>\n",
       "      <td>279</td>\n",
       "      <td>apos o abate adicionam-se aditivos, conservant...</td>\n",
       "      <td>apo abate adicionamr aditivo conservante outro...</td>\n",
       "    </tr>\n",
       "  </tbody>\n",
       "</table>\n",
       "<p>778 rows × 11 columns</p>\n",
       "</div>"
      ],
      "text/plain": [
       "        id                                         input_text  \\\n",
       "2        3  porque a carne bovina de certa forma me faz ma...   \n",
       "4        5  pois limitei o consumo para nao desenvolver ac...   \n",
       "6        7  so como carne quando nao ha alternativa nao ti...   \n",
       "7        8  ja uns anos desde a adolescencia (nos anos 200...   \n",
       "8        9  porque ao longo do tempo entendi que a reducao...   \n",
       "...    ...                                                ...   \n",
       "1022  1023         consumo carne apenas na refeicao do almoco   \n",
       "1023  1024     porque nao consumo carne em todas as refeicões   \n",
       "1026  1027  porque eu deliberadamente tenho reduzido meu c...   \n",
       "1027  1028  porque cuido de mim, do meu corpo e do meu pla...   \n",
       "1028  1029  sofrimento a que sao submetidos os animais, al...   \n",
       "\n",
       "           fonteinfo_flex          motivacao  \\\n",
       "2                  amigos              saude   \n",
       "4                  midias              saude   \n",
       "6                  amigos  impacto_ambiental   \n",
       "7                  midias            aversao   \n",
       "8                  amigos  impacto_ambiental   \n",
       "...                   ...                ...   \n",
       "1022  escola_universidade  impacto_ambiental   \n",
       "1023               outros              saude   \n",
       "1026               midias              saude   \n",
       "1027  escola_universidade  impacto_ambiental   \n",
       "1028  escola_universidade       etica_animal   \n",
       "\n",
       "                                            dificuldade      genero cor_raca  \\\n",
       "2     preco e variedade de outras proteinas vegetais...   homem_cis   branca   \n",
       "4                                               nenhuma  mulher_cis   branca   \n",
       "6                                       gostar do sabor  mulher_cis   branca   \n",
       "7     na adolescencia e de novo na vida adulta, eu o...  mulher_cis   branca   \n",
       "8                                               nenhuma  mulher_cis    preta   \n",
       "...                                                 ...         ...      ...   \n",
       "1022                  substitulo que se iguale ao sabor  mulher_cis   branca   \n",
       "1023  gostar do sabor e nao poder retirar a carne po...  mulher_cis   branca   \n",
       "1026  as pessoas fora da minha casa nao estarem envo...   homem_cis   branca   \n",
       "1027                                            nenhuma  mulher_cis   branca   \n",
       "1028                 habito alimentar e gostar do sabor  mulher_cis   branca   \n",
       "\n",
       "     escolaridade  len_text  \\\n",
       "2        mestrado       123   \n",
       "4        superior       138   \n",
       "6        mestrado       297   \n",
       "7        mestrado       426   \n",
       "8        superior       153   \n",
       "...           ...       ...   \n",
       "1022        medio        42   \n",
       "1023    doutorado        46   \n",
       "1026        medio        61   \n",
       "1027     superior        50   \n",
       "1028     mestrado       279   \n",
       "\n",
       "                                       input_text_clean  \\\n",
       "2     porque a carne bovina de certa forma me faz ma...   \n",
       "4     pois limitei o consumo para nao desenvolver ac...   \n",
       "6     so como carne quando nao ha alternativa nao ti...   \n",
       "7     ja uns anos desde a adolescencia (nos anos 200...   \n",
       "8     porque ao longo do tempo entendi que a reducao...   \n",
       "...                                                 ...   \n",
       "1022         consumo carne apenas na refeicao do almoco   \n",
       "1023     porque nao consumo carne em todas as refeicões   \n",
       "1026  porque eu deliberadamente tenho reduzido meu c...   \n",
       "1027  porque cuido de mim, do meu corpo e do meu pla...   \n",
       "1028  apos o abate adicionam-se aditivos, conservant...   \n",
       "\n",
       "                            input_text_clean_simplified  \n",
       "2     porque carne bovino certo forma fazer mal deix...  \n",
       "4     pois limitar consumo para nao desenvolver acid...  \n",
       "6     como carne quando nao alternativo nao ter pens...  \n",
       "7     ano desde adolescencia ano optar por reduzir c...  \n",
       "8     porque longo tempo entendi que reducao carne n...  \n",
       "...                                                 ...  \n",
       "1022               consumo carne apenas refeicao almoco  \n",
       "1023             porque nao consumo carne todo refeicao  \n",
       "1026  porque deliberadamente ter reduzir meu consumo...  \n",
       "1027                  porque cuer meu corpo meu planeta  \n",
       "1028  apo abate adicionamr aditivo conservante outro...  \n",
       "\n",
       "[778 rows x 11 columns]"
      ]
     },
     "execution_count": 34,
     "metadata": {},
     "output_type": "execute_result"
    }
   ],
   "source": [
    "gender_topics_reason = df_reason['genero']\n",
    "education_topics_reason = df_reason['escolaridade']\n",
    "motivation_topics_reason = df_reason['motivacao']\n",
    "df_reason"
   ]
  },
  {
   "cell_type": "code",
   "execution_count": 35,
   "metadata": {},
   "outputs": [
    {
     "data": {
      "text/html": [
       "<div>\n",
       "<style scoped>\n",
       "    .dataframe tbody tr th:only-of-type {\n",
       "        vertical-align: middle;\n",
       "    }\n",
       "\n",
       "    .dataframe tbody tr th {\n",
       "        vertical-align: top;\n",
       "    }\n",
       "\n",
       "    .dataframe thead th {\n",
       "        text-align: right;\n",
       "    }\n",
       "</style>\n",
       "<table border=\"1\" class=\"dataframe\">\n",
       "  <thead>\n",
       "    <tr style=\"text-align: right;\">\n",
       "      <th></th>\n",
       "      <th>Topic</th>\n",
       "      <th>Words</th>\n",
       "      <th>Frequency</th>\n",
       "      <th>Class</th>\n",
       "    </tr>\n",
       "  </thead>\n",
       "  <tbody>\n",
       "    <tr>\n",
       "      <th>0</th>\n",
       "      <td>-1</td>\n",
       "      <td>Consumo de Carne e Alternativas Alimentares</td>\n",
       "      <td>6</td>\n",
       "      <td>pnr</td>\n",
       "    </tr>\n",
       "    <tr>\n",
       "      <th>1</th>\n",
       "      <td>0</td>\n",
       "      <td>Reflexões sobre Aprendizado Acadêmico</td>\n",
       "      <td>1</td>\n",
       "      <td>pnr</td>\n",
       "    </tr>\n",
       "    <tr>\n",
       "      <th>2</th>\n",
       "      <td>2</td>\n",
       "      <td>Desafios financeiros para vegetarianismo</td>\n",
       "      <td>1</td>\n",
       "      <td>pnr</td>\n",
       "    </tr>\n",
       "    <tr>\n",
       "      <th>3</th>\n",
       "      <td>3</td>\n",
       "      <td>Impacto Ambiental da Pecuária e Consumo</td>\n",
       "      <td>7</td>\n",
       "      <td>pnr</td>\n",
       "    </tr>\n",
       "    <tr>\n",
       "      <th>4</th>\n",
       "      <td>4</td>\n",
       "      <td>Dificuldades na Digestão de Carne</td>\n",
       "      <td>2</td>\n",
       "      <td>pnr</td>\n",
       "    </tr>\n",
       "    <tr>\n",
       "      <th>5</th>\n",
       "      <td>5</td>\n",
       "      <td>Consumo Reduzido de Carne Diária</td>\n",
       "      <td>2</td>\n",
       "      <td>pnr</td>\n",
       "    </tr>\n",
       "    <tr>\n",
       "      <th>6</th>\n",
       "      <td>-1</td>\n",
       "      <td>Desafios do Veganismo e Nutrição</td>\n",
       "      <td>3</td>\n",
       "      <td>nao_binario</td>\n",
       "    </tr>\n",
       "    <tr>\n",
       "      <th>7</th>\n",
       "      <td>0</td>\n",
       "      <td>Redução no Consumo de Carne</td>\n",
       "      <td>2</td>\n",
       "      <td>nao_binario</td>\n",
       "    </tr>\n",
       "    <tr>\n",
       "      <th>8</th>\n",
       "      <td>3</td>\n",
       "      <td>Redução do Consumo de Carne</td>\n",
       "      <td>2</td>\n",
       "      <td>nao_binario</td>\n",
       "    </tr>\n",
       "    <tr>\n",
       "      <th>9</th>\n",
       "      <td>-1</td>\n",
       "      <td>Consumo Sustentável e Práticas Alimentares</td>\n",
       "      <td>50</td>\n",
       "      <td>homem_cis</td>\n",
       "    </tr>\n",
       "    <tr>\n",
       "      <th>10</th>\n",
       "      <td>0</td>\n",
       "      <td>Flexitarianismo e Consumo de Carne</td>\n",
       "      <td>13</td>\n",
       "      <td>homem_cis</td>\n",
       "    </tr>\n",
       "    <tr>\n",
       "      <th>11</th>\n",
       "      <td>1</td>\n",
       "      <td>Consumo de Peixes e Carnes Limitado</td>\n",
       "      <td>5</td>\n",
       "      <td>homem_cis</td>\n",
       "    </tr>\n",
       "    <tr>\n",
       "      <th>12</th>\n",
       "      <td>2</td>\n",
       "      <td>Desafios e Flexibilidade no Vegetarianismo</td>\n",
       "      <td>13</td>\n",
       "      <td>homem_cis</td>\n",
       "    </tr>\n",
       "    <tr>\n",
       "      <th>13</th>\n",
       "      <td>3</td>\n",
       "      <td>Redução do Consumo de Carne</td>\n",
       "      <td>54</td>\n",
       "      <td>homem_cis</td>\n",
       "    </tr>\n",
       "    <tr>\n",
       "      <th>14</th>\n",
       "      <td>4</td>\n",
       "      <td>Aversão e Mal-estar com Carne</td>\n",
       "      <td>5</td>\n",
       "      <td>homem_cis</td>\n",
       "    </tr>\n",
       "    <tr>\n",
       "      <th>15</th>\n",
       "      <td>5</td>\n",
       "      <td>Redução semanal do consumo de carne</td>\n",
       "      <td>5</td>\n",
       "      <td>homem_cis</td>\n",
       "    </tr>\n",
       "    <tr>\n",
       "      <th>16</th>\n",
       "      <td>6</td>\n",
       "      <td>Consumo moderado de carne</td>\n",
       "      <td>2</td>\n",
       "      <td>homem_cis</td>\n",
       "    </tr>\n",
       "    <tr>\n",
       "      <th>17</th>\n",
       "      <td>-1</td>\n",
       "      <td>Consumo Reduzido de Carne Animal</td>\n",
       "      <td>183</td>\n",
       "      <td>mulher_cis</td>\n",
       "    </tr>\n",
       "    <tr>\n",
       "      <th>18</th>\n",
       "      <td>0</td>\n",
       "      <td>Flexitarianismo e consumo de carne</td>\n",
       "      <td>23</td>\n",
       "      <td>mulher_cis</td>\n",
       "    </tr>\n",
       "    <tr>\n",
       "      <th>19</th>\n",
       "      <td>1</td>\n",
       "      <td>Dietas sem carne vermelha</td>\n",
       "      <td>51</td>\n",
       "      <td>mulher_cis</td>\n",
       "    </tr>\n",
       "    <tr>\n",
       "      <th>20</th>\n",
       "      <td>2</td>\n",
       "      <td>Transição para Dietas Baseadas em Plantas</td>\n",
       "      <td>35</td>\n",
       "      <td>mulher_cis</td>\n",
       "    </tr>\n",
       "    <tr>\n",
       "      <th>21</th>\n",
       "      <td>3</td>\n",
       "      <td>Redução do Consumo de Carne</td>\n",
       "      <td>237</td>\n",
       "      <td>mulher_cis</td>\n",
       "    </tr>\n",
       "    <tr>\n",
       "      <th>22</th>\n",
       "      <td>4</td>\n",
       "      <td>Mal-estar com carne vermelha</td>\n",
       "      <td>15</td>\n",
       "      <td>mulher_cis</td>\n",
       "    </tr>\n",
       "    <tr>\n",
       "      <th>23</th>\n",
       "      <td>5</td>\n",
       "      <td>Redução do Consumo de Carne</td>\n",
       "      <td>46</td>\n",
       "      <td>mulher_cis</td>\n",
       "    </tr>\n",
       "    <tr>\n",
       "      <th>24</th>\n",
       "      <td>6</td>\n",
       "      <td>Redução do Consumo de Carne</td>\n",
       "      <td>15</td>\n",
       "      <td>mulher_cis</td>\n",
       "    </tr>\n",
       "  </tbody>\n",
       "</table>\n",
       "</div>"
      ],
      "text/plain": [
       "    Topic                                        Words  Frequency        Class\n",
       "0      -1  Consumo de Carne e Alternativas Alimentares          6          pnr\n",
       "1       0        Reflexões sobre Aprendizado Acadêmico          1          pnr\n",
       "2       2     Desafios financeiros para vegetarianismo          1          pnr\n",
       "3       3      Impacto Ambiental da Pecuária e Consumo          7          pnr\n",
       "4       4            Dificuldades na Digestão de Carne          2          pnr\n",
       "5       5             Consumo Reduzido de Carne Diária          2          pnr\n",
       "6      -1             Desafios do Veganismo e Nutrição          3  nao_binario\n",
       "7       0                  Redução no Consumo de Carne          2  nao_binario\n",
       "8       3                  Redução do Consumo de Carne          2  nao_binario\n",
       "9      -1   Consumo Sustentável e Práticas Alimentares         50    homem_cis\n",
       "10      0           Flexitarianismo e Consumo de Carne         13    homem_cis\n",
       "11      1          Consumo de Peixes e Carnes Limitado          5    homem_cis\n",
       "12      2   Desafios e Flexibilidade no Vegetarianismo         13    homem_cis\n",
       "13      3                  Redução do Consumo de Carne         54    homem_cis\n",
       "14      4                Aversão e Mal-estar com Carne          5    homem_cis\n",
       "15      5          Redução semanal do consumo de carne          5    homem_cis\n",
       "16      6                    Consumo moderado de carne          2    homem_cis\n",
       "17     -1             Consumo Reduzido de Carne Animal        183   mulher_cis\n",
       "18      0           Flexitarianismo e consumo de carne         23   mulher_cis\n",
       "19      1                    Dietas sem carne vermelha         51   mulher_cis\n",
       "20      2    Transição para Dietas Baseadas em Plantas         35   mulher_cis\n",
       "21      3                  Redução do Consumo de Carne        237   mulher_cis\n",
       "22      4                 Mal-estar com carne vermelha         15   mulher_cis\n",
       "23      5                  Redução do Consumo de Carne         46   mulher_cis\n",
       "24      6                  Redução do Consumo de Carne         15   mulher_cis"
      ]
     },
     "execution_count": 35,
     "metadata": {},
     "output_type": "execute_result"
    }
   ],
   "source": [
    "topics_per_gender_reason = topic_model.topics_per_class(texts, classes=gender_topics_reason)\n",
    "topics_per_gender_reason"
   ]
  },
  {
   "cell_type": "code",
   "execution_count": 36,
   "metadata": {},
   "outputs": [
    {
     "data": {
      "text/html": [
       "<div>\n",
       "<style scoped>\n",
       "    .dataframe tbody tr th:only-of-type {\n",
       "        vertical-align: middle;\n",
       "    }\n",
       "\n",
       "    .dataframe tbody tr th {\n",
       "        vertical-align: top;\n",
       "    }\n",
       "\n",
       "    .dataframe thead th {\n",
       "        text-align: right;\n",
       "    }\n",
       "</style>\n",
       "<table border=\"1\" class=\"dataframe\">\n",
       "  <thead>\n",
       "    <tr style=\"text-align: right;\">\n",
       "      <th></th>\n",
       "      <th>Topic</th>\n",
       "      <th>Words</th>\n",
       "      <th>Frequency</th>\n",
       "      <th>Class</th>\n",
       "    </tr>\n",
       "  </thead>\n",
       "  <tbody>\n",
       "    <tr>\n",
       "      <th>0</th>\n",
       "      <td>-1</td>\n",
       "      <td>Redução do Consumo de Carnes</td>\n",
       "      <td>31</td>\n",
       "      <td>doutorado</td>\n",
       "    </tr>\n",
       "    <tr>\n",
       "      <th>1</th>\n",
       "      <td>0</td>\n",
       "      <td>Descoberta de Dietas Alimentares Alternativas</td>\n",
       "      <td>6</td>\n",
       "      <td>doutorado</td>\n",
       "    </tr>\n",
       "    <tr>\n",
       "      <th>2</th>\n",
       "      <td>1</td>\n",
       "      <td>Dieta sem carne vermelha</td>\n",
       "      <td>9</td>\n",
       "      <td>doutorado</td>\n",
       "    </tr>\n",
       "    <tr>\n",
       "      <th>3</th>\n",
       "      <td>2</td>\n",
       "      <td>Desafios de Dieta Vegetariana/Vegana</td>\n",
       "      <td>3</td>\n",
       "      <td>doutorado</td>\n",
       "    </tr>\n",
       "    <tr>\n",
       "      <th>4</th>\n",
       "      <td>3</td>\n",
       "      <td>Redução do Consumo de Carne</td>\n",
       "      <td>53</td>\n",
       "      <td>doutorado</td>\n",
       "    </tr>\n",
       "    <tr>\n",
       "      <th>5</th>\n",
       "      <td>4</td>\n",
       "      <td>Preferências Alimentares e Carne</td>\n",
       "      <td>1</td>\n",
       "      <td>doutorado</td>\n",
       "    </tr>\n",
       "    <tr>\n",
       "      <th>6</th>\n",
       "      <td>5</td>\n",
       "      <td>Redução do Consumo de Carne</td>\n",
       "      <td>11</td>\n",
       "      <td>doutorado</td>\n",
       "    </tr>\n",
       "    <tr>\n",
       "      <th>7</th>\n",
       "      <td>6</td>\n",
       "      <td>Flexitarianismo e Consumo de Carne</td>\n",
       "      <td>1</td>\n",
       "      <td>doutorado</td>\n",
       "    </tr>\n",
       "    <tr>\n",
       "      <th>8</th>\n",
       "      <td>-1</td>\n",
       "      <td>Redução do Consumo de Carne</td>\n",
       "      <td>57</td>\n",
       "      <td>mestrado</td>\n",
       "    </tr>\n",
       "    <tr>\n",
       "      <th>9</th>\n",
       "      <td>0</td>\n",
       "      <td>Redução de Consumo de Carne</td>\n",
       "      <td>10</td>\n",
       "      <td>mestrado</td>\n",
       "    </tr>\n",
       "    <tr>\n",
       "      <th>10</th>\n",
       "      <td>1</td>\n",
       "      <td>Dietas com restrição de carne</td>\n",
       "      <td>11</td>\n",
       "      <td>mestrado</td>\n",
       "    </tr>\n",
       "    <tr>\n",
       "      <th>11</th>\n",
       "      <td>2</td>\n",
       "      <td>Transição para Dietas Vegetarianas/Veganas</td>\n",
       "      <td>13</td>\n",
       "      <td>mestrado</td>\n",
       "    </tr>\n",
       "    <tr>\n",
       "      <th>12</th>\n",
       "      <td>3</td>\n",
       "      <td>Redução do Consumo de Carne</td>\n",
       "      <td>63</td>\n",
       "      <td>mestrado</td>\n",
       "    </tr>\n",
       "    <tr>\n",
       "      <th>13</th>\n",
       "      <td>4</td>\n",
       "      <td>Aversão a Carne e Má Digestão</td>\n",
       "      <td>3</td>\n",
       "      <td>mestrado</td>\n",
       "    </tr>\n",
       "    <tr>\n",
       "      <th>14</th>\n",
       "      <td>5</td>\n",
       "      <td>Redução do Consumo de Carne Semanal</td>\n",
       "      <td>10</td>\n",
       "      <td>mestrado</td>\n",
       "    </tr>\n",
       "    <tr>\n",
       "      <th>15</th>\n",
       "      <td>6</td>\n",
       "      <td>Dieta com pouca carne</td>\n",
       "      <td>2</td>\n",
       "      <td>mestrado</td>\n",
       "    </tr>\n",
       "    <tr>\n",
       "      <th>16</th>\n",
       "      <td>3</td>\n",
       "      <td>Redução do consumo de carne</td>\n",
       "      <td>1</td>\n",
       "      <td>fundamental</td>\n",
       "    </tr>\n",
       "    <tr>\n",
       "      <th>17</th>\n",
       "      <td>5</td>\n",
       "      <td>Consumo Reduzido de Carne Diária</td>\n",
       "      <td>1</td>\n",
       "      <td>fundamental</td>\n",
       "    </tr>\n",
       "    <tr>\n",
       "      <th>18</th>\n",
       "      <td>6</td>\n",
       "      <td>Alimentação Diversificada e Balanceada</td>\n",
       "      <td>1</td>\n",
       "      <td>fundamental</td>\n",
       "    </tr>\n",
       "    <tr>\n",
       "      <th>19</th>\n",
       "      <td>-1</td>\n",
       "      <td>Redução do Consumo de Carne</td>\n",
       "      <td>128</td>\n",
       "      <td>superior</td>\n",
       "    </tr>\n",
       "    <tr>\n",
       "      <th>20</th>\n",
       "      <td>0</td>\n",
       "      <td>Dietas e Consumo de Carne</td>\n",
       "      <td>20</td>\n",
       "      <td>superior</td>\n",
       "    </tr>\n",
       "    <tr>\n",
       "      <th>21</th>\n",
       "      <td>1</td>\n",
       "      <td>Dieta sem carne vermelha</td>\n",
       "      <td>29</td>\n",
       "      <td>superior</td>\n",
       "    </tr>\n",
       "    <tr>\n",
       "      <th>22</th>\n",
       "      <td>2</td>\n",
       "      <td>Transição Para Dietas Baseadas em Plantas</td>\n",
       "      <td>26</td>\n",
       "      <td>superior</td>\n",
       "    </tr>\n",
       "    <tr>\n",
       "      <th>23</th>\n",
       "      <td>3</td>\n",
       "      <td>Redução do Consumo de Carne</td>\n",
       "      <td>156</td>\n",
       "      <td>superior</td>\n",
       "    </tr>\n",
       "    <tr>\n",
       "      <th>24</th>\n",
       "      <td>4</td>\n",
       "      <td>Mal-estar ao comer carne</td>\n",
       "      <td>15</td>\n",
       "      <td>superior</td>\n",
       "    </tr>\n",
       "    <tr>\n",
       "      <th>25</th>\n",
       "      <td>5</td>\n",
       "      <td>Redução do Consumo de Carne Diária</td>\n",
       "      <td>22</td>\n",
       "      <td>superior</td>\n",
       "    </tr>\n",
       "    <tr>\n",
       "      <th>26</th>\n",
       "      <td>6</td>\n",
       "      <td>Dieta Flexível e Redução de Carne</td>\n",
       "      <td>12</td>\n",
       "      <td>superior</td>\n",
       "    </tr>\n",
       "    <tr>\n",
       "      <th>27</th>\n",
       "      <td>-1</td>\n",
       "      <td>Razões para Reduzir Consumo de Carne</td>\n",
       "      <td>26</td>\n",
       "      <td>medio</td>\n",
       "    </tr>\n",
       "    <tr>\n",
       "      <th>28</th>\n",
       "      <td>0</td>\n",
       "      <td>Redução do consumo de carne</td>\n",
       "      <td>3</td>\n",
       "      <td>medio</td>\n",
       "    </tr>\n",
       "    <tr>\n",
       "      <th>29</th>\n",
       "      <td>1</td>\n",
       "      <td>Dietas com restrição de carnes</td>\n",
       "      <td>7</td>\n",
       "      <td>medio</td>\n",
       "    </tr>\n",
       "    <tr>\n",
       "      <th>30</th>\n",
       "      <td>2</td>\n",
       "      <td>Redução do Consumo de Produtos Animais</td>\n",
       "      <td>7</td>\n",
       "      <td>medio</td>\n",
       "    </tr>\n",
       "    <tr>\n",
       "      <th>31</th>\n",
       "      <td>3</td>\n",
       "      <td>Redução do Consumo de Carne</td>\n",
       "      <td>27</td>\n",
       "      <td>medio</td>\n",
       "    </tr>\n",
       "    <tr>\n",
       "      <th>32</th>\n",
       "      <td>4</td>\n",
       "      <td>Malefícios de comer carne vermelha</td>\n",
       "      <td>3</td>\n",
       "      <td>medio</td>\n",
       "    </tr>\n",
       "    <tr>\n",
       "      <th>33</th>\n",
       "      <td>5</td>\n",
       "      <td>Redução do Consumo de Carne Semanalmente</td>\n",
       "      <td>9</td>\n",
       "      <td>medio</td>\n",
       "    </tr>\n",
       "    <tr>\n",
       "      <th>34</th>\n",
       "      <td>6</td>\n",
       "      <td>Benefícios e Desafios da Dieta Vegetariana</td>\n",
       "      <td>1</td>\n",
       "      <td>medio</td>\n",
       "    </tr>\n",
       "  </tbody>\n",
       "</table>\n",
       "</div>"
      ],
      "text/plain": [
       "    Topic                                          Words  Frequency  \\\n",
       "0      -1                   Redução do Consumo de Carnes         31   \n",
       "1       0  Descoberta de Dietas Alimentares Alternativas          6   \n",
       "2       1                       Dieta sem carne vermelha          9   \n",
       "3       2           Desafios de Dieta Vegetariana/Vegana          3   \n",
       "4       3                    Redução do Consumo de Carne         53   \n",
       "5       4               Preferências Alimentares e Carne          1   \n",
       "6       5                    Redução do Consumo de Carne         11   \n",
       "7       6             Flexitarianismo e Consumo de Carne          1   \n",
       "8      -1                    Redução do Consumo de Carne         57   \n",
       "9       0                    Redução de Consumo de Carne         10   \n",
       "10      1                  Dietas com restrição de carne         11   \n",
       "11      2     Transição para Dietas Vegetarianas/Veganas         13   \n",
       "12      3                    Redução do Consumo de Carne         63   \n",
       "13      4                  Aversão a Carne e Má Digestão          3   \n",
       "14      5            Redução do Consumo de Carne Semanal         10   \n",
       "15      6                          Dieta com pouca carne          2   \n",
       "16      3                    Redução do consumo de carne          1   \n",
       "17      5               Consumo Reduzido de Carne Diária          1   \n",
       "18      6         Alimentação Diversificada e Balanceada          1   \n",
       "19     -1                    Redução do Consumo de Carne        128   \n",
       "20      0                      Dietas e Consumo de Carne         20   \n",
       "21      1                       Dieta sem carne vermelha         29   \n",
       "22      2      Transição Para Dietas Baseadas em Plantas         26   \n",
       "23      3                    Redução do Consumo de Carne        156   \n",
       "24      4                       Mal-estar ao comer carne         15   \n",
       "25      5             Redução do Consumo de Carne Diária         22   \n",
       "26      6              Dieta Flexível e Redução de Carne         12   \n",
       "27     -1           Razões para Reduzir Consumo de Carne         26   \n",
       "28      0                    Redução do consumo de carne          3   \n",
       "29      1                 Dietas com restrição de carnes          7   \n",
       "30      2         Redução do Consumo de Produtos Animais          7   \n",
       "31      3                    Redução do Consumo de Carne         27   \n",
       "32      4             Malefícios de comer carne vermelha          3   \n",
       "33      5       Redução do Consumo de Carne Semanalmente          9   \n",
       "34      6     Benefícios e Desafios da Dieta Vegetariana          1   \n",
       "\n",
       "          Class  \n",
       "0     doutorado  \n",
       "1     doutorado  \n",
       "2     doutorado  \n",
       "3     doutorado  \n",
       "4     doutorado  \n",
       "5     doutorado  \n",
       "6     doutorado  \n",
       "7     doutorado  \n",
       "8      mestrado  \n",
       "9      mestrado  \n",
       "10     mestrado  \n",
       "11     mestrado  \n",
       "12     mestrado  \n",
       "13     mestrado  \n",
       "14     mestrado  \n",
       "15     mestrado  \n",
       "16  fundamental  \n",
       "17  fundamental  \n",
       "18  fundamental  \n",
       "19     superior  \n",
       "20     superior  \n",
       "21     superior  \n",
       "22     superior  \n",
       "23     superior  \n",
       "24     superior  \n",
       "25     superior  \n",
       "26     superior  \n",
       "27        medio  \n",
       "28        medio  \n",
       "29        medio  \n",
       "30        medio  \n",
       "31        medio  \n",
       "32        medio  \n",
       "33        medio  \n",
       "34        medio  "
      ]
     },
     "execution_count": 36,
     "metadata": {},
     "output_type": "execute_result"
    }
   ],
   "source": [
    "topics_per_education_reason = topic_model.topics_per_class(texts, classes=education_topics_reason)\n",
    "topics_per_education_reason"
   ]
  },
  {
   "cell_type": "code",
   "execution_count": 37,
   "metadata": {},
   "outputs": [
    {
     "data": {
      "text/html": [
       "<div>\n",
       "<style scoped>\n",
       "    .dataframe tbody tr th:only-of-type {\n",
       "        vertical-align: middle;\n",
       "    }\n",
       "\n",
       "    .dataframe tbody tr th {\n",
       "        vertical-align: top;\n",
       "    }\n",
       "\n",
       "    .dataframe thead th {\n",
       "        text-align: right;\n",
       "    }\n",
       "</style>\n",
       "<table border=\"1\" class=\"dataframe\">\n",
       "  <thead>\n",
       "    <tr style=\"text-align: right;\">\n",
       "      <th></th>\n",
       "      <th>Topic</th>\n",
       "      <th>Words</th>\n",
       "      <th>Frequency</th>\n",
       "      <th>Class</th>\n",
       "    </tr>\n",
       "  </thead>\n",
       "  <tbody>\n",
       "    <tr>\n",
       "      <th>0</th>\n",
       "      <td>-1</td>\n",
       "      <td>Redução e Preferências Alimentares sobre Carne</td>\n",
       "      <td>19</td>\n",
       "      <td>aversao</td>\n",
       "    </tr>\n",
       "    <tr>\n",
       "      <th>1</th>\n",
       "      <td>1</td>\n",
       "      <td>Consumo Seletivo de Proteínas Animais</td>\n",
       "      <td>5</td>\n",
       "      <td>aversao</td>\n",
       "    </tr>\n",
       "    <tr>\n",
       "      <th>2</th>\n",
       "      <td>2</td>\n",
       "      <td>Transição para Dieta Vegana</td>\n",
       "      <td>1</td>\n",
       "      <td>aversao</td>\n",
       "    </tr>\n",
       "    <tr>\n",
       "      <th>3</th>\n",
       "      <td>3</td>\n",
       "      <td>Redução do consumo de carne</td>\n",
       "      <td>6</td>\n",
       "      <td>aversao</td>\n",
       "    </tr>\n",
       "    <tr>\n",
       "      <th>4</th>\n",
       "      <td>4</td>\n",
       "      <td>Problemas digestivos com carne vermelha</td>\n",
       "      <td>6</td>\n",
       "      <td>aversao</td>\n",
       "    </tr>\n",
       "    <tr>\n",
       "      <th>5</th>\n",
       "      <td>5</td>\n",
       "      <td>Redução do Consumo de Carne</td>\n",
       "      <td>1</td>\n",
       "      <td>aversao</td>\n",
       "    </tr>\n",
       "    <tr>\n",
       "      <th>6</th>\n",
       "      <td>6</td>\n",
       "      <td>Preferências Alimentares e Consumo de Carne</td>\n",
       "      <td>2</td>\n",
       "      <td>aversao</td>\n",
       "    </tr>\n",
       "    <tr>\n",
       "      <th>7</th>\n",
       "      <td>-1</td>\n",
       "      <td>Consumo e ética da carne</td>\n",
       "      <td>54</td>\n",
       "      <td>etica_animal</td>\n",
       "    </tr>\n",
       "    <tr>\n",
       "      <th>8</th>\n",
       "      <td>0</td>\n",
       "      <td>Mudança de Dieta para Vegetarianismo</td>\n",
       "      <td>5</td>\n",
       "      <td>etica_animal</td>\n",
       "    </tr>\n",
       "    <tr>\n",
       "      <th>9</th>\n",
       "      <td>1</td>\n",
       "      <td>Dietas alimentares sem carne vermelha</td>\n",
       "      <td>18</td>\n",
       "      <td>etica_animal</td>\n",
       "    </tr>\n",
       "    <tr>\n",
       "      <th>10</th>\n",
       "      <td>2</td>\n",
       "      <td>Transição para Dietas Vegetarianas e Veganas</td>\n",
       "      <td>20</td>\n",
       "      <td>etica_animal</td>\n",
       "    </tr>\n",
       "    <tr>\n",
       "      <th>11</th>\n",
       "      <td>3</td>\n",
       "      <td>Consumo Sustentável de Carne e Impactos</td>\n",
       "      <td>68</td>\n",
       "      <td>etica_animal</td>\n",
       "    </tr>\n",
       "    <tr>\n",
       "      <th>12</th>\n",
       "      <td>4</td>\n",
       "      <td>Sensações Mal-Estar ao Consumir Carne</td>\n",
       "      <td>2</td>\n",
       "      <td>etica_animal</td>\n",
       "    </tr>\n",
       "    <tr>\n",
       "      <th>13</th>\n",
       "      <td>5</td>\n",
       "      <td>Redução de Consumo de Carne Semanal</td>\n",
       "      <td>10</td>\n",
       "      <td>etica_animal</td>\n",
       "    </tr>\n",
       "    <tr>\n",
       "      <th>14</th>\n",
       "      <td>-1</td>\n",
       "      <td>Redução do Consumo de Carne</td>\n",
       "      <td>65</td>\n",
       "      <td>saude</td>\n",
       "    </tr>\n",
       "    <tr>\n",
       "      <th>15</th>\n",
       "      <td>0</td>\n",
       "      <td>Consumo Reduzido de Carne e Terminologia</td>\n",
       "      <td>14</td>\n",
       "      <td>saude</td>\n",
       "    </tr>\n",
       "    <tr>\n",
       "      <th>16</th>\n",
       "      <td>1</td>\n",
       "      <td>Redução do consumo de carne</td>\n",
       "      <td>15</td>\n",
       "      <td>saude</td>\n",
       "    </tr>\n",
       "    <tr>\n",
       "      <th>17</th>\n",
       "      <td>2</td>\n",
       "      <td>Dietas Flexíveis e Sustentabilidade Alimentar</td>\n",
       "      <td>8</td>\n",
       "      <td>saude</td>\n",
       "    </tr>\n",
       "    <tr>\n",
       "      <th>18</th>\n",
       "      <td>3</td>\n",
       "      <td>Redução de Consumo de Carne</td>\n",
       "      <td>103</td>\n",
       "      <td>saude</td>\n",
       "    </tr>\n",
       "    <tr>\n",
       "      <th>19</th>\n",
       "      <td>4</td>\n",
       "      <td>Problemas Digestivos Com Carne Vermelha</td>\n",
       "      <td>12</td>\n",
       "      <td>saude</td>\n",
       "    </tr>\n",
       "    <tr>\n",
       "      <th>20</th>\n",
       "      <td>5</td>\n",
       "      <td>Redução do Consumo de Carne Diária</td>\n",
       "      <td>17</td>\n",
       "      <td>saude</td>\n",
       "    </tr>\n",
       "    <tr>\n",
       "      <th>21</th>\n",
       "      <td>6</td>\n",
       "      <td>Consumo de Carne e Vegetarianismo</td>\n",
       "      <td>11</td>\n",
       "      <td>saude</td>\n",
       "    </tr>\n",
       "    <tr>\n",
       "      <th>22</th>\n",
       "      <td>-1</td>\n",
       "      <td>Redução do Consumo de Carne</td>\n",
       "      <td>96</td>\n",
       "      <td>impacto_ambiental</td>\n",
       "    </tr>\n",
       "    <tr>\n",
       "      <th>23</th>\n",
       "      <td>0</td>\n",
       "      <td>Adaptação à dieta flexitariana</td>\n",
       "      <td>16</td>\n",
       "      <td>impacto_ambiental</td>\n",
       "    </tr>\n",
       "    <tr>\n",
       "      <th>24</th>\n",
       "      <td>1</td>\n",
       "      <td>Dietas Pescetarianas e Flexitarianas</td>\n",
       "      <td>14</td>\n",
       "      <td>impacto_ambiental</td>\n",
       "    </tr>\n",
       "    <tr>\n",
       "      <th>25</th>\n",
       "      <td>2</td>\n",
       "      <td>Transição e Desafios Alimentares Vegetarianos</td>\n",
       "      <td>19</td>\n",
       "      <td>impacto_ambiental</td>\n",
       "    </tr>\n",
       "    <tr>\n",
       "      <th>26</th>\n",
       "      <td>3</td>\n",
       "      <td>Impactos ambientais do consumo de carne</td>\n",
       "      <td>114</td>\n",
       "      <td>impacto_ambiental</td>\n",
       "    </tr>\n",
       "    <tr>\n",
       "      <th>27</th>\n",
       "      <td>4</td>\n",
       "      <td>Redução do consumo de carne</td>\n",
       "      <td>2</td>\n",
       "      <td>impacto_ambiental</td>\n",
       "    </tr>\n",
       "    <tr>\n",
       "      <th>28</th>\n",
       "      <td>5</td>\n",
       "      <td>Redução do Consumo de Carne Semanal</td>\n",
       "      <td>21</td>\n",
       "      <td>impacto_ambiental</td>\n",
       "    </tr>\n",
       "    <tr>\n",
       "      <th>29</th>\n",
       "      <td>6</td>\n",
       "      <td>Alimentação Flexível e Consumo de Carne</td>\n",
       "      <td>4</td>\n",
       "      <td>impacto_ambiental</td>\n",
       "    </tr>\n",
       "    <tr>\n",
       "      <th>30</th>\n",
       "      <td>-1</td>\n",
       "      <td>Redução do Consumo de Carne</td>\n",
       "      <td>7</td>\n",
       "      <td>religiao</td>\n",
       "    </tr>\n",
       "    <tr>\n",
       "      <th>31</th>\n",
       "      <td>0</td>\n",
       "      <td>Redução de Consumo de Carne</td>\n",
       "      <td>4</td>\n",
       "      <td>religiao</td>\n",
       "    </tr>\n",
       "    <tr>\n",
       "      <th>32</th>\n",
       "      <td>1</td>\n",
       "      <td>Consumo seletivo de carnes e substitutos</td>\n",
       "      <td>4</td>\n",
       "      <td>religiao</td>\n",
       "    </tr>\n",
       "    <tr>\n",
       "      <th>33</th>\n",
       "      <td>2</td>\n",
       "      <td>Transição para o Veganismo e Futuro</td>\n",
       "      <td>1</td>\n",
       "      <td>religiao</td>\n",
       "    </tr>\n",
       "    <tr>\n",
       "      <th>34</th>\n",
       "      <td>3</td>\n",
       "      <td>Redução espiritual do consumo de carne</td>\n",
       "      <td>9</td>\n",
       "      <td>religiao</td>\n",
       "    </tr>\n",
       "    <tr>\n",
       "      <th>35</th>\n",
       "      <td>5</td>\n",
       "      <td>Consumo de Carne e Motivações Religiosas</td>\n",
       "      <td>4</td>\n",
       "      <td>religiao</td>\n",
       "    </tr>\n",
       "    <tr>\n",
       "      <th>36</th>\n",
       "      <td>-1</td>\n",
       "      <td>Substituição de Carne na Dieta</td>\n",
       "      <td>1</td>\n",
       "      <td>nda</td>\n",
       "    </tr>\n",
       "  </tbody>\n",
       "</table>\n",
       "</div>"
      ],
      "text/plain": [
       "    Topic                                           Words  Frequency  \\\n",
       "0      -1  Redução e Preferências Alimentares sobre Carne         19   \n",
       "1       1           Consumo Seletivo de Proteínas Animais          5   \n",
       "2       2                     Transição para Dieta Vegana          1   \n",
       "3       3                     Redução do consumo de carne          6   \n",
       "4       4         Problemas digestivos com carne vermelha          6   \n",
       "5       5                     Redução do Consumo de Carne          1   \n",
       "6       6     Preferências Alimentares e Consumo de Carne          2   \n",
       "7      -1                        Consumo e ética da carne         54   \n",
       "8       0            Mudança de Dieta para Vegetarianismo          5   \n",
       "9       1           Dietas alimentares sem carne vermelha         18   \n",
       "10      2    Transição para Dietas Vegetarianas e Veganas         20   \n",
       "11      3         Consumo Sustentável de Carne e Impactos         68   \n",
       "12      4           Sensações Mal-Estar ao Consumir Carne          2   \n",
       "13      5             Redução de Consumo de Carne Semanal         10   \n",
       "14     -1                     Redução do Consumo de Carne         65   \n",
       "15      0        Consumo Reduzido de Carne e Terminologia         14   \n",
       "16      1                     Redução do consumo de carne         15   \n",
       "17      2   Dietas Flexíveis e Sustentabilidade Alimentar          8   \n",
       "18      3                     Redução de Consumo de Carne        103   \n",
       "19      4         Problemas Digestivos Com Carne Vermelha         12   \n",
       "20      5              Redução do Consumo de Carne Diária         17   \n",
       "21      6               Consumo de Carne e Vegetarianismo         11   \n",
       "22     -1                     Redução do Consumo de Carne         96   \n",
       "23      0                  Adaptação à dieta flexitariana         16   \n",
       "24      1            Dietas Pescetarianas e Flexitarianas         14   \n",
       "25      2   Transição e Desafios Alimentares Vegetarianos         19   \n",
       "26      3         Impactos ambientais do consumo de carne        114   \n",
       "27      4                     Redução do consumo de carne          2   \n",
       "28      5             Redução do Consumo de Carne Semanal         21   \n",
       "29      6         Alimentação Flexível e Consumo de Carne          4   \n",
       "30     -1                     Redução do Consumo de Carne          7   \n",
       "31      0                     Redução de Consumo de Carne          4   \n",
       "32      1        Consumo seletivo de carnes e substitutos          4   \n",
       "33      2             Transição para o Veganismo e Futuro          1   \n",
       "34      3          Redução espiritual do consumo de carne          9   \n",
       "35      5        Consumo de Carne e Motivações Religiosas          4   \n",
       "36     -1                  Substituição de Carne na Dieta          1   \n",
       "\n",
       "                Class  \n",
       "0             aversao  \n",
       "1             aversao  \n",
       "2             aversao  \n",
       "3             aversao  \n",
       "4             aversao  \n",
       "5             aversao  \n",
       "6             aversao  \n",
       "7        etica_animal  \n",
       "8        etica_animal  \n",
       "9        etica_animal  \n",
       "10       etica_animal  \n",
       "11       etica_animal  \n",
       "12       etica_animal  \n",
       "13       etica_animal  \n",
       "14              saude  \n",
       "15              saude  \n",
       "16              saude  \n",
       "17              saude  \n",
       "18              saude  \n",
       "19              saude  \n",
       "20              saude  \n",
       "21              saude  \n",
       "22  impacto_ambiental  \n",
       "23  impacto_ambiental  \n",
       "24  impacto_ambiental  \n",
       "25  impacto_ambiental  \n",
       "26  impacto_ambiental  \n",
       "27  impacto_ambiental  \n",
       "28  impacto_ambiental  \n",
       "29  impacto_ambiental  \n",
       "30           religiao  \n",
       "31           religiao  \n",
       "32           religiao  \n",
       "33           religiao  \n",
       "34           religiao  \n",
       "35           religiao  \n",
       "36                nda  "
      ]
     },
     "execution_count": 37,
     "metadata": {},
     "output_type": "execute_result"
    }
   ],
   "source": [
    "topics_per_motivation_reason = topic_model.topics_per_class(texts, classes=motivation_topics_reason)\n",
    "topics_per_motivation_reason"
   ]
  },
  {
   "cell_type": "code",
   "execution_count": 38,
   "metadata": {},
   "outputs": [
    {
     "data": {
      "application/vnd.plotly.v1+json": {
       "config": {
        "plotlyServerURL": "https://plot.ly"
       },
       "data": [
        {
         "hoverinfo": "text",
         "hovertext": [
          "<b>Topic 0</b><br>Words: Reflexões sobre Aprendizado Acadêmico",
          "<b>Topic 0</b><br>Words: Redução no Consumo de Carne",
          "<b>Topic 0</b><br>Words: Flexitarianismo e Consumo de Carne",
          "<b>Topic 0</b><br>Words: Flexitarianismo e consumo de carne"
         ],
         "marker": {
          "color": "#E69F00"
         },
         "name": "0_Redução do Consumo de Carne",
         "orientation": "h",
         "type": "bar",
         "visible": true,
         "x": [
          0.03771571432023571,
          0.07543142864047142,
          0.49030428616306426,
          0.8674614293654214
         ],
         "y": [
          "pnr",
          "nao_binario",
          "homem_cis",
          "mulher_cis"
         ]
        },
        {
         "hoverinfo": "text",
         "hovertext": [
          "<b>Topic 1</b><br>Words: Consumo de Peixes e Carnes Limitado",
          "<b>Topic 1</b><br>Words: Dietas sem carne vermelha"
         ],
         "marker": {
          "color": "#56B4E9"
         },
         "name": "1_Dieta Pescetariana e Redução de Carnes",
         "orientation": "h",
         "type": "bar",
         "visible": "legendonly",
         "x": [
          0.09757142403137058,
          0.99522852511998
         ],
         "y": [
          "homem_cis",
          "mulher_cis"
         ]
        },
        {
         "hoverinfo": "text",
         "hovertext": [
          "<b>Topic 2</b><br>Words: Desafios financeiros para vegetarianismo",
          "<b>Topic 2</b><br>Words: Desafios e Flexibilidade no Vegetarianismo",
          "<b>Topic 2</b><br>Words: Transição para Dietas Baseadas em Plantas"
         ],
         "marker": {
          "color": "#009E73"
         },
         "name": "2_Transição e Desafios do Vegetarianismo...",
         "orientation": "h",
         "type": "bar",
         "visible": "legendonly",
         "x": [
          0.026773977630083295,
          0.3480617091910828,
          0.9370892170529154
         ],
         "y": [
          "pnr",
          "homem_cis",
          "mulher_cis"
         ]
        },
        {
         "hoverinfo": "text",
         "hovertext": [
          "<b>Topic 3</b><br>Words: Impacto Ambiental da Pecuária e Consumo",
          "<b>Topic 3</b><br>Words: Redução do Consumo de Carne",
          "<b>Topic 3</b><br>Words: Redução do Consumo de Carne",
          "<b>Topic 3</b><br>Words: Redução do Consumo de Carne"
         ],
         "marker": {
          "color": "#F0E442"
         },
         "name": "3_Redução do Consumo de Carne",
         "orientation": "h",
         "type": "bar",
         "visible": "legendonly",
         "x": [
          0.028784899900963678,
          0.00822425711456105,
          0.22205494209314838,
          0.9745744680754845
         ],
         "y": [
          "pnr",
          "nao_binario",
          "homem_cis",
          "mulher_cis"
         ]
        },
        {
         "hoverinfo": "text",
         "hovertext": [
          "<b>Topic 4</b><br>Words: Dificuldades na Digestão de Carne",
          "<b>Topic 4</b><br>Words: Aversão e Mal-estar com Carne",
          "<b>Topic 4</b><br>Words: Mal-estar com carne vermelha"
         ],
         "marker": {
          "color": "#D55E00"
         },
         "name": "4_Experiências negativas com carne verme...",
         "orientation": "h",
         "type": "bar",
         "visible": "legendonly",
         "x": [
          0.12549116102763172,
          0.3137279025690793,
          0.9411837077072378
         ],
         "y": [
          "pnr",
          "homem_cis",
          "mulher_cis"
         ]
        },
        {
         "hoverinfo": "text",
         "hovertext": [
          "<b>Topic 5</b><br>Words: Consumo Reduzido de Carne Diária",
          "<b>Topic 5</b><br>Words: Redução semanal do consumo de carne",
          "<b>Topic 5</b><br>Words: Redução do Consumo de Carne"
         ],
         "marker": {
          "color": "#0072B2"
         },
         "name": "5_Redução do Consumo de Carne Semanalmen...",
         "orientation": "h",
         "type": "bar",
         "visible": "legendonly",
         "x": [
          0.043183351708753044,
          0.10795837927188262,
          0.9932170893013201
         ],
         "y": [
          "pnr",
          "homem_cis",
          "mulher_cis"
         ]
        },
        {
         "hoverinfo": "text",
         "hovertext": [
          "<b>Topic 6</b><br>Words: Consumo moderado de carne",
          "<b>Topic 6</b><br>Words: Redução do Consumo de Carne"
         ],
         "marker": {
          "color": "#CC79A7"
         },
         "name": "6_Preferências Alimentares e Consumo de ...",
         "orientation": "h",
         "type": "bar",
         "visible": "legendonly",
         "x": [
          0.13216372009101796,
          0.9912279006826347
         ],
         "y": [
          "homem_cis",
          "mulher_cis"
         ]
        }
       ],
       "layout": {
        "height": 900,
        "hoverlabel": {
         "bgcolor": "white",
         "font": {
          "family": "Rockwell",
          "size": 16
         }
        },
        "legend": {
         "title": {
          "text": "<b>Global Topic Representation"
         }
        },
        "template": {
         "data": {
          "bar": [
           {
            "error_x": {
             "color": "rgb(36,36,36)"
            },
            "error_y": {
             "color": "rgb(36,36,36)"
            },
            "marker": {
             "line": {
              "color": "white",
              "width": 0.5
             },
             "pattern": {
              "fillmode": "overlay",
              "size": 10,
              "solidity": 0.2
             }
            },
            "type": "bar"
           }
          ],
          "barpolar": [
           {
            "marker": {
             "line": {
              "color": "white",
              "width": 0.5
             },
             "pattern": {
              "fillmode": "overlay",
              "size": 10,
              "solidity": 0.2
             }
            },
            "type": "barpolar"
           }
          ],
          "carpet": [
           {
            "aaxis": {
             "endlinecolor": "rgb(36,36,36)",
             "gridcolor": "white",
             "linecolor": "white",
             "minorgridcolor": "white",
             "startlinecolor": "rgb(36,36,36)"
            },
            "baxis": {
             "endlinecolor": "rgb(36,36,36)",
             "gridcolor": "white",
             "linecolor": "white",
             "minorgridcolor": "white",
             "startlinecolor": "rgb(36,36,36)"
            },
            "type": "carpet"
           }
          ],
          "choropleth": [
           {
            "colorbar": {
             "outlinewidth": 1,
             "tickcolor": "rgb(36,36,36)",
             "ticks": "outside"
            },
            "type": "choropleth"
           }
          ],
          "contour": [
           {
            "colorbar": {
             "outlinewidth": 1,
             "tickcolor": "rgb(36,36,36)",
             "ticks": "outside"
            },
            "colorscale": [
             [
              0,
              "#440154"
             ],
             [
              0.1111111111111111,
              "#482878"
             ],
             [
              0.2222222222222222,
              "#3e4989"
             ],
             [
              0.3333333333333333,
              "#31688e"
             ],
             [
              0.4444444444444444,
              "#26828e"
             ],
             [
              0.5555555555555556,
              "#1f9e89"
             ],
             [
              0.6666666666666666,
              "#35b779"
             ],
             [
              0.7777777777777778,
              "#6ece58"
             ],
             [
              0.8888888888888888,
              "#b5de2b"
             ],
             [
              1,
              "#fde725"
             ]
            ],
            "type": "contour"
           }
          ],
          "contourcarpet": [
           {
            "colorbar": {
             "outlinewidth": 1,
             "tickcolor": "rgb(36,36,36)",
             "ticks": "outside"
            },
            "type": "contourcarpet"
           }
          ],
          "heatmap": [
           {
            "colorbar": {
             "outlinewidth": 1,
             "tickcolor": "rgb(36,36,36)",
             "ticks": "outside"
            },
            "colorscale": [
             [
              0,
              "#440154"
             ],
             [
              0.1111111111111111,
              "#482878"
             ],
             [
              0.2222222222222222,
              "#3e4989"
             ],
             [
              0.3333333333333333,
              "#31688e"
             ],
             [
              0.4444444444444444,
              "#26828e"
             ],
             [
              0.5555555555555556,
              "#1f9e89"
             ],
             [
              0.6666666666666666,
              "#35b779"
             ],
             [
              0.7777777777777778,
              "#6ece58"
             ],
             [
              0.8888888888888888,
              "#b5de2b"
             ],
             [
              1,
              "#fde725"
             ]
            ],
            "type": "heatmap"
           }
          ],
          "heatmapgl": [
           {
            "colorbar": {
             "outlinewidth": 1,
             "tickcolor": "rgb(36,36,36)",
             "ticks": "outside"
            },
            "colorscale": [
             [
              0,
              "#440154"
             ],
             [
              0.1111111111111111,
              "#482878"
             ],
             [
              0.2222222222222222,
              "#3e4989"
             ],
             [
              0.3333333333333333,
              "#31688e"
             ],
             [
              0.4444444444444444,
              "#26828e"
             ],
             [
              0.5555555555555556,
              "#1f9e89"
             ],
             [
              0.6666666666666666,
              "#35b779"
             ],
             [
              0.7777777777777778,
              "#6ece58"
             ],
             [
              0.8888888888888888,
              "#b5de2b"
             ],
             [
              1,
              "#fde725"
             ]
            ],
            "type": "heatmapgl"
           }
          ],
          "histogram": [
           {
            "marker": {
             "line": {
              "color": "white",
              "width": 0.6
             }
            },
            "type": "histogram"
           }
          ],
          "histogram2d": [
           {
            "colorbar": {
             "outlinewidth": 1,
             "tickcolor": "rgb(36,36,36)",
             "ticks": "outside"
            },
            "colorscale": [
             [
              0,
              "#440154"
             ],
             [
              0.1111111111111111,
              "#482878"
             ],
             [
              0.2222222222222222,
              "#3e4989"
             ],
             [
              0.3333333333333333,
              "#31688e"
             ],
             [
              0.4444444444444444,
              "#26828e"
             ],
             [
              0.5555555555555556,
              "#1f9e89"
             ],
             [
              0.6666666666666666,
              "#35b779"
             ],
             [
              0.7777777777777778,
              "#6ece58"
             ],
             [
              0.8888888888888888,
              "#b5de2b"
             ],
             [
              1,
              "#fde725"
             ]
            ],
            "type": "histogram2d"
           }
          ],
          "histogram2dcontour": [
           {
            "colorbar": {
             "outlinewidth": 1,
             "tickcolor": "rgb(36,36,36)",
             "ticks": "outside"
            },
            "colorscale": [
             [
              0,
              "#440154"
             ],
             [
              0.1111111111111111,
              "#482878"
             ],
             [
              0.2222222222222222,
              "#3e4989"
             ],
             [
              0.3333333333333333,
              "#31688e"
             ],
             [
              0.4444444444444444,
              "#26828e"
             ],
             [
              0.5555555555555556,
              "#1f9e89"
             ],
             [
              0.6666666666666666,
              "#35b779"
             ],
             [
              0.7777777777777778,
              "#6ece58"
             ],
             [
              0.8888888888888888,
              "#b5de2b"
             ],
             [
              1,
              "#fde725"
             ]
            ],
            "type": "histogram2dcontour"
           }
          ],
          "mesh3d": [
           {
            "colorbar": {
             "outlinewidth": 1,
             "tickcolor": "rgb(36,36,36)",
             "ticks": "outside"
            },
            "type": "mesh3d"
           }
          ],
          "parcoords": [
           {
            "line": {
             "colorbar": {
              "outlinewidth": 1,
              "tickcolor": "rgb(36,36,36)",
              "ticks": "outside"
             }
            },
            "type": "parcoords"
           }
          ],
          "pie": [
           {
            "automargin": true,
            "type": "pie"
           }
          ],
          "scatter": [
           {
            "fillpattern": {
             "fillmode": "overlay",
             "size": 10,
             "solidity": 0.2
            },
            "type": "scatter"
           }
          ],
          "scatter3d": [
           {
            "line": {
             "colorbar": {
              "outlinewidth": 1,
              "tickcolor": "rgb(36,36,36)",
              "ticks": "outside"
             }
            },
            "marker": {
             "colorbar": {
              "outlinewidth": 1,
              "tickcolor": "rgb(36,36,36)",
              "ticks": "outside"
             }
            },
            "type": "scatter3d"
           }
          ],
          "scattercarpet": [
           {
            "marker": {
             "colorbar": {
              "outlinewidth": 1,
              "tickcolor": "rgb(36,36,36)",
              "ticks": "outside"
             }
            },
            "type": "scattercarpet"
           }
          ],
          "scattergeo": [
           {
            "marker": {
             "colorbar": {
              "outlinewidth": 1,
              "tickcolor": "rgb(36,36,36)",
              "ticks": "outside"
             }
            },
            "type": "scattergeo"
           }
          ],
          "scattergl": [
           {
            "marker": {
             "colorbar": {
              "outlinewidth": 1,
              "tickcolor": "rgb(36,36,36)",
              "ticks": "outside"
             }
            },
            "type": "scattergl"
           }
          ],
          "scattermapbox": [
           {
            "marker": {
             "colorbar": {
              "outlinewidth": 1,
              "tickcolor": "rgb(36,36,36)",
              "ticks": "outside"
             }
            },
            "type": "scattermapbox"
           }
          ],
          "scatterpolar": [
           {
            "marker": {
             "colorbar": {
              "outlinewidth": 1,
              "tickcolor": "rgb(36,36,36)",
              "ticks": "outside"
             }
            },
            "type": "scatterpolar"
           }
          ],
          "scatterpolargl": [
           {
            "marker": {
             "colorbar": {
              "outlinewidth": 1,
              "tickcolor": "rgb(36,36,36)",
              "ticks": "outside"
             }
            },
            "type": "scatterpolargl"
           }
          ],
          "scatterternary": [
           {
            "marker": {
             "colorbar": {
              "outlinewidth": 1,
              "tickcolor": "rgb(36,36,36)",
              "ticks": "outside"
             }
            },
            "type": "scatterternary"
           }
          ],
          "surface": [
           {
            "colorbar": {
             "outlinewidth": 1,
             "tickcolor": "rgb(36,36,36)",
             "ticks": "outside"
            },
            "colorscale": [
             [
              0,
              "#440154"
             ],
             [
              0.1111111111111111,
              "#482878"
             ],
             [
              0.2222222222222222,
              "#3e4989"
             ],
             [
              0.3333333333333333,
              "#31688e"
             ],
             [
              0.4444444444444444,
              "#26828e"
             ],
             [
              0.5555555555555556,
              "#1f9e89"
             ],
             [
              0.6666666666666666,
              "#35b779"
             ],
             [
              0.7777777777777778,
              "#6ece58"
             ],
             [
              0.8888888888888888,
              "#b5de2b"
             ],
             [
              1,
              "#fde725"
             ]
            ],
            "type": "surface"
           }
          ],
          "table": [
           {
            "cells": {
             "fill": {
              "color": "rgb(237,237,237)"
             },
             "line": {
              "color": "white"
             }
            },
            "header": {
             "fill": {
              "color": "rgb(217,217,217)"
             },
             "line": {
              "color": "white"
             }
            },
            "type": "table"
           }
          ]
         },
         "layout": {
          "annotationdefaults": {
           "arrowhead": 0,
           "arrowwidth": 1
          },
          "autotypenumbers": "strict",
          "coloraxis": {
           "colorbar": {
            "outlinewidth": 1,
            "tickcolor": "rgb(36,36,36)",
            "ticks": "outside"
           }
          },
          "colorscale": {
           "diverging": [
            [
             0,
             "rgb(103,0,31)"
            ],
            [
             0.1,
             "rgb(178,24,43)"
            ],
            [
             0.2,
             "rgb(214,96,77)"
            ],
            [
             0.3,
             "rgb(244,165,130)"
            ],
            [
             0.4,
             "rgb(253,219,199)"
            ],
            [
             0.5,
             "rgb(247,247,247)"
            ],
            [
             0.6,
             "rgb(209,229,240)"
            ],
            [
             0.7,
             "rgb(146,197,222)"
            ],
            [
             0.8,
             "rgb(67,147,195)"
            ],
            [
             0.9,
             "rgb(33,102,172)"
            ],
            [
             1,
             "rgb(5,48,97)"
            ]
           ],
           "sequential": [
            [
             0,
             "#440154"
            ],
            [
             0.1111111111111111,
             "#482878"
            ],
            [
             0.2222222222222222,
             "#3e4989"
            ],
            [
             0.3333333333333333,
             "#31688e"
            ],
            [
             0.4444444444444444,
             "#26828e"
            ],
            [
             0.5555555555555556,
             "#1f9e89"
            ],
            [
             0.6666666666666666,
             "#35b779"
            ],
            [
             0.7777777777777778,
             "#6ece58"
            ],
            [
             0.8888888888888888,
             "#b5de2b"
            ],
            [
             1,
             "#fde725"
            ]
           ],
           "sequentialminus": [
            [
             0,
             "#440154"
            ],
            [
             0.1111111111111111,
             "#482878"
            ],
            [
             0.2222222222222222,
             "#3e4989"
            ],
            [
             0.3333333333333333,
             "#31688e"
            ],
            [
             0.4444444444444444,
             "#26828e"
            ],
            [
             0.5555555555555556,
             "#1f9e89"
            ],
            [
             0.6666666666666666,
             "#35b779"
            ],
            [
             0.7777777777777778,
             "#6ece58"
            ],
            [
             0.8888888888888888,
             "#b5de2b"
            ],
            [
             1,
             "#fde725"
            ]
           ]
          },
          "colorway": [
           "#1F77B4",
           "#FF7F0E",
           "#2CA02C",
           "#D62728",
           "#9467BD",
           "#8C564B",
           "#E377C2",
           "#7F7F7F",
           "#BCBD22",
           "#17BECF"
          ],
          "font": {
           "color": "rgb(36,36,36)"
          },
          "geo": {
           "bgcolor": "white",
           "lakecolor": "white",
           "landcolor": "white",
           "showlakes": true,
           "showland": true,
           "subunitcolor": "white"
          },
          "hoverlabel": {
           "align": "left"
          },
          "hovermode": "closest",
          "mapbox": {
           "style": "light"
          },
          "paper_bgcolor": "white",
          "plot_bgcolor": "white",
          "polar": {
           "angularaxis": {
            "gridcolor": "rgb(232,232,232)",
            "linecolor": "rgb(36,36,36)",
            "showgrid": false,
            "showline": true,
            "ticks": "outside"
           },
           "bgcolor": "white",
           "radialaxis": {
            "gridcolor": "rgb(232,232,232)",
            "linecolor": "rgb(36,36,36)",
            "showgrid": false,
            "showline": true,
            "ticks": "outside"
           }
          },
          "scene": {
           "xaxis": {
            "backgroundcolor": "white",
            "gridcolor": "rgb(232,232,232)",
            "gridwidth": 2,
            "linecolor": "rgb(36,36,36)",
            "showbackground": true,
            "showgrid": false,
            "showline": true,
            "ticks": "outside",
            "zeroline": false,
            "zerolinecolor": "rgb(36,36,36)"
           },
           "yaxis": {
            "backgroundcolor": "white",
            "gridcolor": "rgb(232,232,232)",
            "gridwidth": 2,
            "linecolor": "rgb(36,36,36)",
            "showbackground": true,
            "showgrid": false,
            "showline": true,
            "ticks": "outside",
            "zeroline": false,
            "zerolinecolor": "rgb(36,36,36)"
           },
           "zaxis": {
            "backgroundcolor": "white",
            "gridcolor": "rgb(232,232,232)",
            "gridwidth": 2,
            "linecolor": "rgb(36,36,36)",
            "showbackground": true,
            "showgrid": false,
            "showline": true,
            "ticks": "outside",
            "zeroline": false,
            "zerolinecolor": "rgb(36,36,36)"
           }
          },
          "shapedefaults": {
           "fillcolor": "black",
           "line": {
            "width": 0
           },
           "opacity": 0.3
          },
          "ternary": {
           "aaxis": {
            "gridcolor": "rgb(232,232,232)",
            "linecolor": "rgb(36,36,36)",
            "showgrid": false,
            "showline": true,
            "ticks": "outside"
           },
           "baxis": {
            "gridcolor": "rgb(232,232,232)",
            "linecolor": "rgb(36,36,36)",
            "showgrid": false,
            "showline": true,
            "ticks": "outside"
           },
           "bgcolor": "white",
           "caxis": {
            "gridcolor": "rgb(232,232,232)",
            "linecolor": "rgb(36,36,36)",
            "showgrid": false,
            "showline": true,
            "ticks": "outside"
           }
          },
          "title": {
           "x": 0.05
          },
          "xaxis": {
           "automargin": true,
           "gridcolor": "rgb(232,232,232)",
           "linecolor": "rgb(36,36,36)",
           "showgrid": false,
           "showline": true,
           "ticks": "outside",
           "title": {
            "standoff": 15
           },
           "zeroline": false,
           "zerolinecolor": "rgb(36,36,36)"
          },
          "yaxis": {
           "automargin": true,
           "gridcolor": "rgb(232,232,232)",
           "linecolor": "rgb(36,36,36)",
           "showgrid": false,
           "showline": true,
           "ticks": "outside",
           "title": {
            "standoff": 15
           },
           "zeroline": false,
           "zerolinecolor": "rgb(36,36,36)"
          }
         }
        },
        "title": {
         "font": {
          "color": "Black",
          "size": 22
         },
         "text": "<b>Topics per Class</b>",
         "x": 0.4,
         "xanchor": "center",
         "y": 0.95,
         "yanchor": "top"
        },
        "width": 1600,
        "xaxis": {
         "showgrid": true,
         "title": {
          "text": "Normalized Frequency"
         }
        },
        "yaxis": {
         "showgrid": true,
         "title": {
          "text": "Class"
         }
        }
       }
      },
      "text/html": [
       "<div>                            <div id=\"1720c682-b424-43ca-a4ec-df81baf2ad84\" class=\"plotly-graph-div\" style=\"height:900px; width:1600px;\"></div>            <script type=\"text/javascript\">                require([\"plotly\"], function(Plotly) {                    window.PLOTLYENV=window.PLOTLYENV || {};                                    if (document.getElementById(\"1720c682-b424-43ca-a4ec-df81baf2ad84\")) {                    Plotly.newPlot(                        \"1720c682-b424-43ca-a4ec-df81baf2ad84\",                        [{\"hoverinfo\":\"text\",\"hovertext\":[\"\\u003cb\\u003eTopic 0\\u003c\\u002fb\\u003e\\u003cbr\\u003eWords: Reflexões sobre Aprendizado Acadêmico\",\"\\u003cb\\u003eTopic 0\\u003c\\u002fb\\u003e\\u003cbr\\u003eWords: Redução no Consumo de Carne\",\"\\u003cb\\u003eTopic 0\\u003c\\u002fb\\u003e\\u003cbr\\u003eWords: Flexitarianismo e Consumo de Carne\",\"\\u003cb\\u003eTopic 0\\u003c\\u002fb\\u003e\\u003cbr\\u003eWords: Flexitarianismo e consumo de carne\"],\"marker\":{\"color\":\"#E69F00\"},\"name\":\"0_Redução do Consumo de Carne\",\"orientation\":\"h\",\"visible\":true,\"x\":[0.03771571432023571,0.07543142864047142,0.49030428616306426,0.8674614293654214],\"y\":[\"pnr\",\"nao_binario\",\"homem_cis\",\"mulher_cis\"],\"type\":\"bar\"},{\"hoverinfo\":\"text\",\"hovertext\":[\"\\u003cb\\u003eTopic 1\\u003c\\u002fb\\u003e\\u003cbr\\u003eWords: Consumo de Peixes e Carnes Limitado\",\"\\u003cb\\u003eTopic 1\\u003c\\u002fb\\u003e\\u003cbr\\u003eWords: Dietas sem carne vermelha\"],\"marker\":{\"color\":\"#56B4E9\"},\"name\":\"1_Dieta Pescetariana e Redução de Carnes\",\"orientation\":\"h\",\"visible\":\"legendonly\",\"x\":[0.09757142403137058,0.99522852511998],\"y\":[\"homem_cis\",\"mulher_cis\"],\"type\":\"bar\"},{\"hoverinfo\":\"text\",\"hovertext\":[\"\\u003cb\\u003eTopic 2\\u003c\\u002fb\\u003e\\u003cbr\\u003eWords: Desafios financeiros para vegetarianismo\",\"\\u003cb\\u003eTopic 2\\u003c\\u002fb\\u003e\\u003cbr\\u003eWords: Desafios e Flexibilidade no Vegetarianismo\",\"\\u003cb\\u003eTopic 2\\u003c\\u002fb\\u003e\\u003cbr\\u003eWords: Transição para Dietas Baseadas em Plantas\"],\"marker\":{\"color\":\"#009E73\"},\"name\":\"2_Transição e Desafios do Vegetarianismo...\",\"orientation\":\"h\",\"visible\":\"legendonly\",\"x\":[0.026773977630083295,0.3480617091910828,0.9370892170529154],\"y\":[\"pnr\",\"homem_cis\",\"mulher_cis\"],\"type\":\"bar\"},{\"hoverinfo\":\"text\",\"hovertext\":[\"\\u003cb\\u003eTopic 3\\u003c\\u002fb\\u003e\\u003cbr\\u003eWords: Impacto Ambiental da Pecuária e Consumo\",\"\\u003cb\\u003eTopic 3\\u003c\\u002fb\\u003e\\u003cbr\\u003eWords: Redução do Consumo de Carne\",\"\\u003cb\\u003eTopic 3\\u003c\\u002fb\\u003e\\u003cbr\\u003eWords: Redução do Consumo de Carne\",\"\\u003cb\\u003eTopic 3\\u003c\\u002fb\\u003e\\u003cbr\\u003eWords: Redução do Consumo de Carne\"],\"marker\":{\"color\":\"#F0E442\"},\"name\":\"3_Redução do Consumo de Carne\",\"orientation\":\"h\",\"visible\":\"legendonly\",\"x\":[0.028784899900963678,0.00822425711456105,0.22205494209314838,0.9745744680754845],\"y\":[\"pnr\",\"nao_binario\",\"homem_cis\",\"mulher_cis\"],\"type\":\"bar\"},{\"hoverinfo\":\"text\",\"hovertext\":[\"\\u003cb\\u003eTopic 4\\u003c\\u002fb\\u003e\\u003cbr\\u003eWords: Dificuldades na Digestão de Carne\",\"\\u003cb\\u003eTopic 4\\u003c\\u002fb\\u003e\\u003cbr\\u003eWords: Aversão e Mal-estar com Carne\",\"\\u003cb\\u003eTopic 4\\u003c\\u002fb\\u003e\\u003cbr\\u003eWords: Mal-estar com carne vermelha\"],\"marker\":{\"color\":\"#D55E00\"},\"name\":\"4_Experiências negativas com carne verme...\",\"orientation\":\"h\",\"visible\":\"legendonly\",\"x\":[0.12549116102763172,0.3137279025690793,0.9411837077072378],\"y\":[\"pnr\",\"homem_cis\",\"mulher_cis\"],\"type\":\"bar\"},{\"hoverinfo\":\"text\",\"hovertext\":[\"\\u003cb\\u003eTopic 5\\u003c\\u002fb\\u003e\\u003cbr\\u003eWords: Consumo Reduzido de Carne Diária\",\"\\u003cb\\u003eTopic 5\\u003c\\u002fb\\u003e\\u003cbr\\u003eWords: Redução semanal do consumo de carne\",\"\\u003cb\\u003eTopic 5\\u003c\\u002fb\\u003e\\u003cbr\\u003eWords: Redução do Consumo de Carne\"],\"marker\":{\"color\":\"#0072B2\"},\"name\":\"5_Redução do Consumo de Carne Semanalmen...\",\"orientation\":\"h\",\"visible\":\"legendonly\",\"x\":[0.043183351708753044,0.10795837927188262,0.9932170893013201],\"y\":[\"pnr\",\"homem_cis\",\"mulher_cis\"],\"type\":\"bar\"},{\"hoverinfo\":\"text\",\"hovertext\":[\"\\u003cb\\u003eTopic 6\\u003c\\u002fb\\u003e\\u003cbr\\u003eWords: Consumo moderado de carne\",\"\\u003cb\\u003eTopic 6\\u003c\\u002fb\\u003e\\u003cbr\\u003eWords: Redução do Consumo de Carne\"],\"marker\":{\"color\":\"#CC79A7\"},\"name\":\"6_Preferências Alimentares e Consumo de ...\",\"orientation\":\"h\",\"visible\":\"legendonly\",\"x\":[0.13216372009101796,0.9912279006826347],\"y\":[\"homem_cis\",\"mulher_cis\"],\"type\":\"bar\"}],                        {\"template\":{\"data\":{\"barpolar\":[{\"marker\":{\"line\":{\"color\":\"white\",\"width\":0.5},\"pattern\":{\"fillmode\":\"overlay\",\"size\":10,\"solidity\":0.2}},\"type\":\"barpolar\"}],\"bar\":[{\"error_x\":{\"color\":\"rgb(36,36,36)\"},\"error_y\":{\"color\":\"rgb(36,36,36)\"},\"marker\":{\"line\":{\"color\":\"white\",\"width\":0.5},\"pattern\":{\"fillmode\":\"overlay\",\"size\":10,\"solidity\":0.2}},\"type\":\"bar\"}],\"carpet\":[{\"aaxis\":{\"endlinecolor\":\"rgb(36,36,36)\",\"gridcolor\":\"white\",\"linecolor\":\"white\",\"minorgridcolor\":\"white\",\"startlinecolor\":\"rgb(36,36,36)\"},\"baxis\":{\"endlinecolor\":\"rgb(36,36,36)\",\"gridcolor\":\"white\",\"linecolor\":\"white\",\"minorgridcolor\":\"white\",\"startlinecolor\":\"rgb(36,36,36)\"},\"type\":\"carpet\"}],\"choropleth\":[{\"colorbar\":{\"outlinewidth\":1,\"tickcolor\":\"rgb(36,36,36)\",\"ticks\":\"outside\"},\"type\":\"choropleth\"}],\"contourcarpet\":[{\"colorbar\":{\"outlinewidth\":1,\"tickcolor\":\"rgb(36,36,36)\",\"ticks\":\"outside\"},\"type\":\"contourcarpet\"}],\"contour\":[{\"colorbar\":{\"outlinewidth\":1,\"tickcolor\":\"rgb(36,36,36)\",\"ticks\":\"outside\"},\"colorscale\":[[0.0,\"#440154\"],[0.1111111111111111,\"#482878\"],[0.2222222222222222,\"#3e4989\"],[0.3333333333333333,\"#31688e\"],[0.4444444444444444,\"#26828e\"],[0.5555555555555556,\"#1f9e89\"],[0.6666666666666666,\"#35b779\"],[0.7777777777777778,\"#6ece58\"],[0.8888888888888888,\"#b5de2b\"],[1.0,\"#fde725\"]],\"type\":\"contour\"}],\"heatmapgl\":[{\"colorbar\":{\"outlinewidth\":1,\"tickcolor\":\"rgb(36,36,36)\",\"ticks\":\"outside\"},\"colorscale\":[[0.0,\"#440154\"],[0.1111111111111111,\"#482878\"],[0.2222222222222222,\"#3e4989\"],[0.3333333333333333,\"#31688e\"],[0.4444444444444444,\"#26828e\"],[0.5555555555555556,\"#1f9e89\"],[0.6666666666666666,\"#35b779\"],[0.7777777777777778,\"#6ece58\"],[0.8888888888888888,\"#b5de2b\"],[1.0,\"#fde725\"]],\"type\":\"heatmapgl\"}],\"heatmap\":[{\"colorbar\":{\"outlinewidth\":1,\"tickcolor\":\"rgb(36,36,36)\",\"ticks\":\"outside\"},\"colorscale\":[[0.0,\"#440154\"],[0.1111111111111111,\"#482878\"],[0.2222222222222222,\"#3e4989\"],[0.3333333333333333,\"#31688e\"],[0.4444444444444444,\"#26828e\"],[0.5555555555555556,\"#1f9e89\"],[0.6666666666666666,\"#35b779\"],[0.7777777777777778,\"#6ece58\"],[0.8888888888888888,\"#b5de2b\"],[1.0,\"#fde725\"]],\"type\":\"heatmap\"}],\"histogram2dcontour\":[{\"colorbar\":{\"outlinewidth\":1,\"tickcolor\":\"rgb(36,36,36)\",\"ticks\":\"outside\"},\"colorscale\":[[0.0,\"#440154\"],[0.1111111111111111,\"#482878\"],[0.2222222222222222,\"#3e4989\"],[0.3333333333333333,\"#31688e\"],[0.4444444444444444,\"#26828e\"],[0.5555555555555556,\"#1f9e89\"],[0.6666666666666666,\"#35b779\"],[0.7777777777777778,\"#6ece58\"],[0.8888888888888888,\"#b5de2b\"],[1.0,\"#fde725\"]],\"type\":\"histogram2dcontour\"}],\"histogram2d\":[{\"colorbar\":{\"outlinewidth\":1,\"tickcolor\":\"rgb(36,36,36)\",\"ticks\":\"outside\"},\"colorscale\":[[0.0,\"#440154\"],[0.1111111111111111,\"#482878\"],[0.2222222222222222,\"#3e4989\"],[0.3333333333333333,\"#31688e\"],[0.4444444444444444,\"#26828e\"],[0.5555555555555556,\"#1f9e89\"],[0.6666666666666666,\"#35b779\"],[0.7777777777777778,\"#6ece58\"],[0.8888888888888888,\"#b5de2b\"],[1.0,\"#fde725\"]],\"type\":\"histogram2d\"}],\"histogram\":[{\"marker\":{\"line\":{\"color\":\"white\",\"width\":0.6}},\"type\":\"histogram\"}],\"mesh3d\":[{\"colorbar\":{\"outlinewidth\":1,\"tickcolor\":\"rgb(36,36,36)\",\"ticks\":\"outside\"},\"type\":\"mesh3d\"}],\"parcoords\":[{\"line\":{\"colorbar\":{\"outlinewidth\":1,\"tickcolor\":\"rgb(36,36,36)\",\"ticks\":\"outside\"}},\"type\":\"parcoords\"}],\"pie\":[{\"automargin\":true,\"type\":\"pie\"}],\"scatter3d\":[{\"line\":{\"colorbar\":{\"outlinewidth\":1,\"tickcolor\":\"rgb(36,36,36)\",\"ticks\":\"outside\"}},\"marker\":{\"colorbar\":{\"outlinewidth\":1,\"tickcolor\":\"rgb(36,36,36)\",\"ticks\":\"outside\"}},\"type\":\"scatter3d\"}],\"scattercarpet\":[{\"marker\":{\"colorbar\":{\"outlinewidth\":1,\"tickcolor\":\"rgb(36,36,36)\",\"ticks\":\"outside\"}},\"type\":\"scattercarpet\"}],\"scattergeo\":[{\"marker\":{\"colorbar\":{\"outlinewidth\":1,\"tickcolor\":\"rgb(36,36,36)\",\"ticks\":\"outside\"}},\"type\":\"scattergeo\"}],\"scattergl\":[{\"marker\":{\"colorbar\":{\"outlinewidth\":1,\"tickcolor\":\"rgb(36,36,36)\",\"ticks\":\"outside\"}},\"type\":\"scattergl\"}],\"scattermapbox\":[{\"marker\":{\"colorbar\":{\"outlinewidth\":1,\"tickcolor\":\"rgb(36,36,36)\",\"ticks\":\"outside\"}},\"type\":\"scattermapbox\"}],\"scatterpolargl\":[{\"marker\":{\"colorbar\":{\"outlinewidth\":1,\"tickcolor\":\"rgb(36,36,36)\",\"ticks\":\"outside\"}},\"type\":\"scatterpolargl\"}],\"scatterpolar\":[{\"marker\":{\"colorbar\":{\"outlinewidth\":1,\"tickcolor\":\"rgb(36,36,36)\",\"ticks\":\"outside\"}},\"type\":\"scatterpolar\"}],\"scatter\":[{\"fillpattern\":{\"fillmode\":\"overlay\",\"size\":10,\"solidity\":0.2},\"type\":\"scatter\"}],\"scatterternary\":[{\"marker\":{\"colorbar\":{\"outlinewidth\":1,\"tickcolor\":\"rgb(36,36,36)\",\"ticks\":\"outside\"}},\"type\":\"scatterternary\"}],\"surface\":[{\"colorbar\":{\"outlinewidth\":1,\"tickcolor\":\"rgb(36,36,36)\",\"ticks\":\"outside\"},\"colorscale\":[[0.0,\"#440154\"],[0.1111111111111111,\"#482878\"],[0.2222222222222222,\"#3e4989\"],[0.3333333333333333,\"#31688e\"],[0.4444444444444444,\"#26828e\"],[0.5555555555555556,\"#1f9e89\"],[0.6666666666666666,\"#35b779\"],[0.7777777777777778,\"#6ece58\"],[0.8888888888888888,\"#b5de2b\"],[1.0,\"#fde725\"]],\"type\":\"surface\"}],\"table\":[{\"cells\":{\"fill\":{\"color\":\"rgb(237,237,237)\"},\"line\":{\"color\":\"white\"}},\"header\":{\"fill\":{\"color\":\"rgb(217,217,217)\"},\"line\":{\"color\":\"white\"}},\"type\":\"table\"}]},\"layout\":{\"annotationdefaults\":{\"arrowhead\":0,\"arrowwidth\":1},\"autotypenumbers\":\"strict\",\"coloraxis\":{\"colorbar\":{\"outlinewidth\":1,\"tickcolor\":\"rgb(36,36,36)\",\"ticks\":\"outside\"}},\"colorscale\":{\"diverging\":[[0.0,\"rgb(103,0,31)\"],[0.1,\"rgb(178,24,43)\"],[0.2,\"rgb(214,96,77)\"],[0.3,\"rgb(244,165,130)\"],[0.4,\"rgb(253,219,199)\"],[0.5,\"rgb(247,247,247)\"],[0.6,\"rgb(209,229,240)\"],[0.7,\"rgb(146,197,222)\"],[0.8,\"rgb(67,147,195)\"],[0.9,\"rgb(33,102,172)\"],[1.0,\"rgb(5,48,97)\"]],\"sequential\":[[0.0,\"#440154\"],[0.1111111111111111,\"#482878\"],[0.2222222222222222,\"#3e4989\"],[0.3333333333333333,\"#31688e\"],[0.4444444444444444,\"#26828e\"],[0.5555555555555556,\"#1f9e89\"],[0.6666666666666666,\"#35b779\"],[0.7777777777777778,\"#6ece58\"],[0.8888888888888888,\"#b5de2b\"],[1.0,\"#fde725\"]],\"sequentialminus\":[[0.0,\"#440154\"],[0.1111111111111111,\"#482878\"],[0.2222222222222222,\"#3e4989\"],[0.3333333333333333,\"#31688e\"],[0.4444444444444444,\"#26828e\"],[0.5555555555555556,\"#1f9e89\"],[0.6666666666666666,\"#35b779\"],[0.7777777777777778,\"#6ece58\"],[0.8888888888888888,\"#b5de2b\"],[1.0,\"#fde725\"]]},\"colorway\":[\"#1F77B4\",\"#FF7F0E\",\"#2CA02C\",\"#D62728\",\"#9467BD\",\"#8C564B\",\"#E377C2\",\"#7F7F7F\",\"#BCBD22\",\"#17BECF\"],\"font\":{\"color\":\"rgb(36,36,36)\"},\"geo\":{\"bgcolor\":\"white\",\"lakecolor\":\"white\",\"landcolor\":\"white\",\"showlakes\":true,\"showland\":true,\"subunitcolor\":\"white\"},\"hoverlabel\":{\"align\":\"left\"},\"hovermode\":\"closest\",\"mapbox\":{\"style\":\"light\"},\"paper_bgcolor\":\"white\",\"plot_bgcolor\":\"white\",\"polar\":{\"angularaxis\":{\"gridcolor\":\"rgb(232,232,232)\",\"linecolor\":\"rgb(36,36,36)\",\"showgrid\":false,\"showline\":true,\"ticks\":\"outside\"},\"bgcolor\":\"white\",\"radialaxis\":{\"gridcolor\":\"rgb(232,232,232)\",\"linecolor\":\"rgb(36,36,36)\",\"showgrid\":false,\"showline\":true,\"ticks\":\"outside\"}},\"scene\":{\"xaxis\":{\"backgroundcolor\":\"white\",\"gridcolor\":\"rgb(232,232,232)\",\"gridwidth\":2,\"linecolor\":\"rgb(36,36,36)\",\"showbackground\":true,\"showgrid\":false,\"showline\":true,\"ticks\":\"outside\",\"zeroline\":false,\"zerolinecolor\":\"rgb(36,36,36)\"},\"yaxis\":{\"backgroundcolor\":\"white\",\"gridcolor\":\"rgb(232,232,232)\",\"gridwidth\":2,\"linecolor\":\"rgb(36,36,36)\",\"showbackground\":true,\"showgrid\":false,\"showline\":true,\"ticks\":\"outside\",\"zeroline\":false,\"zerolinecolor\":\"rgb(36,36,36)\"},\"zaxis\":{\"backgroundcolor\":\"white\",\"gridcolor\":\"rgb(232,232,232)\",\"gridwidth\":2,\"linecolor\":\"rgb(36,36,36)\",\"showbackground\":true,\"showgrid\":false,\"showline\":true,\"ticks\":\"outside\",\"zeroline\":false,\"zerolinecolor\":\"rgb(36,36,36)\"}},\"shapedefaults\":{\"fillcolor\":\"black\",\"line\":{\"width\":0},\"opacity\":0.3},\"ternary\":{\"aaxis\":{\"gridcolor\":\"rgb(232,232,232)\",\"linecolor\":\"rgb(36,36,36)\",\"showgrid\":false,\"showline\":true,\"ticks\":\"outside\"},\"baxis\":{\"gridcolor\":\"rgb(232,232,232)\",\"linecolor\":\"rgb(36,36,36)\",\"showgrid\":false,\"showline\":true,\"ticks\":\"outside\"},\"bgcolor\":\"white\",\"caxis\":{\"gridcolor\":\"rgb(232,232,232)\",\"linecolor\":\"rgb(36,36,36)\",\"showgrid\":false,\"showline\":true,\"ticks\":\"outside\"}},\"title\":{\"x\":0.05},\"xaxis\":{\"automargin\":true,\"gridcolor\":\"rgb(232,232,232)\",\"linecolor\":\"rgb(36,36,36)\",\"showgrid\":false,\"showline\":true,\"ticks\":\"outside\",\"title\":{\"standoff\":15},\"zeroline\":false,\"zerolinecolor\":\"rgb(36,36,36)\"},\"yaxis\":{\"automargin\":true,\"gridcolor\":\"rgb(232,232,232)\",\"linecolor\":\"rgb(36,36,36)\",\"showgrid\":false,\"showline\":true,\"ticks\":\"outside\",\"title\":{\"standoff\":15},\"zeroline\":false,\"zerolinecolor\":\"rgb(36,36,36)\"}}},\"xaxis\":{\"showgrid\":true,\"title\":{\"text\":\"Normalized Frequency\"}},\"yaxis\":{\"showgrid\":true,\"title\":{\"text\":\"Class\"}},\"title\":{\"font\":{\"size\":22,\"color\":\"Black\"},\"text\":\"\\u003cb\\u003eTopics per Class\\u003c\\u002fb\\u003e\",\"y\":0.95,\"x\":0.4,\"xanchor\":\"center\",\"yanchor\":\"top\"},\"hoverlabel\":{\"font\":{\"size\":16,\"family\":\"Rockwell\"},\"bgcolor\":\"white\"},\"width\":1600,\"height\":900,\"legend\":{\"title\":{\"text\":\"\\u003cb\\u003eGlobal Topic Representation\"}}},                        {\"responsive\": true}                    ).then(function(){\n",
       "                            \n",
       "var gd = document.getElementById('1720c682-b424-43ca-a4ec-df81baf2ad84');\n",
       "var x = new MutationObserver(function (mutations, observer) {{\n",
       "        var display = window.getComputedStyle(gd).display;\n",
       "        if (!display || display === 'none') {{\n",
       "            console.log([gd, 'removed!']);\n",
       "            Plotly.purge(gd);\n",
       "            observer.disconnect();\n",
       "        }}\n",
       "}});\n",
       "\n",
       "// Listen for the removal of the full notebook cells\n",
       "var notebookContainer = gd.closest('#notebook-container');\n",
       "if (notebookContainer) {{\n",
       "    x.observe(notebookContainer, {childList: true});\n",
       "}}\n",
       "\n",
       "// Listen for the clearing of the current output cell\n",
       "var outputEl = gd.closest('.output');\n",
       "if (outputEl) {{\n",
       "    x.observe(outputEl, {childList: true});\n",
       "}}\n",
       "\n",
       "                        })                };                });            </script>        </div>"
      ]
     },
     "metadata": {},
     "output_type": "display_data"
    }
   ],
   "source": [
    "fig_topics_per_gender_reason = topic_model.visualize_topics_per_class(topics_per_gender_reason, normalize_frequency=True, top_n_topics=50, width=1600, height=900)\n",
    "fig_topics_per_gender_reason.show()"
   ]
  },
  {
   "cell_type": "code",
   "execution_count": 39,
   "metadata": {},
   "outputs": [
    {
     "data": {
      "application/vnd.plotly.v1+json": {
       "config": {
        "plotlyServerURL": "https://plot.ly"
       },
       "data": [
        {
         "hoverinfo": "text",
         "hovertext": [
          "<b>Topic 0</b><br>Words: Descoberta de Dietas Alimentares Alternativas",
          "<b>Topic 0</b><br>Words: Redução de Consumo de Carne",
          "<b>Topic 0</b><br>Words: Dietas e Consumo de Carne",
          "<b>Topic 0</b><br>Words: Redução do consumo de carne"
         ],
         "marker": {
          "color": "#E69F00"
         },
         "name": "0_Redução do Consumo de Carne",
         "orientation": "h",
         "type": "bar",
         "visible": true,
         "x": [
          0.2570117621268716,
          0.4283529368781193,
          0.8567058737562386,
          0.1285058810634358
         ],
         "y": [
          "doutorado",
          "mestrado",
          "superior",
          "medio"
         ]
        },
        {
         "hoverinfo": "text",
         "hovertext": [
          "<b>Topic 1</b><br>Words: Dieta sem carne vermelha",
          "<b>Topic 1</b><br>Words: Dietas com restrição de carne",
          "<b>Topic 1</b><br>Words: Dieta sem carne vermelha",
          "<b>Topic 1</b><br>Words: Dietas com restrição de carnes"
         ],
         "marker": {
          "color": "#56B4E9"
         },
         "name": "1_Dieta Pescetariana e Redução de Carnes",
         "orientation": "h",
         "type": "bar",
         "visible": "legendonly",
         "x": [
          0.2723523897009611,
          0.3328751429678414,
          0.8775799223697636,
          0.21182963643408087
         ],
         "y": [
          "doutorado",
          "mestrado",
          "superior",
          "medio"
         ]
        },
        {
         "hoverinfo": "text",
         "hovertext": [
          "<b>Topic 2</b><br>Words: Desafios de Dieta Vegetariana/Vegana",
          "<b>Topic 2</b><br>Words: Transição para Dietas Vegetarianas/Veganas",
          "<b>Topic 2</b><br>Words: Transição Para Dietas Baseadas em Plantas",
          "<b>Topic 2</b><br>Words: Redução do Consumo de Produtos Animais"
         ],
         "marker": {
          "color": "#009E73"
         },
         "name": "2_Transição e Desafios do Vegetarianismo...",
         "orientation": "h",
         "type": "bar",
         "visible": "legendonly",
         "x": [
          0.09983374884595826,
          0.43261291166581917,
          0.8652258233316383,
          0.23294541397390262
         ],
         "y": [
          "doutorado",
          "mestrado",
          "superior",
          "medio"
         ]
        },
        {
         "hoverinfo": "text",
         "hovertext": [
          "<b>Topic 3</b><br>Words: Redução do Consumo de Carne",
          "<b>Topic 3</b><br>Words: Redução do Consumo de Carne",
          "<b>Topic 3</b><br>Words: Redução do consumo de carne",
          "<b>Topic 3</b><br>Words: Redução do Consumo de Carne",
          "<b>Topic 3</b><br>Words: Redução do Consumo de Carne"
         ],
         "marker": {
          "color": "#F0E442"
         },
         "name": "3_Redução do Consumo de Carne",
         "orientation": "h",
         "type": "bar",
         "visible": "legendonly",
         "x": [
          0.2970038383421181,
          0.3530422984066687,
          0.005603846006455059,
          0.8741999770069891,
          0.15130384217428658
         ],
         "y": [
          "doutorado",
          "mestrado",
          "fundamental",
          "superior",
          "medio"
         ]
        },
        {
         "hoverinfo": "text",
         "hovertext": [
          "<b>Topic 4</b><br>Words: Preferências Alimentares e Carne",
          "<b>Topic 4</b><br>Words: Aversão a Carne e Má Digestão",
          "<b>Topic 4</b><br>Words: Mal-estar ao comer carne",
          "<b>Topic 4</b><br>Words: Malefícios de comer carne vermelha"
         ],
         "marker": {
          "color": "#D55E00"
         },
         "name": "4_Experiências negativas com carne verme...",
         "orientation": "h",
         "type": "bar",
         "visible": "legendonly",
         "x": [
          0.06401843996644799,
          0.19205531989934396,
          0.9602765994967198,
          0.19205531989934396
         ],
         "y": [
          "doutorado",
          "mestrado",
          "superior",
          "medio"
         ]
        },
        {
         "hoverinfo": "text",
         "hovertext": [
          "<b>Topic 5</b><br>Words: Redução do Consumo de Carne",
          "<b>Topic 5</b><br>Words: Redução do Consumo de Carne Semanal",
          "<b>Topic 5</b><br>Words: Consumo Reduzido de Carne Diária",
          "<b>Topic 5</b><br>Words: Redução do Consumo de Carne Diária",
          "<b>Topic 5</b><br>Words: Redução do Consumo de Carne Semanalmente"
         ],
         "marker": {
          "color": "#0072B2"
         },
         "name": "5_Redução do Consumo de Carne Semanalmen...",
         "orientation": "h",
         "type": "bar",
         "visible": "legendonly",
         "x": [
          0.3921076531897355,
          0.35646150289975953,
          0.035646150289975954,
          0.784215306379471,
          0.3208153526097836
         ],
         "y": [
          "doutorado",
          "mestrado",
          "fundamental",
          "superior",
          "medio"
         ]
        },
        {
         "hoverinfo": "text",
         "hovertext": [
          "<b>Topic 6</b><br>Words: Flexitarianismo e Consumo de Carne",
          "<b>Topic 6</b><br>Words: Dieta com pouca carne",
          "<b>Topic 6</b><br>Words: Alimentação Diversificada e Balanceada",
          "<b>Topic 6</b><br>Words: Dieta Flexível e Redução de Carne",
          "<b>Topic 6</b><br>Words: Benefícios e Desafios da Dieta Vegetariana"
         ],
         "marker": {
          "color": "#CC79A7"
         },
         "name": "6_Preferências Alimentares e Consumo de ...",
         "orientation": "h",
         "type": "bar",
         "visible": "legendonly",
         "x": [
          0.08137884587711594,
          0.16275769175423188,
          0.08137884587711594,
          0.9765461505253913,
          0.08137884587711594
         ],
         "y": [
          "doutorado",
          "mestrado",
          "fundamental",
          "superior",
          "medio"
         ]
        }
       ],
       "layout": {
        "height": 900,
        "hoverlabel": {
         "bgcolor": "white",
         "font": {
          "family": "Rockwell",
          "size": 16
         }
        },
        "legend": {
         "title": {
          "text": "<b>Global Topic Representation"
         }
        },
        "template": {
         "data": {
          "bar": [
           {
            "error_x": {
             "color": "rgb(36,36,36)"
            },
            "error_y": {
             "color": "rgb(36,36,36)"
            },
            "marker": {
             "line": {
              "color": "white",
              "width": 0.5
             },
             "pattern": {
              "fillmode": "overlay",
              "size": 10,
              "solidity": 0.2
             }
            },
            "type": "bar"
           }
          ],
          "barpolar": [
           {
            "marker": {
             "line": {
              "color": "white",
              "width": 0.5
             },
             "pattern": {
              "fillmode": "overlay",
              "size": 10,
              "solidity": 0.2
             }
            },
            "type": "barpolar"
           }
          ],
          "carpet": [
           {
            "aaxis": {
             "endlinecolor": "rgb(36,36,36)",
             "gridcolor": "white",
             "linecolor": "white",
             "minorgridcolor": "white",
             "startlinecolor": "rgb(36,36,36)"
            },
            "baxis": {
             "endlinecolor": "rgb(36,36,36)",
             "gridcolor": "white",
             "linecolor": "white",
             "minorgridcolor": "white",
             "startlinecolor": "rgb(36,36,36)"
            },
            "type": "carpet"
           }
          ],
          "choropleth": [
           {
            "colorbar": {
             "outlinewidth": 1,
             "tickcolor": "rgb(36,36,36)",
             "ticks": "outside"
            },
            "type": "choropleth"
           }
          ],
          "contour": [
           {
            "colorbar": {
             "outlinewidth": 1,
             "tickcolor": "rgb(36,36,36)",
             "ticks": "outside"
            },
            "colorscale": [
             [
              0,
              "#440154"
             ],
             [
              0.1111111111111111,
              "#482878"
             ],
             [
              0.2222222222222222,
              "#3e4989"
             ],
             [
              0.3333333333333333,
              "#31688e"
             ],
             [
              0.4444444444444444,
              "#26828e"
             ],
             [
              0.5555555555555556,
              "#1f9e89"
             ],
             [
              0.6666666666666666,
              "#35b779"
             ],
             [
              0.7777777777777778,
              "#6ece58"
             ],
             [
              0.8888888888888888,
              "#b5de2b"
             ],
             [
              1,
              "#fde725"
             ]
            ],
            "type": "contour"
           }
          ],
          "contourcarpet": [
           {
            "colorbar": {
             "outlinewidth": 1,
             "tickcolor": "rgb(36,36,36)",
             "ticks": "outside"
            },
            "type": "contourcarpet"
           }
          ],
          "heatmap": [
           {
            "colorbar": {
             "outlinewidth": 1,
             "tickcolor": "rgb(36,36,36)",
             "ticks": "outside"
            },
            "colorscale": [
             [
              0,
              "#440154"
             ],
             [
              0.1111111111111111,
              "#482878"
             ],
             [
              0.2222222222222222,
              "#3e4989"
             ],
             [
              0.3333333333333333,
              "#31688e"
             ],
             [
              0.4444444444444444,
              "#26828e"
             ],
             [
              0.5555555555555556,
              "#1f9e89"
             ],
             [
              0.6666666666666666,
              "#35b779"
             ],
             [
              0.7777777777777778,
              "#6ece58"
             ],
             [
              0.8888888888888888,
              "#b5de2b"
             ],
             [
              1,
              "#fde725"
             ]
            ],
            "type": "heatmap"
           }
          ],
          "heatmapgl": [
           {
            "colorbar": {
             "outlinewidth": 1,
             "tickcolor": "rgb(36,36,36)",
             "ticks": "outside"
            },
            "colorscale": [
             [
              0,
              "#440154"
             ],
             [
              0.1111111111111111,
              "#482878"
             ],
             [
              0.2222222222222222,
              "#3e4989"
             ],
             [
              0.3333333333333333,
              "#31688e"
             ],
             [
              0.4444444444444444,
              "#26828e"
             ],
             [
              0.5555555555555556,
              "#1f9e89"
             ],
             [
              0.6666666666666666,
              "#35b779"
             ],
             [
              0.7777777777777778,
              "#6ece58"
             ],
             [
              0.8888888888888888,
              "#b5de2b"
             ],
             [
              1,
              "#fde725"
             ]
            ],
            "type": "heatmapgl"
           }
          ],
          "histogram": [
           {
            "marker": {
             "line": {
              "color": "white",
              "width": 0.6
             }
            },
            "type": "histogram"
           }
          ],
          "histogram2d": [
           {
            "colorbar": {
             "outlinewidth": 1,
             "tickcolor": "rgb(36,36,36)",
             "ticks": "outside"
            },
            "colorscale": [
             [
              0,
              "#440154"
             ],
             [
              0.1111111111111111,
              "#482878"
             ],
             [
              0.2222222222222222,
              "#3e4989"
             ],
             [
              0.3333333333333333,
              "#31688e"
             ],
             [
              0.4444444444444444,
              "#26828e"
             ],
             [
              0.5555555555555556,
              "#1f9e89"
             ],
             [
              0.6666666666666666,
              "#35b779"
             ],
             [
              0.7777777777777778,
              "#6ece58"
             ],
             [
              0.8888888888888888,
              "#b5de2b"
             ],
             [
              1,
              "#fde725"
             ]
            ],
            "type": "histogram2d"
           }
          ],
          "histogram2dcontour": [
           {
            "colorbar": {
             "outlinewidth": 1,
             "tickcolor": "rgb(36,36,36)",
             "ticks": "outside"
            },
            "colorscale": [
             [
              0,
              "#440154"
             ],
             [
              0.1111111111111111,
              "#482878"
             ],
             [
              0.2222222222222222,
              "#3e4989"
             ],
             [
              0.3333333333333333,
              "#31688e"
             ],
             [
              0.4444444444444444,
              "#26828e"
             ],
             [
              0.5555555555555556,
              "#1f9e89"
             ],
             [
              0.6666666666666666,
              "#35b779"
             ],
             [
              0.7777777777777778,
              "#6ece58"
             ],
             [
              0.8888888888888888,
              "#b5de2b"
             ],
             [
              1,
              "#fde725"
             ]
            ],
            "type": "histogram2dcontour"
           }
          ],
          "mesh3d": [
           {
            "colorbar": {
             "outlinewidth": 1,
             "tickcolor": "rgb(36,36,36)",
             "ticks": "outside"
            },
            "type": "mesh3d"
           }
          ],
          "parcoords": [
           {
            "line": {
             "colorbar": {
              "outlinewidth": 1,
              "tickcolor": "rgb(36,36,36)",
              "ticks": "outside"
             }
            },
            "type": "parcoords"
           }
          ],
          "pie": [
           {
            "automargin": true,
            "type": "pie"
           }
          ],
          "scatter": [
           {
            "fillpattern": {
             "fillmode": "overlay",
             "size": 10,
             "solidity": 0.2
            },
            "type": "scatter"
           }
          ],
          "scatter3d": [
           {
            "line": {
             "colorbar": {
              "outlinewidth": 1,
              "tickcolor": "rgb(36,36,36)",
              "ticks": "outside"
             }
            },
            "marker": {
             "colorbar": {
              "outlinewidth": 1,
              "tickcolor": "rgb(36,36,36)",
              "ticks": "outside"
             }
            },
            "type": "scatter3d"
           }
          ],
          "scattercarpet": [
           {
            "marker": {
             "colorbar": {
              "outlinewidth": 1,
              "tickcolor": "rgb(36,36,36)",
              "ticks": "outside"
             }
            },
            "type": "scattercarpet"
           }
          ],
          "scattergeo": [
           {
            "marker": {
             "colorbar": {
              "outlinewidth": 1,
              "tickcolor": "rgb(36,36,36)",
              "ticks": "outside"
             }
            },
            "type": "scattergeo"
           }
          ],
          "scattergl": [
           {
            "marker": {
             "colorbar": {
              "outlinewidth": 1,
              "tickcolor": "rgb(36,36,36)",
              "ticks": "outside"
             }
            },
            "type": "scattergl"
           }
          ],
          "scattermapbox": [
           {
            "marker": {
             "colorbar": {
              "outlinewidth": 1,
              "tickcolor": "rgb(36,36,36)",
              "ticks": "outside"
             }
            },
            "type": "scattermapbox"
           }
          ],
          "scatterpolar": [
           {
            "marker": {
             "colorbar": {
              "outlinewidth": 1,
              "tickcolor": "rgb(36,36,36)",
              "ticks": "outside"
             }
            },
            "type": "scatterpolar"
           }
          ],
          "scatterpolargl": [
           {
            "marker": {
             "colorbar": {
              "outlinewidth": 1,
              "tickcolor": "rgb(36,36,36)",
              "ticks": "outside"
             }
            },
            "type": "scatterpolargl"
           }
          ],
          "scatterternary": [
           {
            "marker": {
             "colorbar": {
              "outlinewidth": 1,
              "tickcolor": "rgb(36,36,36)",
              "ticks": "outside"
             }
            },
            "type": "scatterternary"
           }
          ],
          "surface": [
           {
            "colorbar": {
             "outlinewidth": 1,
             "tickcolor": "rgb(36,36,36)",
             "ticks": "outside"
            },
            "colorscale": [
             [
              0,
              "#440154"
             ],
             [
              0.1111111111111111,
              "#482878"
             ],
             [
              0.2222222222222222,
              "#3e4989"
             ],
             [
              0.3333333333333333,
              "#31688e"
             ],
             [
              0.4444444444444444,
              "#26828e"
             ],
             [
              0.5555555555555556,
              "#1f9e89"
             ],
             [
              0.6666666666666666,
              "#35b779"
             ],
             [
              0.7777777777777778,
              "#6ece58"
             ],
             [
              0.8888888888888888,
              "#b5de2b"
             ],
             [
              1,
              "#fde725"
             ]
            ],
            "type": "surface"
           }
          ],
          "table": [
           {
            "cells": {
             "fill": {
              "color": "rgb(237,237,237)"
             },
             "line": {
              "color": "white"
             }
            },
            "header": {
             "fill": {
              "color": "rgb(217,217,217)"
             },
             "line": {
              "color": "white"
             }
            },
            "type": "table"
           }
          ]
         },
         "layout": {
          "annotationdefaults": {
           "arrowhead": 0,
           "arrowwidth": 1
          },
          "autotypenumbers": "strict",
          "coloraxis": {
           "colorbar": {
            "outlinewidth": 1,
            "tickcolor": "rgb(36,36,36)",
            "ticks": "outside"
           }
          },
          "colorscale": {
           "diverging": [
            [
             0,
             "rgb(103,0,31)"
            ],
            [
             0.1,
             "rgb(178,24,43)"
            ],
            [
             0.2,
             "rgb(214,96,77)"
            ],
            [
             0.3,
             "rgb(244,165,130)"
            ],
            [
             0.4,
             "rgb(253,219,199)"
            ],
            [
             0.5,
             "rgb(247,247,247)"
            ],
            [
             0.6,
             "rgb(209,229,240)"
            ],
            [
             0.7,
             "rgb(146,197,222)"
            ],
            [
             0.8,
             "rgb(67,147,195)"
            ],
            [
             0.9,
             "rgb(33,102,172)"
            ],
            [
             1,
             "rgb(5,48,97)"
            ]
           ],
           "sequential": [
            [
             0,
             "#440154"
            ],
            [
             0.1111111111111111,
             "#482878"
            ],
            [
             0.2222222222222222,
             "#3e4989"
            ],
            [
             0.3333333333333333,
             "#31688e"
            ],
            [
             0.4444444444444444,
             "#26828e"
            ],
            [
             0.5555555555555556,
             "#1f9e89"
            ],
            [
             0.6666666666666666,
             "#35b779"
            ],
            [
             0.7777777777777778,
             "#6ece58"
            ],
            [
             0.8888888888888888,
             "#b5de2b"
            ],
            [
             1,
             "#fde725"
            ]
           ],
           "sequentialminus": [
            [
             0,
             "#440154"
            ],
            [
             0.1111111111111111,
             "#482878"
            ],
            [
             0.2222222222222222,
             "#3e4989"
            ],
            [
             0.3333333333333333,
             "#31688e"
            ],
            [
             0.4444444444444444,
             "#26828e"
            ],
            [
             0.5555555555555556,
             "#1f9e89"
            ],
            [
             0.6666666666666666,
             "#35b779"
            ],
            [
             0.7777777777777778,
             "#6ece58"
            ],
            [
             0.8888888888888888,
             "#b5de2b"
            ],
            [
             1,
             "#fde725"
            ]
           ]
          },
          "colorway": [
           "#1F77B4",
           "#FF7F0E",
           "#2CA02C",
           "#D62728",
           "#9467BD",
           "#8C564B",
           "#E377C2",
           "#7F7F7F",
           "#BCBD22",
           "#17BECF"
          ],
          "font": {
           "color": "rgb(36,36,36)"
          },
          "geo": {
           "bgcolor": "white",
           "lakecolor": "white",
           "landcolor": "white",
           "showlakes": true,
           "showland": true,
           "subunitcolor": "white"
          },
          "hoverlabel": {
           "align": "left"
          },
          "hovermode": "closest",
          "mapbox": {
           "style": "light"
          },
          "paper_bgcolor": "white",
          "plot_bgcolor": "white",
          "polar": {
           "angularaxis": {
            "gridcolor": "rgb(232,232,232)",
            "linecolor": "rgb(36,36,36)",
            "showgrid": false,
            "showline": true,
            "ticks": "outside"
           },
           "bgcolor": "white",
           "radialaxis": {
            "gridcolor": "rgb(232,232,232)",
            "linecolor": "rgb(36,36,36)",
            "showgrid": false,
            "showline": true,
            "ticks": "outside"
           }
          },
          "scene": {
           "xaxis": {
            "backgroundcolor": "white",
            "gridcolor": "rgb(232,232,232)",
            "gridwidth": 2,
            "linecolor": "rgb(36,36,36)",
            "showbackground": true,
            "showgrid": false,
            "showline": true,
            "ticks": "outside",
            "zeroline": false,
            "zerolinecolor": "rgb(36,36,36)"
           },
           "yaxis": {
            "backgroundcolor": "white",
            "gridcolor": "rgb(232,232,232)",
            "gridwidth": 2,
            "linecolor": "rgb(36,36,36)",
            "showbackground": true,
            "showgrid": false,
            "showline": true,
            "ticks": "outside",
            "zeroline": false,
            "zerolinecolor": "rgb(36,36,36)"
           },
           "zaxis": {
            "backgroundcolor": "white",
            "gridcolor": "rgb(232,232,232)",
            "gridwidth": 2,
            "linecolor": "rgb(36,36,36)",
            "showbackground": true,
            "showgrid": false,
            "showline": true,
            "ticks": "outside",
            "zeroline": false,
            "zerolinecolor": "rgb(36,36,36)"
           }
          },
          "shapedefaults": {
           "fillcolor": "black",
           "line": {
            "width": 0
           },
           "opacity": 0.3
          },
          "ternary": {
           "aaxis": {
            "gridcolor": "rgb(232,232,232)",
            "linecolor": "rgb(36,36,36)",
            "showgrid": false,
            "showline": true,
            "ticks": "outside"
           },
           "baxis": {
            "gridcolor": "rgb(232,232,232)",
            "linecolor": "rgb(36,36,36)",
            "showgrid": false,
            "showline": true,
            "ticks": "outside"
           },
           "bgcolor": "white",
           "caxis": {
            "gridcolor": "rgb(232,232,232)",
            "linecolor": "rgb(36,36,36)",
            "showgrid": false,
            "showline": true,
            "ticks": "outside"
           }
          },
          "title": {
           "x": 0.05
          },
          "xaxis": {
           "automargin": true,
           "gridcolor": "rgb(232,232,232)",
           "linecolor": "rgb(36,36,36)",
           "showgrid": false,
           "showline": true,
           "ticks": "outside",
           "title": {
            "standoff": 15
           },
           "zeroline": false,
           "zerolinecolor": "rgb(36,36,36)"
          },
          "yaxis": {
           "automargin": true,
           "gridcolor": "rgb(232,232,232)",
           "linecolor": "rgb(36,36,36)",
           "showgrid": false,
           "showline": true,
           "ticks": "outside",
           "title": {
            "standoff": 15
           },
           "zeroline": false,
           "zerolinecolor": "rgb(36,36,36)"
          }
         }
        },
        "title": {
         "font": {
          "color": "Black",
          "size": 22
         },
         "text": "<b>Topics per Class</b>",
         "x": 0.4,
         "xanchor": "center",
         "y": 0.95,
         "yanchor": "top"
        },
        "width": 1600,
        "xaxis": {
         "showgrid": true,
         "title": {
          "text": "Normalized Frequency"
         }
        },
        "yaxis": {
         "showgrid": true,
         "title": {
          "text": "Class"
         }
        }
       }
      },
      "text/html": [
       "<div>                            <div id=\"e66e14d4-eb64-4333-b620-0da1cf63349e\" class=\"plotly-graph-div\" style=\"height:900px; width:1600px;\"></div>            <script type=\"text/javascript\">                require([\"plotly\"], function(Plotly) {                    window.PLOTLYENV=window.PLOTLYENV || {};                                    if (document.getElementById(\"e66e14d4-eb64-4333-b620-0da1cf63349e\")) {                    Plotly.newPlot(                        \"e66e14d4-eb64-4333-b620-0da1cf63349e\",                        [{\"hoverinfo\":\"text\",\"hovertext\":[\"\\u003cb\\u003eTopic 0\\u003c\\u002fb\\u003e\\u003cbr\\u003eWords: Descoberta de Dietas Alimentares Alternativas\",\"\\u003cb\\u003eTopic 0\\u003c\\u002fb\\u003e\\u003cbr\\u003eWords: Redução de Consumo de Carne\",\"\\u003cb\\u003eTopic 0\\u003c\\u002fb\\u003e\\u003cbr\\u003eWords: Dietas e Consumo de Carne\",\"\\u003cb\\u003eTopic 0\\u003c\\u002fb\\u003e\\u003cbr\\u003eWords: Redução do consumo de carne\"],\"marker\":{\"color\":\"#E69F00\"},\"name\":\"0_Redução do Consumo de Carne\",\"orientation\":\"h\",\"visible\":true,\"x\":[0.2570117621268716,0.4283529368781193,0.8567058737562386,0.1285058810634358],\"y\":[\"doutorado\",\"mestrado\",\"superior\",\"medio\"],\"type\":\"bar\"},{\"hoverinfo\":\"text\",\"hovertext\":[\"\\u003cb\\u003eTopic 1\\u003c\\u002fb\\u003e\\u003cbr\\u003eWords: Dieta sem carne vermelha\",\"\\u003cb\\u003eTopic 1\\u003c\\u002fb\\u003e\\u003cbr\\u003eWords: Dietas com restrição de carne\",\"\\u003cb\\u003eTopic 1\\u003c\\u002fb\\u003e\\u003cbr\\u003eWords: Dieta sem carne vermelha\",\"\\u003cb\\u003eTopic 1\\u003c\\u002fb\\u003e\\u003cbr\\u003eWords: Dietas com restrição de carnes\"],\"marker\":{\"color\":\"#56B4E9\"},\"name\":\"1_Dieta Pescetariana e Redução de Carnes\",\"orientation\":\"h\",\"visible\":\"legendonly\",\"x\":[0.2723523897009611,0.3328751429678414,0.8775799223697636,0.21182963643408087],\"y\":[\"doutorado\",\"mestrado\",\"superior\",\"medio\"],\"type\":\"bar\"},{\"hoverinfo\":\"text\",\"hovertext\":[\"\\u003cb\\u003eTopic 2\\u003c\\u002fb\\u003e\\u003cbr\\u003eWords: Desafios de Dieta Vegetariana\\u002fVegana\",\"\\u003cb\\u003eTopic 2\\u003c\\u002fb\\u003e\\u003cbr\\u003eWords: Transição para Dietas Vegetarianas\\u002fVeganas\",\"\\u003cb\\u003eTopic 2\\u003c\\u002fb\\u003e\\u003cbr\\u003eWords: Transição Para Dietas Baseadas em Plantas\",\"\\u003cb\\u003eTopic 2\\u003c\\u002fb\\u003e\\u003cbr\\u003eWords: Redução do Consumo de Produtos Animais\"],\"marker\":{\"color\":\"#009E73\"},\"name\":\"2_Transição e Desafios do Vegetarianismo...\",\"orientation\":\"h\",\"visible\":\"legendonly\",\"x\":[0.09983374884595826,0.43261291166581917,0.8652258233316383,0.23294541397390262],\"y\":[\"doutorado\",\"mestrado\",\"superior\",\"medio\"],\"type\":\"bar\"},{\"hoverinfo\":\"text\",\"hovertext\":[\"\\u003cb\\u003eTopic 3\\u003c\\u002fb\\u003e\\u003cbr\\u003eWords: Redução do Consumo de Carne\",\"\\u003cb\\u003eTopic 3\\u003c\\u002fb\\u003e\\u003cbr\\u003eWords: Redução do Consumo de Carne\",\"\\u003cb\\u003eTopic 3\\u003c\\u002fb\\u003e\\u003cbr\\u003eWords: Redução do consumo de carne\",\"\\u003cb\\u003eTopic 3\\u003c\\u002fb\\u003e\\u003cbr\\u003eWords: Redução do Consumo de Carne\",\"\\u003cb\\u003eTopic 3\\u003c\\u002fb\\u003e\\u003cbr\\u003eWords: Redução do Consumo de Carne\"],\"marker\":{\"color\":\"#F0E442\"},\"name\":\"3_Redução do Consumo de Carne\",\"orientation\":\"h\",\"visible\":\"legendonly\",\"x\":[0.2970038383421181,0.3530422984066687,0.005603846006455059,0.8741999770069891,0.15130384217428658],\"y\":[\"doutorado\",\"mestrado\",\"fundamental\",\"superior\",\"medio\"],\"type\":\"bar\"},{\"hoverinfo\":\"text\",\"hovertext\":[\"\\u003cb\\u003eTopic 4\\u003c\\u002fb\\u003e\\u003cbr\\u003eWords: Preferências Alimentares e Carne\",\"\\u003cb\\u003eTopic 4\\u003c\\u002fb\\u003e\\u003cbr\\u003eWords: Aversão a Carne e Má Digestão\",\"\\u003cb\\u003eTopic 4\\u003c\\u002fb\\u003e\\u003cbr\\u003eWords: Mal-estar ao comer carne\",\"\\u003cb\\u003eTopic 4\\u003c\\u002fb\\u003e\\u003cbr\\u003eWords: Malefícios de comer carne vermelha\"],\"marker\":{\"color\":\"#D55E00\"},\"name\":\"4_Experiências negativas com carne verme...\",\"orientation\":\"h\",\"visible\":\"legendonly\",\"x\":[0.06401843996644799,0.19205531989934396,0.9602765994967198,0.19205531989934396],\"y\":[\"doutorado\",\"mestrado\",\"superior\",\"medio\"],\"type\":\"bar\"},{\"hoverinfo\":\"text\",\"hovertext\":[\"\\u003cb\\u003eTopic 5\\u003c\\u002fb\\u003e\\u003cbr\\u003eWords: Redução do Consumo de Carne\",\"\\u003cb\\u003eTopic 5\\u003c\\u002fb\\u003e\\u003cbr\\u003eWords: Redução do Consumo de Carne Semanal\",\"\\u003cb\\u003eTopic 5\\u003c\\u002fb\\u003e\\u003cbr\\u003eWords: Consumo Reduzido de Carne Diária\",\"\\u003cb\\u003eTopic 5\\u003c\\u002fb\\u003e\\u003cbr\\u003eWords: Redução do Consumo de Carne Diária\",\"\\u003cb\\u003eTopic 5\\u003c\\u002fb\\u003e\\u003cbr\\u003eWords: Redução do Consumo de Carne Semanalmente\"],\"marker\":{\"color\":\"#0072B2\"},\"name\":\"5_Redução do Consumo de Carne Semanalmen...\",\"orientation\":\"h\",\"visible\":\"legendonly\",\"x\":[0.3921076531897355,0.35646150289975953,0.035646150289975954,0.784215306379471,0.3208153526097836],\"y\":[\"doutorado\",\"mestrado\",\"fundamental\",\"superior\",\"medio\"],\"type\":\"bar\"},{\"hoverinfo\":\"text\",\"hovertext\":[\"\\u003cb\\u003eTopic 6\\u003c\\u002fb\\u003e\\u003cbr\\u003eWords: Flexitarianismo e Consumo de Carne\",\"\\u003cb\\u003eTopic 6\\u003c\\u002fb\\u003e\\u003cbr\\u003eWords: Dieta com pouca carne\",\"\\u003cb\\u003eTopic 6\\u003c\\u002fb\\u003e\\u003cbr\\u003eWords: Alimentação Diversificada e Balanceada\",\"\\u003cb\\u003eTopic 6\\u003c\\u002fb\\u003e\\u003cbr\\u003eWords: Dieta Flexível e Redução de Carne\",\"\\u003cb\\u003eTopic 6\\u003c\\u002fb\\u003e\\u003cbr\\u003eWords: Benefícios e Desafios da Dieta Vegetariana\"],\"marker\":{\"color\":\"#CC79A7\"},\"name\":\"6_Preferências Alimentares e Consumo de ...\",\"orientation\":\"h\",\"visible\":\"legendonly\",\"x\":[0.08137884587711594,0.16275769175423188,0.08137884587711594,0.9765461505253913,0.08137884587711594],\"y\":[\"doutorado\",\"mestrado\",\"fundamental\",\"superior\",\"medio\"],\"type\":\"bar\"}],                        {\"template\":{\"data\":{\"barpolar\":[{\"marker\":{\"line\":{\"color\":\"white\",\"width\":0.5},\"pattern\":{\"fillmode\":\"overlay\",\"size\":10,\"solidity\":0.2}},\"type\":\"barpolar\"}],\"bar\":[{\"error_x\":{\"color\":\"rgb(36,36,36)\"},\"error_y\":{\"color\":\"rgb(36,36,36)\"},\"marker\":{\"line\":{\"color\":\"white\",\"width\":0.5},\"pattern\":{\"fillmode\":\"overlay\",\"size\":10,\"solidity\":0.2}},\"type\":\"bar\"}],\"carpet\":[{\"aaxis\":{\"endlinecolor\":\"rgb(36,36,36)\",\"gridcolor\":\"white\",\"linecolor\":\"white\",\"minorgridcolor\":\"white\",\"startlinecolor\":\"rgb(36,36,36)\"},\"baxis\":{\"endlinecolor\":\"rgb(36,36,36)\",\"gridcolor\":\"white\",\"linecolor\":\"white\",\"minorgridcolor\":\"white\",\"startlinecolor\":\"rgb(36,36,36)\"},\"type\":\"carpet\"}],\"choropleth\":[{\"colorbar\":{\"outlinewidth\":1,\"tickcolor\":\"rgb(36,36,36)\",\"ticks\":\"outside\"},\"type\":\"choropleth\"}],\"contourcarpet\":[{\"colorbar\":{\"outlinewidth\":1,\"tickcolor\":\"rgb(36,36,36)\",\"ticks\":\"outside\"},\"type\":\"contourcarpet\"}],\"contour\":[{\"colorbar\":{\"outlinewidth\":1,\"tickcolor\":\"rgb(36,36,36)\",\"ticks\":\"outside\"},\"colorscale\":[[0.0,\"#440154\"],[0.1111111111111111,\"#482878\"],[0.2222222222222222,\"#3e4989\"],[0.3333333333333333,\"#31688e\"],[0.4444444444444444,\"#26828e\"],[0.5555555555555556,\"#1f9e89\"],[0.6666666666666666,\"#35b779\"],[0.7777777777777778,\"#6ece58\"],[0.8888888888888888,\"#b5de2b\"],[1.0,\"#fde725\"]],\"type\":\"contour\"}],\"heatmapgl\":[{\"colorbar\":{\"outlinewidth\":1,\"tickcolor\":\"rgb(36,36,36)\",\"ticks\":\"outside\"},\"colorscale\":[[0.0,\"#440154\"],[0.1111111111111111,\"#482878\"],[0.2222222222222222,\"#3e4989\"],[0.3333333333333333,\"#31688e\"],[0.4444444444444444,\"#26828e\"],[0.5555555555555556,\"#1f9e89\"],[0.6666666666666666,\"#35b779\"],[0.7777777777777778,\"#6ece58\"],[0.8888888888888888,\"#b5de2b\"],[1.0,\"#fde725\"]],\"type\":\"heatmapgl\"}],\"heatmap\":[{\"colorbar\":{\"outlinewidth\":1,\"tickcolor\":\"rgb(36,36,36)\",\"ticks\":\"outside\"},\"colorscale\":[[0.0,\"#440154\"],[0.1111111111111111,\"#482878\"],[0.2222222222222222,\"#3e4989\"],[0.3333333333333333,\"#31688e\"],[0.4444444444444444,\"#26828e\"],[0.5555555555555556,\"#1f9e89\"],[0.6666666666666666,\"#35b779\"],[0.7777777777777778,\"#6ece58\"],[0.8888888888888888,\"#b5de2b\"],[1.0,\"#fde725\"]],\"type\":\"heatmap\"}],\"histogram2dcontour\":[{\"colorbar\":{\"outlinewidth\":1,\"tickcolor\":\"rgb(36,36,36)\",\"ticks\":\"outside\"},\"colorscale\":[[0.0,\"#440154\"],[0.1111111111111111,\"#482878\"],[0.2222222222222222,\"#3e4989\"],[0.3333333333333333,\"#31688e\"],[0.4444444444444444,\"#26828e\"],[0.5555555555555556,\"#1f9e89\"],[0.6666666666666666,\"#35b779\"],[0.7777777777777778,\"#6ece58\"],[0.8888888888888888,\"#b5de2b\"],[1.0,\"#fde725\"]],\"type\":\"histogram2dcontour\"}],\"histogram2d\":[{\"colorbar\":{\"outlinewidth\":1,\"tickcolor\":\"rgb(36,36,36)\",\"ticks\":\"outside\"},\"colorscale\":[[0.0,\"#440154\"],[0.1111111111111111,\"#482878\"],[0.2222222222222222,\"#3e4989\"],[0.3333333333333333,\"#31688e\"],[0.4444444444444444,\"#26828e\"],[0.5555555555555556,\"#1f9e89\"],[0.6666666666666666,\"#35b779\"],[0.7777777777777778,\"#6ece58\"],[0.8888888888888888,\"#b5de2b\"],[1.0,\"#fde725\"]],\"type\":\"histogram2d\"}],\"histogram\":[{\"marker\":{\"line\":{\"color\":\"white\",\"width\":0.6}},\"type\":\"histogram\"}],\"mesh3d\":[{\"colorbar\":{\"outlinewidth\":1,\"tickcolor\":\"rgb(36,36,36)\",\"ticks\":\"outside\"},\"type\":\"mesh3d\"}],\"parcoords\":[{\"line\":{\"colorbar\":{\"outlinewidth\":1,\"tickcolor\":\"rgb(36,36,36)\",\"ticks\":\"outside\"}},\"type\":\"parcoords\"}],\"pie\":[{\"automargin\":true,\"type\":\"pie\"}],\"scatter3d\":[{\"line\":{\"colorbar\":{\"outlinewidth\":1,\"tickcolor\":\"rgb(36,36,36)\",\"ticks\":\"outside\"}},\"marker\":{\"colorbar\":{\"outlinewidth\":1,\"tickcolor\":\"rgb(36,36,36)\",\"ticks\":\"outside\"}},\"type\":\"scatter3d\"}],\"scattercarpet\":[{\"marker\":{\"colorbar\":{\"outlinewidth\":1,\"tickcolor\":\"rgb(36,36,36)\",\"ticks\":\"outside\"}},\"type\":\"scattercarpet\"}],\"scattergeo\":[{\"marker\":{\"colorbar\":{\"outlinewidth\":1,\"tickcolor\":\"rgb(36,36,36)\",\"ticks\":\"outside\"}},\"type\":\"scattergeo\"}],\"scattergl\":[{\"marker\":{\"colorbar\":{\"outlinewidth\":1,\"tickcolor\":\"rgb(36,36,36)\",\"ticks\":\"outside\"}},\"type\":\"scattergl\"}],\"scattermapbox\":[{\"marker\":{\"colorbar\":{\"outlinewidth\":1,\"tickcolor\":\"rgb(36,36,36)\",\"ticks\":\"outside\"}},\"type\":\"scattermapbox\"}],\"scatterpolargl\":[{\"marker\":{\"colorbar\":{\"outlinewidth\":1,\"tickcolor\":\"rgb(36,36,36)\",\"ticks\":\"outside\"}},\"type\":\"scatterpolargl\"}],\"scatterpolar\":[{\"marker\":{\"colorbar\":{\"outlinewidth\":1,\"tickcolor\":\"rgb(36,36,36)\",\"ticks\":\"outside\"}},\"type\":\"scatterpolar\"}],\"scatter\":[{\"fillpattern\":{\"fillmode\":\"overlay\",\"size\":10,\"solidity\":0.2},\"type\":\"scatter\"}],\"scatterternary\":[{\"marker\":{\"colorbar\":{\"outlinewidth\":1,\"tickcolor\":\"rgb(36,36,36)\",\"ticks\":\"outside\"}},\"type\":\"scatterternary\"}],\"surface\":[{\"colorbar\":{\"outlinewidth\":1,\"tickcolor\":\"rgb(36,36,36)\",\"ticks\":\"outside\"},\"colorscale\":[[0.0,\"#440154\"],[0.1111111111111111,\"#482878\"],[0.2222222222222222,\"#3e4989\"],[0.3333333333333333,\"#31688e\"],[0.4444444444444444,\"#26828e\"],[0.5555555555555556,\"#1f9e89\"],[0.6666666666666666,\"#35b779\"],[0.7777777777777778,\"#6ece58\"],[0.8888888888888888,\"#b5de2b\"],[1.0,\"#fde725\"]],\"type\":\"surface\"}],\"table\":[{\"cells\":{\"fill\":{\"color\":\"rgb(237,237,237)\"},\"line\":{\"color\":\"white\"}},\"header\":{\"fill\":{\"color\":\"rgb(217,217,217)\"},\"line\":{\"color\":\"white\"}},\"type\":\"table\"}]},\"layout\":{\"annotationdefaults\":{\"arrowhead\":0,\"arrowwidth\":1},\"autotypenumbers\":\"strict\",\"coloraxis\":{\"colorbar\":{\"outlinewidth\":1,\"tickcolor\":\"rgb(36,36,36)\",\"ticks\":\"outside\"}},\"colorscale\":{\"diverging\":[[0.0,\"rgb(103,0,31)\"],[0.1,\"rgb(178,24,43)\"],[0.2,\"rgb(214,96,77)\"],[0.3,\"rgb(244,165,130)\"],[0.4,\"rgb(253,219,199)\"],[0.5,\"rgb(247,247,247)\"],[0.6,\"rgb(209,229,240)\"],[0.7,\"rgb(146,197,222)\"],[0.8,\"rgb(67,147,195)\"],[0.9,\"rgb(33,102,172)\"],[1.0,\"rgb(5,48,97)\"]],\"sequential\":[[0.0,\"#440154\"],[0.1111111111111111,\"#482878\"],[0.2222222222222222,\"#3e4989\"],[0.3333333333333333,\"#31688e\"],[0.4444444444444444,\"#26828e\"],[0.5555555555555556,\"#1f9e89\"],[0.6666666666666666,\"#35b779\"],[0.7777777777777778,\"#6ece58\"],[0.8888888888888888,\"#b5de2b\"],[1.0,\"#fde725\"]],\"sequentialminus\":[[0.0,\"#440154\"],[0.1111111111111111,\"#482878\"],[0.2222222222222222,\"#3e4989\"],[0.3333333333333333,\"#31688e\"],[0.4444444444444444,\"#26828e\"],[0.5555555555555556,\"#1f9e89\"],[0.6666666666666666,\"#35b779\"],[0.7777777777777778,\"#6ece58\"],[0.8888888888888888,\"#b5de2b\"],[1.0,\"#fde725\"]]},\"colorway\":[\"#1F77B4\",\"#FF7F0E\",\"#2CA02C\",\"#D62728\",\"#9467BD\",\"#8C564B\",\"#E377C2\",\"#7F7F7F\",\"#BCBD22\",\"#17BECF\"],\"font\":{\"color\":\"rgb(36,36,36)\"},\"geo\":{\"bgcolor\":\"white\",\"lakecolor\":\"white\",\"landcolor\":\"white\",\"showlakes\":true,\"showland\":true,\"subunitcolor\":\"white\"},\"hoverlabel\":{\"align\":\"left\"},\"hovermode\":\"closest\",\"mapbox\":{\"style\":\"light\"},\"paper_bgcolor\":\"white\",\"plot_bgcolor\":\"white\",\"polar\":{\"angularaxis\":{\"gridcolor\":\"rgb(232,232,232)\",\"linecolor\":\"rgb(36,36,36)\",\"showgrid\":false,\"showline\":true,\"ticks\":\"outside\"},\"bgcolor\":\"white\",\"radialaxis\":{\"gridcolor\":\"rgb(232,232,232)\",\"linecolor\":\"rgb(36,36,36)\",\"showgrid\":false,\"showline\":true,\"ticks\":\"outside\"}},\"scene\":{\"xaxis\":{\"backgroundcolor\":\"white\",\"gridcolor\":\"rgb(232,232,232)\",\"gridwidth\":2,\"linecolor\":\"rgb(36,36,36)\",\"showbackground\":true,\"showgrid\":false,\"showline\":true,\"ticks\":\"outside\",\"zeroline\":false,\"zerolinecolor\":\"rgb(36,36,36)\"},\"yaxis\":{\"backgroundcolor\":\"white\",\"gridcolor\":\"rgb(232,232,232)\",\"gridwidth\":2,\"linecolor\":\"rgb(36,36,36)\",\"showbackground\":true,\"showgrid\":false,\"showline\":true,\"ticks\":\"outside\",\"zeroline\":false,\"zerolinecolor\":\"rgb(36,36,36)\"},\"zaxis\":{\"backgroundcolor\":\"white\",\"gridcolor\":\"rgb(232,232,232)\",\"gridwidth\":2,\"linecolor\":\"rgb(36,36,36)\",\"showbackground\":true,\"showgrid\":false,\"showline\":true,\"ticks\":\"outside\",\"zeroline\":false,\"zerolinecolor\":\"rgb(36,36,36)\"}},\"shapedefaults\":{\"fillcolor\":\"black\",\"line\":{\"width\":0},\"opacity\":0.3},\"ternary\":{\"aaxis\":{\"gridcolor\":\"rgb(232,232,232)\",\"linecolor\":\"rgb(36,36,36)\",\"showgrid\":false,\"showline\":true,\"ticks\":\"outside\"},\"baxis\":{\"gridcolor\":\"rgb(232,232,232)\",\"linecolor\":\"rgb(36,36,36)\",\"showgrid\":false,\"showline\":true,\"ticks\":\"outside\"},\"bgcolor\":\"white\",\"caxis\":{\"gridcolor\":\"rgb(232,232,232)\",\"linecolor\":\"rgb(36,36,36)\",\"showgrid\":false,\"showline\":true,\"ticks\":\"outside\"}},\"title\":{\"x\":0.05},\"xaxis\":{\"automargin\":true,\"gridcolor\":\"rgb(232,232,232)\",\"linecolor\":\"rgb(36,36,36)\",\"showgrid\":false,\"showline\":true,\"ticks\":\"outside\",\"title\":{\"standoff\":15},\"zeroline\":false,\"zerolinecolor\":\"rgb(36,36,36)\"},\"yaxis\":{\"automargin\":true,\"gridcolor\":\"rgb(232,232,232)\",\"linecolor\":\"rgb(36,36,36)\",\"showgrid\":false,\"showline\":true,\"ticks\":\"outside\",\"title\":{\"standoff\":15},\"zeroline\":false,\"zerolinecolor\":\"rgb(36,36,36)\"}}},\"xaxis\":{\"showgrid\":true,\"title\":{\"text\":\"Normalized Frequency\"}},\"yaxis\":{\"showgrid\":true,\"title\":{\"text\":\"Class\"}},\"title\":{\"font\":{\"size\":22,\"color\":\"Black\"},\"text\":\"\\u003cb\\u003eTopics per Class\\u003c\\u002fb\\u003e\",\"y\":0.95,\"x\":0.4,\"xanchor\":\"center\",\"yanchor\":\"top\"},\"hoverlabel\":{\"font\":{\"size\":16,\"family\":\"Rockwell\"},\"bgcolor\":\"white\"},\"width\":1600,\"height\":900,\"legend\":{\"title\":{\"text\":\"\\u003cb\\u003eGlobal Topic Representation\"}}},                        {\"responsive\": true}                    ).then(function(){\n",
       "                            \n",
       "var gd = document.getElementById('e66e14d4-eb64-4333-b620-0da1cf63349e');\n",
       "var x = new MutationObserver(function (mutations, observer) {{\n",
       "        var display = window.getComputedStyle(gd).display;\n",
       "        if (!display || display === 'none') {{\n",
       "            console.log([gd, 'removed!']);\n",
       "            Plotly.purge(gd);\n",
       "            observer.disconnect();\n",
       "        }}\n",
       "}});\n",
       "\n",
       "// Listen for the removal of the full notebook cells\n",
       "var notebookContainer = gd.closest('#notebook-container');\n",
       "if (notebookContainer) {{\n",
       "    x.observe(notebookContainer, {childList: true});\n",
       "}}\n",
       "\n",
       "// Listen for the clearing of the current output cell\n",
       "var outputEl = gd.closest('.output');\n",
       "if (outputEl) {{\n",
       "    x.observe(outputEl, {childList: true});\n",
       "}}\n",
       "\n",
       "                        })                };                });            </script>        </div>"
      ]
     },
     "metadata": {},
     "output_type": "display_data"
    }
   ],
   "source": [
    "fig_topics_per_education_reason = topic_model.visualize_topics_per_class(topics_per_education_reason, normalize_frequency=True, top_n_topics=50, width=1600, height=900)\n",
    "fig_topics_per_education_reason.show()"
   ]
  },
  {
   "cell_type": "code",
   "execution_count": 40,
   "metadata": {},
   "outputs": [
    {
     "data": {
      "application/vnd.plotly.v1+json": {
       "config": {
        "plotlyServerURL": "https://plot.ly"
       },
       "data": [
        {
         "hoverinfo": "text",
         "hovertext": [
          "<b>Topic 0</b><br>Words: Mudança de Dieta para Vegetarianismo",
          "<b>Topic 0</b><br>Words: Consumo Reduzido de Carne e Terminologia",
          "<b>Topic 0</b><br>Words: Adaptação à dieta flexitariana",
          "<b>Topic 0</b><br>Words: Redução de Consumo de Carne"
         ],
         "marker": {
          "color": "#E69F00"
         },
         "name": "0_Redução do Consumo de Carne",
         "orientation": "h",
         "type": "bar",
         "visible": true,
         "x": [
          0.2251886745555225,
          0.630528288755463,
          0.7206037585776719,
          0.18015093964441797
         ],
         "y": [
          "etica_animal",
          "saude",
          "impacto_ambiental",
          "religiao"
         ]
        },
        {
         "hoverinfo": "text",
         "hovertext": [
          "<b>Topic 1</b><br>Words: Consumo Seletivo de Proteínas Animais",
          "<b>Topic 1</b><br>Words: Dietas alimentares sem carne vermelha",
          "<b>Topic 1</b><br>Words: Redução do consumo de carne",
          "<b>Topic 1</b><br>Words: Dietas Pescetarianas e Flexitarianas",
          "<b>Topic 1</b><br>Words: Consumo seletivo de carnes e substitutos"
         ],
         "marker": {
          "color": "#56B4E9"
         },
         "name": "1_Dieta Pescetariana e Redução de Carnes",
         "orientation": "h",
         "type": "bar",
         "visible": "legendonly",
         "x": [
          0.17834409375160543,
          0.6420387375057794,
          0.5350322812548163,
          0.49936346250449515,
          0.14267527500128432
         ],
         "y": [
          "aversao",
          "etica_animal",
          "saude",
          "impacto_ambiental",
          "religiao"
         ]
        },
        {
         "hoverinfo": "text",
         "hovertext": [
          "<b>Topic 2</b><br>Words: Transição para Dieta Vegana",
          "<b>Topic 2</b><br>Words: Transição para Dietas Vegetarianas e Veganas",
          "<b>Topic 2</b><br>Words: Dietas Flexíveis e Sustentabilidade Alimentar",
          "<b>Topic 2</b><br>Words: Transição e Desafios Alimentares Vegetarianos",
          "<b>Topic 2</b><br>Words: Transição para o Veganismo e Futuro"
         ],
         "marker": {
          "color": "#009E73"
         },
         "name": "2_Transição e Desafios do Vegetarianismo...",
         "orientation": "h",
         "type": "bar",
         "visible": "legendonly",
         "x": [
          0.03477340712103605,
          0.6954681424207209,
          0.2781872569682884,
          0.6606947352996848,
          0.03477340712103605
         ],
         "y": [
          "aversao",
          "etica_animal",
          "saude",
          "impacto_ambiental",
          "religiao"
         ]
        },
        {
         "hoverinfo": "text",
         "hovertext": [
          "<b>Topic 3</b><br>Words: Redução do consumo de carne",
          "<b>Topic 3</b><br>Words: Consumo Sustentável de Carne e Impactos",
          "<b>Topic 3</b><br>Words: Redução de Consumo de Carne",
          "<b>Topic 3</b><br>Words: Impactos ambientais do consumo de carne",
          "<b>Topic 3</b><br>Words: Redução espiritual do consumo de carne"
         ],
         "marker": {
          "color": "#F0E442"
         },
         "name": "3_Redução do Consumo de Carne",
         "orientation": "h",
         "type": "bar",
         "visible": "legendonly",
         "x": [
          0.03563734644219134,
          0.40388992634483517,
          0.611774447257618,
          0.6771095824016354,
          0.05345601966328701
         ],
         "y": [
          "aversao",
          "etica_animal",
          "saude",
          "impacto_ambiental",
          "religiao"
         ]
        },
        {
         "hoverinfo": "text",
         "hovertext": [
          "<b>Topic 4</b><br>Words: Problemas digestivos com carne vermelha",
          "<b>Topic 4</b><br>Words: Sensações Mal-Estar ao Consumir Carne",
          "<b>Topic 4</b><br>Words: Problemas Digestivos Com Carne Vermelha",
          "<b>Topic 4</b><br>Words: Redução do consumo de carne"
         ],
         "marker": {
          "color": "#D55E00"
         },
         "name": "4_Experiências negativas com carne verme...",
         "orientation": "h",
         "type": "bar",
         "visible": "legendonly",
         "x": [
          0.4375949744936837,
          0.14586499149789456,
          0.8751899489873673,
          0.14586499149789456
         ],
         "y": [
          "aversao",
          "etica_animal",
          "saude",
          "impacto_ambiental"
         ]
        },
        {
         "hoverinfo": "text",
         "hovertext": [
          "<b>Topic 5</b><br>Words: Redução do Consumo de Carne",
          "<b>Topic 5</b><br>Words: Redução de Consumo de Carne Semanal",
          "<b>Topic 5</b><br>Words: Redução do Consumo de Carne Diária",
          "<b>Topic 5</b><br>Words: Redução do Consumo de Carne Semanal",
          "<b>Topic 5</b><br>Words: Consumo de Carne e Motivações Religiosas"
         ],
         "marker": {
          "color": "#0072B2"
         },
         "name": "5_Redução do Consumo de Carne Semanalmen...",
         "orientation": "h",
         "type": "bar",
         "visible": "legendonly",
         "x": [
          0.034360406637202474,
          0.3436040663720248,
          0.5841269128324421,
          0.721568539381252,
          0.1374416265488099
         ],
         "y": [
          "aversao",
          "etica_animal",
          "saude",
          "impacto_ambiental",
          "religiao"
         ]
        },
        {
         "hoverinfo": "text",
         "hovertext": [
          "<b>Topic 6</b><br>Words: Preferências Alimentares e Consumo de Carne",
          "<b>Topic 6</b><br>Words: Consumo de Carne e Vegetarianismo",
          "<b>Topic 6</b><br>Words: Alimentação Flexível e Consumo de Carne"
         ],
         "marker": {
          "color": "#CC79A7"
         },
         "name": "6_Preferências Alimentares e Consumo de ...",
         "orientation": "h",
         "type": "bar",
         "visible": "legendonly",
         "x": [
          0.1684303842133038,
          0.9263671131731709,
          0.3368607684266076
         ],
         "y": [
          "aversao",
          "saude",
          "impacto_ambiental"
         ]
        }
       ],
       "layout": {
        "height": 900,
        "hoverlabel": {
         "bgcolor": "white",
         "font": {
          "family": "Rockwell",
          "size": 16
         }
        },
        "legend": {
         "title": {
          "text": "<b>Global Topic Representation"
         }
        },
        "template": {
         "data": {
          "bar": [
           {
            "error_x": {
             "color": "rgb(36,36,36)"
            },
            "error_y": {
             "color": "rgb(36,36,36)"
            },
            "marker": {
             "line": {
              "color": "white",
              "width": 0.5
             },
             "pattern": {
              "fillmode": "overlay",
              "size": 10,
              "solidity": 0.2
             }
            },
            "type": "bar"
           }
          ],
          "barpolar": [
           {
            "marker": {
             "line": {
              "color": "white",
              "width": 0.5
             },
             "pattern": {
              "fillmode": "overlay",
              "size": 10,
              "solidity": 0.2
             }
            },
            "type": "barpolar"
           }
          ],
          "carpet": [
           {
            "aaxis": {
             "endlinecolor": "rgb(36,36,36)",
             "gridcolor": "white",
             "linecolor": "white",
             "minorgridcolor": "white",
             "startlinecolor": "rgb(36,36,36)"
            },
            "baxis": {
             "endlinecolor": "rgb(36,36,36)",
             "gridcolor": "white",
             "linecolor": "white",
             "minorgridcolor": "white",
             "startlinecolor": "rgb(36,36,36)"
            },
            "type": "carpet"
           }
          ],
          "choropleth": [
           {
            "colorbar": {
             "outlinewidth": 1,
             "tickcolor": "rgb(36,36,36)",
             "ticks": "outside"
            },
            "type": "choropleth"
           }
          ],
          "contour": [
           {
            "colorbar": {
             "outlinewidth": 1,
             "tickcolor": "rgb(36,36,36)",
             "ticks": "outside"
            },
            "colorscale": [
             [
              0,
              "#440154"
             ],
             [
              0.1111111111111111,
              "#482878"
             ],
             [
              0.2222222222222222,
              "#3e4989"
             ],
             [
              0.3333333333333333,
              "#31688e"
             ],
             [
              0.4444444444444444,
              "#26828e"
             ],
             [
              0.5555555555555556,
              "#1f9e89"
             ],
             [
              0.6666666666666666,
              "#35b779"
             ],
             [
              0.7777777777777778,
              "#6ece58"
             ],
             [
              0.8888888888888888,
              "#b5de2b"
             ],
             [
              1,
              "#fde725"
             ]
            ],
            "type": "contour"
           }
          ],
          "contourcarpet": [
           {
            "colorbar": {
             "outlinewidth": 1,
             "tickcolor": "rgb(36,36,36)",
             "ticks": "outside"
            },
            "type": "contourcarpet"
           }
          ],
          "heatmap": [
           {
            "colorbar": {
             "outlinewidth": 1,
             "tickcolor": "rgb(36,36,36)",
             "ticks": "outside"
            },
            "colorscale": [
             [
              0,
              "#440154"
             ],
             [
              0.1111111111111111,
              "#482878"
             ],
             [
              0.2222222222222222,
              "#3e4989"
             ],
             [
              0.3333333333333333,
              "#31688e"
             ],
             [
              0.4444444444444444,
              "#26828e"
             ],
             [
              0.5555555555555556,
              "#1f9e89"
             ],
             [
              0.6666666666666666,
              "#35b779"
             ],
             [
              0.7777777777777778,
              "#6ece58"
             ],
             [
              0.8888888888888888,
              "#b5de2b"
             ],
             [
              1,
              "#fde725"
             ]
            ],
            "type": "heatmap"
           }
          ],
          "heatmapgl": [
           {
            "colorbar": {
             "outlinewidth": 1,
             "tickcolor": "rgb(36,36,36)",
             "ticks": "outside"
            },
            "colorscale": [
             [
              0,
              "#440154"
             ],
             [
              0.1111111111111111,
              "#482878"
             ],
             [
              0.2222222222222222,
              "#3e4989"
             ],
             [
              0.3333333333333333,
              "#31688e"
             ],
             [
              0.4444444444444444,
              "#26828e"
             ],
             [
              0.5555555555555556,
              "#1f9e89"
             ],
             [
              0.6666666666666666,
              "#35b779"
             ],
             [
              0.7777777777777778,
              "#6ece58"
             ],
             [
              0.8888888888888888,
              "#b5de2b"
             ],
             [
              1,
              "#fde725"
             ]
            ],
            "type": "heatmapgl"
           }
          ],
          "histogram": [
           {
            "marker": {
             "line": {
              "color": "white",
              "width": 0.6
             }
            },
            "type": "histogram"
           }
          ],
          "histogram2d": [
           {
            "colorbar": {
             "outlinewidth": 1,
             "tickcolor": "rgb(36,36,36)",
             "ticks": "outside"
            },
            "colorscale": [
             [
              0,
              "#440154"
             ],
             [
              0.1111111111111111,
              "#482878"
             ],
             [
              0.2222222222222222,
              "#3e4989"
             ],
             [
              0.3333333333333333,
              "#31688e"
             ],
             [
              0.4444444444444444,
              "#26828e"
             ],
             [
              0.5555555555555556,
              "#1f9e89"
             ],
             [
              0.6666666666666666,
              "#35b779"
             ],
             [
              0.7777777777777778,
              "#6ece58"
             ],
             [
              0.8888888888888888,
              "#b5de2b"
             ],
             [
              1,
              "#fde725"
             ]
            ],
            "type": "histogram2d"
           }
          ],
          "histogram2dcontour": [
           {
            "colorbar": {
             "outlinewidth": 1,
             "tickcolor": "rgb(36,36,36)",
             "ticks": "outside"
            },
            "colorscale": [
             [
              0,
              "#440154"
             ],
             [
              0.1111111111111111,
              "#482878"
             ],
             [
              0.2222222222222222,
              "#3e4989"
             ],
             [
              0.3333333333333333,
              "#31688e"
             ],
             [
              0.4444444444444444,
              "#26828e"
             ],
             [
              0.5555555555555556,
              "#1f9e89"
             ],
             [
              0.6666666666666666,
              "#35b779"
             ],
             [
              0.7777777777777778,
              "#6ece58"
             ],
             [
              0.8888888888888888,
              "#b5de2b"
             ],
             [
              1,
              "#fde725"
             ]
            ],
            "type": "histogram2dcontour"
           }
          ],
          "mesh3d": [
           {
            "colorbar": {
             "outlinewidth": 1,
             "tickcolor": "rgb(36,36,36)",
             "ticks": "outside"
            },
            "type": "mesh3d"
           }
          ],
          "parcoords": [
           {
            "line": {
             "colorbar": {
              "outlinewidth": 1,
              "tickcolor": "rgb(36,36,36)",
              "ticks": "outside"
             }
            },
            "type": "parcoords"
           }
          ],
          "pie": [
           {
            "automargin": true,
            "type": "pie"
           }
          ],
          "scatter": [
           {
            "fillpattern": {
             "fillmode": "overlay",
             "size": 10,
             "solidity": 0.2
            },
            "type": "scatter"
           }
          ],
          "scatter3d": [
           {
            "line": {
             "colorbar": {
              "outlinewidth": 1,
              "tickcolor": "rgb(36,36,36)",
              "ticks": "outside"
             }
            },
            "marker": {
             "colorbar": {
              "outlinewidth": 1,
              "tickcolor": "rgb(36,36,36)",
              "ticks": "outside"
             }
            },
            "type": "scatter3d"
           }
          ],
          "scattercarpet": [
           {
            "marker": {
             "colorbar": {
              "outlinewidth": 1,
              "tickcolor": "rgb(36,36,36)",
              "ticks": "outside"
             }
            },
            "type": "scattercarpet"
           }
          ],
          "scattergeo": [
           {
            "marker": {
             "colorbar": {
              "outlinewidth": 1,
              "tickcolor": "rgb(36,36,36)",
              "ticks": "outside"
             }
            },
            "type": "scattergeo"
           }
          ],
          "scattergl": [
           {
            "marker": {
             "colorbar": {
              "outlinewidth": 1,
              "tickcolor": "rgb(36,36,36)",
              "ticks": "outside"
             }
            },
            "type": "scattergl"
           }
          ],
          "scattermapbox": [
           {
            "marker": {
             "colorbar": {
              "outlinewidth": 1,
              "tickcolor": "rgb(36,36,36)",
              "ticks": "outside"
             }
            },
            "type": "scattermapbox"
           }
          ],
          "scatterpolar": [
           {
            "marker": {
             "colorbar": {
              "outlinewidth": 1,
              "tickcolor": "rgb(36,36,36)",
              "ticks": "outside"
             }
            },
            "type": "scatterpolar"
           }
          ],
          "scatterpolargl": [
           {
            "marker": {
             "colorbar": {
              "outlinewidth": 1,
              "tickcolor": "rgb(36,36,36)",
              "ticks": "outside"
             }
            },
            "type": "scatterpolargl"
           }
          ],
          "scatterternary": [
           {
            "marker": {
             "colorbar": {
              "outlinewidth": 1,
              "tickcolor": "rgb(36,36,36)",
              "ticks": "outside"
             }
            },
            "type": "scatterternary"
           }
          ],
          "surface": [
           {
            "colorbar": {
             "outlinewidth": 1,
             "tickcolor": "rgb(36,36,36)",
             "ticks": "outside"
            },
            "colorscale": [
             [
              0,
              "#440154"
             ],
             [
              0.1111111111111111,
              "#482878"
             ],
             [
              0.2222222222222222,
              "#3e4989"
             ],
             [
              0.3333333333333333,
              "#31688e"
             ],
             [
              0.4444444444444444,
              "#26828e"
             ],
             [
              0.5555555555555556,
              "#1f9e89"
             ],
             [
              0.6666666666666666,
              "#35b779"
             ],
             [
              0.7777777777777778,
              "#6ece58"
             ],
             [
              0.8888888888888888,
              "#b5de2b"
             ],
             [
              1,
              "#fde725"
             ]
            ],
            "type": "surface"
           }
          ],
          "table": [
           {
            "cells": {
             "fill": {
              "color": "rgb(237,237,237)"
             },
             "line": {
              "color": "white"
             }
            },
            "header": {
             "fill": {
              "color": "rgb(217,217,217)"
             },
             "line": {
              "color": "white"
             }
            },
            "type": "table"
           }
          ]
         },
         "layout": {
          "annotationdefaults": {
           "arrowhead": 0,
           "arrowwidth": 1
          },
          "autotypenumbers": "strict",
          "coloraxis": {
           "colorbar": {
            "outlinewidth": 1,
            "tickcolor": "rgb(36,36,36)",
            "ticks": "outside"
           }
          },
          "colorscale": {
           "diverging": [
            [
             0,
             "rgb(103,0,31)"
            ],
            [
             0.1,
             "rgb(178,24,43)"
            ],
            [
             0.2,
             "rgb(214,96,77)"
            ],
            [
             0.3,
             "rgb(244,165,130)"
            ],
            [
             0.4,
             "rgb(253,219,199)"
            ],
            [
             0.5,
             "rgb(247,247,247)"
            ],
            [
             0.6,
             "rgb(209,229,240)"
            ],
            [
             0.7,
             "rgb(146,197,222)"
            ],
            [
             0.8,
             "rgb(67,147,195)"
            ],
            [
             0.9,
             "rgb(33,102,172)"
            ],
            [
             1,
             "rgb(5,48,97)"
            ]
           ],
           "sequential": [
            [
             0,
             "#440154"
            ],
            [
             0.1111111111111111,
             "#482878"
            ],
            [
             0.2222222222222222,
             "#3e4989"
            ],
            [
             0.3333333333333333,
             "#31688e"
            ],
            [
             0.4444444444444444,
             "#26828e"
            ],
            [
             0.5555555555555556,
             "#1f9e89"
            ],
            [
             0.6666666666666666,
             "#35b779"
            ],
            [
             0.7777777777777778,
             "#6ece58"
            ],
            [
             0.8888888888888888,
             "#b5de2b"
            ],
            [
             1,
             "#fde725"
            ]
           ],
           "sequentialminus": [
            [
             0,
             "#440154"
            ],
            [
             0.1111111111111111,
             "#482878"
            ],
            [
             0.2222222222222222,
             "#3e4989"
            ],
            [
             0.3333333333333333,
             "#31688e"
            ],
            [
             0.4444444444444444,
             "#26828e"
            ],
            [
             0.5555555555555556,
             "#1f9e89"
            ],
            [
             0.6666666666666666,
             "#35b779"
            ],
            [
             0.7777777777777778,
             "#6ece58"
            ],
            [
             0.8888888888888888,
             "#b5de2b"
            ],
            [
             1,
             "#fde725"
            ]
           ]
          },
          "colorway": [
           "#1F77B4",
           "#FF7F0E",
           "#2CA02C",
           "#D62728",
           "#9467BD",
           "#8C564B",
           "#E377C2",
           "#7F7F7F",
           "#BCBD22",
           "#17BECF"
          ],
          "font": {
           "color": "rgb(36,36,36)"
          },
          "geo": {
           "bgcolor": "white",
           "lakecolor": "white",
           "landcolor": "white",
           "showlakes": true,
           "showland": true,
           "subunitcolor": "white"
          },
          "hoverlabel": {
           "align": "left"
          },
          "hovermode": "closest",
          "mapbox": {
           "style": "light"
          },
          "paper_bgcolor": "white",
          "plot_bgcolor": "white",
          "polar": {
           "angularaxis": {
            "gridcolor": "rgb(232,232,232)",
            "linecolor": "rgb(36,36,36)",
            "showgrid": false,
            "showline": true,
            "ticks": "outside"
           },
           "bgcolor": "white",
           "radialaxis": {
            "gridcolor": "rgb(232,232,232)",
            "linecolor": "rgb(36,36,36)",
            "showgrid": false,
            "showline": true,
            "ticks": "outside"
           }
          },
          "scene": {
           "xaxis": {
            "backgroundcolor": "white",
            "gridcolor": "rgb(232,232,232)",
            "gridwidth": 2,
            "linecolor": "rgb(36,36,36)",
            "showbackground": true,
            "showgrid": false,
            "showline": true,
            "ticks": "outside",
            "zeroline": false,
            "zerolinecolor": "rgb(36,36,36)"
           },
           "yaxis": {
            "backgroundcolor": "white",
            "gridcolor": "rgb(232,232,232)",
            "gridwidth": 2,
            "linecolor": "rgb(36,36,36)",
            "showbackground": true,
            "showgrid": false,
            "showline": true,
            "ticks": "outside",
            "zeroline": false,
            "zerolinecolor": "rgb(36,36,36)"
           },
           "zaxis": {
            "backgroundcolor": "white",
            "gridcolor": "rgb(232,232,232)",
            "gridwidth": 2,
            "linecolor": "rgb(36,36,36)",
            "showbackground": true,
            "showgrid": false,
            "showline": true,
            "ticks": "outside",
            "zeroline": false,
            "zerolinecolor": "rgb(36,36,36)"
           }
          },
          "shapedefaults": {
           "fillcolor": "black",
           "line": {
            "width": 0
           },
           "opacity": 0.3
          },
          "ternary": {
           "aaxis": {
            "gridcolor": "rgb(232,232,232)",
            "linecolor": "rgb(36,36,36)",
            "showgrid": false,
            "showline": true,
            "ticks": "outside"
           },
           "baxis": {
            "gridcolor": "rgb(232,232,232)",
            "linecolor": "rgb(36,36,36)",
            "showgrid": false,
            "showline": true,
            "ticks": "outside"
           },
           "bgcolor": "white",
           "caxis": {
            "gridcolor": "rgb(232,232,232)",
            "linecolor": "rgb(36,36,36)",
            "showgrid": false,
            "showline": true,
            "ticks": "outside"
           }
          },
          "title": {
           "x": 0.05
          },
          "xaxis": {
           "automargin": true,
           "gridcolor": "rgb(232,232,232)",
           "linecolor": "rgb(36,36,36)",
           "showgrid": false,
           "showline": true,
           "ticks": "outside",
           "title": {
            "standoff": 15
           },
           "zeroline": false,
           "zerolinecolor": "rgb(36,36,36)"
          },
          "yaxis": {
           "automargin": true,
           "gridcolor": "rgb(232,232,232)",
           "linecolor": "rgb(36,36,36)",
           "showgrid": false,
           "showline": true,
           "ticks": "outside",
           "title": {
            "standoff": 15
           },
           "zeroline": false,
           "zerolinecolor": "rgb(36,36,36)"
          }
         }
        },
        "title": {
         "font": {
          "color": "Black",
          "size": 22
         },
         "text": "<b>Topics per Class</b>",
         "x": 0.4,
         "xanchor": "center",
         "y": 0.95,
         "yanchor": "top"
        },
        "width": 1600,
        "xaxis": {
         "showgrid": true,
         "title": {
          "text": "Normalized Frequency"
         }
        },
        "yaxis": {
         "showgrid": true,
         "title": {
          "text": "Class"
         }
        }
       }
      },
      "text/html": [
       "<div>                            <div id=\"cf17582f-9c29-42cc-a676-eaa0188ceedb\" class=\"plotly-graph-div\" style=\"height:900px; width:1600px;\"></div>            <script type=\"text/javascript\">                require([\"plotly\"], function(Plotly) {                    window.PLOTLYENV=window.PLOTLYENV || {};                                    if (document.getElementById(\"cf17582f-9c29-42cc-a676-eaa0188ceedb\")) {                    Plotly.newPlot(                        \"cf17582f-9c29-42cc-a676-eaa0188ceedb\",                        [{\"hoverinfo\":\"text\",\"hovertext\":[\"\\u003cb\\u003eTopic 0\\u003c\\u002fb\\u003e\\u003cbr\\u003eWords: Mudança de Dieta para Vegetarianismo\",\"\\u003cb\\u003eTopic 0\\u003c\\u002fb\\u003e\\u003cbr\\u003eWords: Consumo Reduzido de Carne e Terminologia\",\"\\u003cb\\u003eTopic 0\\u003c\\u002fb\\u003e\\u003cbr\\u003eWords: Adaptação à dieta flexitariana\",\"\\u003cb\\u003eTopic 0\\u003c\\u002fb\\u003e\\u003cbr\\u003eWords: Redução de Consumo de Carne\"],\"marker\":{\"color\":\"#E69F00\"},\"name\":\"0_Redução do Consumo de Carne\",\"orientation\":\"h\",\"visible\":true,\"x\":[0.2251886745555225,0.630528288755463,0.7206037585776719,0.18015093964441797],\"y\":[\"etica_animal\",\"saude\",\"impacto_ambiental\",\"religiao\"],\"type\":\"bar\"},{\"hoverinfo\":\"text\",\"hovertext\":[\"\\u003cb\\u003eTopic 1\\u003c\\u002fb\\u003e\\u003cbr\\u003eWords: Consumo Seletivo de Proteínas Animais\",\"\\u003cb\\u003eTopic 1\\u003c\\u002fb\\u003e\\u003cbr\\u003eWords: Dietas alimentares sem carne vermelha\",\"\\u003cb\\u003eTopic 1\\u003c\\u002fb\\u003e\\u003cbr\\u003eWords: Redução do consumo de carne\",\"\\u003cb\\u003eTopic 1\\u003c\\u002fb\\u003e\\u003cbr\\u003eWords: Dietas Pescetarianas e Flexitarianas\",\"\\u003cb\\u003eTopic 1\\u003c\\u002fb\\u003e\\u003cbr\\u003eWords: Consumo seletivo de carnes e substitutos\"],\"marker\":{\"color\":\"#56B4E9\"},\"name\":\"1_Dieta Pescetariana e Redução de Carnes\",\"orientation\":\"h\",\"visible\":\"legendonly\",\"x\":[0.17834409375160543,0.6420387375057794,0.5350322812548163,0.49936346250449515,0.14267527500128432],\"y\":[\"aversao\",\"etica_animal\",\"saude\",\"impacto_ambiental\",\"religiao\"],\"type\":\"bar\"},{\"hoverinfo\":\"text\",\"hovertext\":[\"\\u003cb\\u003eTopic 2\\u003c\\u002fb\\u003e\\u003cbr\\u003eWords: Transição para Dieta Vegana\",\"\\u003cb\\u003eTopic 2\\u003c\\u002fb\\u003e\\u003cbr\\u003eWords: Transição para Dietas Vegetarianas e Veganas\",\"\\u003cb\\u003eTopic 2\\u003c\\u002fb\\u003e\\u003cbr\\u003eWords: Dietas Flexíveis e Sustentabilidade Alimentar\",\"\\u003cb\\u003eTopic 2\\u003c\\u002fb\\u003e\\u003cbr\\u003eWords: Transição e Desafios Alimentares Vegetarianos\",\"\\u003cb\\u003eTopic 2\\u003c\\u002fb\\u003e\\u003cbr\\u003eWords: Transição para o Veganismo e Futuro\"],\"marker\":{\"color\":\"#009E73\"},\"name\":\"2_Transição e Desafios do Vegetarianismo...\",\"orientation\":\"h\",\"visible\":\"legendonly\",\"x\":[0.03477340712103605,0.6954681424207209,0.2781872569682884,0.6606947352996848,0.03477340712103605],\"y\":[\"aversao\",\"etica_animal\",\"saude\",\"impacto_ambiental\",\"religiao\"],\"type\":\"bar\"},{\"hoverinfo\":\"text\",\"hovertext\":[\"\\u003cb\\u003eTopic 3\\u003c\\u002fb\\u003e\\u003cbr\\u003eWords: Redução do consumo de carne\",\"\\u003cb\\u003eTopic 3\\u003c\\u002fb\\u003e\\u003cbr\\u003eWords: Consumo Sustentável de Carne e Impactos\",\"\\u003cb\\u003eTopic 3\\u003c\\u002fb\\u003e\\u003cbr\\u003eWords: Redução de Consumo de Carne\",\"\\u003cb\\u003eTopic 3\\u003c\\u002fb\\u003e\\u003cbr\\u003eWords: Impactos ambientais do consumo de carne\",\"\\u003cb\\u003eTopic 3\\u003c\\u002fb\\u003e\\u003cbr\\u003eWords: Redução espiritual do consumo de carne\"],\"marker\":{\"color\":\"#F0E442\"},\"name\":\"3_Redução do Consumo de Carne\",\"orientation\":\"h\",\"visible\":\"legendonly\",\"x\":[0.03563734644219134,0.40388992634483517,0.611774447257618,0.6771095824016354,0.05345601966328701],\"y\":[\"aversao\",\"etica_animal\",\"saude\",\"impacto_ambiental\",\"religiao\"],\"type\":\"bar\"},{\"hoverinfo\":\"text\",\"hovertext\":[\"\\u003cb\\u003eTopic 4\\u003c\\u002fb\\u003e\\u003cbr\\u003eWords: Problemas digestivos com carne vermelha\",\"\\u003cb\\u003eTopic 4\\u003c\\u002fb\\u003e\\u003cbr\\u003eWords: Sensações Mal-Estar ao Consumir Carne\",\"\\u003cb\\u003eTopic 4\\u003c\\u002fb\\u003e\\u003cbr\\u003eWords: Problemas Digestivos Com Carne Vermelha\",\"\\u003cb\\u003eTopic 4\\u003c\\u002fb\\u003e\\u003cbr\\u003eWords: Redução do consumo de carne\"],\"marker\":{\"color\":\"#D55E00\"},\"name\":\"4_Experiências negativas com carne verme...\",\"orientation\":\"h\",\"visible\":\"legendonly\",\"x\":[0.4375949744936837,0.14586499149789456,0.8751899489873673,0.14586499149789456],\"y\":[\"aversao\",\"etica_animal\",\"saude\",\"impacto_ambiental\"],\"type\":\"bar\"},{\"hoverinfo\":\"text\",\"hovertext\":[\"\\u003cb\\u003eTopic 5\\u003c\\u002fb\\u003e\\u003cbr\\u003eWords: Redução do Consumo de Carne\",\"\\u003cb\\u003eTopic 5\\u003c\\u002fb\\u003e\\u003cbr\\u003eWords: Redução de Consumo de Carne Semanal\",\"\\u003cb\\u003eTopic 5\\u003c\\u002fb\\u003e\\u003cbr\\u003eWords: Redução do Consumo de Carne Diária\",\"\\u003cb\\u003eTopic 5\\u003c\\u002fb\\u003e\\u003cbr\\u003eWords: Redução do Consumo de Carne Semanal\",\"\\u003cb\\u003eTopic 5\\u003c\\u002fb\\u003e\\u003cbr\\u003eWords: Consumo de Carne e Motivações Religiosas\"],\"marker\":{\"color\":\"#0072B2\"},\"name\":\"5_Redução do Consumo de Carne Semanalmen...\",\"orientation\":\"h\",\"visible\":\"legendonly\",\"x\":[0.034360406637202474,0.3436040663720248,0.5841269128324421,0.721568539381252,0.1374416265488099],\"y\":[\"aversao\",\"etica_animal\",\"saude\",\"impacto_ambiental\",\"religiao\"],\"type\":\"bar\"},{\"hoverinfo\":\"text\",\"hovertext\":[\"\\u003cb\\u003eTopic 6\\u003c\\u002fb\\u003e\\u003cbr\\u003eWords: Preferências Alimentares e Consumo de Carne\",\"\\u003cb\\u003eTopic 6\\u003c\\u002fb\\u003e\\u003cbr\\u003eWords: Consumo de Carne e Vegetarianismo\",\"\\u003cb\\u003eTopic 6\\u003c\\u002fb\\u003e\\u003cbr\\u003eWords: Alimentação Flexível e Consumo de Carne\"],\"marker\":{\"color\":\"#CC79A7\"},\"name\":\"6_Preferências Alimentares e Consumo de ...\",\"orientation\":\"h\",\"visible\":\"legendonly\",\"x\":[0.1684303842133038,0.9263671131731709,0.3368607684266076],\"y\":[\"aversao\",\"saude\",\"impacto_ambiental\"],\"type\":\"bar\"}],                        {\"template\":{\"data\":{\"barpolar\":[{\"marker\":{\"line\":{\"color\":\"white\",\"width\":0.5},\"pattern\":{\"fillmode\":\"overlay\",\"size\":10,\"solidity\":0.2}},\"type\":\"barpolar\"}],\"bar\":[{\"error_x\":{\"color\":\"rgb(36,36,36)\"},\"error_y\":{\"color\":\"rgb(36,36,36)\"},\"marker\":{\"line\":{\"color\":\"white\",\"width\":0.5},\"pattern\":{\"fillmode\":\"overlay\",\"size\":10,\"solidity\":0.2}},\"type\":\"bar\"}],\"carpet\":[{\"aaxis\":{\"endlinecolor\":\"rgb(36,36,36)\",\"gridcolor\":\"white\",\"linecolor\":\"white\",\"minorgridcolor\":\"white\",\"startlinecolor\":\"rgb(36,36,36)\"},\"baxis\":{\"endlinecolor\":\"rgb(36,36,36)\",\"gridcolor\":\"white\",\"linecolor\":\"white\",\"minorgridcolor\":\"white\",\"startlinecolor\":\"rgb(36,36,36)\"},\"type\":\"carpet\"}],\"choropleth\":[{\"colorbar\":{\"outlinewidth\":1,\"tickcolor\":\"rgb(36,36,36)\",\"ticks\":\"outside\"},\"type\":\"choropleth\"}],\"contourcarpet\":[{\"colorbar\":{\"outlinewidth\":1,\"tickcolor\":\"rgb(36,36,36)\",\"ticks\":\"outside\"},\"type\":\"contourcarpet\"}],\"contour\":[{\"colorbar\":{\"outlinewidth\":1,\"tickcolor\":\"rgb(36,36,36)\",\"ticks\":\"outside\"},\"colorscale\":[[0.0,\"#440154\"],[0.1111111111111111,\"#482878\"],[0.2222222222222222,\"#3e4989\"],[0.3333333333333333,\"#31688e\"],[0.4444444444444444,\"#26828e\"],[0.5555555555555556,\"#1f9e89\"],[0.6666666666666666,\"#35b779\"],[0.7777777777777778,\"#6ece58\"],[0.8888888888888888,\"#b5de2b\"],[1.0,\"#fde725\"]],\"type\":\"contour\"}],\"heatmapgl\":[{\"colorbar\":{\"outlinewidth\":1,\"tickcolor\":\"rgb(36,36,36)\",\"ticks\":\"outside\"},\"colorscale\":[[0.0,\"#440154\"],[0.1111111111111111,\"#482878\"],[0.2222222222222222,\"#3e4989\"],[0.3333333333333333,\"#31688e\"],[0.4444444444444444,\"#26828e\"],[0.5555555555555556,\"#1f9e89\"],[0.6666666666666666,\"#35b779\"],[0.7777777777777778,\"#6ece58\"],[0.8888888888888888,\"#b5de2b\"],[1.0,\"#fde725\"]],\"type\":\"heatmapgl\"}],\"heatmap\":[{\"colorbar\":{\"outlinewidth\":1,\"tickcolor\":\"rgb(36,36,36)\",\"ticks\":\"outside\"},\"colorscale\":[[0.0,\"#440154\"],[0.1111111111111111,\"#482878\"],[0.2222222222222222,\"#3e4989\"],[0.3333333333333333,\"#31688e\"],[0.4444444444444444,\"#26828e\"],[0.5555555555555556,\"#1f9e89\"],[0.6666666666666666,\"#35b779\"],[0.7777777777777778,\"#6ece58\"],[0.8888888888888888,\"#b5de2b\"],[1.0,\"#fde725\"]],\"type\":\"heatmap\"}],\"histogram2dcontour\":[{\"colorbar\":{\"outlinewidth\":1,\"tickcolor\":\"rgb(36,36,36)\",\"ticks\":\"outside\"},\"colorscale\":[[0.0,\"#440154\"],[0.1111111111111111,\"#482878\"],[0.2222222222222222,\"#3e4989\"],[0.3333333333333333,\"#31688e\"],[0.4444444444444444,\"#26828e\"],[0.5555555555555556,\"#1f9e89\"],[0.6666666666666666,\"#35b779\"],[0.7777777777777778,\"#6ece58\"],[0.8888888888888888,\"#b5de2b\"],[1.0,\"#fde725\"]],\"type\":\"histogram2dcontour\"}],\"histogram2d\":[{\"colorbar\":{\"outlinewidth\":1,\"tickcolor\":\"rgb(36,36,36)\",\"ticks\":\"outside\"},\"colorscale\":[[0.0,\"#440154\"],[0.1111111111111111,\"#482878\"],[0.2222222222222222,\"#3e4989\"],[0.3333333333333333,\"#31688e\"],[0.4444444444444444,\"#26828e\"],[0.5555555555555556,\"#1f9e89\"],[0.6666666666666666,\"#35b779\"],[0.7777777777777778,\"#6ece58\"],[0.8888888888888888,\"#b5de2b\"],[1.0,\"#fde725\"]],\"type\":\"histogram2d\"}],\"histogram\":[{\"marker\":{\"line\":{\"color\":\"white\",\"width\":0.6}},\"type\":\"histogram\"}],\"mesh3d\":[{\"colorbar\":{\"outlinewidth\":1,\"tickcolor\":\"rgb(36,36,36)\",\"ticks\":\"outside\"},\"type\":\"mesh3d\"}],\"parcoords\":[{\"line\":{\"colorbar\":{\"outlinewidth\":1,\"tickcolor\":\"rgb(36,36,36)\",\"ticks\":\"outside\"}},\"type\":\"parcoords\"}],\"pie\":[{\"automargin\":true,\"type\":\"pie\"}],\"scatter3d\":[{\"line\":{\"colorbar\":{\"outlinewidth\":1,\"tickcolor\":\"rgb(36,36,36)\",\"ticks\":\"outside\"}},\"marker\":{\"colorbar\":{\"outlinewidth\":1,\"tickcolor\":\"rgb(36,36,36)\",\"ticks\":\"outside\"}},\"type\":\"scatter3d\"}],\"scattercarpet\":[{\"marker\":{\"colorbar\":{\"outlinewidth\":1,\"tickcolor\":\"rgb(36,36,36)\",\"ticks\":\"outside\"}},\"type\":\"scattercarpet\"}],\"scattergeo\":[{\"marker\":{\"colorbar\":{\"outlinewidth\":1,\"tickcolor\":\"rgb(36,36,36)\",\"ticks\":\"outside\"}},\"type\":\"scattergeo\"}],\"scattergl\":[{\"marker\":{\"colorbar\":{\"outlinewidth\":1,\"tickcolor\":\"rgb(36,36,36)\",\"ticks\":\"outside\"}},\"type\":\"scattergl\"}],\"scattermapbox\":[{\"marker\":{\"colorbar\":{\"outlinewidth\":1,\"tickcolor\":\"rgb(36,36,36)\",\"ticks\":\"outside\"}},\"type\":\"scattermapbox\"}],\"scatterpolargl\":[{\"marker\":{\"colorbar\":{\"outlinewidth\":1,\"tickcolor\":\"rgb(36,36,36)\",\"ticks\":\"outside\"}},\"type\":\"scatterpolargl\"}],\"scatterpolar\":[{\"marker\":{\"colorbar\":{\"outlinewidth\":1,\"tickcolor\":\"rgb(36,36,36)\",\"ticks\":\"outside\"}},\"type\":\"scatterpolar\"}],\"scatter\":[{\"fillpattern\":{\"fillmode\":\"overlay\",\"size\":10,\"solidity\":0.2},\"type\":\"scatter\"}],\"scatterternary\":[{\"marker\":{\"colorbar\":{\"outlinewidth\":1,\"tickcolor\":\"rgb(36,36,36)\",\"ticks\":\"outside\"}},\"type\":\"scatterternary\"}],\"surface\":[{\"colorbar\":{\"outlinewidth\":1,\"tickcolor\":\"rgb(36,36,36)\",\"ticks\":\"outside\"},\"colorscale\":[[0.0,\"#440154\"],[0.1111111111111111,\"#482878\"],[0.2222222222222222,\"#3e4989\"],[0.3333333333333333,\"#31688e\"],[0.4444444444444444,\"#26828e\"],[0.5555555555555556,\"#1f9e89\"],[0.6666666666666666,\"#35b779\"],[0.7777777777777778,\"#6ece58\"],[0.8888888888888888,\"#b5de2b\"],[1.0,\"#fde725\"]],\"type\":\"surface\"}],\"table\":[{\"cells\":{\"fill\":{\"color\":\"rgb(237,237,237)\"},\"line\":{\"color\":\"white\"}},\"header\":{\"fill\":{\"color\":\"rgb(217,217,217)\"},\"line\":{\"color\":\"white\"}},\"type\":\"table\"}]},\"layout\":{\"annotationdefaults\":{\"arrowhead\":0,\"arrowwidth\":1},\"autotypenumbers\":\"strict\",\"coloraxis\":{\"colorbar\":{\"outlinewidth\":1,\"tickcolor\":\"rgb(36,36,36)\",\"ticks\":\"outside\"}},\"colorscale\":{\"diverging\":[[0.0,\"rgb(103,0,31)\"],[0.1,\"rgb(178,24,43)\"],[0.2,\"rgb(214,96,77)\"],[0.3,\"rgb(244,165,130)\"],[0.4,\"rgb(253,219,199)\"],[0.5,\"rgb(247,247,247)\"],[0.6,\"rgb(209,229,240)\"],[0.7,\"rgb(146,197,222)\"],[0.8,\"rgb(67,147,195)\"],[0.9,\"rgb(33,102,172)\"],[1.0,\"rgb(5,48,97)\"]],\"sequential\":[[0.0,\"#440154\"],[0.1111111111111111,\"#482878\"],[0.2222222222222222,\"#3e4989\"],[0.3333333333333333,\"#31688e\"],[0.4444444444444444,\"#26828e\"],[0.5555555555555556,\"#1f9e89\"],[0.6666666666666666,\"#35b779\"],[0.7777777777777778,\"#6ece58\"],[0.8888888888888888,\"#b5de2b\"],[1.0,\"#fde725\"]],\"sequentialminus\":[[0.0,\"#440154\"],[0.1111111111111111,\"#482878\"],[0.2222222222222222,\"#3e4989\"],[0.3333333333333333,\"#31688e\"],[0.4444444444444444,\"#26828e\"],[0.5555555555555556,\"#1f9e89\"],[0.6666666666666666,\"#35b779\"],[0.7777777777777778,\"#6ece58\"],[0.8888888888888888,\"#b5de2b\"],[1.0,\"#fde725\"]]},\"colorway\":[\"#1F77B4\",\"#FF7F0E\",\"#2CA02C\",\"#D62728\",\"#9467BD\",\"#8C564B\",\"#E377C2\",\"#7F7F7F\",\"#BCBD22\",\"#17BECF\"],\"font\":{\"color\":\"rgb(36,36,36)\"},\"geo\":{\"bgcolor\":\"white\",\"lakecolor\":\"white\",\"landcolor\":\"white\",\"showlakes\":true,\"showland\":true,\"subunitcolor\":\"white\"},\"hoverlabel\":{\"align\":\"left\"},\"hovermode\":\"closest\",\"mapbox\":{\"style\":\"light\"},\"paper_bgcolor\":\"white\",\"plot_bgcolor\":\"white\",\"polar\":{\"angularaxis\":{\"gridcolor\":\"rgb(232,232,232)\",\"linecolor\":\"rgb(36,36,36)\",\"showgrid\":false,\"showline\":true,\"ticks\":\"outside\"},\"bgcolor\":\"white\",\"radialaxis\":{\"gridcolor\":\"rgb(232,232,232)\",\"linecolor\":\"rgb(36,36,36)\",\"showgrid\":false,\"showline\":true,\"ticks\":\"outside\"}},\"scene\":{\"xaxis\":{\"backgroundcolor\":\"white\",\"gridcolor\":\"rgb(232,232,232)\",\"gridwidth\":2,\"linecolor\":\"rgb(36,36,36)\",\"showbackground\":true,\"showgrid\":false,\"showline\":true,\"ticks\":\"outside\",\"zeroline\":false,\"zerolinecolor\":\"rgb(36,36,36)\"},\"yaxis\":{\"backgroundcolor\":\"white\",\"gridcolor\":\"rgb(232,232,232)\",\"gridwidth\":2,\"linecolor\":\"rgb(36,36,36)\",\"showbackground\":true,\"showgrid\":false,\"showline\":true,\"ticks\":\"outside\",\"zeroline\":false,\"zerolinecolor\":\"rgb(36,36,36)\"},\"zaxis\":{\"backgroundcolor\":\"white\",\"gridcolor\":\"rgb(232,232,232)\",\"gridwidth\":2,\"linecolor\":\"rgb(36,36,36)\",\"showbackground\":true,\"showgrid\":false,\"showline\":true,\"ticks\":\"outside\",\"zeroline\":false,\"zerolinecolor\":\"rgb(36,36,36)\"}},\"shapedefaults\":{\"fillcolor\":\"black\",\"line\":{\"width\":0},\"opacity\":0.3},\"ternary\":{\"aaxis\":{\"gridcolor\":\"rgb(232,232,232)\",\"linecolor\":\"rgb(36,36,36)\",\"showgrid\":false,\"showline\":true,\"ticks\":\"outside\"},\"baxis\":{\"gridcolor\":\"rgb(232,232,232)\",\"linecolor\":\"rgb(36,36,36)\",\"showgrid\":false,\"showline\":true,\"ticks\":\"outside\"},\"bgcolor\":\"white\",\"caxis\":{\"gridcolor\":\"rgb(232,232,232)\",\"linecolor\":\"rgb(36,36,36)\",\"showgrid\":false,\"showline\":true,\"ticks\":\"outside\"}},\"title\":{\"x\":0.05},\"xaxis\":{\"automargin\":true,\"gridcolor\":\"rgb(232,232,232)\",\"linecolor\":\"rgb(36,36,36)\",\"showgrid\":false,\"showline\":true,\"ticks\":\"outside\",\"title\":{\"standoff\":15},\"zeroline\":false,\"zerolinecolor\":\"rgb(36,36,36)\"},\"yaxis\":{\"automargin\":true,\"gridcolor\":\"rgb(232,232,232)\",\"linecolor\":\"rgb(36,36,36)\",\"showgrid\":false,\"showline\":true,\"ticks\":\"outside\",\"title\":{\"standoff\":15},\"zeroline\":false,\"zerolinecolor\":\"rgb(36,36,36)\"}}},\"xaxis\":{\"showgrid\":true,\"title\":{\"text\":\"Normalized Frequency\"}},\"yaxis\":{\"showgrid\":true,\"title\":{\"text\":\"Class\"}},\"title\":{\"font\":{\"size\":22,\"color\":\"Black\"},\"text\":\"\\u003cb\\u003eTopics per Class\\u003c\\u002fb\\u003e\",\"y\":0.95,\"x\":0.4,\"xanchor\":\"center\",\"yanchor\":\"top\"},\"hoverlabel\":{\"font\":{\"size\":16,\"family\":\"Rockwell\"},\"bgcolor\":\"white\"},\"width\":1600,\"height\":900,\"legend\":{\"title\":{\"text\":\"\\u003cb\\u003eGlobal Topic Representation\"}}},                        {\"responsive\": true}                    ).then(function(){\n",
       "                            \n",
       "var gd = document.getElementById('cf17582f-9c29-42cc-a676-eaa0188ceedb');\n",
       "var x = new MutationObserver(function (mutations, observer) {{\n",
       "        var display = window.getComputedStyle(gd).display;\n",
       "        if (!display || display === 'none') {{\n",
       "            console.log([gd, 'removed!']);\n",
       "            Plotly.purge(gd);\n",
       "            observer.disconnect();\n",
       "        }}\n",
       "}});\n",
       "\n",
       "// Listen for the removal of the full notebook cells\n",
       "var notebookContainer = gd.closest('#notebook-container');\n",
       "if (notebookContainer) {{\n",
       "    x.observe(notebookContainer, {childList: true});\n",
       "}}\n",
       "\n",
       "// Listen for the clearing of the current output cell\n",
       "var outputEl = gd.closest('.output');\n",
       "if (outputEl) {{\n",
       "    x.observe(outputEl, {childList: true});\n",
       "}}\n",
       "\n",
       "                        })                };                });            </script>        </div>"
      ]
     },
     "metadata": {},
     "output_type": "display_data"
    }
   ],
   "source": [
    "fig_topics_per_motivation_reason = topic_model.visualize_topics_per_class(topics_per_motivation_reason, normalize_frequency=True, top_n_topics=50, width=1600, height=900)\n",
    "fig_topics_per_motivation_reason.show()"
   ]
  }
 ],
 "metadata": {
  "kernelspec": {
   "display_name": "imd1107-nlp-V6lLOcpZ-py3.12",
   "language": "python",
   "name": "python3"
  },
  "language_info": {
   "codemirror_mode": {
    "name": "ipython",
    "version": 3
   },
   "file_extension": ".py",
   "mimetype": "text/x-python",
   "name": "python",
   "nbconvert_exporter": "python",
   "pygments_lexer": "ipython3",
   "version": "3.12.7"
  }
 },
 "nbformat": 4,
 "nbformat_minor": 2
}
